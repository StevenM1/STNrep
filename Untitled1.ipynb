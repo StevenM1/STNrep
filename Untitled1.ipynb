{
 "cells": [
  {
   "cell_type": "code",
   "execution_count": 1,
   "id": "2c1b4447-b0c8-4281-b1a4-8ff927f4eb0d",
   "metadata": {},
   "outputs": [],
   "source": [
    "import nibabel as nib"
   ]
  },
  {
   "cell_type": "code",
   "execution_count": 2,
   "id": "90ee1b13-c114-4b50-9196-cf9bbaabbd97",
   "metadata": {},
   "outputs": [],
   "source": [
    "import numpy as np"
   ]
  },
  {
   "cell_type": "code",
   "execution_count": 3,
   "id": "e3536eaa-b592-4c32-9a36-6698302de6a0",
   "metadata": {},
   "outputs": [],
   "source": [
    "hdr = nib.load('./derivatives/ds-01/pca_masks/sub-01/anat/sub-01_desc-stnl_space-T1w_roi.nii.gz')"
   ]
  },
  {
   "cell_type": "code",
   "execution_count": 4,
   "id": "172e8e12-dae8-49fe-8820-b836aa24f3de",
   "metadata": {},
   "outputs": [],
   "source": [
    "data = hdr.get_fdata()"
   ]
  },
  {
   "cell_type": "code",
   "execution_count": 6,
   "id": "ae2d4233-6670-4d28-9f9e-1fcd3c70cd9f",
   "metadata": {},
   "outputs": [
    {
     "data": {
      "text/plain": [
       "1.0"
      ]
     },
     "execution_count": 6,
     "metadata": {},
     "output_type": "execute_result"
    }
   ],
   "source": []
  }
 ],
 "metadata": {
  "kernelspec": {
   "display_name": "Python [conda env:.conda-python3]",
   "language": "python",
   "name": "conda-env-.conda-python3-py"
  },
  "language_info": {
   "codemirror_mode": {
    "name": "ipython",
    "version": 3
   },
   "file_extension": ".py",
   "mimetype": "text/x-python",
   "name": "python",
   "nbconvert_exporter": "python",
   "pygments_lexer": "ipython3",
   "version": "3.7.7"
  }
 },
 "nbformat": 4,
 "nbformat_minor": 5
}
