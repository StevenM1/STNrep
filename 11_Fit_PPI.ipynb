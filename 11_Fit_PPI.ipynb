{
 "cells": [
  {
   "cell_type": "markdown",
   "metadata": {},
   "source": [
    "## This notebook does the whole-brain voxel-wise GLM fitting for PPI\n",
    "\n",
    "We use FSL FEAT"
   ]
  },
  {
   "cell_type": "code",
   "execution_count": 1,
   "metadata": {},
   "outputs": [],
   "source": [
    "import pandas as pd\n",
    "import numpy as np\n",
    "import glob\n",
    "import re\n",
    "\n",
    "# for masking\n",
    "import nilearn\n",
    "from nilearn.input_data import NiftiMasker\n",
    "import nibabel as nib\n",
    "import itertools\n",
    "import multiprocessing as mp\n",
    "\n",
    "import os\n",
    "import shutil"
   ]
  },
  {
   "cell_type": "markdown",
   "metadata": {},
   "source": [
    "# 1. First, we need to highpass the functional data (in both T1w and MNI space)\n",
    "In the whole-brain GLM, we used cosines to model drift. However, for a PPI, this would create strong multicollinearity with the STN timeseries in the design matrix"
   ]
  },
  {
   "cell_type": "code",
   "execution_count": 49,
   "metadata": {},
   "outputs": [],
   "source": [
    "def high_pass(nii, verbose=False, mask=None):\n",
    "    print('Highpass-filtering')\n",
    "    t_r = nii.header['pixdim'][4]  \n",
    "    if t_r > 1e2:\n",
    "        t_r /= 1e3 # new version of nibabel loads t_r in ms...\n",
    "        \n",
    "    if mask is not None:\n",
    "        hp_masker = NiftiMasker(mask, high_pass=1./128, t_r=t_r)\n",
    "    else:\n",
    "        hp_masker = NiftiMasker(high_pass=1./128, t_r=t_r)\n",
    "    \n",
    "    # Generate & fit NiftiMasker\n",
    "    hp_data = hp_masker.fit_transform(nii)\n",
    "    \n",
    "    # back to brain space\n",
    "    inver = hp_masker.inverse_transform(hp_data)\n",
    "\n",
    "    # add mean of timeseries per voxel back\n",
    "    highpassed_data = inver.get_fdata() + np.mean(nii.get_fdata(), 3)[:,:,:,np.newaxis]\n",
    "    highpassed_img = nib.Nifti1Image(highpassed_data, inver.affine, header=nii.header)\n",
    "    \n",
    "    return highpassed_img\n",
    "\n",
    "def high_pass_and_save(fn):\n",
    "    print(fn)\n",
    "    save_fn = fn.replace('fmriprep', 'high_passed_func')\n",
    "    save_dir = os.path.dirname(save_fn)\n",
    "    if not os.path.exists(save_dir):\n",
    "        os.makedirs(save_dir)\n",
    "    \n",
    "    high_passed = high_pass(nib.load(fn))\n",
    "    high_passed.to_filename(save_fn)"
   ]
  },
  {
   "cell_type": "code",
   "execution_count": 50,
   "metadata": {},
   "outputs": [
    {
     "name": "stdout",
     "output_type": "stream",
     "text": [
      "./derivatives/ds-01/fmriprep/sub-01/func/sub-01_task-randomdotmotion_run-03_space-T1w_desc-preproc_bold.nii.gz./derivatives/ds-01/fmriprep/sub-01/func/sub-01_task-randomdotmotion_run-01_space-MNI152NLin2009cAsym_desc-preproc_bold.nii.gz./derivatives/ds-01/fmriprep/sub-02/func/sub-02_task-randomdotmotion_run-03_space-MNI152NLin2009cAsym_desc-preproc_bold.nii.gz./derivatives/ds-01/fmriprep/sub-07/func/sub-07_task-randomdotmotion_run-01_space-T1w_desc-preproc_bold.nii.gz./derivatives/ds-01/fmriprep/sub-03/func/sub-03_task-randomdotmotion_run-02_space-T1w_desc-preproc_bold.nii.gz./derivatives/ds-01/fmriprep/sub-08/func/sub-08_task-randomdotmotion_run-01_space-MNI152NLin2009cAsym_desc-preproc_bold.nii.gz./derivatives/ds-01/fmriprep/sub-05/func/sub-05_task-randomdotmotion_run-01_space-T1w_desc-preproc_bold.nii.gz./derivatives/ds-01/fmriprep/sub-04/func/sub-04_task-randomdotmotion_run-02_space-MNI152NLin2009cAsym_desc-preproc_bold.nii.gz./derivatives/ds-01/fmriprep/sub-06/func/sub-06_task-randomdotmotion_run-01_space-MNI152NLin2009cAsym_desc-preproc_bold.nii.gz./derivatives/ds-01/fmriprep/sub-08/func/sub-08_task-randomdotmotion_run-03_space-T1w_desc-preproc_bold.nii.gz\n",
      "\n",
      "\n",
      "\n",
      "\n",
      "\n",
      "\n",
      "\n",
      "\n",
      "\n",
      "Highpass-filtering\n",
      "Highpass-filtering\n",
      "Highpass-filtering\n",
      "Highpass-filtering\n",
      "Highpass-filtering\n",
      "Highpass-filtering\n",
      "Highpass-filtering\n",
      "Highpass-filtering\n",
      "Highpass-filtering\n",
      "Highpass-filtering\n"
     ]
    },
    {
     "name": "stderr",
     "output_type": "stream",
     "text": [
      "/home/stevenm/.conda/envs/python3/lib/python3.7/site-packages/ipykernel_launcher.py:19: DeprecationWarning: get_data() is deprecated in favor of get_fdata(), which has a more predictable return type. To obtain get_data() behavior going forward, use numpy.asanyarray(img.dataobj).\n",
      "\n",
      "* deprecated from version: 3.0\n",
      "* Will raise <class 'nibabel.deprecator.ExpiredDeprecationError'> as of version: 5.0\n",
      "/home/stevenm/.conda/envs/python3/lib/python3.7/site-packages/ipykernel_launcher.py:19: DeprecationWarning: get_data() is deprecated in favor of get_fdata(), which has a more predictable return type. To obtain get_data() behavior going forward, use numpy.asanyarray(img.dataobj).\n",
      "\n",
      "* deprecated from version: 3.0\n",
      "* Will raise <class 'nibabel.deprecator.ExpiredDeprecationError'> as of version: 5.0\n",
      "/home/stevenm/.conda/envs/python3/lib/python3.7/site-packages/ipykernel_launcher.py:19: DeprecationWarning: get_data() is deprecated in favor of get_fdata(), which has a more predictable return type. To obtain get_data() behavior going forward, use numpy.asanyarray(img.dataobj).\n",
      "\n",
      "* deprecated from version: 3.0\n",
      "* Will raise <class 'nibabel.deprecator.ExpiredDeprecationError'> as of version: 5.0\n",
      "/home/stevenm/.conda/envs/python3/lib/python3.7/site-packages/ipykernel_launcher.py:19: DeprecationWarning: get_data() is deprecated in favor of get_fdata(), which has a more predictable return type. To obtain get_data() behavior going forward, use numpy.asanyarray(img.dataobj).\n",
      "\n",
      "* deprecated from version: 3.0\n",
      "* Will raise <class 'nibabel.deprecator.ExpiredDeprecationError'> as of version: 5.0\n",
      "/home/stevenm/.conda/envs/python3/lib/python3.7/site-packages/ipykernel_launcher.py:19: DeprecationWarning: get_data() is deprecated in favor of get_fdata(), which has a more predictable return type. To obtain get_data() behavior going forward, use numpy.asanyarray(img.dataobj).\n",
      "\n",
      "* deprecated from version: 3.0\n",
      "* Will raise <class 'nibabel.deprecator.ExpiredDeprecationError'> as of version: 5.0\n"
     ]
    },
    {
     "name": "stdout",
     "output_type": "stream",
     "text": [
      "./derivatives/ds-01/fmriprep/sub-09/func/sub-09_task-randomdotmotion_run-01_space-MNI152NLin2009cAsym_desc-preproc_bold.nii.gz\n",
      "Highpass-filtering\n",
      "./derivatives/ds-01/fmriprep/sub-07/func/sub-07_task-randomdotmotion_run-02_space-MNI152NLin2009cAsym_desc-preproc_bold.nii.gz\n",
      "Highpass-filtering\n"
     ]
    },
    {
     "name": "stderr",
     "output_type": "stream",
     "text": [
      "/home/stevenm/.conda/envs/python3/lib/python3.7/site-packages/ipykernel_launcher.py:19: DeprecationWarning: get_data() is deprecated in favor of get_fdata(), which has a more predictable return type. To obtain get_data() behavior going forward, use numpy.asanyarray(img.dataobj).\n",
      "\n",
      "* deprecated from version: 3.0\n",
      "* Will raise <class 'nibabel.deprecator.ExpiredDeprecationError'> as of version: 5.0\n"
     ]
    },
    {
     "name": "stdout",
     "output_type": "stream",
     "text": [
      "./derivatives/ds-01/fmriprep/sub-02/func/sub-02_task-randomdotmotion_run-01_space-MNI152NLin2009cAsym_desc-preproc_bold.nii.gz\n",
      "Highpass-filtering\n",
      "./derivatives/ds-01/fmriprep/sub-05/func/sub-05_task-randomdotmotion_run-02_space-MNI152NLin2009cAsym_desc-preproc_bold.nii.gz\n",
      "Highpass-filtering\n",
      "./derivatives/ds-01/fmriprep/sub-03/func/sub-03_task-randomdotmotion_run-03_space-MNI152NLin2009cAsym_desc-preproc_bold.nii.gz\n",
      "Highpass-filtering\n",
      "./derivatives/ds-01/fmriprep/sub-01/func/sub-01_task-randomdotmotion_run-01_space-T1w_desc-preproc_bold.nii.gz\n",
      "Highpass-filtering\n"
     ]
    },
    {
     "name": "stderr",
     "output_type": "stream",
     "text": [
      "/home/stevenm/.conda/envs/python3/lib/python3.7/site-packages/ipykernel_launcher.py:19: DeprecationWarning: get_data() is deprecated in favor of get_fdata(), which has a more predictable return type. To obtain get_data() behavior going forward, use numpy.asanyarray(img.dataobj).\n",
      "\n",
      "* deprecated from version: 3.0\n",
      "* Will raise <class 'nibabel.deprecator.ExpiredDeprecationError'> as of version: 5.0\n",
      "/home/stevenm/.conda/envs/python3/lib/python3.7/site-packages/ipykernel_launcher.py:19: DeprecationWarning: get_data() is deprecated in favor of get_fdata(), which has a more predictable return type. To obtain get_data() behavior going forward, use numpy.asanyarray(img.dataobj).\n",
      "\n",
      "* deprecated from version: 3.0\n",
      "* Will raise <class 'nibabel.deprecator.ExpiredDeprecationError'> as of version: 5.0\n",
      "/home/stevenm/.conda/envs/python3/lib/python3.7/site-packages/ipykernel_launcher.py:19: DeprecationWarning: get_data() is deprecated in favor of get_fdata(), which has a more predictable return type. To obtain get_data() behavior going forward, use numpy.asanyarray(img.dataobj).\n",
      "\n",
      "* deprecated from version: 3.0\n",
      "* Will raise <class 'nibabel.deprecator.ExpiredDeprecationError'> as of version: 5.0\n",
      "/home/stevenm/.conda/envs/python3/lib/python3.7/site-packages/ipykernel_launcher.py:19: DeprecationWarning: get_data() is deprecated in favor of get_fdata(), which has a more predictable return type. To obtain get_data() behavior going forward, use numpy.asanyarray(img.dataobj).\n",
      "\n",
      "* deprecated from version: 3.0\n",
      "* Will raise <class 'nibabel.deprecator.ExpiredDeprecationError'> as of version: 5.0\n",
      "/home/stevenm/.conda/envs/python3/lib/python3.7/site-packages/ipykernel_launcher.py:19: DeprecationWarning: get_data() is deprecated in favor of get_fdata(), which has a more predictable return type. To obtain get_data() behavior going forward, use numpy.asanyarray(img.dataobj).\n",
      "\n",
      "* deprecated from version: 3.0\n",
      "* Will raise <class 'nibabel.deprecator.ExpiredDeprecationError'> as of version: 5.0\n",
      "/home/stevenm/.conda/envs/python3/lib/python3.7/site-packages/ipykernel_launcher.py:19: DeprecationWarning: get_data() is deprecated in favor of get_fdata(), which has a more predictable return type. To obtain get_data() behavior going forward, use numpy.asanyarray(img.dataobj).\n",
      "\n",
      "* deprecated from version: 3.0\n",
      "* Will raise <class 'nibabel.deprecator.ExpiredDeprecationError'> as of version: 5.0\n"
     ]
    },
    {
     "name": "stdout",
     "output_type": "stream",
     "text": [
      "./derivatives/ds-01/fmriprep/sub-06/func/sub-06_task-randomdotmotion_run-01_space-T1w_desc-preproc_bold.nii.gz\n",
      "Highpass-filtering\n",
      "./derivatives/ds-01/fmriprep/sub-09/func/sub-09_task-randomdotmotion_run-01_space-T1w_desc-preproc_bold.nii.gz\n",
      "Highpass-filtering\n",
      "./derivatives/ds-01/fmriprep/sub-04/func/sub-04_task-randomdotmotion_run-02_space-T1w_desc-preproc_bold.nii.gz\n",
      "Highpass-filtering\n"
     ]
    },
    {
     "name": "stderr",
     "output_type": "stream",
     "text": [
      "/home/stevenm/.conda/envs/python3/lib/python3.7/site-packages/ipykernel_launcher.py:19: DeprecationWarning: get_data() is deprecated in favor of get_fdata(), which has a more predictable return type. To obtain get_data() behavior going forward, use numpy.asanyarray(img.dataobj).\n",
      "\n",
      "* deprecated from version: 3.0\n",
      "* Will raise <class 'nibabel.deprecator.ExpiredDeprecationError'> as of version: 5.0\n",
      "/home/stevenm/.conda/envs/python3/lib/python3.7/site-packages/ipykernel_launcher.py:19: DeprecationWarning: get_data() is deprecated in favor of get_fdata(), which has a more predictable return type. To obtain get_data() behavior going forward, use numpy.asanyarray(img.dataobj).\n",
      "\n",
      "* deprecated from version: 3.0\n",
      "* Will raise <class 'nibabel.deprecator.ExpiredDeprecationError'> as of version: 5.0\n",
      "/home/stevenm/.conda/envs/python3/lib/python3.7/site-packages/ipykernel_launcher.py:19: DeprecationWarning: get_data() is deprecated in favor of get_fdata(), which has a more predictable return type. To obtain get_data() behavior going forward, use numpy.asanyarray(img.dataobj).\n",
      "\n",
      "* deprecated from version: 3.0\n",
      "* Will raise <class 'nibabel.deprecator.ExpiredDeprecationError'> as of version: 5.0\n"
     ]
    },
    {
     "name": "stdout",
     "output_type": "stream",
     "text": [
      "./derivatives/ds-01/fmriprep/sub-06/func/sub-06_task-randomdotmotion_run-02_space-MNI152NLin2009cAsym_desc-preproc_bold.nii.gz\n",
      "Highpass-filtering\n"
     ]
    },
    {
     "name": "stderr",
     "output_type": "stream",
     "text": [
      "/home/stevenm/.conda/envs/python3/lib/python3.7/site-packages/ipykernel_launcher.py:19: DeprecationWarning: get_data() is deprecated in favor of get_fdata(), which has a more predictable return type. To obtain get_data() behavior going forward, use numpy.asanyarray(img.dataobj).\n",
      "\n",
      "* deprecated from version: 3.0\n",
      "* Will raise <class 'nibabel.deprecator.ExpiredDeprecationError'> as of version: 5.0\n"
     ]
    },
    {
     "name": "stdout",
     "output_type": "stream",
     "text": [
      "./derivatives/ds-01/fmriprep/sub-05/func/sub-05_task-randomdotmotion_run-02_space-T1w_desc-preproc_bold.nii.gz\n",
      "Highpass-filtering\n",
      "./derivatives/ds-01/fmriprep/sub-02/func/sub-02_task-randomdotmotion_run-01_space-T1w_desc-preproc_bold.nii.gz\n",
      "Highpass-filtering\n"
     ]
    },
    {
     "name": "stderr",
     "output_type": "stream",
     "text": [
      "/home/stevenm/.conda/envs/python3/lib/python3.7/site-packages/ipykernel_launcher.py:19: DeprecationWarning: get_data() is deprecated in favor of get_fdata(), which has a more predictable return type. To obtain get_data() behavior going forward, use numpy.asanyarray(img.dataobj).\n",
      "\n",
      "* deprecated from version: 3.0\n",
      "* Will raise <class 'nibabel.deprecator.ExpiredDeprecationError'> as of version: 5.0\n"
     ]
    },
    {
     "name": "stdout",
     "output_type": "stream",
     "text": [
      "./derivatives/ds-01/fmriprep/sub-04/func/sub-04_task-randomdotmotion_run-03_space-MNI152NLin2009cAsym_desc-preproc_bold.nii.gz\n",
      "Highpass-filtering\n"
     ]
    },
    {
     "name": "stderr",
     "output_type": "stream",
     "text": [
      "/home/stevenm/.conda/envs/python3/lib/python3.7/site-packages/ipykernel_launcher.py:19: DeprecationWarning: get_data() is deprecated in favor of get_fdata(), which has a more predictable return type. To obtain get_data() behavior going forward, use numpy.asanyarray(img.dataobj).\n",
      "\n",
      "* deprecated from version: 3.0\n",
      "* Will raise <class 'nibabel.deprecator.ExpiredDeprecationError'> as of version: 5.0\n"
     ]
    },
    {
     "name": "stdout",
     "output_type": "stream",
     "text": [
      "./derivatives/ds-01/fmriprep/sub-09/func/sub-09_task-randomdotmotion_run-02_space-MNI152NLin2009cAsym_desc-preproc_bold.nii.gz\n",
      "Highpass-filtering\n"
     ]
    },
    {
     "name": "stderr",
     "output_type": "stream",
     "text": [
      "/home/stevenm/.conda/envs/python3/lib/python3.7/site-packages/ipykernel_launcher.py:19: DeprecationWarning: get_data() is deprecated in favor of get_fdata(), which has a more predictable return type. To obtain get_data() behavior going forward, use numpy.asanyarray(img.dataobj).\n",
      "\n",
      "* deprecated from version: 3.0\n",
      "* Will raise <class 'nibabel.deprecator.ExpiredDeprecationError'> as of version: 5.0\n"
     ]
    },
    {
     "name": "stdout",
     "output_type": "stream",
     "text": [
      "./derivatives/ds-01/fmriprep/sub-03/func/sub-03_task-randomdotmotion_run-03_space-T1w_desc-preproc_bold.nii.gz\n",
      "Highpass-filtering\n",
      "./derivatives/ds-01/fmriprep/sub-03/func/sub-03_task-randomdotmotion_run-01_space-MNI152NLin2009cAsym_desc-preproc_bold.nii.gz\n",
      "Highpass-filtering\n",
      "./derivatives/ds-01/fmriprep/sub-08/func/sub-08_task-randomdotmotion_run-02_space-MNI152NLin2009cAsym_desc-preproc_bold.nii.gz\n",
      "Highpass-filtering\n"
     ]
    },
    {
     "name": "stderr",
     "output_type": "stream",
     "text": [
      "/home/stevenm/.conda/envs/python3/lib/python3.7/site-packages/ipykernel_launcher.py:19: DeprecationWarning: get_data() is deprecated in favor of get_fdata(), which has a more predictable return type. To obtain get_data() behavior going forward, use numpy.asanyarray(img.dataobj).\n",
      "\n",
      "* deprecated from version: 3.0\n",
      "* Will raise <class 'nibabel.deprecator.ExpiredDeprecationError'> as of version: 5.0\n"
     ]
    },
    {
     "name": "stdout",
     "output_type": "stream",
     "text": [
      "./derivatives/ds-01/fmriprep/sub-07/func/sub-07_task-randomdotmotion_run-03_space-MNI152NLin2009cAsym_desc-preproc_bold.nii.gz\n",
      "Highpass-filtering\n"
     ]
    },
    {
     "name": "stderr",
     "output_type": "stream",
     "text": [
      "/home/stevenm/.conda/envs/python3/lib/python3.7/site-packages/ipykernel_launcher.py:19: DeprecationWarning: get_data() is deprecated in favor of get_fdata(), which has a more predictable return type. To obtain get_data() behavior going forward, use numpy.asanyarray(img.dataobj).\n",
      "\n",
      "* deprecated from version: 3.0\n",
      "* Will raise <class 'nibabel.deprecator.ExpiredDeprecationError'> as of version: 5.0\n",
      "/home/stevenm/.conda/envs/python3/lib/python3.7/site-packages/ipykernel_launcher.py:19: DeprecationWarning: get_data() is deprecated in favor of get_fdata(), which has a more predictable return type. To obtain get_data() behavior going forward, use numpy.asanyarray(img.dataobj).\n",
      "\n",
      "* deprecated from version: 3.0\n",
      "* Will raise <class 'nibabel.deprecator.ExpiredDeprecationError'> as of version: 5.0\n"
     ]
    },
    {
     "name": "stdout",
     "output_type": "stream",
     "text": [
      "./derivatives/ds-01/fmriprep/sub-02/func/sub-02_task-randomdotmotion_run-02_space-MNI152NLin2009cAsym_desc-preproc_bold.nii.gz\n",
      "Highpass-filtering\n",
      "./derivatives/ds-01/fmriprep/sub-05/func/sub-05_task-randomdotmotion_run-03_space-MNI152NLin2009cAsym_desc-preproc_bold.nii.gz\n",
      "Highpass-filtering\n",
      "./derivatives/ds-01/fmriprep/sub-01/func/sub-01_task-randomdotmotion_run-02_space-T1w_desc-preproc_bold.nii.gz\n",
      "Highpass-filtering\n"
     ]
    },
    {
     "name": "stderr",
     "output_type": "stream",
     "text": [
      "/home/stevenm/.conda/envs/python3/lib/python3.7/site-packages/ipykernel_launcher.py:19: DeprecationWarning: get_data() is deprecated in favor of get_fdata(), which has a more predictable return type. To obtain get_data() behavior going forward, use numpy.asanyarray(img.dataobj).\n",
      "\n",
      "* deprecated from version: 3.0\n",
      "* Will raise <class 'nibabel.deprecator.ExpiredDeprecationError'> as of version: 5.0\n"
     ]
    },
    {
     "name": "stdout",
     "output_type": "stream",
     "text": [
      "./derivatives/ds-01/fmriprep/sub-06/func/sub-06_task-randomdotmotion_run-02_space-T1w_desc-preproc_bold.nii.gz\n",
      "Highpass-filtering\n",
      "./derivatives/ds-01/fmriprep/sub-04/func/sub-04_task-randomdotmotion_run-01_space-MNI152NLin2009cAsym_desc-preproc_bold.nii.gz\n",
      "Highpass-filtering\n"
     ]
    },
    {
     "name": "stderr",
     "output_type": "stream",
     "text": [
      "/home/stevenm/.conda/envs/python3/lib/python3.7/site-packages/ipykernel_launcher.py:19: DeprecationWarning: get_data() is deprecated in favor of get_fdata(), which has a more predictable return type. To obtain get_data() behavior going forward, use numpy.asanyarray(img.dataobj).\n",
      "\n",
      "* deprecated from version: 3.0\n",
      "* Will raise <class 'nibabel.deprecator.ExpiredDeprecationError'> as of version: 5.0\n",
      "/home/stevenm/.conda/envs/python3/lib/python3.7/site-packages/ipykernel_launcher.py:19: DeprecationWarning: get_data() is deprecated in favor of get_fdata(), which has a more predictable return type. To obtain get_data() behavior going forward, use numpy.asanyarray(img.dataobj).\n",
      "\n",
      "* deprecated from version: 3.0\n",
      "* Will raise <class 'nibabel.deprecator.ExpiredDeprecationError'> as of version: 5.0\n"
     ]
    },
    {
     "name": "stdout",
     "output_type": "stream",
     "text": [
      "./derivatives/ds-01/fmriprep/sub-01/func/sub-01_task-randomdotmotion_run-03_space-MNI152NLin2009cAsym_desc-preproc_bold.nii.gz\n",
      "Highpass-filtering\n"
     ]
    },
    {
     "name": "stderr",
     "output_type": "stream",
     "text": [
      "/home/stevenm/.conda/envs/python3/lib/python3.7/site-packages/ipykernel_launcher.py:19: DeprecationWarning: get_data() is deprecated in favor of get_fdata(), which has a more predictable return type. To obtain get_data() behavior going forward, use numpy.asanyarray(img.dataobj).\n",
      "\n",
      "* deprecated from version: 3.0\n",
      "* Will raise <class 'nibabel.deprecator.ExpiredDeprecationError'> as of version: 5.0\n"
     ]
    },
    {
     "name": "stdout",
     "output_type": "stream",
     "text": [
      "./derivatives/ds-01/fmriprep/sub-09/func/sub-09_task-randomdotmotion_run-02_space-T1w_desc-preproc_bold.nii.gz\n",
      "Highpass-filtering\n"
     ]
    },
    {
     "name": "stderr",
     "output_type": "stream",
     "text": [
      "/home/stevenm/.conda/envs/python3/lib/python3.7/site-packages/ipykernel_launcher.py:19: DeprecationWarning: get_data() is deprecated in favor of get_fdata(), which has a more predictable return type. To obtain get_data() behavior going forward, use numpy.asanyarray(img.dataobj).\n",
      "\n",
      "* deprecated from version: 3.0\n",
      "* Will raise <class 'nibabel.deprecator.ExpiredDeprecationError'> as of version: 5.0\n"
     ]
    },
    {
     "name": "stdout",
     "output_type": "stream",
     "text": [
      "./derivatives/ds-01/fmriprep/sub-07/func/sub-07_task-randomdotmotion_run-01_space-MNI152NLin2009cAsym_desc-preproc_bold.nii.gz\n",
      "Highpass-filtering\n",
      "./derivatives/ds-01/fmriprep/sub-04/func/sub-04_task-randomdotmotion_run-03_space-T1w_desc-preproc_bold.nii.gz\n",
      "Highpass-filtering\n"
     ]
    },
    {
     "name": "stderr",
     "output_type": "stream",
     "text": [
      "/home/stevenm/.conda/envs/python3/lib/python3.7/site-packages/ipykernel_launcher.py:19: DeprecationWarning: get_data() is deprecated in favor of get_fdata(), which has a more predictable return type. To obtain get_data() behavior going forward, use numpy.asanyarray(img.dataobj).\n",
      "\n",
      "* deprecated from version: 3.0\n",
      "* Will raise <class 'nibabel.deprecator.ExpiredDeprecationError'> as of version: 5.0\n",
      "/home/stevenm/.conda/envs/python3/lib/python3.7/site-packages/ipykernel_launcher.py:19: DeprecationWarning: get_data() is deprecated in favor of get_fdata(), which has a more predictable return type. To obtain get_data() behavior going forward, use numpy.asanyarray(img.dataobj).\n",
      "\n",
      "* deprecated from version: 3.0\n",
      "* Will raise <class 'nibabel.deprecator.ExpiredDeprecationError'> as of version: 5.0\n",
      "/home/stevenm/.conda/envs/python3/lib/python3.7/site-packages/ipykernel_launcher.py:19: DeprecationWarning: get_data() is deprecated in favor of get_fdata(), which has a more predictable return type. To obtain get_data() behavior going forward, use numpy.asanyarray(img.dataobj).\n",
      "\n",
      "* deprecated from version: 3.0\n",
      "* Will raise <class 'nibabel.deprecator.ExpiredDeprecationError'> as of version: 5.0\n",
      "/home/stevenm/.conda/envs/python3/lib/python3.7/site-packages/ipykernel_launcher.py:19: DeprecationWarning: get_data() is deprecated in favor of get_fdata(), which has a more predictable return type. To obtain get_data() behavior going forward, use numpy.asanyarray(img.dataobj).\n",
      "\n",
      "* deprecated from version: 3.0\n",
      "* Will raise <class 'nibabel.deprecator.ExpiredDeprecationError'> as of version: 5.0\n",
      "/home/stevenm/.conda/envs/python3/lib/python3.7/site-packages/ipykernel_launcher.py:19: DeprecationWarning: get_data() is deprecated in favor of get_fdata(), which has a more predictable return type. To obtain get_data() behavior going forward, use numpy.asanyarray(img.dataobj).\n",
      "\n",
      "* deprecated from version: 3.0\n",
      "* Will raise <class 'nibabel.deprecator.ExpiredDeprecationError'> as of version: 5.0\n",
      "/home/stevenm/.conda/envs/python3/lib/python3.7/site-packages/ipykernel_launcher.py:19: DeprecationWarning: get_data() is deprecated in favor of get_fdata(), which has a more predictable return type. To obtain get_data() behavior going forward, use numpy.asanyarray(img.dataobj).\n",
      "\n",
      "* deprecated from version: 3.0\n",
      "* Will raise <class 'nibabel.deprecator.ExpiredDeprecationError'> as of version: 5.0\n"
     ]
    },
    {
     "name": "stdout",
     "output_type": "stream",
     "text": [
      "./derivatives/ds-01/fmriprep/sub-07/func/sub-07_task-randomdotmotion_run-03_space-T1w_desc-preproc_bold.nii.gz\n",
      "Highpass-filtering\n",
      "./derivatives/ds-01/fmriprep/sub-05/func/sub-05_task-randomdotmotion_run-03_space-T1w_desc-preproc_bold.nii.gz\n",
      "Highpass-filtering\n",
      "./derivatives/ds-01/fmriprep/sub-09/func/sub-09_task-randomdotmotion_run-03_space-MNI152NLin2009cAsym_desc-preproc_bold.nii.gz\n",
      "Highpass-filtering\n",
      "./derivatives/ds-01/fmriprep/sub-08/func/sub-08_task-randomdotmotion_run-02_space-T1w_desc-preproc_bold.nii.gz\n"
     ]
    },
    {
     "name": "stderr",
     "output_type": "stream",
     "text": [
      "/home/stevenm/.conda/envs/python3/lib/python3.7/site-packages/ipykernel_launcher.py:19: DeprecationWarning: get_data() is deprecated in favor of get_fdata(), which has a more predictable return type. To obtain get_data() behavior going forward, use numpy.asanyarray(img.dataobj).\n",
      "\n",
      "* deprecated from version: 3.0\n",
      "* Will raise <class 'nibabel.deprecator.ExpiredDeprecationError'> as of version: 5.0\n"
     ]
    },
    {
     "name": "stdout",
     "output_type": "stream",
     "text": [
      "Highpass-filtering\n"
     ]
    },
    {
     "name": "stderr",
     "output_type": "stream",
     "text": [
      "/home/stevenm/.conda/envs/python3/lib/python3.7/site-packages/ipykernel_launcher.py:19: DeprecationWarning: get_data() is deprecated in favor of get_fdata(), which has a more predictable return type. To obtain get_data() behavior going forward, use numpy.asanyarray(img.dataobj).\n",
      "\n",
      "* deprecated from version: 3.0\n",
      "* Will raise <class 'nibabel.deprecator.ExpiredDeprecationError'> as of version: 5.0\n"
     ]
    },
    {
     "name": "stdout",
     "output_type": "stream",
     "text": [
      "./derivatives/ds-01/fmriprep/sub-02/func/sub-02_task-randomdotmotion_run-02_space-T1w_desc-preproc_bold.nii.gz\n",
      "Highpass-filtering\n",
      "./derivatives/ds-01/fmriprep/sub-05/func/sub-05_task-randomdotmotion_run-01_space-MNI152NLin2009cAsym_desc-preproc_bold.nii.gz\n",
      "Highpass-filtering\n"
     ]
    },
    {
     "name": "stderr",
     "output_type": "stream",
     "text": [
      "/home/stevenm/.conda/envs/python3/lib/python3.7/site-packages/ipykernel_launcher.py:19: DeprecationWarning: get_data() is deprecated in favor of get_fdata(), which has a more predictable return type. To obtain get_data() behavior going forward, use numpy.asanyarray(img.dataobj).\n",
      "\n",
      "* deprecated from version: 3.0\n",
      "* Will raise <class 'nibabel.deprecator.ExpiredDeprecationError'> as of version: 5.0\n"
     ]
    },
    {
     "name": "stdout",
     "output_type": "stream",
     "text": [
      "./derivatives/ds-01/fmriprep/sub-03/func/sub-03_task-randomdotmotion_run-01_space-T1w_desc-preproc_bold.nii.gz\n",
      "Highpass-filtering\n",
      "./derivatives/ds-01/fmriprep/sub-04/func/sub-04_task-randomdotmotion_run-01_space-T1w_desc-preproc_bold.nii.gz\n",
      "Highpass-filtering\n",
      "./derivatives/ds-01/fmriprep/sub-10/func/sub-10_task-randomdotmotion_run-02_space-T1w_desc-preproc_bold.nii.gz\n",
      "Highpass-filtering\n"
     ]
    },
    {
     "name": "stderr",
     "output_type": "stream",
     "text": [
      "/home/stevenm/.conda/envs/python3/lib/python3.7/site-packages/ipykernel_launcher.py:19: DeprecationWarning: get_data() is deprecated in favor of get_fdata(), which has a more predictable return type. To obtain get_data() behavior going forward, use numpy.asanyarray(img.dataobj).\n",
      "\n",
      "* deprecated from version: 3.0\n",
      "* Will raise <class 'nibabel.deprecator.ExpiredDeprecationError'> as of version: 5.0\n",
      "/home/stevenm/.conda/envs/python3/lib/python3.7/site-packages/ipykernel_launcher.py:19: DeprecationWarning: get_data() is deprecated in favor of get_fdata(), which has a more predictable return type. To obtain get_data() behavior going forward, use numpy.asanyarray(img.dataobj).\n",
      "\n",
      "* deprecated from version: 3.0\n",
      "* Will raise <class 'nibabel.deprecator.ExpiredDeprecationError'> as of version: 5.0\n"
     ]
    },
    {
     "name": "stdout",
     "output_type": "stream",
     "text": [
      "./derivatives/ds-01/fmriprep/sub-11/func/sub-11_task-randomdotmotion_run-02_space-MNI152NLin2009cAsym_desc-preproc_bold.nii.gz\n",
      "Highpass-filtering\n"
     ]
    },
    {
     "name": "stderr",
     "output_type": "stream",
     "text": [
      "/home/stevenm/.conda/envs/python3/lib/python3.7/site-packages/ipykernel_launcher.py:19: DeprecationWarning: get_data() is deprecated in favor of get_fdata(), which has a more predictable return type. To obtain get_data() behavior going forward, use numpy.asanyarray(img.dataobj).\n",
      "\n",
      "* deprecated from version: 3.0\n",
      "* Will raise <class 'nibabel.deprecator.ExpiredDeprecationError'> as of version: 5.0\n",
      "/home/stevenm/.conda/envs/python3/lib/python3.7/site-packages/ipykernel_launcher.py:19: DeprecationWarning: get_data() is deprecated in favor of get_fdata(), which has a more predictable return type. To obtain get_data() behavior going forward, use numpy.asanyarray(img.dataobj).\n",
      "\n",
      "* deprecated from version: 3.0\n",
      "* Will raise <class 'nibabel.deprecator.ExpiredDeprecationError'> as of version: 5.0\n",
      "/home/stevenm/.conda/envs/python3/lib/python3.7/site-packages/ipykernel_launcher.py:19: DeprecationWarning: get_data() is deprecated in favor of get_fdata(), which has a more predictable return type. To obtain get_data() behavior going forward, use numpy.asanyarray(img.dataobj).\n",
      "\n",
      "* deprecated from version: 3.0\n",
      "* Will raise <class 'nibabel.deprecator.ExpiredDeprecationError'> as of version: 5.0\n"
     ]
    },
    {
     "name": "stdout",
     "output_type": "stream",
     "text": [
      "./derivatives/ds-01/fmriprep/sub-12/func/sub-12_task-randomdotmotion_run-01_space-T1w_desc-preproc_bold.nii.gz\n",
      "Highpass-filtering\n",
      "./derivatives/ds-01/fmriprep/sub-08/func/sub-08_task-randomdotmotion_run-03_space-MNI152NLin2009cAsym_desc-preproc_bold.nii.gz\n",
      "Highpass-filtering\n"
     ]
    },
    {
     "name": "stderr",
     "output_type": "stream",
     "text": [
      "/home/stevenm/.conda/envs/python3/lib/python3.7/site-packages/ipykernel_launcher.py:19: DeprecationWarning: get_data() is deprecated in favor of get_fdata(), which has a more predictable return type. To obtain get_data() behavior going forward, use numpy.asanyarray(img.dataobj).\n",
      "\n",
      "* deprecated from version: 3.0\n",
      "* Will raise <class 'nibabel.deprecator.ExpiredDeprecationError'> as of version: 5.0\n"
     ]
    },
    {
     "name": "stdout",
     "output_type": "stream",
     "text": [
      "./derivatives/ds-01/fmriprep/sub-13/func/sub-13_task-randomdotmotion_run-01_space-MNI152NLin2009cAsym_desc-preproc_bold.nii.gz\n",
      "Highpass-filtering\n",
      "./derivatives/ds-01/fmriprep/sub-13/func/sub-13_task-randomdotmotion_run-03_space-T1w_desc-preproc_bold.nii.gz\n",
      "Highpass-filtering\n",
      "./derivatives/ds-01/fmriprep/sub-14/func/sub-14_task-randomdotmotion_run-03_space-MNI152NLin2009cAsym_desc-preproc_bold.nii.gz\n",
      "Highpass-filtering\n"
     ]
    },
    {
     "name": "stderr",
     "output_type": "stream",
     "text": [
      "/home/stevenm/.conda/envs/python3/lib/python3.7/site-packages/ipykernel_launcher.py:19: DeprecationWarning: get_data() is deprecated in favor of get_fdata(), which has a more predictable return type. To obtain get_data() behavior going forward, use numpy.asanyarray(img.dataobj).\n",
      "\n",
      "* deprecated from version: 3.0\n",
      "* Will raise <class 'nibabel.deprecator.ExpiredDeprecationError'> as of version: 5.0\n"
     ]
    },
    {
     "name": "stdout",
     "output_type": "stream",
     "text": [
      "./derivatives/ds-01/fmriprep/sub-03/func/sub-03_task-randomdotmotion_run-02_space-MNI152NLin2009cAsym_desc-preproc_bold.nii.gz\n",
      "Highpass-filtering\n",
      "./derivatives/ds-01/fmriprep/sub-10/func/sub-10_task-randomdotmotion_run-03_space-MNI152NLin2009cAsym_desc-preproc_bold.nii.gz\n",
      "Highpass-filtering\n"
     ]
    },
    {
     "name": "stderr",
     "output_type": "stream",
     "text": [
      "/home/stevenm/.conda/envs/python3/lib/python3.7/site-packages/ipykernel_launcher.py:19: DeprecationWarning: get_data() is deprecated in favor of get_fdata(), which has a more predictable return type. To obtain get_data() behavior going forward, use numpy.asanyarray(img.dataobj).\n",
      "\n",
      "* deprecated from version: 3.0\n",
      "* Will raise <class 'nibabel.deprecator.ExpiredDeprecationError'> as of version: 5.0\n",
      "/home/stevenm/.conda/envs/python3/lib/python3.7/site-packages/ipykernel_launcher.py:19: DeprecationWarning: get_data() is deprecated in favor of get_fdata(), which has a more predictable return type. To obtain get_data() behavior going forward, use numpy.asanyarray(img.dataobj).\n",
      "\n",
      "* deprecated from version: 3.0\n",
      "* Will raise <class 'nibabel.deprecator.ExpiredDeprecationError'> as of version: 5.0\n",
      "/home/stevenm/.conda/envs/python3/lib/python3.7/site-packages/ipykernel_launcher.py:19: DeprecationWarning: get_data() is deprecated in favor of get_fdata(), which has a more predictable return type. To obtain get_data() behavior going forward, use numpy.asanyarray(img.dataobj).\n",
      "\n",
      "* deprecated from version: 3.0\n",
      "* Will raise <class 'nibabel.deprecator.ExpiredDeprecationError'> as of version: 5.0\n"
     ]
    },
    {
     "name": "stdout",
     "output_type": "stream",
     "text": [
      "./derivatives/ds-01/fmriprep/sub-12/func/sub-12_task-randomdotmotion_run-02_space-MNI152NLin2009cAsym_desc-preproc_bold.nii.gz\n",
      "Highpass-filtering\n",
      "./derivatives/ds-01/fmriprep/sub-09/func/sub-09_task-randomdotmotion_run-03_space-T1w_desc-preproc_bold.nii.gz\n",
      "Highpass-filtering\n"
     ]
    },
    {
     "name": "stderr",
     "output_type": "stream",
     "text": [
      "/home/stevenm/.conda/envs/python3/lib/python3.7/site-packages/ipykernel_launcher.py:19: DeprecationWarning: get_data() is deprecated in favor of get_fdata(), which has a more predictable return type. To obtain get_data() behavior going forward, use numpy.asanyarray(img.dataobj).\n",
      "\n",
      "* deprecated from version: 3.0\n",
      "* Will raise <class 'nibabel.deprecator.ExpiredDeprecationError'> as of version: 5.0\n"
     ]
    },
    {
     "name": "stdout",
     "output_type": "stream",
     "text": [
      "./derivatives/ds-01/fmriprep/sub-15/func/sub-15_task-randomdotmotion_run-02_space-T1w_desc-preproc_bold.nii.gz\n",
      "Highpass-filtering\n",
      "./derivatives/ds-01/fmriprep/sub-14/func/sub-14_task-randomdotmotion_run-01_space-MNI152NLin2009cAsym_desc-preproc_bold.nii.gz\n",
      "Highpass-filtering\n"
     ]
    },
    {
     "name": "stderr",
     "output_type": "stream",
     "text": [
      "/home/stevenm/.conda/envs/python3/lib/python3.7/site-packages/ipykernel_launcher.py:19: DeprecationWarning: get_data() is deprecated in favor of get_fdata(), which has a more predictable return type. To obtain get_data() behavior going forward, use numpy.asanyarray(img.dataobj).\n",
      "\n",
      "* deprecated from version: 3.0\n",
      "* Will raise <class 'nibabel.deprecator.ExpiredDeprecationError'> as of version: 5.0\n"
     ]
    },
    {
     "name": "stdout",
     "output_type": "stream",
     "text": [
      "./derivatives/ds-01/fmriprep/sub-11/func/sub-11_task-randomdotmotion_run-02_space-T1w_desc-preproc_bold.nii.gz\n",
      "Highpass-filtering\n"
     ]
    },
    {
     "name": "stderr",
     "output_type": "stream",
     "text": [
      "/home/stevenm/.conda/envs/python3/lib/python3.7/site-packages/ipykernel_launcher.py:19: DeprecationWarning: get_data() is deprecated in favor of get_fdata(), which has a more predictable return type. To obtain get_data() behavior going forward, use numpy.asanyarray(img.dataobj).\n",
      "\n",
      "* deprecated from version: 3.0\n",
      "* Will raise <class 'nibabel.deprecator.ExpiredDeprecationError'> as of version: 5.0\n",
      "/home/stevenm/.conda/envs/python3/lib/python3.7/site-packages/ipykernel_launcher.py:19: DeprecationWarning: get_data() is deprecated in favor of get_fdata(), which has a more predictable return type. To obtain get_data() behavior going forward, use numpy.asanyarray(img.dataobj).\n",
      "\n",
      "* deprecated from version: 3.0\n",
      "* Will raise <class 'nibabel.deprecator.ExpiredDeprecationError'> as of version: 5.0\n",
      "/home/stevenm/.conda/envs/python3/lib/python3.7/site-packages/ipykernel_launcher.py:19: DeprecationWarning: get_data() is deprecated in favor of get_fdata(), which has a more predictable return type. To obtain get_data() behavior going forward, use numpy.asanyarray(img.dataobj).\n",
      "\n",
      "* deprecated from version: 3.0\n",
      "* Will raise <class 'nibabel.deprecator.ExpiredDeprecationError'> as of version: 5.0\n",
      "/home/stevenm/.conda/envs/python3/lib/python3.7/site-packages/ipykernel_launcher.py:19: DeprecationWarning: get_data() is deprecated in favor of get_fdata(), which has a more predictable return type. To obtain get_data() behavior going forward, use numpy.asanyarray(img.dataobj).\n",
      "\n",
      "* deprecated from version: 3.0\n",
      "* Will raise <class 'nibabel.deprecator.ExpiredDeprecationError'> as of version: 5.0\n"
     ]
    },
    {
     "name": "stdout",
     "output_type": "stream",
     "text": [
      "./derivatives/ds-01/fmriprep/sub-10/func/sub-10_task-randomdotmotion_run-01_space-MNI152NLin2009cAsym_desc-preproc_bold.nii.gz\n",
      "Highpass-filtering\n"
     ]
    },
    {
     "name": "stderr",
     "output_type": "stream",
     "text": [
      "/home/stevenm/.conda/envs/python3/lib/python3.7/site-packages/ipykernel_launcher.py:19: DeprecationWarning: get_data() is deprecated in favor of get_fdata(), which has a more predictable return type. To obtain get_data() behavior going forward, use numpy.asanyarray(img.dataobj).\n",
      "\n",
      "* deprecated from version: 3.0\n",
      "* Will raise <class 'nibabel.deprecator.ExpiredDeprecationError'> as of version: 5.0\n"
     ]
    },
    {
     "name": "stdout",
     "output_type": "stream",
     "text": [
      "./derivatives/ds-01/fmriprep/sub-15/func/sub-15_task-randomdotmotion_run-03_space-MNI152NLin2009cAsym_desc-preproc_bold.nii.gz\n",
      "Highpass-filtering\n",
      "./derivatives/ds-01/fmriprep/sub-13/func/sub-13_task-randomdotmotion_run-01_space-T1w_desc-preproc_bold.nii.gz\n",
      "Highpass-filtering\n",
      "./derivatives/ds-01/fmriprep/sub-14/func/sub-14_task-randomdotmotion_run-03_space-T1w_desc-preproc_bold.nii.gz\n",
      "Highpass-filtering\n"
     ]
    },
    {
     "name": "stderr",
     "output_type": "stream",
     "text": [
      "/home/stevenm/.conda/envs/python3/lib/python3.7/site-packages/ipykernel_launcher.py:19: DeprecationWarning: get_data() is deprecated in favor of get_fdata(), which has a more predictable return type. To obtain get_data() behavior going forward, use numpy.asanyarray(img.dataobj).\n",
      "\n",
      "* deprecated from version: 3.0\n",
      "* Will raise <class 'nibabel.deprecator.ExpiredDeprecationError'> as of version: 5.0\n"
     ]
    },
    {
     "name": "stdout",
     "output_type": "stream",
     "text": [
      "./derivatives/ds-01/fmriprep/sub-16/func/sub-16_task-randomdotmotion_run-02_space-MNI152NLin2009cAsym_desc-preproc_bold.nii.gz\n",
      "Highpass-filtering\n"
     ]
    },
    {
     "name": "stderr",
     "output_type": "stream",
     "text": [
      "/home/stevenm/.conda/envs/python3/lib/python3.7/site-packages/ipykernel_launcher.py:19: DeprecationWarning: get_data() is deprecated in favor of get_fdata(), which has a more predictable return type. To obtain get_data() behavior going forward, use numpy.asanyarray(img.dataobj).\n",
      "\n",
      "* deprecated from version: 3.0\n",
      "* Will raise <class 'nibabel.deprecator.ExpiredDeprecationError'> as of version: 5.0\n"
     ]
    },
    {
     "name": "stdout",
     "output_type": "stream",
     "text": [
      "./derivatives/ds-01/fmriprep/sub-11/func/sub-11_task-randomdotmotion_run-03_space-MNI152NLin2009cAsym_desc-preproc_bold.nii.gz\n",
      "Highpass-filtering\n",
      "./derivatives/ds-01/fmriprep/sub-10/func/sub-10_task-randomdotmotion_run-03_space-T1w_desc-preproc_bold.nii.gz\n",
      "Highpass-filtering\n"
     ]
    },
    {
     "name": "stderr",
     "output_type": "stream",
     "text": [
      "/home/stevenm/.conda/envs/python3/lib/python3.7/site-packages/ipykernel_launcher.py:19: DeprecationWarning: get_data() is deprecated in favor of get_fdata(), which has a more predictable return type. To obtain get_data() behavior going forward, use numpy.asanyarray(img.dataobj).\n",
      "\n",
      "* deprecated from version: 3.0\n",
      "* Will raise <class 'nibabel.deprecator.ExpiredDeprecationError'> as of version: 5.0\n",
      "/home/stevenm/.conda/envs/python3/lib/python3.7/site-packages/ipykernel_launcher.py:19: DeprecationWarning: get_data() is deprecated in favor of get_fdata(), which has a more predictable return type. To obtain get_data() behavior going forward, use numpy.asanyarray(img.dataobj).\n",
      "\n",
      "* deprecated from version: 3.0\n",
      "* Will raise <class 'nibabel.deprecator.ExpiredDeprecationError'> as of version: 5.0\n",
      "/home/stevenm/.conda/envs/python3/lib/python3.7/site-packages/ipykernel_launcher.py:19: DeprecationWarning: get_data() is deprecated in favor of get_fdata(), which has a more predictable return type. To obtain get_data() behavior going forward, use numpy.asanyarray(img.dataobj).\n",
      "\n",
      "* deprecated from version: 3.0\n",
      "* Will raise <class 'nibabel.deprecator.ExpiredDeprecationError'> as of version: 5.0\n",
      "/home/stevenm/.conda/envs/python3/lib/python3.7/site-packages/ipykernel_launcher.py:19: DeprecationWarning: get_data() is deprecated in favor of get_fdata(), which has a more predictable return type. To obtain get_data() behavior going forward, use numpy.asanyarray(img.dataobj).\n",
      "\n",
      "* deprecated from version: 3.0\n",
      "* Will raise <class 'nibabel.deprecator.ExpiredDeprecationError'> as of version: 5.0\n"
     ]
    },
    {
     "name": "stdout",
     "output_type": "stream",
     "text": [
      "./derivatives/ds-01/fmriprep/sub-17/func/sub-17_task-randomdotmotion_run-01_space-T1w_desc-preproc_bold.nii.gz\n",
      "Highpass-filtering\n",
      "./derivatives/ds-01/fmriprep/sub-15/func/sub-15_task-randomdotmotion_run-01_space-MNI152NLin2009cAsym_desc-preproc_bold.nii.gz\n",
      "Highpass-filtering\n",
      "./derivatives/ds-01/fmriprep/sub-13/func/sub-13_task-randomdotmotion_run-02_space-MNI152NLin2009cAsym_desc-preproc_bold.nii.gz\n",
      "Highpass-filtering\n",
      "./derivatives/ds-01/fmriprep/sub-12/func/sub-12_task-randomdotmotion_run-02_space-T1w_desc-preproc_bold.nii.gz\n",
      "Highpass-filtering\n",
      "./derivatives/ds-01/fmriprep/sub-14/func/sub-14_task-randomdotmotion_run-01_space-T1w_desc-preproc_bold.nii.gz\n",
      "Highpass-filtering\n"
     ]
    },
    {
     "name": "stderr",
     "output_type": "stream",
     "text": [
      "/home/stevenm/.conda/envs/python3/lib/python3.7/site-packages/ipykernel_launcher.py:19: DeprecationWarning: get_data() is deprecated in favor of get_fdata(), which has a more predictable return type. To obtain get_data() behavior going forward, use numpy.asanyarray(img.dataobj).\n",
      "\n",
      "* deprecated from version: 3.0\n",
      "* Will raise <class 'nibabel.deprecator.ExpiredDeprecationError'> as of version: 5.0\n",
      "/home/stevenm/.conda/envs/python3/lib/python3.7/site-packages/ipykernel_launcher.py:19: DeprecationWarning: get_data() is deprecated in favor of get_fdata(), which has a more predictable return type. To obtain get_data() behavior going forward, use numpy.asanyarray(img.dataobj).\n",
      "\n",
      "* deprecated from version: 3.0\n",
      "* Will raise <class 'nibabel.deprecator.ExpiredDeprecationError'> as of version: 5.0\n",
      "/home/stevenm/.conda/envs/python3/lib/python3.7/site-packages/ipykernel_launcher.py:19: DeprecationWarning: get_data() is deprecated in favor of get_fdata(), which has a more predictable return type. To obtain get_data() behavior going forward, use numpy.asanyarray(img.dataobj).\n",
      "\n",
      "* deprecated from version: 3.0\n",
      "* Will raise <class 'nibabel.deprecator.ExpiredDeprecationError'> as of version: 5.0\n",
      "/home/stevenm/.conda/envs/python3/lib/python3.7/site-packages/ipykernel_launcher.py:19: DeprecationWarning: get_data() is deprecated in favor of get_fdata(), which has a more predictable return type. To obtain get_data() behavior going forward, use numpy.asanyarray(img.dataobj).\n",
      "\n",
      "* deprecated from version: 3.0\n",
      "* Will raise <class 'nibabel.deprecator.ExpiredDeprecationError'> as of version: 5.0\n"
     ]
    },
    {
     "name": "stdout",
     "output_type": "stream",
     "text": [
      "./derivatives/ds-01/fmriprep/sub-11/func/sub-11_task-randomdotmotion_run-01_space-MNI152NLin2009cAsym_desc-preproc_bold.nii.gz\n",
      "Highpass-filtering\n",
      "./derivatives/ds-01/fmriprep/sub-17/func/sub-17_task-randomdotmotion_run-02_space-MNI152NLin2009cAsym_desc-preproc_bold.nii.gz\n",
      "Highpass-filtering\n",
      "./derivatives/ds-01/fmriprep/sub-10/func/sub-10_task-randomdotmotion_run-01_space-T1w_desc-preproc_bold.nii.gz\n",
      "Highpass-filtering\n"
     ]
    },
    {
     "name": "stderr",
     "output_type": "stream",
     "text": [
      "/home/stevenm/.conda/envs/python3/lib/python3.7/site-packages/ipykernel_launcher.py:19: DeprecationWarning: get_data() is deprecated in favor of get_fdata(), which has a more predictable return type. To obtain get_data() behavior going forward, use numpy.asanyarray(img.dataobj).\n",
      "\n",
      "* deprecated from version: 3.0\n",
      "* Will raise <class 'nibabel.deprecator.ExpiredDeprecationError'> as of version: 5.0\n"
     ]
    },
    {
     "name": "stdout",
     "output_type": "stream",
     "text": [
      "./derivatives/ds-01/fmriprep/sub-15/func/sub-15_task-randomdotmotion_run-03_space-T1w_desc-preproc_bold.nii.gz\n",
      "Highpass-filtering\n"
     ]
    },
    {
     "name": "stderr",
     "output_type": "stream",
     "text": [
      "/home/stevenm/.conda/envs/python3/lib/python3.7/site-packages/ipykernel_launcher.py:19: DeprecationWarning: get_data() is deprecated in favor of get_fdata(), which has a more predictable return type. To obtain get_data() behavior going forward, use numpy.asanyarray(img.dataobj).\n",
      "\n",
      "* deprecated from version: 3.0\n",
      "* Will raise <class 'nibabel.deprecator.ExpiredDeprecationError'> as of version: 5.0\n",
      "/home/stevenm/.conda/envs/python3/lib/python3.7/site-packages/ipykernel_launcher.py:19: DeprecationWarning: get_data() is deprecated in favor of get_fdata(), which has a more predictable return type. To obtain get_data() behavior going forward, use numpy.asanyarray(img.dataobj).\n",
      "\n",
      "* deprecated from version: 3.0\n",
      "* Will raise <class 'nibabel.deprecator.ExpiredDeprecationError'> as of version: 5.0\n"
     ]
    },
    {
     "name": "stdout",
     "output_type": "stream",
     "text": [
      "./derivatives/ds-01/fmriprep/sub-12/func/sub-12_task-randomdotmotion_run-03_space-MNI152NLin2009cAsym_desc-preproc_bold.nii.gz\n",
      "Highpass-filtering\n",
      "./derivatives/ds-01/fmriprep/sub-14/func/sub-14_task-randomdotmotion_run-02_space-MNI152NLin2009cAsym_desc-preproc_bold.nii.gz\n",
      "Highpass-filtering\n",
      "./derivatives/ds-01/fmriprep/sub-16/func/sub-16_task-randomdotmotion_run-02_space-T1w_desc-preproc_bold.nii.gz\n",
      "Highpass-filtering\n"
     ]
    },
    {
     "name": "stderr",
     "output_type": "stream",
     "text": [
      "/home/stevenm/.conda/envs/python3/lib/python3.7/site-packages/ipykernel_launcher.py:19: DeprecationWarning: get_data() is deprecated in favor of get_fdata(), which has a more predictable return type. To obtain get_data() behavior going forward, use numpy.asanyarray(img.dataobj).\n",
      "\n",
      "* deprecated from version: 3.0\n",
      "* Will raise <class 'nibabel.deprecator.ExpiredDeprecationError'> as of version: 5.0\n",
      "/home/stevenm/.conda/envs/python3/lib/python3.7/site-packages/ipykernel_launcher.py:19: DeprecationWarning: get_data() is deprecated in favor of get_fdata(), which has a more predictable return type. To obtain get_data() behavior going forward, use numpy.asanyarray(img.dataobj).\n",
      "\n",
      "* deprecated from version: 3.0\n",
      "* Will raise <class 'nibabel.deprecator.ExpiredDeprecationError'> as of version: 5.0\n"
     ]
    },
    {
     "name": "stdout",
     "output_type": "stream",
     "text": [
      "./derivatives/ds-01/fmriprep/sub-11/func/sub-11_task-randomdotmotion_run-03_space-T1w_desc-preproc_bold.nii.gz\n",
      "Highpass-filtering\n"
     ]
    },
    {
     "name": "stderr",
     "output_type": "stream",
     "text": [
      "/home/stevenm/.conda/envs/python3/lib/python3.7/site-packages/ipykernel_launcher.py:19: DeprecationWarning: get_data() is deprecated in favor of get_fdata(), which has a more predictable return type. To obtain get_data() behavior going forward, use numpy.asanyarray(img.dataobj).\n",
      "\n",
      "* deprecated from version: 3.0\n",
      "* Will raise <class 'nibabel.deprecator.ExpiredDeprecationError'> as of version: 5.0\n",
      "/home/stevenm/.conda/envs/python3/lib/python3.7/site-packages/ipykernel_launcher.py:19: DeprecationWarning: get_data() is deprecated in favor of get_fdata(), which has a more predictable return type. To obtain get_data() behavior going forward, use numpy.asanyarray(img.dataobj).\n",
      "\n",
      "* deprecated from version: 3.0\n",
      "* Will raise <class 'nibabel.deprecator.ExpiredDeprecationError'> as of version: 5.0\n"
     ]
    },
    {
     "name": "stdout",
     "output_type": "stream",
     "text": [
      "./derivatives/ds-01/fmriprep/sub-10/func/sub-10_task-randomdotmotion_run-02_space-MNI152NLin2009cAsym_desc-preproc_bold.nii.gz\n",
      "Highpass-filtering\n",
      "./derivatives/ds-01/fmriprep/sub-16/func/sub-16_task-randomdotmotion_run-01_space-MNI152NLin2009cAsym_desc-preproc_bold.nii.gz\n",
      "Highpass-filtering\n"
     ]
    },
    {
     "name": "stderr",
     "output_type": "stream",
     "text": [
      "/home/stevenm/.conda/envs/python3/lib/python3.7/site-packages/ipykernel_launcher.py:19: DeprecationWarning: get_data() is deprecated in favor of get_fdata(), which has a more predictable return type. To obtain get_data() behavior going forward, use numpy.asanyarray(img.dataobj).\n",
      "\n",
      "* deprecated from version: 3.0\n",
      "* Will raise <class 'nibabel.deprecator.ExpiredDeprecationError'> as of version: 5.0\n"
     ]
    },
    {
     "name": "stdout",
     "output_type": "stream",
     "text": [
      "./derivatives/ds-01/fmriprep/sub-15/func/sub-15_task-randomdotmotion_run-01_space-T1w_desc-preproc_bold.nii.gz\n",
      "Highpass-filtering\n"
     ]
    },
    {
     "name": "stderr",
     "output_type": "stream",
     "text": [
      "/home/stevenm/.conda/envs/python3/lib/python3.7/site-packages/ipykernel_launcher.py:19: DeprecationWarning: get_data() is deprecated in favor of get_fdata(), which has a more predictable return type. To obtain get_data() behavior going forward, use numpy.asanyarray(img.dataobj).\n",
      "\n",
      "* deprecated from version: 3.0\n",
      "* Will raise <class 'nibabel.deprecator.ExpiredDeprecationError'> as of version: 5.0\n"
     ]
    },
    {
     "name": "stdout",
     "output_type": "stream",
     "text": [
      "./derivatives/ds-01/fmriprep/sub-16/func/sub-16_task-randomdotmotion_run-03_space-MNI152NLin2009cAsym_desc-preproc_bold.nii.gz\n",
      "Highpass-filtering\n"
     ]
    },
    {
     "name": "stderr",
     "output_type": "stream",
     "text": [
      "/home/stevenm/.conda/envs/python3/lib/python3.7/site-packages/ipykernel_launcher.py:19: DeprecationWarning: get_data() is deprecated in favor of get_fdata(), which has a more predictable return type. To obtain get_data() behavior going forward, use numpy.asanyarray(img.dataobj).\n",
      "\n",
      "* deprecated from version: 3.0\n",
      "* Will raise <class 'nibabel.deprecator.ExpiredDeprecationError'> as of version: 5.0\n"
     ]
    },
    {
     "name": "stdout",
     "output_type": "stream",
     "text": [
      "./derivatives/ds-01/fmriprep/sub-13/func/sub-13_task-randomdotmotion_run-02_space-T1w_desc-preproc_bold.nii.gz\n",
      "Highpass-filtering\n"
     ]
    },
    {
     "name": "stderr",
     "output_type": "stream",
     "text": [
      "/home/stevenm/.conda/envs/python3/lib/python3.7/site-packages/ipykernel_launcher.py:19: DeprecationWarning: get_data() is deprecated in favor of get_fdata(), which has a more predictable return type. To obtain get_data() behavior going forward, use numpy.asanyarray(img.dataobj).\n",
      "\n",
      "* deprecated from version: 3.0\n",
      "* Will raise <class 'nibabel.deprecator.ExpiredDeprecationError'> as of version: 5.0\n"
     ]
    },
    {
     "name": "stdout",
     "output_type": "stream",
     "text": [
      "./derivatives/ds-01/fmriprep/sub-12/func/sub-12_task-randomdotmotion_run-01_space-MNI152NLin2009cAsym_desc-preproc_bold.nii.gz\n",
      "Highpass-filtering\n",
      "./derivatives/ds-01/fmriprep/sub-11/func/sub-11_task-randomdotmotion_run-01_space-T1w_desc-preproc_bold.nii.gz\n",
      "Highpass-filtering\n"
     ]
    },
    {
     "name": "stderr",
     "output_type": "stream",
     "text": [
      "/home/stevenm/.conda/envs/python3/lib/python3.7/site-packages/ipykernel_launcher.py:19: DeprecationWarning: get_data() is deprecated in favor of get_fdata(), which has a more predictable return type. To obtain get_data() behavior going forward, use numpy.asanyarray(img.dataobj).\n",
      "\n",
      "* deprecated from version: 3.0\n",
      "* Will raise <class 'nibabel.deprecator.ExpiredDeprecationError'> as of version: 5.0\n",
      "/home/stevenm/.conda/envs/python3/lib/python3.7/site-packages/ipykernel_launcher.py:19: DeprecationWarning: get_data() is deprecated in favor of get_fdata(), which has a more predictable return type. To obtain get_data() behavior going forward, use numpy.asanyarray(img.dataobj).\n",
      "\n",
      "* deprecated from version: 3.0\n",
      "* Will raise <class 'nibabel.deprecator.ExpiredDeprecationError'> as of version: 5.0\n",
      "/home/stevenm/.conda/envs/python3/lib/python3.7/site-packages/ipykernel_launcher.py:19: DeprecationWarning: get_data() is deprecated in favor of get_fdata(), which has a more predictable return type. To obtain get_data() behavior going forward, use numpy.asanyarray(img.dataobj).\n",
      "\n",
      "* deprecated from version: 3.0\n",
      "* Will raise <class 'nibabel.deprecator.ExpiredDeprecationError'> as of version: 5.0\n",
      "/home/stevenm/.conda/envs/python3/lib/python3.7/site-packages/ipykernel_launcher.py:19: DeprecationWarning: get_data() is deprecated in favor of get_fdata(), which has a more predictable return type. To obtain get_data() behavior going forward, use numpy.asanyarray(img.dataobj).\n",
      "\n",
      "* deprecated from version: 3.0\n",
      "* Will raise <class 'nibabel.deprecator.ExpiredDeprecationError'> as of version: 5.0\n",
      "/home/stevenm/.conda/envs/python3/lib/python3.7/site-packages/ipykernel_launcher.py:19: DeprecationWarning: get_data() is deprecated in favor of get_fdata(), which has a more predictable return type. To obtain get_data() behavior going forward, use numpy.asanyarray(img.dataobj).\n",
      "\n",
      "* deprecated from version: 3.0\n",
      "* Will raise <class 'nibabel.deprecator.ExpiredDeprecationError'> as of version: 5.0\n"
     ]
    },
    {
     "name": "stdout",
     "output_type": "stream",
     "text": [
      "./derivatives/ds-01/fmriprep/sub-15/func/sub-15_task-randomdotmotion_run-02_space-MNI152NLin2009cAsym_desc-preproc_bold.nii.gz\n",
      "Highpass-filtering\n",
      "./derivatives/ds-01/fmriprep/sub-13/func/sub-13_task-randomdotmotion_run-03_space-MNI152NLin2009cAsym_desc-preproc_bold.nii.gz\n",
      "Highpass-filtering\n"
     ]
    },
    {
     "name": "stderr",
     "output_type": "stream",
     "text": [
      "/home/stevenm/.conda/envs/python3/lib/python3.7/site-packages/ipykernel_launcher.py:19: DeprecationWarning: get_data() is deprecated in favor of get_fdata(), which has a more predictable return type. To obtain get_data() behavior going forward, use numpy.asanyarray(img.dataobj).\n",
      "\n",
      "* deprecated from version: 3.0\n",
      "* Will raise <class 'nibabel.deprecator.ExpiredDeprecationError'> as of version: 5.0\n"
     ]
    },
    {
     "name": "stdout",
     "output_type": "stream",
     "text": [
      "./derivatives/ds-01/fmriprep/sub-14/func/sub-14_task-randomdotmotion_run-02_space-T1w_desc-preproc_bold.nii.gz\n",
      "Highpass-filtering\n",
      "./derivatives/ds-01/fmriprep/sub-17/func/sub-17_task-randomdotmotion_run-02_space-T1w_desc-preproc_bold.nii.gz\n",
      "Highpass-filtering\n"
     ]
    },
    {
     "name": "stderr",
     "output_type": "stream",
     "text": [
      "/home/stevenm/.conda/envs/python3/lib/python3.7/site-packages/ipykernel_launcher.py:19: DeprecationWarning: get_data() is deprecated in favor of get_fdata(), which has a more predictable return type. To obtain get_data() behavior going forward, use numpy.asanyarray(img.dataobj).\n",
      "\n",
      "* deprecated from version: 3.0\n",
      "* Will raise <class 'nibabel.deprecator.ExpiredDeprecationError'> as of version: 5.0\n"
     ]
    },
    {
     "name": "stdout",
     "output_type": "stream",
     "text": [
      "./derivatives/ds-01/fmriprep/sub-12/func/sub-12_task-randomdotmotion_run-03_space-T1w_desc-preproc_bold.nii.gz\n",
      "Highpass-filtering\n"
     ]
    },
    {
     "name": "stderr",
     "output_type": "stream",
     "text": [
      "/home/stevenm/.conda/envs/python3/lib/python3.7/site-packages/ipykernel_launcher.py:19: DeprecationWarning: get_data() is deprecated in favor of get_fdata(), which has a more predictable return type. To obtain get_data() behavior going forward, use numpy.asanyarray(img.dataobj).\n",
      "\n",
      "* deprecated from version: 3.0\n",
      "* Will raise <class 'nibabel.deprecator.ExpiredDeprecationError'> as of version: 5.0\n",
      "/home/stevenm/.conda/envs/python3/lib/python3.7/site-packages/ipykernel_launcher.py:19: DeprecationWarning: get_data() is deprecated in favor of get_fdata(), which has a more predictable return type. To obtain get_data() behavior going forward, use numpy.asanyarray(img.dataobj).\n",
      "\n",
      "* deprecated from version: 3.0\n",
      "* Will raise <class 'nibabel.deprecator.ExpiredDeprecationError'> as of version: 5.0\n"
     ]
    },
    {
     "name": "stdout",
     "output_type": "stream",
     "text": [
      "./derivatives/ds-01/fmriprep/sub-16/func/sub-16_task-randomdotmotion_run-01_space-T1w_desc-preproc_bold.nii.gz\n",
      "Highpass-filtering\n",
      "./derivatives/ds-01/fmriprep/sub-18/func/sub-18_task-randomdotmotion_run-01_space-MNI152NLin2009cAsym_desc-preproc_bold.nii.gz\n",
      "Highpass-filtering\n",
      "./derivatives/ds-01/fmriprep/sub-18/func/sub-18_task-randomdotmotion_run-03_space-T1w_desc-preproc_bold.nii.gz\n",
      "Highpass-filtering\n",
      "./derivatives/ds-01/fmriprep/sub-16/func/sub-16_task-randomdotmotion_run-03_space-T1w_desc-preproc_bold.nii.gz\n",
      "Highpass-filtering\n"
     ]
    },
    {
     "name": "stderr",
     "output_type": "stream",
     "text": [
      "/home/stevenm/.conda/envs/python3/lib/python3.7/site-packages/ipykernel_launcher.py:19: DeprecationWarning: get_data() is deprecated in favor of get_fdata(), which has a more predictable return type. To obtain get_data() behavior going forward, use numpy.asanyarray(img.dataobj).\n",
      "\n",
      "* deprecated from version: 3.0\n",
      "* Will raise <class 'nibabel.deprecator.ExpiredDeprecationError'> as of version: 5.0\n",
      "/home/stevenm/.conda/envs/python3/lib/python3.7/site-packages/ipykernel_launcher.py:19: DeprecationWarning: get_data() is deprecated in favor of get_fdata(), which has a more predictable return type. To obtain get_data() behavior going forward, use numpy.asanyarray(img.dataobj).\n",
      "\n",
      "* deprecated from version: 3.0\n",
      "* Will raise <class 'nibabel.deprecator.ExpiredDeprecationError'> as of version: 5.0\n",
      "/home/stevenm/.conda/envs/python3/lib/python3.7/site-packages/ipykernel_launcher.py:19: DeprecationWarning: get_data() is deprecated in favor of get_fdata(), which has a more predictable return type. To obtain get_data() behavior going forward, use numpy.asanyarray(img.dataobj).\n",
      "\n",
      "* deprecated from version: 3.0\n",
      "* Will raise <class 'nibabel.deprecator.ExpiredDeprecationError'> as of version: 5.0\n"
     ]
    },
    {
     "name": "stdout",
     "output_type": "stream",
     "text": [
      "./derivatives/ds-01/fmriprep/sub-17/func/sub-17_task-randomdotmotion_run-03_space-MNI152NLin2009cAsym_desc-preproc_bold.nii.gz\n",
      "Highpass-filtering\n",
      "./derivatives/ds-01/fmriprep/sub-19/func/sub-19_task-randomdotmotion_run-03_space-MNI152NLin2009cAsym_desc-preproc_bold.nii.gz\n",
      "Highpass-filtering\n",
      "./derivatives/ds-02/fmriprep/sub-01/func/sub-01_task-randomdotmotion_run-02_space-T1w_desc-preproc_bold.nii.gz\n",
      "Highpass-filtering\n"
     ]
    },
    {
     "name": "stderr",
     "output_type": "stream",
     "text": [
      "/home/stevenm/.conda/envs/python3/lib/python3.7/site-packages/ipykernel_launcher.py:19: DeprecationWarning: get_data() is deprecated in favor of get_fdata(), which has a more predictable return type. To obtain get_data() behavior going forward, use numpy.asanyarray(img.dataobj).\n",
      "\n",
      "* deprecated from version: 3.0\n",
      "* Will raise <class 'nibabel.deprecator.ExpiredDeprecationError'> as of version: 5.0\n",
      "/home/stevenm/.conda/envs/python3/lib/python3.7/site-packages/ipykernel_launcher.py:19: DeprecationWarning: get_data() is deprecated in favor of get_fdata(), which has a more predictable return type. To obtain get_data() behavior going forward, use numpy.asanyarray(img.dataobj).\n",
      "\n",
      "* deprecated from version: 3.0\n",
      "* Will raise <class 'nibabel.deprecator.ExpiredDeprecationError'> as of version: 5.0\n"
     ]
    },
    {
     "name": "stdout",
     "output_type": "stream",
     "text": [
      "./derivatives/ds-02/fmriprep/sub-02/func/sub-02_task-randomdotmotion_run-02_space-MNI152NLin2009cAsym_desc-preproc_bold.nii.gz\n",
      "Highpass-filtering\n"
     ]
    },
    {
     "name": "stderr",
     "output_type": "stream",
     "text": [
      "/home/stevenm/.conda/envs/python3/lib/python3.7/site-packages/ipykernel_launcher.py:19: DeprecationWarning: get_data() is deprecated in favor of get_fdata(), which has a more predictable return type. To obtain get_data() behavior going forward, use numpy.asanyarray(img.dataobj).\n",
      "\n",
      "* deprecated from version: 3.0\n",
      "* Will raise <class 'nibabel.deprecator.ExpiredDeprecationError'> as of version: 5.0\n",
      "/home/stevenm/.conda/envs/python3/lib/python3.7/site-packages/ipykernel_launcher.py:19: DeprecationWarning: get_data() is deprecated in favor of get_fdata(), which has a more predictable return type. To obtain get_data() behavior going forward, use numpy.asanyarray(img.dataobj).\n",
      "\n",
      "* deprecated from version: 3.0\n",
      "* Will raise <class 'nibabel.deprecator.ExpiredDeprecationError'> as of version: 5.0\n",
      "/home/stevenm/.conda/envs/python3/lib/python3.7/site-packages/ipykernel_launcher.py:19: DeprecationWarning: get_data() is deprecated in favor of get_fdata(), which has a more predictable return type. To obtain get_data() behavior going forward, use numpy.asanyarray(img.dataobj).\n",
      "\n",
      "* deprecated from version: 3.0\n",
      "* Will raise <class 'nibabel.deprecator.ExpiredDeprecationError'> as of version: 5.0\n",
      "/home/stevenm/.conda/envs/python3/lib/python3.7/site-packages/ipykernel_launcher.py:19: DeprecationWarning: get_data() is deprecated in favor of get_fdata(), which has a more predictable return type. To obtain get_data() behavior going forward, use numpy.asanyarray(img.dataobj).\n",
      "\n",
      "* deprecated from version: 3.0\n",
      "* Will raise <class 'nibabel.deprecator.ExpiredDeprecationError'> as of version: 5.0\n"
     ]
    },
    {
     "name": "stdout",
     "output_type": "stream",
     "text": [
      "./derivatives/ds-01/fmriprep/sub-19/func/sub-19_task-randomdotmotion_run-01_space-MNI152NLin2009cAsym_desc-preproc_bold.nii.gz\n",
      "Highpass-filtering\n",
      "./derivatives/ds-02/fmriprep/sub-03/func/sub-03_task-randomdotmotion_run-01_space-T1w_desc-preproc_bold.nii.gz\n",
      "./derivatives/ds-01/fmriprep/sub-17/func/sub-17_task-randomdotmotion_run-01_space-MNI152NLin2009cAsym_desc-preproc_bold.nii.gz\n",
      "Highpass-filtering\n",
      "Highpass-filtering\n",
      "./derivatives/ds-02/fmriprep/sub-05/func/sub-05_task-randomdotmotion_run-01_space-MNI152NLin2009cAsym_desc-preproc_bold.nii.gz\n",
      "Highpass-filtering\n",
      "./derivatives/ds-02/fmriprep/sub-05/func/sub-05_task-randomdotmotion_run-03_space-T1w_desc-preproc_bold.nii.gz\n",
      "Highpass-filtering\n"
     ]
    },
    {
     "name": "stderr",
     "output_type": "stream",
     "text": [
      "/home/stevenm/.conda/envs/python3/lib/python3.7/site-packages/ipykernel_launcher.py:19: DeprecationWarning: get_data() is deprecated in favor of get_fdata(), which has a more predictable return type. To obtain get_data() behavior going forward, use numpy.asanyarray(img.dataobj).\n",
      "\n",
      "* deprecated from version: 3.0\n",
      "* Will raise <class 'nibabel.deprecator.ExpiredDeprecationError'> as of version: 5.0\n",
      "/home/stevenm/.conda/envs/python3/lib/python3.7/site-packages/ipykernel_launcher.py:19: DeprecationWarning: get_data() is deprecated in favor of get_fdata(), which has a more predictable return type. To obtain get_data() behavior going forward, use numpy.asanyarray(img.dataobj).\n",
      "\n",
      "* deprecated from version: 3.0\n",
      "* Will raise <class 'nibabel.deprecator.ExpiredDeprecationError'> as of version: 5.0\n"
     ]
    },
    {
     "name": "stdout",
     "output_type": "stream",
     "text": [
      "./derivatives/ds-02/fmriprep/sub-01/func/sub-01_task-randomdotmotion_run-03_space-MNI152NLin2009cAsym_desc-preproc_bold.nii.gz\n",
      "Highpass-filtering\n",
      "./derivatives/ds-01/fmriprep/sub-18/func/sub-18_task-randomdotmotion_run-01_space-T1w_desc-preproc_bold.nii.gz\n",
      "Highpass-filtering\n"
     ]
    },
    {
     "name": "stderr",
     "output_type": "stream",
     "text": [
      "/home/stevenm/.conda/envs/python3/lib/python3.7/site-packages/ipykernel_launcher.py:19: DeprecationWarning: get_data() is deprecated in favor of get_fdata(), which has a more predictable return type. To obtain get_data() behavior going forward, use numpy.asanyarray(img.dataobj).\n",
      "\n",
      "* deprecated from version: 3.0\n",
      "* Will raise <class 'nibabel.deprecator.ExpiredDeprecationError'> as of version: 5.0\n",
      "/home/stevenm/.conda/envs/python3/lib/python3.7/site-packages/ipykernel_launcher.py:19: DeprecationWarning: get_data() is deprecated in favor of get_fdata(), which has a more predictable return type. To obtain get_data() behavior going forward, use numpy.asanyarray(img.dataobj).\n",
      "\n",
      "* deprecated from version: 3.0\n",
      "* Will raise <class 'nibabel.deprecator.ExpiredDeprecationError'> as of version: 5.0\n",
      "/home/stevenm/.conda/envs/python3/lib/python3.7/site-packages/ipykernel_launcher.py:19: DeprecationWarning: get_data() is deprecated in favor of get_fdata(), which has a more predictable return type. To obtain get_data() behavior going forward, use numpy.asanyarray(img.dataobj).\n",
      "\n",
      "* deprecated from version: 3.0\n",
      "* Will raise <class 'nibabel.deprecator.ExpiredDeprecationError'> as of version: 5.0\n",
      "/home/stevenm/.conda/envs/python3/lib/python3.7/site-packages/ipykernel_launcher.py:19: DeprecationWarning: get_data() is deprecated in favor of get_fdata(), which has a more predictable return type. To obtain get_data() behavior going forward, use numpy.asanyarray(img.dataobj).\n",
      "\n",
      "* deprecated from version: 3.0\n",
      "* Will raise <class 'nibabel.deprecator.ExpiredDeprecationError'> as of version: 5.0\n"
     ]
    },
    {
     "name": "stdout",
     "output_type": "stream",
     "text": [
      "./derivatives/ds-02/fmriprep/sub-03/func/sub-03_task-randomdotmotion_run-02_space-MNI152NLin2009cAsym_desc-preproc_bold.nii.gz\n",
      "Highpass-filtering\n"
     ]
    },
    {
     "name": "stderr",
     "output_type": "stream",
     "text": [
      "/home/stevenm/.conda/envs/python3/lib/python3.7/site-packages/ipykernel_launcher.py:19: DeprecationWarning: get_data() is deprecated in favor of get_fdata(), which has a more predictable return type. To obtain get_data() behavior going forward, use numpy.asanyarray(img.dataobj).\n",
      "\n",
      "* deprecated from version: 3.0\n",
      "* Will raise <class 'nibabel.deprecator.ExpiredDeprecationError'> as of version: 5.0\n"
     ]
    },
    {
     "name": "stdout",
     "output_type": "stream",
     "text": [
      "./derivatives/ds-02/fmriprep/sub-06/func/sub-06_task-randomdotmotion_run-01_space-MNI152NLin2009cAsym_desc-preproc_bold.nii.gz\n",
      "Highpass-filtering\n",
      "./derivatives/ds-01/fmriprep/sub-19/func/sub-19_task-randomdotmotion_run-03_space-T1w_desc-preproc_bold.nii.gz\n",
      "Highpass-filtering\n"
     ]
    },
    {
     "name": "stderr",
     "output_type": "stream",
     "text": [
      "/home/stevenm/.conda/envs/python3/lib/python3.7/site-packages/ipykernel_launcher.py:19: DeprecationWarning: get_data() is deprecated in favor of get_fdata(), which has a more predictable return type. To obtain get_data() behavior going forward, use numpy.asanyarray(img.dataobj).\n",
      "\n",
      "* deprecated from version: 3.0\n",
      "* Will raise <class 'nibabel.deprecator.ExpiredDeprecationError'> as of version: 5.0\n",
      "/home/stevenm/.conda/envs/python3/lib/python3.7/site-packages/ipykernel_launcher.py:19: DeprecationWarning: get_data() is deprecated in favor of get_fdata(), which has a more predictable return type. To obtain get_data() behavior going forward, use numpy.asanyarray(img.dataobj).\n",
      "\n",
      "* deprecated from version: 3.0\n",
      "* Will raise <class 'nibabel.deprecator.ExpiredDeprecationError'> as of version: 5.0\n"
     ]
    },
    {
     "name": "stdout",
     "output_type": "stream",
     "text": [
      "./derivatives/ds-01/fmriprep/sub-17/func/sub-17_task-randomdotmotion_run-03_space-T1w_desc-preproc_bold.nii.gz\n",
      "Highpass-filtering\n"
     ]
    },
    {
     "name": "stderr",
     "output_type": "stream",
     "text": [
      "/home/stevenm/.conda/envs/python3/lib/python3.7/site-packages/ipykernel_launcher.py:19: DeprecationWarning: get_data() is deprecated in favor of get_fdata(), which has a more predictable return type. To obtain get_data() behavior going forward, use numpy.asanyarray(img.dataobj).\n",
      "\n",
      "* deprecated from version: 3.0\n",
      "* Will raise <class 'nibabel.deprecator.ExpiredDeprecationError'> as of version: 5.0\n"
     ]
    },
    {
     "name": "stdout",
     "output_type": "stream",
     "text": [
      "./derivatives/ds-02/fmriprep/sub-02/func/sub-02_task-randomdotmotion_run-02_space-T1w_desc-preproc_bold.nii.gz\n",
      "Highpass-filtering\n",
      "./derivatives/ds-01/fmriprep/sub-18/func/sub-18_task-randomdotmotion_run-02_space-MNI152NLin2009cAsym_desc-preproc_bold.nii.gz\n",
      "Highpass-filtering\n",
      "./derivatives/ds-01/fmriprep/sub-19/func/sub-19_task-randomdotmotion_run-01_space-T1w_desc-preproc_bold.nii.gz\n",
      "Highpass-filtering\n"
     ]
    },
    {
     "name": "stderr",
     "output_type": "stream",
     "text": [
      "/home/stevenm/.conda/envs/python3/lib/python3.7/site-packages/ipykernel_launcher.py:19: DeprecationWarning: get_data() is deprecated in favor of get_fdata(), which has a more predictable return type. To obtain get_data() behavior going forward, use numpy.asanyarray(img.dataobj).\n",
      "\n",
      "* deprecated from version: 3.0\n",
      "* Will raise <class 'nibabel.deprecator.ExpiredDeprecationError'> as of version: 5.0\n",
      "/home/stevenm/.conda/envs/python3/lib/python3.7/site-packages/ipykernel_launcher.py:19: DeprecationWarning: get_data() is deprecated in favor of get_fdata(), which has a more predictable return type. To obtain get_data() behavior going forward, use numpy.asanyarray(img.dataobj).\n",
      "\n",
      "* deprecated from version: 3.0\n",
      "* Will raise <class 'nibabel.deprecator.ExpiredDeprecationError'> as of version: 5.0\n"
     ]
    },
    {
     "name": "stdout",
     "output_type": "stream",
     "text": [
      "./derivatives/ds-02/fmriprep/sub-05/func/sub-05_task-randomdotmotion_run-01_space-T1w_desc-preproc_bold.nii.gz\n",
      "Highpass-filtering\n"
     ]
    },
    {
     "name": "stderr",
     "output_type": "stream",
     "text": [
      "/home/stevenm/.conda/envs/python3/lib/python3.7/site-packages/ipykernel_launcher.py:19: DeprecationWarning: get_data() is deprecated in favor of get_fdata(), which has a more predictable return type. To obtain get_data() behavior going forward, use numpy.asanyarray(img.dataobj).\n",
      "\n",
      "* deprecated from version: 3.0\n",
      "* Will raise <class 'nibabel.deprecator.ExpiredDeprecationError'> as of version: 5.0\n"
     ]
    },
    {
     "name": "stdout",
     "output_type": "stream",
     "text": [
      "./derivatives/ds-02/fmriprep/sub-01/func/sub-01_task-randomdotmotion_run-01_space-MNI152NLin2009cAsym_desc-preproc_bold.nii.gz\n",
      "Highpass-filtering\n",
      "./derivatives/ds-02/fmriprep/sub-06/func/sub-06_task-randomdotmotion_run-03_space-MNI152NLin2009cAsym_desc-preproc_bold.nii.gz\n",
      "Highpass-filtering\n",
      "./derivatives/ds-02/fmriprep/sub-01/func/sub-01_task-randomdotmotion_run-03_space-T1w_desc-preproc_bold.nii.gz\n",
      "Highpass-filtering\n",
      "./derivatives/ds-02/fmriprep/sub-07/func/sub-07_task-randomdotmotion_run-02_space-T1w_desc-preproc_bold.nii.gz\n",
      "Highpass-filtering\n"
     ]
    },
    {
     "name": "stderr",
     "output_type": "stream",
     "text": [
      "/home/stevenm/.conda/envs/python3/lib/python3.7/site-packages/ipykernel_launcher.py:19: DeprecationWarning: get_data() is deprecated in favor of get_fdata(), which has a more predictable return type. To obtain get_data() behavior going forward, use numpy.asanyarray(img.dataobj).\n",
      "\n",
      "* deprecated from version: 3.0\n",
      "* Will raise <class 'nibabel.deprecator.ExpiredDeprecationError'> as of version: 5.0\n"
     ]
    },
    {
     "name": "stdout",
     "output_type": "stream",
     "text": [
      "./derivatives/ds-02/fmriprep/sub-02/func/sub-02_task-randomdotmotion_run-03_space-MNI152NLin2009cAsym_desc-preproc_bold.nii.gz\n",
      "Highpass-filtering\n",
      "./derivatives/ds-01/fmriprep/sub-19/func/sub-19_task-randomdotmotion_run-02_space-MNI152NLin2009cAsym_desc-preproc_bold.nii.gz\n",
      "Highpass-filtering\n",
      "./derivatives/ds-02/fmriprep/sub-03/func/sub-03_task-randomdotmotion_run-02_space-T1w_desc-preproc_bold.nii.gz\n",
      "Highpass-filtering\n"
     ]
    },
    {
     "name": "stderr",
     "output_type": "stream",
     "text": [
      "/home/stevenm/.conda/envs/python3/lib/python3.7/site-packages/ipykernel_launcher.py:19: DeprecationWarning: get_data() is deprecated in favor of get_fdata(), which has a more predictable return type. To obtain get_data() behavior going forward, use numpy.asanyarray(img.dataobj).\n",
      "\n",
      "* deprecated from version: 3.0\n",
      "* Will raise <class 'nibabel.deprecator.ExpiredDeprecationError'> as of version: 5.0\n"
     ]
    },
    {
     "name": "stdout",
     "output_type": "stream",
     "text": [
      "./derivatives/ds-02/fmriprep/sub-05/func/sub-05_task-randomdotmotion_run-02_space-MNI152NLin2009cAsym_desc-preproc_bold.nii.gz\n",
      "Highpass-filtering\n",
      "./derivatives/ds-02/fmriprep/sub-06/func/sub-06_task-randomdotmotion_run-01_space-T1w_desc-preproc_bold.nii.gz\n",
      "Highpass-filtering\n"
     ]
    },
    {
     "name": "stderr",
     "output_type": "stream",
     "text": [
      "/home/stevenm/.conda/envs/python3/lib/python3.7/site-packages/ipykernel_launcher.py:19: DeprecationWarning: get_data() is deprecated in favor of get_fdata(), which has a more predictable return type. To obtain get_data() behavior going forward, use numpy.asanyarray(img.dataobj).\n",
      "\n",
      "* deprecated from version: 3.0\n",
      "* Will raise <class 'nibabel.deprecator.ExpiredDeprecationError'> as of version: 5.0\n"
     ]
    },
    {
     "name": "stdout",
     "output_type": "stream",
     "text": [
      "./derivatives/ds-01/fmriprep/sub-18/func/sub-18_task-randomdotmotion_run-02_space-T1w_desc-preproc_bold.nii.gz\n",
      "Highpass-filtering\n"
     ]
    },
    {
     "name": "stderr",
     "output_type": "stream",
     "text": [
      "/home/stevenm/.conda/envs/python3/lib/python3.7/site-packages/ipykernel_launcher.py:19: DeprecationWarning: get_data() is deprecated in favor of get_fdata(), which has a more predictable return type. To obtain get_data() behavior going forward, use numpy.asanyarray(img.dataobj).\n",
      "\n",
      "* deprecated from version: 3.0\n",
      "* Will raise <class 'nibabel.deprecator.ExpiredDeprecationError'> as of version: 5.0\n"
     ]
    },
    {
     "name": "stdout",
     "output_type": "stream",
     "text": [
      "./derivatives/ds-02/fmriprep/sub-02/func/sub-02_task-randomdotmotion_run-01_space-MNI152NLin2009cAsym_desc-preproc_bold.nii.gz\n",
      "Highpass-filtering\n",
      "./derivatives/ds-02/fmriprep/sub-08/func/sub-08_task-randomdotmotion_run-01_space-MNI152NLin2009cAsym_desc-preproc_bold.nii.gz\n",
      "Highpass-filtering\n"
     ]
    },
    {
     "name": "stderr",
     "output_type": "stream",
     "text": [
      "/home/stevenm/.conda/envs/python3/lib/python3.7/site-packages/ipykernel_launcher.py:19: DeprecationWarning: get_data() is deprecated in favor of get_fdata(), which has a more predictable return type. To obtain get_data() behavior going forward, use numpy.asanyarray(img.dataobj).\n",
      "\n",
      "* deprecated from version: 3.0\n",
      "* Will raise <class 'nibabel.deprecator.ExpiredDeprecationError'> as of version: 5.0\n"
     ]
    },
    {
     "name": "stdout",
     "output_type": "stream",
     "text": [
      "./derivatives/ds-02/fmriprep/sub-03/func/sub-03_task-randomdotmotion_run-03_space-MNI152NLin2009cAsym_desc-preproc_bold.nii.gz\n",
      "Highpass-filtering\n",
      "./derivatives/ds-02/fmriprep/sub-01/func/sub-01_task-randomdotmotion_run-01_space-T1w_desc-preproc_bold.nii.gz\n",
      "Highpass-filtering\n"
     ]
    },
    {
     "name": "stderr",
     "output_type": "stream",
     "text": [
      "/home/stevenm/.conda/envs/python3/lib/python3.7/site-packages/ipykernel_launcher.py:19: DeprecationWarning: get_data() is deprecated in favor of get_fdata(), which has a more predictable return type. To obtain get_data() behavior going forward, use numpy.asanyarray(img.dataobj).\n",
      "\n",
      "* deprecated from version: 3.0\n",
      "* Will raise <class 'nibabel.deprecator.ExpiredDeprecationError'> as of version: 5.0\n"
     ]
    },
    {
     "name": "stdout",
     "output_type": "stream",
     "text": [
      "./derivatives/ds-02/fmriprep/sub-06/func/sub-06_task-randomdotmotion_run-03_space-T1w_desc-preproc_bold.nii.gz\n",
      "Highpass-filtering\n"
     ]
    },
    {
     "name": "stderr",
     "output_type": "stream",
     "text": [
      "/home/stevenm/.conda/envs/python3/lib/python3.7/site-packages/ipykernel_launcher.py:19: DeprecationWarning: get_data() is deprecated in favor of get_fdata(), which has a more predictable return type. To obtain get_data() behavior going forward, use numpy.asanyarray(img.dataobj).\n",
      "\n",
      "* deprecated from version: 3.0\n",
      "* Will raise <class 'nibabel.deprecator.ExpiredDeprecationError'> as of version: 5.0\n"
     ]
    },
    {
     "name": "stdout",
     "output_type": "stream",
     "text": [
      "./derivatives/ds-01/fmriprep/sub-18/func/sub-18_task-randomdotmotion_run-03_space-MNI152NLin2009cAsym_desc-preproc_bold.nii.gz\n",
      "Highpass-filtering\n",
      "./derivatives/ds-02/fmriprep/sub-02/func/sub-02_task-randomdotmotion_run-03_space-T1w_desc-preproc_bold.nii.gz\n",
      "Highpass-filtering\n",
      "./derivatives/ds-01/fmriprep/sub-19/func/sub-19_task-randomdotmotion_run-02_space-T1w_desc-preproc_bold.nii.gz\n",
      "Highpass-filtering\n",
      "./derivatives/ds-02/fmriprep/sub-06/func/sub-06_task-randomdotmotion_run-02_space-MNI152NLin2009cAsym_desc-preproc_bold.nii.gz\n",
      "Highpass-filtering\n"
     ]
    },
    {
     "name": "stderr",
     "output_type": "stream",
     "text": [
      "/home/stevenm/.conda/envs/python3/lib/python3.7/site-packages/ipykernel_launcher.py:19: DeprecationWarning: get_data() is deprecated in favor of get_fdata(), which has a more predictable return type. To obtain get_data() behavior going forward, use numpy.asanyarray(img.dataobj).\n",
      "\n",
      "* deprecated from version: 3.0\n",
      "* Will raise <class 'nibabel.deprecator.ExpiredDeprecationError'> as of version: 5.0\n"
     ]
    },
    {
     "name": "stdout",
     "output_type": "stream",
     "text": [
      "./derivatives/ds-02/fmriprep/sub-05/func/sub-05_task-randomdotmotion_run-02_space-T1w_desc-preproc_bold.nii.gz\n",
      "Highpass-filtering\n",
      "./derivatives/ds-02/fmriprep/sub-07/func/sub-07_task-randomdotmotion_run-01_space-MNI152NLin2009cAsym_desc-preproc_bold.nii.gz\n",
      "Highpass-filtering\n",
      "./derivatives/ds-02/fmriprep/sub-08/func/sub-08_task-randomdotmotion_run-03_space-MNI152NLin2009cAsym_desc-preproc_bold.nii.gz\n",
      "Highpass-filtering\n",
      "./derivatives/ds-02/fmriprep/sub-08/func/sub-08_task-randomdotmotion_run-01_space-T1w_desc-preproc_bold.nii.gz\n",
      "Highpass-filtering\n",
      "./derivatives/ds-02/fmriprep/sub-02/func/sub-02_task-randomdotmotion_run-01_space-T1w_desc-preproc_bold.nii.gz\n",
      "Highpass-filtering\n",
      "./derivatives/ds-02/fmriprep/sub-03/func/sub-03_task-randomdotmotion_run-01_space-MNI152NLin2009cAsym_desc-preproc_bold.nii.gz\n",
      "Highpass-filtering\n",
      "./derivatives/ds-02/fmriprep/sub-03/func/sub-03_task-randomdotmotion_run-03_space-T1w_desc-preproc_bold.nii.gz\n",
      "Highpass-filtering\n"
     ]
    },
    {
     "name": "stderr",
     "output_type": "stream",
     "text": [
      "/home/stevenm/.conda/envs/python3/lib/python3.7/site-packages/ipykernel_launcher.py:19: DeprecationWarning: get_data() is deprecated in favor of get_fdata(), which has a more predictable return type. To obtain get_data() behavior going forward, use numpy.asanyarray(img.dataobj).\n",
      "\n",
      "* deprecated from version: 3.0\n",
      "* Will raise <class 'nibabel.deprecator.ExpiredDeprecationError'> as of version: 5.0\n"
     ]
    },
    {
     "name": "stdout",
     "output_type": "stream",
     "text": [
      "./derivatives/ds-02/fmriprep/sub-05/func/sub-05_task-randomdotmotion_run-03_space-MNI152NLin2009cAsym_desc-preproc_bold.nii.gz\n",
      "Highpass-filtering\n",
      "./derivatives/ds-02/fmriprep/sub-06/func/sub-06_task-randomdotmotion_run-02_space-T1w_desc-preproc_bold.nii.gz\n",
      "Highpass-filtering\n",
      "./derivatives/ds-02/fmriprep/sub-09/func/sub-09_task-randomdotmotion_run-02_space-T1w_desc-preproc_bold.nii.gz\n",
      "Highpass-filtering\n",
      "./derivatives/ds-02/fmriprep/sub-10/func/sub-10_task-randomdotmotion_run-02_space-MNI152NLin2009cAsym_desc-preproc_bold.nii.gz\n",
      "Highpass-filtering\n",
      "./derivatives/ds-02/fmriprep/sub-08/func/sub-08_task-randomdotmotion_run-02_space-MNI152NLin2009cAsym_desc-preproc_bold.nii.gz\n",
      "Highpass-filtering\n",
      "./derivatives/ds-02/fmriprep/sub-11/func/sub-11_task-randomdotmotion_run-01_space-T1w_desc-preproc_bold.nii.gz\n",
      "Highpass-filtering\n"
     ]
    },
    {
     "name": "stderr",
     "output_type": "stream",
     "text": [
      "/home/stevenm/.conda/envs/python3/lib/python3.7/site-packages/ipykernel_launcher.py:19: DeprecationWarning: get_data() is deprecated in favor of get_fdata(), which has a more predictable return type. To obtain get_data() behavior going forward, use numpy.asanyarray(img.dataobj).\n",
      "\n",
      "* deprecated from version: 3.0\n",
      "* Will raise <class 'nibabel.deprecator.ExpiredDeprecationError'> as of version: 5.0\n"
     ]
    },
    {
     "name": "stdout",
     "output_type": "stream",
     "text": [
      "./derivatives/ds-02/fmriprep/sub-12/func/sub-12_task-randomdotmotion_run-01_space-MNI152NLin2009cAsym_desc-preproc_bold.nii.gz\n",
      "Highpass-filtering\n"
     ]
    },
    {
     "name": "stderr",
     "output_type": "stream",
     "text": [
      "/home/stevenm/.conda/envs/python3/lib/python3.7/site-packages/ipykernel_launcher.py:19: DeprecationWarning: get_data() is deprecated in favor of get_fdata(), which has a more predictable return type. To obtain get_data() behavior going forward, use numpy.asanyarray(img.dataobj).\n",
      "\n",
      "* deprecated from version: 3.0\n",
      "* Will raise <class 'nibabel.deprecator.ExpiredDeprecationError'> as of version: 5.0\n"
     ]
    },
    {
     "name": "stdout",
     "output_type": "stream",
     "text": [
      "./derivatives/ds-02/fmriprep/sub-09/func/sub-09_task-randomdotmotion_run-03_space-MNI152NLin2009cAsym_desc-preproc_bold.nii.gz\n",
      "Highpass-filtering\n",
      "./derivatives/ds-02/fmriprep/sub-07/func/sub-07_task-randomdotmotion_run-01_space-T1w_desc-preproc_bold.nii.gz\n",
      "Highpass-filtering\n",
      "./derivatives/ds-02/fmriprep/sub-08/func/sub-08_task-randomdotmotion_run-03_space-T1w_desc-preproc_bold.nii.gz\n",
      "Highpass-filtering\n",
      "./derivatives/ds-02/fmriprep/sub-12/func/sub-12_task-randomdotmotion_run-03_space-T1w_desc-preproc_bold.nii.gz\n",
      "Highpass-filtering\n",
      "./derivatives/ds-02/fmriprep/sub-13/func/sub-13_task-randomdotmotion_run-03_space-MNI152NLin2009cAsym_desc-preproc_bold.nii.gz\n",
      "Highpass-filtering\n",
      "./derivatives/ds-02/fmriprep/sub-11/func/sub-11_task-randomdotmotion_run-02_space-MNI152NLin2009cAsym_desc-preproc_bold.nii.gz\n",
      "Highpass-filtering\n",
      "./derivatives/ds-02/fmriprep/sub-14/func/sub-14_task-randomdotmotion_run-02_space-T1w_desc-preproc_bold.nii.gz\n",
      "Highpass-filtering\n",
      "./derivatives/ds-02/fmriprep/sub-13/func/sub-13_task-randomdotmotion_run-01_space-MNI152NLin2009cAsym_desc-preproc_bold.nii.gz\n",
      "Highpass-filtering\n",
      "./derivatives/ds-02/fmriprep/sub-10/func/sub-10_task-randomdotmotion_run-02_space-T1w_desc-preproc_bold.nii.gz\n",
      "Highpass-filtering\n",
      "./derivatives/ds-02/fmriprep/sub-08/func/sub-08_task-randomdotmotion_run-02_space-T1w_desc-preproc_bold.nii.gz\n",
      "Highpass-filtering\n",
      "./derivatives/ds-02/fmriprep/sub-09/func/sub-09_task-randomdotmotion_run-01_space-MNI152NLin2009cAsym_desc-preproc_bold.nii.gz\n",
      "Highpass-filtering\n",
      "./derivatives/ds-02/fmriprep/sub-07/func/sub-07_task-randomdotmotion_run-02_space-MNI152NLin2009cAsym_desc-preproc_bold.nii.gz\n",
      "Highpass-filtering\n",
      "./derivatives/ds-02/fmriprep/sub-14/func/sub-14_task-randomdotmotion_run-03_space-MNI152NLin2009cAsym_desc-preproc_bold.nii.gz\n",
      "Highpass-filtering\n",
      "./derivatives/ds-02/fmriprep/sub-12/func/sub-12_task-randomdotmotion_run-01_space-T1w_desc-preproc_bold.nii.gz\n",
      "Highpass-filtering\n",
      "./derivatives/ds-02/fmriprep/sub-09/func/sub-09_task-randomdotmotion_run-03_space-T1w_desc-preproc_bold.nii.gz\n",
      "Highpass-filtering\n",
      "./derivatives/ds-02/fmriprep/sub-13/func/sub-13_task-randomdotmotion_run-03_space-T1w_desc-preproc_bold.nii.gz\n",
      "Highpass-filtering\n",
      "./derivatives/ds-02/fmriprep/sub-10/func/sub-10_task-randomdotmotion_run-03_space-MNI152NLin2009cAsym_desc-preproc_bold.nii.gz\n",
      "Highpass-filtering\n",
      "./derivatives/ds-02/fmriprep/sub-15/func/sub-15_task-randomdotmotion_run-02_space-MNI152NLin2009cAsym_desc-preproc_bold.nii.gz\n",
      "Highpass-filtering\n",
      "./derivatives/ds-02/fmriprep/sub-11/func/sub-11_task-randomdotmotion_run-02_space-T1w_desc-preproc_bold.nii.gz\n",
      "Highpass-filtering\n",
      "./derivatives/ds-02/fmriprep/sub-12/func/sub-12_task-randomdotmotion_run-02_space-MNI152NLin2009cAsym_desc-preproc_bold.nii.gz\n",
      "Highpass-filtering\n",
      "./derivatives/ds-02/fmriprep/sub-13/func/sub-13_task-randomdotmotion_run-01_space-T1w_desc-preproc_bold.nii.gz\n",
      "Highpass-filtering\n",
      "./derivatives/ds-02/fmriprep/sub-14/func/sub-14_task-randomdotmotion_run-01_space-MNI152NLin2009cAsym_desc-preproc_bold.nii.gz\n",
      "Highpass-filtering\n",
      "./derivatives/ds-02/fmriprep/sub-10/func/sub-10_task-randomdotmotion_run-01_space-MNI152NLin2009cAsym_desc-preproc_bold.nii.gz\n",
      "Highpass-filtering\n",
      "./derivatives/ds-02/fmriprep/sub-09/func/sub-09_task-randomdotmotion_run-01_space-T1w_desc-preproc_bold.nii.gz\n",
      "Highpass-filtering\n",
      "./derivatives/ds-02/fmriprep/sub-11/func/sub-11_task-randomdotmotion_run-03_space-MNI152NLin2009cAsym_desc-preproc_bold.nii.gz\n",
      "Highpass-filtering\n",
      "./derivatives/ds-02/fmriprep/sub-14/func/sub-14_task-randomdotmotion_run-03_space-T1w_desc-preproc_bold.nii.gz\n",
      "Highpass-filtering\n",
      "./derivatives/ds-02/fmriprep/sub-13/func/sub-13_task-randomdotmotion_run-02_space-MNI152NLin2009cAsym_desc-preproc_bold.nii.gz\n",
      "Highpass-filtering\n",
      "./derivatives/ds-02/fmriprep/sub-10/func/sub-10_task-randomdotmotion_run-03_space-T1w_desc-preproc_bold.nii.gz\n",
      "Highpass-filtering\n",
      "./derivatives/ds-02/fmriprep/sub-09/func/sub-09_task-randomdotmotion_run-02_space-MNI152NLin2009cAsym_desc-preproc_bold.nii.gz\n",
      "Highpass-filtering\n",
      "./derivatives/ds-02/fmriprep/sub-15/func/sub-15_task-randomdotmotion_run-01_space-MNI152NLin2009cAsym_desc-preproc_bold.nii.gz\n",
      "Highpass-filtering\n",
      "./derivatives/ds-02/fmriprep/sub-15/func/sub-15_task-randomdotmotion_run-02_space-T1w_desc-preproc_bold.nii.gz\n",
      "Highpass-filtering\n",
      "./derivatives/ds-02/fmriprep/sub-12/func/sub-12_task-randomdotmotion_run-02_space-T1w_desc-preproc_bold.nii.gz\n",
      "Highpass-filtering\n",
      "./derivatives/ds-02/fmriprep/sub-10/func/sub-10_task-randomdotmotion_run-01_space-T1w_desc-preproc_bold.nii.gz\n",
      "Highpass-filtering\n",
      "./derivatives/ds-02/fmriprep/sub-14/func/sub-14_task-randomdotmotion_run-01_space-T1w_desc-preproc_bold.nii.gz\n",
      "Highpass-filtering\n",
      "./derivatives/ds-02/fmriprep/sub-11/func/sub-11_task-randomdotmotion_run-01_space-MNI152NLin2009cAsym_desc-preproc_bold.nii.gz\n",
      "Highpass-filtering\n",
      "./derivatives/ds-02/fmriprep/sub-13/func/sub-13_task-randomdotmotion_run-02_space-T1w_desc-preproc_bold.nii.gz\n",
      "Highpass-filtering\n",
      "./derivatives/ds-02/fmriprep/sub-11/func/sub-11_task-randomdotmotion_run-03_space-T1w_desc-preproc_bold.nii.gz\n",
      "Highpass-filtering\n",
      "./derivatives/ds-02/fmriprep/sub-15/func/sub-15_task-randomdotmotion_run-03_space-MNI152NLin2009cAsym_desc-preproc_bold.nii.gz\n",
      "Highpass-filtering\n",
      "./derivatives/ds-02/fmriprep/sub-12/func/sub-12_task-randomdotmotion_run-03_space-MNI152NLin2009cAsym_desc-preproc_bold.nii.gz\n",
      "Highpass-filtering\n",
      "./derivatives/ds-02/fmriprep/sub-14/func/sub-14_task-randomdotmotion_run-02_space-MNI152NLin2009cAsym_desc-preproc_bold.nii.gz\n",
      "Highpass-filtering\n",
      "./derivatives/ds-02/fmriprep/sub-15/func/sub-15_task-randomdotmotion_run-01_space-T1w_desc-preproc_bold.nii.gz\n",
      "Highpass-filtering\n",
      "./derivatives/ds-02/fmriprep/sub-15/func/sub-15_task-randomdotmotion_run-03_space-T1w_desc-preproc_bold.nii.gz\n",
      "Highpass-filtering\n"
     ]
    }
   ],
   "source": [
    "all_func_files = sorted(glob.glob('./derivatives/ds-0*/fmriprep/sub-*/func/sub-*_task-randomdotmotion_run-*_space-*_desc-preproc_bold.nii.gz'))\n",
    "\n",
    "with mp.Pool(10) as p:\n",
    "    p.map(high_pass_and_save, all_func_files)"
   ]
  },
  {
   "cell_type": "markdown",
   "metadata": {},
   "source": [
    "## 2. Re-extract STN segments from high-passed func timeseries in T1w space\n"
   ]
  },
  {
   "cell_type": "code",
   "execution_count": 51,
   "metadata": {},
   "outputs": [],
   "source": [
    "def get_maskfn_label(ds, sub, hemisphere, subregion):\n",
    "    if subregion == '':\n",
    "        label = 'stn{}'.format(hemisphere)\n",
    "    else:\n",
    "        label = 'stn{}_{}'.format(hemisphere, subregion)\n",
    "    subregion = '_' + subregion if not subregion == '' else subregion\n",
    "    return label, f'./derivatives/ds-{ds}/pca_masks/sub-{sub}/anat/sub-{sub}_desc-stn{hemisphere}_space-T1w_res-1p5mm{subregion}_roi.nii.gz'\n",
    "\n",
    "def make_subject_atlas(ds, sub):\n",
    "    hemispheres = ['r', 'l']\n",
    "    subregions = ['', 'subroi-A', 'subroi-B', 'subroi-C']\n",
    "\n",
    "    labels = []\n",
    "    imgs = []\n",
    "    for hemisphere in hemispheres:\n",
    "        for subregion in subregions:\n",
    "            label, fn = get_maskfn_label(ds, sub, hemisphere, subregion)\n",
    "            labels.append(label)\n",
    "            imgs.append(fn)\n",
    "\n",
    "    from sklearn.utils import Bunch\n",
    "    atlas = Bunch(labels=labels, \n",
    "                  maps=nilearn.image.concat_imgs(imgs))\n",
    "    return atlas\n",
    "\n",
    "def get_epi(ds, sub, run):\n",
    "    epi = f'./derivatives/ds-{ds}/high_passed_func/sub-{sub}/func/sub-{sub}_task-randomdotmotion_run-{run}_space-T1w_desc-preproc_bold.nii.gz'\n",
    "    return epi\n",
    "\n",
    "def do_extract(to_run):\n",
    "    ds, sub, run = to_run\n",
    "    ds = str(ds).zfill(2)\n",
    "    sub = str(sub).zfill(2)\n",
    "    run = str(run).zfill(2)\n",
    "    print(f'Extracting from ds-{ds}/sub-{sub}/run-{run}', end='')\n",
    "\n",
    "    epi_fn = get_epi(ds, sub, run)\n",
    "    if not os.path.exists(epi_fn):\n",
    "        print('...doesnt exist, skipping'.format(ds, sub, run))\n",
    "        return 0\n",
    "    \n",
    "    atlas = make_subject_atlas(ds, sub)\n",
    "    epi = nib.load(get_epi(ds, sub, run))\n",
    "    epi_flat = epi.get_fdata().reshape((np.product(epi.shape[:3]), epi.shape[-1]))\n",
    "\n",
    "    for i in np.arange(len(atlas.labels)):\n",
    "        print('.', end='')\n",
    "        label = atlas.labels[i]\n",
    "        mask = nilearn.image.index_img(atlas.maps, i)\n",
    "        mask_flat = mask.get_fdata().ravel()\n",
    "        signal = pd.DataFrame(epi_flat[mask_flat>0].T)\n",
    "        signal.index.name = 'volume'\n",
    "\n",
    "        output_fn = f'./derivatives/ds-{ds}/extracted_signal_hp/sub-{sub}/func/sub-{sub}_task-randomdotmotion_run-{run}_space-T1w_desc-preproc_desc-{label}.csv'\n",
    "        output_fn\n",
    "\n",
    "        os.makedirs(os.path.dirname(output_fn), exist_ok=True)\n",
    "        signal.to_csv(output_fn)"
   ]
  },
  {
   "cell_type": "code",
   "execution_count": 52,
   "metadata": {},
   "outputs": [
    {
     "name": "stdout",
     "output_type": "stream",
     "text": [
      "Extracting from ds-01/sub-01/run-01Extracting from ds-01/sub-01/run-02Extracting from ds-01/sub-04/run-03Extracting from ds-01/sub-02/run-02Extracting from ds-01/sub-03/run-03Extracting from ds-01/sub-06/run-02Extracting from ds-01/sub-05/run-02Extracting from ds-01/sub-04/run-01Extracting from ds-01/sub-03/run-02Extracting from ds-01/sub-02/run-01Extracting from ds-01/sub-06/run-01Extracting from ds-01/sub-04/run-02Extracting from ds-01/sub-06/run-03Extracting from ds-01/sub-01/run-03Extracting from ds-01/sub-05/run-01Extracting from ds-01/sub-05/run-03Extracting from ds-01/sub-02/run-03Extracting from ds-01/sub-07/run-01Extracting from ds-01/sub-07/run-02Extracting from ds-01/sub-03/run-01Extracting from ds-01/sub-07/run-03...doesnt exist, skippingExtracting from ds-01/sub-08/run-01Extracting from ds-01/sub-09/run-01Extracting from ds-01/sub-08/run-03Extracting from ds-01/sub-09/run-02Extracting from ds-01/sub-08/run-02\n",
      "Extracting from ds-01/sub-10/run-01Extracting from ds-01/sub-09/run-03Extracting from ds-01/sub-10/run-02Extracting from ds-01/sub-10/run-03Extracting from ds-01/sub-11/run-01"
     ]
    },
    {
     "name": "stderr",
     "output_type": "stream",
     "text": [
      "/home/stevenm/.conda/envs/python3/lib/python3.7/site-packages/ipykernel_launcher.py:44: DeprecationWarning: get_data() is deprecated in favor of get_fdata(), which has a more predictable return type. To obtain get_data() behavior going forward, use numpy.asanyarray(img.dataobj).\n",
      "\n",
      "* deprecated from version: 3.0\n",
      "* Will raise <class 'nibabel.deprecator.ExpiredDeprecationError'> as of version: 5.0\n",
      "/home/stevenm/.conda/envs/python3/lib/python3.7/site-packages/ipykernel_launcher.py:44: DeprecationWarning: get_data() is deprecated in favor of get_fdata(), which has a more predictable return type. To obtain get_data() behavior going forward, use numpy.asanyarray(img.dataobj).\n",
      "\n",
      "* deprecated from version: 3.0\n",
      "* Will raise <class 'nibabel.deprecator.ExpiredDeprecationError'> as of version: 5.0\n",
      "/home/stevenm/.conda/envs/python3/lib/python3.7/site-packages/ipykernel_launcher.py:44: DeprecationWarning: get_data() is deprecated in favor of get_fdata(), which has a more predictable return type. To obtain get_data() behavior going forward, use numpy.asanyarray(img.dataobj).\n",
      "\n",
      "* deprecated from version: 3.0\n",
      "* Will raise <class 'nibabel.deprecator.ExpiredDeprecationError'> as of version: 5.0\n",
      "/home/stevenm/.conda/envs/python3/lib/python3.7/site-packages/ipykernel_launcher.py:44: DeprecationWarning: get_data() is deprecated in favor of get_fdata(), which has a more predictable return type. To obtain get_data() behavior going forward, use numpy.asanyarray(img.dataobj).\n",
      "\n",
      "* deprecated from version: 3.0\n",
      "* Will raise <class 'nibabel.deprecator.ExpiredDeprecationError'> as of version: 5.0\n",
      "/home/stevenm/.conda/envs/python3/lib/python3.7/site-packages/ipykernel_launcher.py:44: DeprecationWarning: get_data() is deprecated in favor of get_fdata(), which has a more predictable return type. To obtain get_data() behavior going forward, use numpy.asanyarray(img.dataobj).\n",
      "\n",
      "* deprecated from version: 3.0\n",
      "* Will raise <class 'nibabel.deprecator.ExpiredDeprecationError'> as of version: 5.0\n",
      "/home/stevenm/.conda/envs/python3/lib/python3.7/site-packages/ipykernel_launcher.py:44: DeprecationWarning: get_data() is deprecated in favor of get_fdata(), which has a more predictable return type. To obtain get_data() behavior going forward, use numpy.asanyarray(img.dataobj).\n",
      "\n",
      "* deprecated from version: 3.0\n",
      "* Will raise <class 'nibabel.deprecator.ExpiredDeprecationError'> as of version: 5.0\n",
      "/home/stevenm/.conda/envs/python3/lib/python3.7/site-packages/ipykernel_launcher.py:44: DeprecationWarning: get_data() is deprecated in favor of get_fdata(), which has a more predictable return type. To obtain get_data() behavior going forward, use numpy.asanyarray(img.dataobj).\n",
      "\n",
      "* deprecated from version: 3.0\n",
      "* Will raise <class 'nibabel.deprecator.ExpiredDeprecationError'> as of version: 5.0\n",
      "/home/stevenm/.conda/envs/python3/lib/python3.7/site-packages/ipykernel_launcher.py:44: DeprecationWarning: get_data() is deprecated in favor of get_fdata(), which has a more predictable return type. To obtain get_data() behavior going forward, use numpy.asanyarray(img.dataobj).\n",
      "\n",
      "* deprecated from version: 3.0\n",
      "* Will raise <class 'nibabel.deprecator.ExpiredDeprecationError'> as of version: 5.0\n",
      "/home/stevenm/.conda/envs/python3/lib/python3.7/site-packages/ipykernel_launcher.py:44: DeprecationWarning: get_data() is deprecated in favor of get_fdata(), which has a more predictable return type. To obtain get_data() behavior going forward, use numpy.asanyarray(img.dataobj).\n",
      "\n",
      "* deprecated from version: 3.0\n",
      "* Will raise <class 'nibabel.deprecator.ExpiredDeprecationError'> as of version: 5.0\n",
      "/home/stevenm/.conda/envs/python3/lib/python3.7/site-packages/ipykernel_launcher.py:44: DeprecationWarning: get_data() is deprecated in favor of get_fdata(), which has a more predictable return type. To obtain get_data() behavior going forward, use numpy.asanyarray(img.dataobj).\n",
      "\n",
      "* deprecated from version: 3.0\n",
      "* Will raise <class 'nibabel.deprecator.ExpiredDeprecationError'> as of version: 5.0\n",
      "/home/stevenm/.conda/envs/python3/lib/python3.7/site-packages/ipykernel_launcher.py:44: DeprecationWarning: get_data() is deprecated in favor of get_fdata(), which has a more predictable return type. To obtain get_data() behavior going forward, use numpy.asanyarray(img.dataobj).\n",
      "\n",
      "* deprecated from version: 3.0\n",
      "* Will raise <class 'nibabel.deprecator.ExpiredDeprecationError'> as of version: 5.0\n",
      "/home/stevenm/.conda/envs/python3/lib/python3.7/site-packages/ipykernel_launcher.py:44: DeprecationWarning: get_data() is deprecated in favor of get_fdata(), which has a more predictable return type. To obtain get_data() behavior going forward, use numpy.asanyarray(img.dataobj).\n",
      "\n",
      "* deprecated from version: 3.0\n",
      "* Will raise <class 'nibabel.deprecator.ExpiredDeprecationError'> as of version: 5.0\n",
      "/home/stevenm/.conda/envs/python3/lib/python3.7/site-packages/ipykernel_launcher.py:44: DeprecationWarning: get_data() is deprecated in favor of get_fdata(), which has a more predictable return type. To obtain get_data() behavior going forward, use numpy.asanyarray(img.dataobj).\n",
      "\n",
      "* deprecated from version: 3.0\n",
      "* Will raise <class 'nibabel.deprecator.ExpiredDeprecationError'> as of version: 5.0\n",
      "/home/stevenm/.conda/envs/python3/lib/python3.7/site-packages/ipykernel_launcher.py:44: DeprecationWarning: get_data() is deprecated in favor of get_fdata(), which has a more predictable return type. To obtain get_data() behavior going forward, use numpy.asanyarray(img.dataobj).\n",
      "\n",
      "* deprecated from version: 3.0\n",
      "* Will raise <class 'nibabel.deprecator.ExpiredDeprecationError'> as of version: 5.0\n",
      "/home/stevenm/.conda/envs/python3/lib/python3.7/site-packages/ipykernel_launcher.py:44: DeprecationWarning: get_data() is deprecated in favor of get_fdata(), which has a more predictable return type. To obtain get_data() behavior going forward, use numpy.asanyarray(img.dataobj).\n",
      "\n",
      "* deprecated from version: 3.0\n",
      "* Will raise <class 'nibabel.deprecator.ExpiredDeprecationError'> as of version: 5.0\n",
      "/home/stevenm/.conda/envs/python3/lib/python3.7/site-packages/ipykernel_launcher.py:44: DeprecationWarning: get_data() is deprecated in favor of get_fdata(), which has a more predictable return type. To obtain get_data() behavior going forward, use numpy.asanyarray(img.dataobj).\n",
      "\n",
      "* deprecated from version: 3.0\n",
      "* Will raise <class 'nibabel.deprecator.ExpiredDeprecationError'> as of version: 5.0\n",
      "/home/stevenm/.conda/envs/python3/lib/python3.7/site-packages/ipykernel_launcher.py:44: DeprecationWarning: get_data() is deprecated in favor of get_fdata(), which has a more predictable return type. To obtain get_data() behavior going forward, use numpy.asanyarray(img.dataobj).\n",
      "\n",
      "* deprecated from version: 3.0\n",
      "* Will raise <class 'nibabel.deprecator.ExpiredDeprecationError'> as of version: 5.0\n",
      "/home/stevenm/.conda/envs/python3/lib/python3.7/site-packages/ipykernel_launcher.py:44: DeprecationWarning: get_data() is deprecated in favor of get_fdata(), which has a more predictable return type. To obtain get_data() behavior going forward, use numpy.asanyarray(img.dataobj).\n",
      "\n",
      "* deprecated from version: 3.0\n",
      "* Will raise <class 'nibabel.deprecator.ExpiredDeprecationError'> as of version: 5.0\n",
      "/home/stevenm/.conda/envs/python3/lib/python3.7/site-packages/ipykernel_launcher.py:44: DeprecationWarning: get_data() is deprecated in favor of get_fdata(), which has a more predictable return type. To obtain get_data() behavior going forward, use numpy.asanyarray(img.dataobj).\n",
      "\n",
      "* deprecated from version: 3.0\n",
      "* Will raise <class 'nibabel.deprecator.ExpiredDeprecationError'> as of version: 5.0\n",
      "/home/stevenm/.conda/envs/python3/lib/python3.7/site-packages/ipykernel_launcher.py:44: DeprecationWarning: get_data() is deprecated in favor of get_fdata(), which has a more predictable return type. To obtain get_data() behavior going forward, use numpy.asanyarray(img.dataobj).\n",
      "\n",
      "* deprecated from version: 3.0\n",
      "* Will raise <class 'nibabel.deprecator.ExpiredDeprecationError'> as of version: 5.0\n",
      "/home/stevenm/.conda/envs/python3/lib/python3.7/site-packages/ipykernel_launcher.py:44: DeprecationWarning: get_data() is deprecated in favor of get_fdata(), which has a more predictable return type. To obtain get_data() behavior going forward, use numpy.asanyarray(img.dataobj).\n",
      "\n",
      "* deprecated from version: 3.0\n",
      "* Will raise <class 'nibabel.deprecator.ExpiredDeprecationError'> as of version: 5.0\n"
     ]
    },
    {
     "name": "stderr",
     "output_type": "stream",
     "text": [
      "/home/stevenm/.conda/envs/python3/lib/python3.7/site-packages/ipykernel_launcher.py:44: DeprecationWarning: get_data() is deprecated in favor of get_fdata(), which has a more predictable return type. To obtain get_data() behavior going forward, use numpy.asanyarray(img.dataobj).\n",
      "\n",
      "* deprecated from version: 3.0\n",
      "* Will raise <class 'nibabel.deprecator.ExpiredDeprecationError'> as of version: 5.0\n",
      "/home/stevenm/.conda/envs/python3/lib/python3.7/site-packages/ipykernel_launcher.py:44: DeprecationWarning: get_data() is deprecated in favor of get_fdata(), which has a more predictable return type. To obtain get_data() behavior going forward, use numpy.asanyarray(img.dataobj).\n",
      "\n",
      "* deprecated from version: 3.0\n",
      "* Will raise <class 'nibabel.deprecator.ExpiredDeprecationError'> as of version: 5.0\n",
      "/home/stevenm/.conda/envs/python3/lib/python3.7/site-packages/ipykernel_launcher.py:44: DeprecationWarning: get_data() is deprecated in favor of get_fdata(), which has a more predictable return type. To obtain get_data() behavior going forward, use numpy.asanyarray(img.dataobj).\n",
      "\n",
      "* deprecated from version: 3.0\n",
      "* Will raise <class 'nibabel.deprecator.ExpiredDeprecationError'> as of version: 5.0\n",
      "/home/stevenm/.conda/envs/python3/lib/python3.7/site-packages/ipykernel_launcher.py:44: DeprecationWarning: get_data() is deprecated in favor of get_fdata(), which has a more predictable return type. To obtain get_data() behavior going forward, use numpy.asanyarray(img.dataobj).\n",
      "\n",
      "* deprecated from version: 3.0\n",
      "* Will raise <class 'nibabel.deprecator.ExpiredDeprecationError'> as of version: 5.0\n",
      "/home/stevenm/.conda/envs/python3/lib/python3.7/site-packages/ipykernel_launcher.py:44: DeprecationWarning: get_data() is deprecated in favor of get_fdata(), which has a more predictable return type. To obtain get_data() behavior going forward, use numpy.asanyarray(img.dataobj).\n",
      "\n",
      "* deprecated from version: 3.0\n",
      "* Will raise <class 'nibabel.deprecator.ExpiredDeprecationError'> as of version: 5.0\n",
      "/home/stevenm/.conda/envs/python3/lib/python3.7/site-packages/ipykernel_launcher.py:44: DeprecationWarning: get_data() is deprecated in favor of get_fdata(), which has a more predictable return type. To obtain get_data() behavior going forward, use numpy.asanyarray(img.dataobj).\n",
      "\n",
      "* deprecated from version: 3.0\n",
      "* Will raise <class 'nibabel.deprecator.ExpiredDeprecationError'> as of version: 5.0\n",
      "/home/stevenm/.conda/envs/python3/lib/python3.7/site-packages/ipykernel_launcher.py:44: DeprecationWarning: get_data() is deprecated in favor of get_fdata(), which has a more predictable return type. To obtain get_data() behavior going forward, use numpy.asanyarray(img.dataobj).\n",
      "\n",
      "* deprecated from version: 3.0\n",
      "* Will raise <class 'nibabel.deprecator.ExpiredDeprecationError'> as of version: 5.0\n",
      "/home/stevenm/.conda/envs/python3/lib/python3.7/site-packages/ipykernel_launcher.py:44: DeprecationWarning: get_data() is deprecated in favor of get_fdata(), which has a more predictable return type. To obtain get_data() behavior going forward, use numpy.asanyarray(img.dataobj).\n",
      "\n",
      "* deprecated from version: 3.0\n",
      "* Will raise <class 'nibabel.deprecator.ExpiredDeprecationError'> as of version: 5.0\n",
      "/home/stevenm/.conda/envs/python3/lib/python3.7/site-packages/ipykernel_launcher.py:44: DeprecationWarning: get_data() is deprecated in favor of get_fdata(), which has a more predictable return type. To obtain get_data() behavior going forward, use numpy.asanyarray(img.dataobj).\n",
      "\n",
      "* deprecated from version: 3.0\n",
      "* Will raise <class 'nibabel.deprecator.ExpiredDeprecationError'> as of version: 5.0\n"
     ]
    },
    {
     "name": "stdout",
     "output_type": "stream",
     "text": [
      "."
     ]
    },
    {
     "name": "stderr",
     "output_type": "stream",
     "text": [
      "/home/stevenm/.conda/envs/python3/lib/python3.7/site-packages/ipykernel_launcher.py:50: DeprecationWarning: get_data() is deprecated in favor of get_fdata(), which has a more predictable return type. To obtain get_data() behavior going forward, use numpy.asanyarray(img.dataobj).\n",
      "\n",
      "* deprecated from version: 3.0\n",
      "* Will raise <class 'nibabel.deprecator.ExpiredDeprecationError'> as of version: 5.0\n"
     ]
    },
    {
     "name": "stdout",
     "output_type": "stream",
     "text": [
      ".......Extracting from ds-01/sub-11/run-02."
     ]
    },
    {
     "name": "stderr",
     "output_type": "stream",
     "text": [
      "/home/stevenm/.conda/envs/python3/lib/python3.7/site-packages/ipykernel_launcher.py:50: DeprecationWarning: get_data() is deprecated in favor of get_fdata(), which has a more predictable return type. To obtain get_data() behavior going forward, use numpy.asanyarray(img.dataobj).\n",
      "\n",
      "* deprecated from version: 3.0\n",
      "* Will raise <class 'nibabel.deprecator.ExpiredDeprecationError'> as of version: 5.0\n"
     ]
    },
    {
     "name": "stdout",
     "output_type": "stream",
     "text": [
      "......."
     ]
    },
    {
     "name": "stderr",
     "output_type": "stream",
     "text": [
      "/home/stevenm/.conda/envs/python3/lib/python3.7/site-packages/ipykernel_launcher.py:44: DeprecationWarning: get_data() is deprecated in favor of get_fdata(), which has a more predictable return type. To obtain get_data() behavior going forward, use numpy.asanyarray(img.dataobj).\n",
      "\n",
      "* deprecated from version: 3.0\n",
      "* Will raise <class 'nibabel.deprecator.ExpiredDeprecationError'> as of version: 5.0\n"
     ]
    },
    {
     "name": "stdout",
     "output_type": "stream",
     "text": [
      "Extracting from ds-01/sub-11/run-03."
     ]
    },
    {
     "name": "stderr",
     "output_type": "stream",
     "text": [
      "/home/stevenm/.conda/envs/python3/lib/python3.7/site-packages/ipykernel_launcher.py:50: DeprecationWarning: get_data() is deprecated in favor of get_fdata(), which has a more predictable return type. To obtain get_data() behavior going forward, use numpy.asanyarray(img.dataobj).\n",
      "\n",
      "* deprecated from version: 3.0\n",
      "* Will raise <class 'nibabel.deprecator.ExpiredDeprecationError'> as of version: 5.0\n"
     ]
    },
    {
     "name": "stdout",
     "output_type": "stream",
     "text": [
      ".......Extracting from ds-01/sub-12/run-01"
     ]
    },
    {
     "name": "stderr",
     "output_type": "stream",
     "text": [
      "/home/stevenm/.conda/envs/python3/lib/python3.7/site-packages/ipykernel_launcher.py:44: DeprecationWarning: get_data() is deprecated in favor of get_fdata(), which has a more predictable return type. To obtain get_data() behavior going forward, use numpy.asanyarray(img.dataobj).\n",
      "\n",
      "* deprecated from version: 3.0\n",
      "* Will raise <class 'nibabel.deprecator.ExpiredDeprecationError'> as of version: 5.0\n",
      "/home/stevenm/.conda/envs/python3/lib/python3.7/site-packages/ipykernel_launcher.py:44: DeprecationWarning: get_data() is deprecated in favor of get_fdata(), which has a more predictable return type. To obtain get_data() behavior going forward, use numpy.asanyarray(img.dataobj).\n",
      "\n",
      "* deprecated from version: 3.0\n",
      "* Will raise <class 'nibabel.deprecator.ExpiredDeprecationError'> as of version: 5.0\n"
     ]
    },
    {
     "name": "stdout",
     "output_type": "stream",
     "text": [
      "."
     ]
    },
    {
     "name": "stderr",
     "output_type": "stream",
     "text": [
      "/home/stevenm/.conda/envs/python3/lib/python3.7/site-packages/ipykernel_launcher.py:50: DeprecationWarning: get_data() is deprecated in favor of get_fdata(), which has a more predictable return type. To obtain get_data() behavior going forward, use numpy.asanyarray(img.dataobj).\n",
      "\n",
      "* deprecated from version: 3.0\n",
      "* Will raise <class 'nibabel.deprecator.ExpiredDeprecationError'> as of version: 5.0\n"
     ]
    },
    {
     "name": "stdout",
     "output_type": "stream",
     "text": [
      ".......Extracting from ds-01/sub-12/run-02"
     ]
    },
    {
     "name": "stderr",
     "output_type": "stream",
     "text": [
      "/home/stevenm/.conda/envs/python3/lib/python3.7/site-packages/ipykernel_launcher.py:44: DeprecationWarning: get_data() is deprecated in favor of get_fdata(), which has a more predictable return type. To obtain get_data() behavior going forward, use numpy.asanyarray(img.dataobj).\n",
      "\n",
      "* deprecated from version: 3.0\n",
      "* Will raise <class 'nibabel.deprecator.ExpiredDeprecationError'> as of version: 5.0\n"
     ]
    },
    {
     "name": "stdout",
     "output_type": "stream",
     "text": [
      "."
     ]
    },
    {
     "name": "stderr",
     "output_type": "stream",
     "text": [
      "/home/stevenm/.conda/envs/python3/lib/python3.7/site-packages/ipykernel_launcher.py:50: DeprecationWarning: get_data() is deprecated in favor of get_fdata(), which has a more predictable return type. To obtain get_data() behavior going forward, use numpy.asanyarray(img.dataobj).\n",
      "\n",
      "* deprecated from version: 3.0\n",
      "* Will raise <class 'nibabel.deprecator.ExpiredDeprecationError'> as of version: 5.0\n"
     ]
    },
    {
     "name": "stdout",
     "output_type": "stream",
     "text": [
      ".......Extracting from ds-01/sub-12/run-03"
     ]
    },
    {
     "name": "stderr",
     "output_type": "stream",
     "text": [
      "/home/stevenm/.conda/envs/python3/lib/python3.7/site-packages/ipykernel_launcher.py:44: DeprecationWarning: get_data() is deprecated in favor of get_fdata(), which has a more predictable return type. To obtain get_data() behavior going forward, use numpy.asanyarray(img.dataobj).\n",
      "\n",
      "* deprecated from version: 3.0\n",
      "* Will raise <class 'nibabel.deprecator.ExpiredDeprecationError'> as of version: 5.0\n"
     ]
    },
    {
     "name": "stdout",
     "output_type": "stream",
     "text": [
      "."
     ]
    },
    {
     "name": "stderr",
     "output_type": "stream",
     "text": [
      "/home/stevenm/.conda/envs/python3/lib/python3.7/site-packages/ipykernel_launcher.py:50: DeprecationWarning: get_data() is deprecated in favor of get_fdata(), which has a more predictable return type. To obtain get_data() behavior going forward, use numpy.asanyarray(img.dataobj).\n",
      "\n",
      "* deprecated from version: 3.0\n",
      "* Will raise <class 'nibabel.deprecator.ExpiredDeprecationError'> as of version: 5.0\n"
     ]
    },
    {
     "name": "stdout",
     "output_type": "stream",
     "text": [
      ".......Extracting from ds-01/sub-13/run-01"
     ]
    },
    {
     "name": "stderr",
     "output_type": "stream",
     "text": [
      "/home/stevenm/.conda/envs/python3/lib/python3.7/site-packages/ipykernel_launcher.py:44: DeprecationWarning: get_data() is deprecated in favor of get_fdata(), which has a more predictable return type. To obtain get_data() behavior going forward, use numpy.asanyarray(img.dataobj).\n",
      "\n",
      "* deprecated from version: 3.0\n",
      "* Will raise <class 'nibabel.deprecator.ExpiredDeprecationError'> as of version: 5.0\n"
     ]
    },
    {
     "name": "stdout",
     "output_type": "stream",
     "text": [
      "."
     ]
    },
    {
     "name": "stderr",
     "output_type": "stream",
     "text": [
      "/home/stevenm/.conda/envs/python3/lib/python3.7/site-packages/ipykernel_launcher.py:50: DeprecationWarning: get_data() is deprecated in favor of get_fdata(), which has a more predictable return type. To obtain get_data() behavior going forward, use numpy.asanyarray(img.dataobj).\n",
      "\n",
      "* deprecated from version: 3.0\n",
      "* Will raise <class 'nibabel.deprecator.ExpiredDeprecationError'> as of version: 5.0\n"
     ]
    },
    {
     "name": "stdout",
     "output_type": "stream",
     "text": [
      ".......Extracting from ds-01/sub-13/run-02"
     ]
    },
    {
     "name": "stderr",
     "output_type": "stream",
     "text": [
      "/home/stevenm/.conda/envs/python3/lib/python3.7/site-packages/ipykernel_launcher.py:44: DeprecationWarning: get_data() is deprecated in favor of get_fdata(), which has a more predictable return type. To obtain get_data() behavior going forward, use numpy.asanyarray(img.dataobj).\n",
      "\n",
      "* deprecated from version: 3.0\n",
      "* Will raise <class 'nibabel.deprecator.ExpiredDeprecationError'> as of version: 5.0\n"
     ]
    },
    {
     "name": "stdout",
     "output_type": "stream",
     "text": [
      "."
     ]
    },
    {
     "name": "stderr",
     "output_type": "stream",
     "text": [
      "/home/stevenm/.conda/envs/python3/lib/python3.7/site-packages/ipykernel_launcher.py:50: DeprecationWarning: get_data() is deprecated in favor of get_fdata(), which has a more predictable return type. To obtain get_data() behavior going forward, use numpy.asanyarray(img.dataobj).\n",
      "\n",
      "* deprecated from version: 3.0\n",
      "* Will raise <class 'nibabel.deprecator.ExpiredDeprecationError'> as of version: 5.0\n"
     ]
    },
    {
     "name": "stdout",
     "output_type": "stream",
     "text": [
      "..."
     ]
    },
    {
     "name": "stderr",
     "output_type": "stream",
     "text": [
      "/home/stevenm/.conda/envs/python3/lib/python3.7/site-packages/ipykernel_launcher.py:50: DeprecationWarning: get_data() is deprecated in favor of get_fdata(), which has a more predictable return type. To obtain get_data() behavior going forward, use numpy.asanyarray(img.dataobj).\n",
      "\n",
      "* deprecated from version: 3.0\n",
      "* Will raise <class 'nibabel.deprecator.ExpiredDeprecationError'> as of version: 5.0\n"
     ]
    },
    {
     "name": "stdout",
     "output_type": "stream",
     "text": [
      "............Extracting from ds-01/sub-13/run-03Extracting from ds-01/sub-14/run-01."
     ]
    },
    {
     "name": "stderr",
     "output_type": "stream",
     "text": [
      "/home/stevenm/.conda/envs/python3/lib/python3.7/site-packages/ipykernel_launcher.py:50: DeprecationWarning: get_data() is deprecated in favor of get_fdata(), which has a more predictable return type. To obtain get_data() behavior going forward, use numpy.asanyarray(img.dataobj).\n",
      "\n",
      "* deprecated from version: 3.0\n",
      "* Will raise <class 'nibabel.deprecator.ExpiredDeprecationError'> as of version: 5.0\n"
     ]
    },
    {
     "name": "stdout",
     "output_type": "stream",
     "text": [
      "."
     ]
    },
    {
     "name": "stderr",
     "output_type": "stream",
     "text": [
      "/home/stevenm/.conda/envs/python3/lib/python3.7/site-packages/ipykernel_launcher.py:44: DeprecationWarning: get_data() is deprecated in favor of get_fdata(), which has a more predictable return type. To obtain get_data() behavior going forward, use numpy.asanyarray(img.dataobj).\n",
      "\n",
      "* deprecated from version: 3.0\n",
      "* Will raise <class 'nibabel.deprecator.ExpiredDeprecationError'> as of version: 5.0\n",
      "/home/stevenm/.conda/envs/python3/lib/python3.7/site-packages/ipykernel_launcher.py:44: DeprecationWarning: get_data() is deprecated in favor of get_fdata(), which has a more predictable return type. To obtain get_data() behavior going forward, use numpy.asanyarray(img.dataobj).\n",
      "\n",
      "* deprecated from version: 3.0\n",
      "* Will raise <class 'nibabel.deprecator.ExpiredDeprecationError'> as of version: 5.0\n"
     ]
    },
    {
     "name": "stdout",
     "output_type": "stream",
     "text": [
      "......."
     ]
    },
    {
     "name": "stderr",
     "output_type": "stream",
     "text": [
      "/home/stevenm/.conda/envs/python3/lib/python3.7/site-packages/ipykernel_launcher.py:50: DeprecationWarning: get_data() is deprecated in favor of get_fdata(), which has a more predictable return type. To obtain get_data() behavior going forward, use numpy.asanyarray(img.dataobj).\n",
      "\n",
      "* deprecated from version: 3.0\n",
      "* Will raise <class 'nibabel.deprecator.ExpiredDeprecationError'> as of version: 5.0\n"
     ]
    },
    {
     "name": "stdout",
     "output_type": "stream",
     "text": [
      "Extracting from ds-01/sub-14/run-02.......Extracting from ds-01/sub-14/run-03"
     ]
    },
    {
     "name": "stderr",
     "output_type": "stream",
     "text": [
      "/home/stevenm/.conda/envs/python3/lib/python3.7/site-packages/ipykernel_launcher.py:44: DeprecationWarning: get_data() is deprecated in favor of get_fdata(), which has a more predictable return type. To obtain get_data() behavior going forward, use numpy.asanyarray(img.dataobj).\n",
      "\n",
      "* deprecated from version: 3.0\n",
      "* Will raise <class 'nibabel.deprecator.ExpiredDeprecationError'> as of version: 5.0\n"
     ]
    },
    {
     "name": "stdout",
     "output_type": "stream",
     "text": [
      "."
     ]
    },
    {
     "name": "stderr",
     "output_type": "stream",
     "text": [
      "/home/stevenm/.conda/envs/python3/lib/python3.7/site-packages/ipykernel_launcher.py:50: DeprecationWarning: get_data() is deprecated in favor of get_fdata(), which has a more predictable return type. To obtain get_data() behavior going forward, use numpy.asanyarray(img.dataobj).\n",
      "\n",
      "* deprecated from version: 3.0\n",
      "* Will raise <class 'nibabel.deprecator.ExpiredDeprecationError'> as of version: 5.0\n"
     ]
    },
    {
     "name": "stdout",
     "output_type": "stream",
     "text": [
      ".......Extracting from ds-01/sub-15/run-01."
     ]
    },
    {
     "name": "stderr",
     "output_type": "stream",
     "text": [
      "/home/stevenm/.conda/envs/python3/lib/python3.7/site-packages/ipykernel_launcher.py:50: DeprecationWarning: get_data() is deprecated in favor of get_fdata(), which has a more predictable return type. To obtain get_data() behavior going forward, use numpy.asanyarray(img.dataobj).\n",
      "\n",
      "* deprecated from version: 3.0\n",
      "* Will raise <class 'nibabel.deprecator.ExpiredDeprecationError'> as of version: 5.0\n"
     ]
    },
    {
     "name": "stdout",
     "output_type": "stream",
     "text": [
      ".......Extracting from ds-01/sub-15/run-02."
     ]
    },
    {
     "name": "stderr",
     "output_type": "stream",
     "text": [
      "/home/stevenm/.conda/envs/python3/lib/python3.7/site-packages/ipykernel_launcher.py:50: DeprecationWarning: get_data() is deprecated in favor of get_fdata(), which has a more predictable return type. To obtain get_data() behavior going forward, use numpy.asanyarray(img.dataobj).\n",
      "\n",
      "* deprecated from version: 3.0\n",
      "* Will raise <class 'nibabel.deprecator.ExpiredDeprecationError'> as of version: 5.0\n"
     ]
    },
    {
     "name": "stdout",
     "output_type": "stream",
     "text": [
      ".......Extracting from ds-01/sub-15/run-03."
     ]
    },
    {
     "name": "stderr",
     "output_type": "stream",
     "text": [
      "/home/stevenm/.conda/envs/python3/lib/python3.7/site-packages/ipykernel_launcher.py:50: DeprecationWarning: get_data() is deprecated in favor of get_fdata(), which has a more predictable return type. To obtain get_data() behavior going forward, use numpy.asanyarray(img.dataobj).\n",
      "\n",
      "* deprecated from version: 3.0\n",
      "* Will raise <class 'nibabel.deprecator.ExpiredDeprecationError'> as of version: 5.0\n"
     ]
    },
    {
     "name": "stdout",
     "output_type": "stream",
     "text": [
      "......."
     ]
    },
    {
     "name": "stderr",
     "output_type": "stream",
     "text": [
      "/home/stevenm/.conda/envs/python3/lib/python3.7/site-packages/ipykernel_launcher.py:44: DeprecationWarning: get_data() is deprecated in favor of get_fdata(), which has a more predictable return type. To obtain get_data() behavior going forward, use numpy.asanyarray(img.dataobj).\n",
      "\n",
      "* deprecated from version: 3.0\n",
      "* Will raise <class 'nibabel.deprecator.ExpiredDeprecationError'> as of version: 5.0\n"
     ]
    },
    {
     "name": "stdout",
     "output_type": "stream",
     "text": [
      "Extracting from ds-01/sub-16/run-01."
     ]
    },
    {
     "name": "stderr",
     "output_type": "stream",
     "text": [
      "/home/stevenm/.conda/envs/python3/lib/python3.7/site-packages/ipykernel_launcher.py:50: DeprecationWarning: get_data() is deprecated in favor of get_fdata(), which has a more predictable return type. To obtain get_data() behavior going forward, use numpy.asanyarray(img.dataobj).\n",
      "\n",
      "* deprecated from version: 3.0\n",
      "* Will raise <class 'nibabel.deprecator.ExpiredDeprecationError'> as of version: 5.0\n"
     ]
    },
    {
     "name": "stdout",
     "output_type": "stream",
     "text": [
      ".......Extracting from ds-01/sub-16/run-02"
     ]
    },
    {
     "name": "stderr",
     "output_type": "stream",
     "text": [
      "/home/stevenm/.conda/envs/python3/lib/python3.7/site-packages/ipykernel_launcher.py:44: DeprecationWarning: get_data() is deprecated in favor of get_fdata(), which has a more predictable return type. To obtain get_data() behavior going forward, use numpy.asanyarray(img.dataobj).\n",
      "\n",
      "* deprecated from version: 3.0\n",
      "* Will raise <class 'nibabel.deprecator.ExpiredDeprecationError'> as of version: 5.0\n",
      "/home/stevenm/.conda/envs/python3/lib/python3.7/site-packages/ipykernel_launcher.py:44: DeprecationWarning: get_data() is deprecated in favor of get_fdata(), which has a more predictable return type. To obtain get_data() behavior going forward, use numpy.asanyarray(img.dataobj).\n",
      "\n",
      "* deprecated from version: 3.0\n",
      "* Will raise <class 'nibabel.deprecator.ExpiredDeprecationError'> as of version: 5.0\n"
     ]
    },
    {
     "name": "stdout",
     "output_type": "stream",
     "text": [
      "."
     ]
    },
    {
     "name": "stderr",
     "output_type": "stream",
     "text": [
      "/home/stevenm/.conda/envs/python3/lib/python3.7/site-packages/ipykernel_launcher.py:50: DeprecationWarning: get_data() is deprecated in favor of get_fdata(), which has a more predictable return type. To obtain get_data() behavior going forward, use numpy.asanyarray(img.dataobj).\n",
      "\n",
      "* deprecated from version: 3.0\n",
      "* Will raise <class 'nibabel.deprecator.ExpiredDeprecationError'> as of version: 5.0\n"
     ]
    },
    {
     "name": "stdout",
     "output_type": "stream",
     "text": [
      "........"
     ]
    },
    {
     "name": "stderr",
     "output_type": "stream",
     "text": [
      "/home/stevenm/.conda/envs/python3/lib/python3.7/site-packages/ipykernel_launcher.py:50: DeprecationWarning: get_data() is deprecated in favor of get_fdata(), which has a more predictable return type. To obtain get_data() behavior going forward, use numpy.asanyarray(img.dataobj).\n",
      "\n",
      "* deprecated from version: 3.0\n",
      "* Will raise <class 'nibabel.deprecator.ExpiredDeprecationError'> as of version: 5.0\n"
     ]
    },
    {
     "name": "stdout",
     "output_type": "stream",
     "text": [
      ".Extracting from ds-01/sub-16/run-03......"
     ]
    },
    {
     "name": "stderr",
     "output_type": "stream",
     "text": [
      "/home/stevenm/.conda/envs/python3/lib/python3.7/site-packages/ipykernel_launcher.py:44: DeprecationWarning: get_data() is deprecated in favor of get_fdata(), which has a more predictable return type. To obtain get_data() behavior going forward, use numpy.asanyarray(img.dataobj).\n",
      "\n",
      "* deprecated from version: 3.0\n",
      "* Will raise <class 'nibabel.deprecator.ExpiredDeprecationError'> as of version: 5.0\n"
     ]
    },
    {
     "name": "stdout",
     "output_type": "stream",
     "text": [
      "Extracting from ds-01/sub-17/run-01."
     ]
    },
    {
     "name": "stderr",
     "output_type": "stream",
     "text": [
      "/home/stevenm/.conda/envs/python3/lib/python3.7/site-packages/ipykernel_launcher.py:50: DeprecationWarning: get_data() is deprecated in favor of get_fdata(), which has a more predictable return type. To obtain get_data() behavior going forward, use numpy.asanyarray(img.dataobj).\n",
      "\n",
      "* deprecated from version: 3.0\n",
      "* Will raise <class 'nibabel.deprecator.ExpiredDeprecationError'> as of version: 5.0\n"
     ]
    },
    {
     "name": "stdout",
     "output_type": "stream",
     "text": [
      "........"
     ]
    },
    {
     "name": "stderr",
     "output_type": "stream",
     "text": [
      "/home/stevenm/.conda/envs/python3/lib/python3.7/site-packages/ipykernel_launcher.py:50: DeprecationWarning: get_data() is deprecated in favor of get_fdata(), which has a more predictable return type. To obtain get_data() behavior going forward, use numpy.asanyarray(img.dataobj).\n",
      "\n",
      "* deprecated from version: 3.0\n",
      "* Will raise <class 'nibabel.deprecator.ExpiredDeprecationError'> as of version: 5.0\n"
     ]
    },
    {
     "name": "stdout",
     "output_type": "stream",
     "text": [
      ".."
     ]
    },
    {
     "name": "stderr",
     "output_type": "stream",
     "text": [
      "/home/stevenm/.conda/envs/python3/lib/python3.7/site-packages/ipykernel_launcher.py:50: DeprecationWarning: get_data() is deprecated in favor of get_fdata(), which has a more predictable return type. To obtain get_data() behavior going forward, use numpy.asanyarray(img.dataobj).\n",
      "\n",
      "* deprecated from version: 3.0\n",
      "* Will raise <class 'nibabel.deprecator.ExpiredDeprecationError'> as of version: 5.0\n"
     ]
    },
    {
     "name": "stdout",
     "output_type": "stream",
     "text": [
      ".."
     ]
    },
    {
     "name": "stderr",
     "output_type": "stream",
     "text": [
      "/home/stevenm/.conda/envs/python3/lib/python3.7/site-packages/ipykernel_launcher.py:50: DeprecationWarning: get_data() is deprecated in favor of get_fdata(), which has a more predictable return type. To obtain get_data() behavior going forward, use numpy.asanyarray(img.dataobj).\n",
      "\n",
      "* deprecated from version: 3.0\n",
      "* Will raise <class 'nibabel.deprecator.ExpiredDeprecationError'> as of version: 5.0\n"
     ]
    },
    {
     "name": "stdout",
     "output_type": "stream",
     "text": [
      "...Extracting from ds-01/sub-17/run-02................Extracting from ds-01/sub-17/run-03."
     ]
    },
    {
     "name": "stderr",
     "output_type": "stream",
     "text": [
      "/home/stevenm/.conda/envs/python3/lib/python3.7/site-packages/ipykernel_launcher.py:50: DeprecationWarning: get_data() is deprecated in favor of get_fdata(), which has a more predictable return type. To obtain get_data() behavior going forward, use numpy.asanyarray(img.dataobj).\n",
      "\n",
      "* deprecated from version: 3.0\n",
      "* Will raise <class 'nibabel.deprecator.ExpiredDeprecationError'> as of version: 5.0\n"
     ]
    },
    {
     "name": "stdout",
     "output_type": "stream",
     "text": [
      "."
     ]
    },
    {
     "name": "stderr",
     "output_type": "stream",
     "text": [
      "/home/stevenm/.conda/envs/python3/lib/python3.7/site-packages/ipykernel_launcher.py:50: DeprecationWarning: get_data() is deprecated in favor of get_fdata(), which has a more predictable return type. To obtain get_data() behavior going forward, use numpy.asanyarray(img.dataobj).\n",
      "\n",
      "* deprecated from version: 3.0\n",
      "* Will raise <class 'nibabel.deprecator.ExpiredDeprecationError'> as of version: 5.0\n"
     ]
    },
    {
     "name": "stdout",
     "output_type": "stream",
     "text": [
      "Extracting from ds-01/sub-18/run-01.....Extracting from ds-01/sub-18/run-02..."
     ]
    },
    {
     "name": "stderr",
     "output_type": "stream",
     "text": [
      "/home/stevenm/.conda/envs/python3/lib/python3.7/site-packages/ipykernel_launcher.py:44: DeprecationWarning: get_data() is deprecated in favor of get_fdata(), which has a more predictable return type. To obtain get_data() behavior going forward, use numpy.asanyarray(img.dataobj).\n",
      "\n",
      "* deprecated from version: 3.0\n",
      "* Will raise <class 'nibabel.deprecator.ExpiredDeprecationError'> as of version: 5.0\n"
     ]
    },
    {
     "name": "stdout",
     "output_type": "stream",
     "text": [
      "."
     ]
    },
    {
     "name": "stderr",
     "output_type": "stream",
     "text": [
      "/home/stevenm/.conda/envs/python3/lib/python3.7/site-packages/ipykernel_launcher.py:44: DeprecationWarning: get_data() is deprecated in favor of get_fdata(), which has a more predictable return type. To obtain get_data() behavior going forward, use numpy.asanyarray(img.dataobj).\n",
      "\n",
      "* deprecated from version: 3.0\n",
      "* Will raise <class 'nibabel.deprecator.ExpiredDeprecationError'> as of version: 5.0\n"
     ]
    },
    {
     "name": "stdout",
     "output_type": "stream",
     "text": [
      "...."
     ]
    },
    {
     "name": "stderr",
     "output_type": "stream",
     "text": [
      "/home/stevenm/.conda/envs/python3/lib/python3.7/site-packages/ipykernel_launcher.py:50: DeprecationWarning: get_data() is deprecated in favor of get_fdata(), which has a more predictable return type. To obtain get_data() behavior going forward, use numpy.asanyarray(img.dataobj).\n",
      "\n",
      "* deprecated from version: 3.0\n",
      "* Will raise <class 'nibabel.deprecator.ExpiredDeprecationError'> as of version: 5.0\n"
     ]
    },
    {
     "name": "stdout",
     "output_type": "stream",
     "text": [
      "........"
     ]
    },
    {
     "name": "stderr",
     "output_type": "stream",
     "text": [
      "/home/stevenm/.conda/envs/python3/lib/python3.7/site-packages/ipykernel_launcher.py:50: DeprecationWarning: get_data() is deprecated in favor of get_fdata(), which has a more predictable return type. To obtain get_data() behavior going forward, use numpy.asanyarray(img.dataobj).\n",
      "\n",
      "* deprecated from version: 3.0\n",
      "* Will raise <class 'nibabel.deprecator.ExpiredDeprecationError'> as of version: 5.0\n",
      "/home/stevenm/.conda/envs/python3/lib/python3.7/site-packages/ipykernel_launcher.py:44: DeprecationWarning: get_data() is deprecated in favor of get_fdata(), which has a more predictable return type. To obtain get_data() behavior going forward, use numpy.asanyarray(img.dataobj).\n",
      "\n",
      "* deprecated from version: 3.0\n",
      "* Will raise <class 'nibabel.deprecator.ExpiredDeprecationError'> as of version: 5.0\n"
     ]
    },
    {
     "name": "stdout",
     "output_type": "stream",
     "text": [
      ".Extracting from ds-01/sub-18/run-03..Extracting from ds-01/sub-19/run-01..."
     ]
    },
    {
     "name": "stderr",
     "output_type": "stream",
     "text": [
      "/home/stevenm/.conda/envs/python3/lib/python3.7/site-packages/ipykernel_launcher.py:50: DeprecationWarning: get_data() is deprecated in favor of get_fdata(), which has a more predictable return type. To obtain get_data() behavior going forward, use numpy.asanyarray(img.dataobj).\n",
      "\n",
      "* deprecated from version: 3.0\n",
      "* Will raise <class 'nibabel.deprecator.ExpiredDeprecationError'> as of version: 5.0\n"
     ]
    },
    {
     "name": "stdout",
     "output_type": "stream",
     "text": [
      "....Extracting from ds-01/sub-19/run-02."
     ]
    },
    {
     "name": "stderr",
     "output_type": "stream",
     "text": [
      "/home/stevenm/.conda/envs/python3/lib/python3.7/site-packages/ipykernel_launcher.py:50: DeprecationWarning: get_data() is deprecated in favor of get_fdata(), which has a more predictable return type. To obtain get_data() behavior going forward, use numpy.asanyarray(img.dataobj).\n",
      "\n",
      "* deprecated from version: 3.0\n",
      "* Will raise <class 'nibabel.deprecator.ExpiredDeprecationError'> as of version: 5.0\n"
     ]
    },
    {
     "name": "stdout",
     "output_type": "stream",
     "text": [
      ".............Extracting from ds-01/sub-19/run-03..."
     ]
    },
    {
     "name": "stderr",
     "output_type": "stream",
     "text": [
      "/home/stevenm/.conda/envs/python3/lib/python3.7/site-packages/ipykernel_launcher.py:50: DeprecationWarning: get_data() is deprecated in favor of get_fdata(), which has a more predictable return type. To obtain get_data() behavior going forward, use numpy.asanyarray(img.dataobj).\n",
      "\n",
      "* deprecated from version: 3.0\n",
      "* Will raise <class 'nibabel.deprecator.ExpiredDeprecationError'> as of version: 5.0\n",
      "/home/stevenm/.conda/envs/python3/lib/python3.7/site-packages/ipykernel_launcher.py:50: DeprecationWarning: get_data() is deprecated in favor of get_fdata(), which has a more predictable return type. To obtain get_data() behavior going forward, use numpy.asanyarray(img.dataobj).\n",
      "\n",
      "* deprecated from version: 3.0\n",
      "* Will raise <class 'nibabel.deprecator.ExpiredDeprecationError'> as of version: 5.0\n"
     ]
    },
    {
     "name": "stdout",
     "output_type": "stream",
     "text": [
      "."
     ]
    },
    {
     "name": "stderr",
     "output_type": "stream",
     "text": [
      "/home/stevenm/.conda/envs/python3/lib/python3.7/site-packages/ipykernel_launcher.py:50: DeprecationWarning: get_data() is deprecated in favor of get_fdata(), which has a more predictable return type. To obtain get_data() behavior going forward, use numpy.asanyarray(img.dataobj).\n",
      "\n",
      "* deprecated from version: 3.0\n",
      "* Will raise <class 'nibabel.deprecator.ExpiredDeprecationError'> as of version: 5.0\n"
     ]
    },
    {
     "name": "stdout",
     "output_type": "stream",
     "text": [
      "...Extracting from ds-02/sub-01/run-01."
     ]
    },
    {
     "name": "stderr",
     "output_type": "stream",
     "text": [
      "/home/stevenm/.conda/envs/python3/lib/python3.7/site-packages/ipykernel_launcher.py:50: DeprecationWarning: get_data() is deprecated in favor of get_fdata(), which has a more predictable return type. To obtain get_data() behavior going forward, use numpy.asanyarray(img.dataobj).\n",
      "\n",
      "* deprecated from version: 3.0\n",
      "* Will raise <class 'nibabel.deprecator.ExpiredDeprecationError'> as of version: 5.0\n"
     ]
    },
    {
     "name": "stdout",
     "output_type": "stream",
     "text": [
      "Extracting from ds-02/sub-01/run-02."
     ]
    },
    {
     "name": "stderr",
     "output_type": "stream",
     "text": [
      "/home/stevenm/.conda/envs/python3/lib/python3.7/site-packages/ipykernel_launcher.py:50: DeprecationWarning: get_data() is deprecated in favor of get_fdata(), which has a more predictable return type. To obtain get_data() behavior going forward, use numpy.asanyarray(img.dataobj).\n",
      "\n",
      "* deprecated from version: 3.0\n",
      "* Will raise <class 'nibabel.deprecator.ExpiredDeprecationError'> as of version: 5.0\n"
     ]
    },
    {
     "name": "stdout",
     "output_type": "stream",
     "text": [
      "................................."
     ]
    },
    {
     "name": "stderr",
     "output_type": "stream",
     "text": [
      "/home/stevenm/.conda/envs/python3/lib/python3.7/site-packages/ipykernel_launcher.py:50: DeprecationWarning: get_data() is deprecated in favor of get_fdata(), which has a more predictable return type. To obtain get_data() behavior going forward, use numpy.asanyarray(img.dataobj).\n",
      "\n",
      "* deprecated from version: 3.0\n",
      "* Will raise <class 'nibabel.deprecator.ExpiredDeprecationError'> as of version: 5.0\n"
     ]
    },
    {
     "name": "stdout",
     "output_type": "stream",
     "text": [
      "......Extracting from ds-02/sub-01/run-03"
     ]
    },
    {
     "name": "stderr",
     "output_type": "stream",
     "text": [
      "/home/stevenm/.conda/envs/python3/lib/python3.7/site-packages/ipykernel_launcher.py:50: DeprecationWarning: get_data() is deprecated in favor of get_fdata(), which has a more predictable return type. To obtain get_data() behavior going forward, use numpy.asanyarray(img.dataobj).\n",
      "\n",
      "* deprecated from version: 3.0\n",
      "* Will raise <class 'nibabel.deprecator.ExpiredDeprecationError'> as of version: 5.0\n"
     ]
    },
    {
     "name": "stdout",
     "output_type": "stream",
     "text": [
      ".Extracting from ds-02/sub-02/run-01..Extracting from ds-02/sub-02/run-02.Extracting from ds-02/sub-02/run-03Extracting from ds-02/sub-03/run-01.....Extracting from ds-02/sub-03/run-02."
     ]
    },
    {
     "name": "stderr",
     "output_type": "stream",
     "text": [
      "/home/stevenm/.conda/envs/python3/lib/python3.7/site-packages/ipykernel_launcher.py:50: DeprecationWarning: get_data() is deprecated in favor of get_fdata(), which has a more predictable return type. To obtain get_data() behavior going forward, use numpy.asanyarray(img.dataobj).\n",
      "\n",
      "* deprecated from version: 3.0\n",
      "* Will raise <class 'nibabel.deprecator.ExpiredDeprecationError'> as of version: 5.0\n"
     ]
    },
    {
     "name": "stdout",
     "output_type": "stream",
     "text": [
      "..Extracting from ds-02/sub-03/run-03....."
     ]
    },
    {
     "name": "stderr",
     "output_type": "stream",
     "text": [
      "/home/stevenm/.conda/envs/python3/lib/python3.7/site-packages/ipykernel_launcher.py:44: DeprecationWarning: get_data() is deprecated in favor of get_fdata(), which has a more predictable return type. To obtain get_data() behavior going forward, use numpy.asanyarray(img.dataobj).\n",
      "\n",
      "* deprecated from version: 3.0\n",
      "* Will raise <class 'nibabel.deprecator.ExpiredDeprecationError'> as of version: 5.0\n",
      "/home/stevenm/.conda/envs/python3/lib/python3.7/site-packages/ipykernel_launcher.py:44: DeprecationWarning: get_data() is deprecated in favor of get_fdata(), which has a more predictable return type. To obtain get_data() behavior going forward, use numpy.asanyarray(img.dataobj).\n",
      "\n",
      "* deprecated from version: 3.0\n",
      "* Will raise <class 'nibabel.deprecator.ExpiredDeprecationError'> as of version: 5.0\n",
      "/home/stevenm/.conda/envs/python3/lib/python3.7/site-packages/ipykernel_launcher.py:44: DeprecationWarning: get_data() is deprecated in favor of get_fdata(), which has a more predictable return type. To obtain get_data() behavior going forward, use numpy.asanyarray(img.dataobj).\n",
      "\n",
      "* deprecated from version: 3.0\n",
      "* Will raise <class 'nibabel.deprecator.ExpiredDeprecationError'> as of version: 5.0\n",
      "/home/stevenm/.conda/envs/python3/lib/python3.7/site-packages/ipykernel_launcher.py:44: DeprecationWarning: get_data() is deprecated in favor of get_fdata(), which has a more predictable return type. To obtain get_data() behavior going forward, use numpy.asanyarray(img.dataobj).\n",
      "\n",
      "* deprecated from version: 3.0\n",
      "* Will raise <class 'nibabel.deprecator.ExpiredDeprecationError'> as of version: 5.0\n",
      "/home/stevenm/.conda/envs/python3/lib/python3.7/site-packages/ipykernel_launcher.py:44: DeprecationWarning: get_data() is deprecated in favor of get_fdata(), which has a more predictable return type. To obtain get_data() behavior going forward, use numpy.asanyarray(img.dataobj).\n",
      "\n",
      "* deprecated from version: 3.0\n",
      "* Will raise <class 'nibabel.deprecator.ExpiredDeprecationError'> as of version: 5.0\n"
     ]
    },
    {
     "name": "stdout",
     "output_type": "stream",
     "text": [
      "Extracting from ds-02/sub-04/run-01...doesnt exist, skipping\n",
      "Extracting from ds-02/sub-04/run-02...doesnt exist, skipping\n",
      "Extracting from ds-02/sub-04/run-03...doesnt exist, skipping\n",
      "Extracting from ds-02/sub-05/run-01."
     ]
    },
    {
     "name": "stderr",
     "output_type": "stream",
     "text": [
      "/home/stevenm/.conda/envs/python3/lib/python3.7/site-packages/ipykernel_launcher.py:50: DeprecationWarning: get_data() is deprecated in favor of get_fdata(), which has a more predictable return type. To obtain get_data() behavior going forward, use numpy.asanyarray(img.dataobj).\n",
      "\n",
      "* deprecated from version: 3.0\n",
      "* Will raise <class 'nibabel.deprecator.ExpiredDeprecationError'> as of version: 5.0\n"
     ]
    },
    {
     "name": "stdout",
     "output_type": "stream",
     "text": [
      "......."
     ]
    },
    {
     "name": "stderr",
     "output_type": "stream",
     "text": [
      "/home/stevenm/.conda/envs/python3/lib/python3.7/site-packages/ipykernel_launcher.py:44: DeprecationWarning: get_data() is deprecated in favor of get_fdata(), which has a more predictable return type. To obtain get_data() behavior going forward, use numpy.asanyarray(img.dataobj).\n",
      "\n",
      "* deprecated from version: 3.0\n",
      "* Will raise <class 'nibabel.deprecator.ExpiredDeprecationError'> as of version: 5.0\n"
     ]
    },
    {
     "name": "stdout",
     "output_type": "stream",
     "text": [
      "Extracting from ds-02/sub-05/run-02"
     ]
    },
    {
     "name": "stderr",
     "output_type": "stream",
     "text": [
      "/home/stevenm/.conda/envs/python3/lib/python3.7/site-packages/ipykernel_launcher.py:44: DeprecationWarning: get_data() is deprecated in favor of get_fdata(), which has a more predictable return type. To obtain get_data() behavior going forward, use numpy.asanyarray(img.dataobj).\n",
      "\n",
      "* deprecated from version: 3.0\n",
      "* Will raise <class 'nibabel.deprecator.ExpiredDeprecationError'> as of version: 5.0\n",
      "/home/stevenm/.conda/envs/python3/lib/python3.7/site-packages/ipykernel_launcher.py:44: DeprecationWarning: get_data() is deprecated in favor of get_fdata(), which has a more predictable return type. To obtain get_data() behavior going forward, use numpy.asanyarray(img.dataobj).\n",
      "\n",
      "* deprecated from version: 3.0\n",
      "* Will raise <class 'nibabel.deprecator.ExpiredDeprecationError'> as of version: 5.0\n",
      "/home/stevenm/.conda/envs/python3/lib/python3.7/site-packages/ipykernel_launcher.py:44: DeprecationWarning: get_data() is deprecated in favor of get_fdata(), which has a more predictable return type. To obtain get_data() behavior going forward, use numpy.asanyarray(img.dataobj).\n",
      "\n",
      "* deprecated from version: 3.0\n",
      "* Will raise <class 'nibabel.deprecator.ExpiredDeprecationError'> as of version: 5.0\n",
      "/home/stevenm/.conda/envs/python3/lib/python3.7/site-packages/ipykernel_launcher.py:44: DeprecationWarning: get_data() is deprecated in favor of get_fdata(), which has a more predictable return type. To obtain get_data() behavior going forward, use numpy.asanyarray(img.dataobj).\n",
      "\n",
      "* deprecated from version: 3.0\n",
      "* Will raise <class 'nibabel.deprecator.ExpiredDeprecationError'> as of version: 5.0\n",
      "/home/stevenm/.conda/envs/python3/lib/python3.7/site-packages/ipykernel_launcher.py:44: DeprecationWarning: get_data() is deprecated in favor of get_fdata(), which has a more predictable return type. To obtain get_data() behavior going forward, use numpy.asanyarray(img.dataobj).\n",
      "\n",
      "* deprecated from version: 3.0\n",
      "* Will raise <class 'nibabel.deprecator.ExpiredDeprecationError'> as of version: 5.0\n",
      "/home/stevenm/.conda/envs/python3/lib/python3.7/site-packages/ipykernel_launcher.py:44: DeprecationWarning: get_data() is deprecated in favor of get_fdata(), which has a more predictable return type. To obtain get_data() behavior going forward, use numpy.asanyarray(img.dataobj).\n",
      "\n",
      "* deprecated from version: 3.0\n",
      "* Will raise <class 'nibabel.deprecator.ExpiredDeprecationError'> as of version: 5.0\n",
      "/home/stevenm/.conda/envs/python3/lib/python3.7/site-packages/ipykernel_launcher.py:44: DeprecationWarning: get_data() is deprecated in favor of get_fdata(), which has a more predictable return type. To obtain get_data() behavior going forward, use numpy.asanyarray(img.dataobj).\n",
      "\n",
      "* deprecated from version: 3.0\n",
      "* Will raise <class 'nibabel.deprecator.ExpiredDeprecationError'> as of version: 5.0\n",
      "/home/stevenm/.conda/envs/python3/lib/python3.7/site-packages/ipykernel_launcher.py:44: DeprecationWarning: get_data() is deprecated in favor of get_fdata(), which has a more predictable return type. To obtain get_data() behavior going forward, use numpy.asanyarray(img.dataobj).\n",
      "\n",
      "* deprecated from version: 3.0\n",
      "* Will raise <class 'nibabel.deprecator.ExpiredDeprecationError'> as of version: 5.0\n",
      "/home/stevenm/.conda/envs/python3/lib/python3.7/site-packages/ipykernel_launcher.py:44: DeprecationWarning: get_data() is deprecated in favor of get_fdata(), which has a more predictable return type. To obtain get_data() behavior going forward, use numpy.asanyarray(img.dataobj).\n",
      "\n",
      "* deprecated from version: 3.0\n",
      "* Will raise <class 'nibabel.deprecator.ExpiredDeprecationError'> as of version: 5.0\n",
      "/home/stevenm/.conda/envs/python3/lib/python3.7/site-packages/ipykernel_launcher.py:44: DeprecationWarning: get_data() is deprecated in favor of get_fdata(), which has a more predictable return type. To obtain get_data() behavior going forward, use numpy.asanyarray(img.dataobj).\n",
      "\n",
      "* deprecated from version: 3.0\n",
      "* Will raise <class 'nibabel.deprecator.ExpiredDeprecationError'> as of version: 5.0\n",
      "/home/stevenm/.conda/envs/python3/lib/python3.7/site-packages/ipykernel_launcher.py:44: DeprecationWarning: get_data() is deprecated in favor of get_fdata(), which has a more predictable return type. To obtain get_data() behavior going forward, use numpy.asanyarray(img.dataobj).\n",
      "\n",
      "* deprecated from version: 3.0\n",
      "* Will raise <class 'nibabel.deprecator.ExpiredDeprecationError'> as of version: 5.0\n"
     ]
    },
    {
     "name": "stdout",
     "output_type": "stream",
     "text": [
      "."
     ]
    },
    {
     "name": "stderr",
     "output_type": "stream",
     "text": [
      "/home/stevenm/.conda/envs/python3/lib/python3.7/site-packages/ipykernel_launcher.py:50: DeprecationWarning: get_data() is deprecated in favor of get_fdata(), which has a more predictable return type. To obtain get_data() behavior going forward, use numpy.asanyarray(img.dataobj).\n",
      "\n",
      "* deprecated from version: 3.0\n",
      "* Will raise <class 'nibabel.deprecator.ExpiredDeprecationError'> as of version: 5.0\n"
     ]
    },
    {
     "name": "stdout",
     "output_type": "stream",
     "text": [
      ".......Extracting from ds-02/sub-05/run-03"
     ]
    },
    {
     "name": "stderr",
     "output_type": "stream",
     "text": [
      "/home/stevenm/.conda/envs/python3/lib/python3.7/site-packages/ipykernel_launcher.py:44: DeprecationWarning: get_data() is deprecated in favor of get_fdata(), which has a more predictable return type. To obtain get_data() behavior going forward, use numpy.asanyarray(img.dataobj).\n",
      "\n",
      "* deprecated from version: 3.0\n",
      "* Will raise <class 'nibabel.deprecator.ExpiredDeprecationError'> as of version: 5.0\n"
     ]
    },
    {
     "name": "stdout",
     "output_type": "stream",
     "text": [
      "."
     ]
    },
    {
     "name": "stderr",
     "output_type": "stream",
     "text": [
      "/home/stevenm/.conda/envs/python3/lib/python3.7/site-packages/ipykernel_launcher.py:50: DeprecationWarning: get_data() is deprecated in favor of get_fdata(), which has a more predictable return type. To obtain get_data() behavior going forward, use numpy.asanyarray(img.dataobj).\n",
      "\n",
      "* deprecated from version: 3.0\n",
      "* Will raise <class 'nibabel.deprecator.ExpiredDeprecationError'> as of version: 5.0\n"
     ]
    },
    {
     "name": "stdout",
     "output_type": "stream",
     "text": [
      ".......Extracting from ds-02/sub-06/run-01."
     ]
    },
    {
     "name": "stderr",
     "output_type": "stream",
     "text": [
      "/home/stevenm/.conda/envs/python3/lib/python3.7/site-packages/ipykernel_launcher.py:50: DeprecationWarning: get_data() is deprecated in favor of get_fdata(), which has a more predictable return type. To obtain get_data() behavior going forward, use numpy.asanyarray(img.dataobj).\n",
      "\n",
      "* deprecated from version: 3.0\n",
      "* Will raise <class 'nibabel.deprecator.ExpiredDeprecationError'> as of version: 5.0\n"
     ]
    },
    {
     "name": "stdout",
     "output_type": "stream",
     "text": [
      ".......Extracting from ds-02/sub-06/run-02."
     ]
    },
    {
     "name": "stderr",
     "output_type": "stream",
     "text": [
      "/home/stevenm/.conda/envs/python3/lib/python3.7/site-packages/ipykernel_launcher.py:50: DeprecationWarning: get_data() is deprecated in favor of get_fdata(), which has a more predictable return type. To obtain get_data() behavior going forward, use numpy.asanyarray(img.dataobj).\n",
      "\n",
      "* deprecated from version: 3.0\n",
      "* Will raise <class 'nibabel.deprecator.ExpiredDeprecationError'> as of version: 5.0\n"
     ]
    },
    {
     "name": "stdout",
     "output_type": "stream",
     "text": [
      ".......Extracting from ds-02/sub-06/run-03"
     ]
    },
    {
     "name": "stderr",
     "output_type": "stream",
     "text": [
      "/home/stevenm/.conda/envs/python3/lib/python3.7/site-packages/ipykernel_launcher.py:44: DeprecationWarning: get_data() is deprecated in favor of get_fdata(), which has a more predictable return type. To obtain get_data() behavior going forward, use numpy.asanyarray(img.dataobj).\n",
      "\n",
      "* deprecated from version: 3.0\n",
      "* Will raise <class 'nibabel.deprecator.ExpiredDeprecationError'> as of version: 5.0\n",
      "/home/stevenm/.conda/envs/python3/lib/python3.7/site-packages/ipykernel_launcher.py:44: DeprecationWarning: get_data() is deprecated in favor of get_fdata(), which has a more predictable return type. To obtain get_data() behavior going forward, use numpy.asanyarray(img.dataobj).\n",
      "\n",
      "* deprecated from version: 3.0\n",
      "* Will raise <class 'nibabel.deprecator.ExpiredDeprecationError'> as of version: 5.0\n",
      "/home/stevenm/.conda/envs/python3/lib/python3.7/site-packages/ipykernel_launcher.py:44: DeprecationWarning: get_data() is deprecated in favor of get_fdata(), which has a more predictable return type. To obtain get_data() behavior going forward, use numpy.asanyarray(img.dataobj).\n",
      "\n",
      "* deprecated from version: 3.0\n",
      "* Will raise <class 'nibabel.deprecator.ExpiredDeprecationError'> as of version: 5.0\n"
     ]
    },
    {
     "name": "stdout",
     "output_type": "stream",
     "text": [
      "."
     ]
    },
    {
     "name": "stderr",
     "output_type": "stream",
     "text": [
      "/home/stevenm/.conda/envs/python3/lib/python3.7/site-packages/ipykernel_launcher.py:50: DeprecationWarning: get_data() is deprecated in favor of get_fdata(), which has a more predictable return type. To obtain get_data() behavior going forward, use numpy.asanyarray(img.dataobj).\n",
      "\n",
      "* deprecated from version: 3.0\n",
      "* Will raise <class 'nibabel.deprecator.ExpiredDeprecationError'> as of version: 5.0\n"
     ]
    },
    {
     "name": "stdout",
     "output_type": "stream",
     "text": [
      ".......Extracting from ds-02/sub-07/run-01."
     ]
    },
    {
     "name": "stderr",
     "output_type": "stream",
     "text": [
      "/home/stevenm/.conda/envs/python3/lib/python3.7/site-packages/ipykernel_launcher.py:50: DeprecationWarning: get_data() is deprecated in favor of get_fdata(), which has a more predictable return type. To obtain get_data() behavior going forward, use numpy.asanyarray(img.dataobj).\n",
      "\n",
      "* deprecated from version: 3.0\n",
      "* Will raise <class 'nibabel.deprecator.ExpiredDeprecationError'> as of version: 5.0\n"
     ]
    },
    {
     "name": "stdout",
     "output_type": "stream",
     "text": [
      ".......Extracting from ds-02/sub-07/run-02."
     ]
    },
    {
     "name": "stderr",
     "output_type": "stream",
     "text": [
      "/home/stevenm/.conda/envs/python3/lib/python3.7/site-packages/ipykernel_launcher.py:50: DeprecationWarning: get_data() is deprecated in favor of get_fdata(), which has a more predictable return type. To obtain get_data() behavior going forward, use numpy.asanyarray(img.dataobj).\n",
      "\n",
      "* deprecated from version: 3.0\n",
      "* Will raise <class 'nibabel.deprecator.ExpiredDeprecationError'> as of version: 5.0\n"
     ]
    },
    {
     "name": "stdout",
     "output_type": "stream",
     "text": [
      ".......Extracting from ds-02/sub-07/run-03...doesnt exist, skipping\n",
      "Extracting from ds-02/sub-08/run-01."
     ]
    },
    {
     "name": "stderr",
     "output_type": "stream",
     "text": [
      "/home/stevenm/.conda/envs/python3/lib/python3.7/site-packages/ipykernel_launcher.py:50: DeprecationWarning: get_data() is deprecated in favor of get_fdata(), which has a more predictable return type. To obtain get_data() behavior going forward, use numpy.asanyarray(img.dataobj).\n",
      "\n",
      "* deprecated from version: 3.0\n",
      "* Will raise <class 'nibabel.deprecator.ExpiredDeprecationError'> as of version: 5.0\n"
     ]
    },
    {
     "name": "stdout",
     "output_type": "stream",
     "text": [
      ".......Extracting from ds-02/sub-08/run-02."
     ]
    },
    {
     "name": "stderr",
     "output_type": "stream",
     "text": [
      "/home/stevenm/.conda/envs/python3/lib/python3.7/site-packages/ipykernel_launcher.py:44: DeprecationWarning: get_data() is deprecated in favor of get_fdata(), which has a more predictable return type. To obtain get_data() behavior going forward, use numpy.asanyarray(img.dataobj).\n",
      "\n",
      "* deprecated from version: 3.0\n",
      "* Will raise <class 'nibabel.deprecator.ExpiredDeprecationError'> as of version: 5.0\n",
      "/home/stevenm/.conda/envs/python3/lib/python3.7/site-packages/ipykernel_launcher.py:44: DeprecationWarning: get_data() is deprecated in favor of get_fdata(), which has a more predictable return type. To obtain get_data() behavior going forward, use numpy.asanyarray(img.dataobj).\n",
      "\n",
      "* deprecated from version: 3.0\n",
      "* Will raise <class 'nibabel.deprecator.ExpiredDeprecationError'> as of version: 5.0\n"
     ]
    },
    {
     "name": "stdout",
     "output_type": "stream",
     "text": [
      ".......Extracting from ds-02/sub-08/run-03"
     ]
    },
    {
     "name": "stderr",
     "output_type": "stream",
     "text": [
      "/home/stevenm/.conda/envs/python3/lib/python3.7/site-packages/ipykernel_launcher.py:44: DeprecationWarning: get_data() is deprecated in favor of get_fdata(), which has a more predictable return type. To obtain get_data() behavior going forward, use numpy.asanyarray(img.dataobj).\n",
      "\n",
      "* deprecated from version: 3.0\n",
      "* Will raise <class 'nibabel.deprecator.ExpiredDeprecationError'> as of version: 5.0\n",
      "/home/stevenm/.conda/envs/python3/lib/python3.7/site-packages/ipykernel_launcher.py:44: DeprecationWarning: get_data() is deprecated in favor of get_fdata(), which has a more predictable return type. To obtain get_data() behavior going forward, use numpy.asanyarray(img.dataobj).\n",
      "\n",
      "* deprecated from version: 3.0\n",
      "* Will raise <class 'nibabel.deprecator.ExpiredDeprecationError'> as of version: 5.0\n"
     ]
    },
    {
     "name": "stdout",
     "output_type": "stream",
     "text": [
      "........Extracting from ds-02/sub-09/run-01........Extracting from ds-02/sub-09/run-02........Extracting from ds-02/sub-09/run-03........Extracting from ds-02/sub-10/run-01........Extracting from ds-02/sub-10/run-02........Extracting from ds-02/sub-10/run-03........Extracting from ds-02/sub-11/run-01."
     ]
    },
    {
     "name": "stderr",
     "output_type": "stream",
     "text": [
      "/home/stevenm/.conda/envs/python3/lib/python3.7/site-packages/ipykernel_launcher.py:50: DeprecationWarning: get_data() is deprecated in favor of get_fdata(), which has a more predictable return type. To obtain get_data() behavior going forward, use numpy.asanyarray(img.dataobj).\n",
      "\n",
      "* deprecated from version: 3.0\n",
      "* Will raise <class 'nibabel.deprecator.ExpiredDeprecationError'> as of version: 5.0\n"
     ]
    },
    {
     "name": "stdout",
     "output_type": "stream",
     "text": [
      ".......Extracting from ds-02/sub-11/run-02"
     ]
    },
    {
     "name": "stderr",
     "output_type": "stream",
     "text": [
      "/home/stevenm/.conda/envs/python3/lib/python3.7/site-packages/ipykernel_launcher.py:44: DeprecationWarning: get_data() is deprecated in favor of get_fdata(), which has a more predictable return type. To obtain get_data() behavior going forward, use numpy.asanyarray(img.dataobj).\n",
      "\n",
      "* deprecated from version: 3.0\n",
      "* Will raise <class 'nibabel.deprecator.ExpiredDeprecationError'> as of version: 5.0\n"
     ]
    },
    {
     "name": "stdout",
     "output_type": "stream",
     "text": [
      "."
     ]
    },
    {
     "name": "stderr",
     "output_type": "stream",
     "text": [
      "/home/stevenm/.conda/envs/python3/lib/python3.7/site-packages/ipykernel_launcher.py:50: DeprecationWarning: get_data() is deprecated in favor of get_fdata(), which has a more predictable return type. To obtain get_data() behavior going forward, use numpy.asanyarray(img.dataobj).\n",
      "\n",
      "* deprecated from version: 3.0\n",
      "* Will raise <class 'nibabel.deprecator.ExpiredDeprecationError'> as of version: 5.0\n"
     ]
    },
    {
     "name": "stdout",
     "output_type": "stream",
     "text": [
      ".......Extracting from ds-02/sub-11/run-03"
     ]
    },
    {
     "name": "stderr",
     "output_type": "stream",
     "text": [
      "/home/stevenm/.conda/envs/python3/lib/python3.7/site-packages/ipykernel_launcher.py:44: DeprecationWarning: get_data() is deprecated in favor of get_fdata(), which has a more predictable return type. To obtain get_data() behavior going forward, use numpy.asanyarray(img.dataobj).\n",
      "\n",
      "* deprecated from version: 3.0\n",
      "* Will raise <class 'nibabel.deprecator.ExpiredDeprecationError'> as of version: 5.0\n"
     ]
    },
    {
     "name": "stdout",
     "output_type": "stream",
     "text": [
      "."
     ]
    },
    {
     "name": "stderr",
     "output_type": "stream",
     "text": [
      "/home/stevenm/.conda/envs/python3/lib/python3.7/site-packages/ipykernel_launcher.py:50: DeprecationWarning: get_data() is deprecated in favor of get_fdata(), which has a more predictable return type. To obtain get_data() behavior going forward, use numpy.asanyarray(img.dataobj).\n",
      "\n",
      "* deprecated from version: 3.0\n",
      "* Will raise <class 'nibabel.deprecator.ExpiredDeprecationError'> as of version: 5.0\n"
     ]
    },
    {
     "name": "stdout",
     "output_type": "stream",
     "text": [
      ".......Extracting from ds-02/sub-12/run-01."
     ]
    },
    {
     "name": "stderr",
     "output_type": "stream",
     "text": [
      "/home/stevenm/.conda/envs/python3/lib/python3.7/site-packages/ipykernel_launcher.py:50: DeprecationWarning: get_data() is deprecated in favor of get_fdata(), which has a more predictable return type. To obtain get_data() behavior going forward, use numpy.asanyarray(img.dataobj).\n",
      "\n",
      "* deprecated from version: 3.0\n",
      "* Will raise <class 'nibabel.deprecator.ExpiredDeprecationError'> as of version: 5.0\n"
     ]
    },
    {
     "name": "stdout",
     "output_type": "stream",
     "text": [
      ".......Extracting from ds-02/sub-12/run-02"
     ]
    },
    {
     "name": "stderr",
     "output_type": "stream",
     "text": [
      "/home/stevenm/.conda/envs/python3/lib/python3.7/site-packages/ipykernel_launcher.py:44: DeprecationWarning: get_data() is deprecated in favor of get_fdata(), which has a more predictable return type. To obtain get_data() behavior going forward, use numpy.asanyarray(img.dataobj).\n",
      "\n",
      "* deprecated from version: 3.0\n",
      "* Will raise <class 'nibabel.deprecator.ExpiredDeprecationError'> as of version: 5.0\n",
      "/home/stevenm/.conda/envs/python3/lib/python3.7/site-packages/ipykernel_launcher.py:44: DeprecationWarning: get_data() is deprecated in favor of get_fdata(), which has a more predictable return type. To obtain get_data() behavior going forward, use numpy.asanyarray(img.dataobj).\n",
      "\n",
      "* deprecated from version: 3.0\n",
      "* Will raise <class 'nibabel.deprecator.ExpiredDeprecationError'> as of version: 5.0\n"
     ]
    },
    {
     "name": "stdout",
     "output_type": "stream",
     "text": [
      "."
     ]
    },
    {
     "name": "stderr",
     "output_type": "stream",
     "text": [
      "/home/stevenm/.conda/envs/python3/lib/python3.7/site-packages/ipykernel_launcher.py:50: DeprecationWarning: get_data() is deprecated in favor of get_fdata(), which has a more predictable return type. To obtain get_data() behavior going forward, use numpy.asanyarray(img.dataobj).\n",
      "\n",
      "* deprecated from version: 3.0\n",
      "* Will raise <class 'nibabel.deprecator.ExpiredDeprecationError'> as of version: 5.0\n"
     ]
    },
    {
     "name": "stdout",
     "output_type": "stream",
     "text": [
      ".......Extracting from ds-02/sub-12/run-03"
     ]
    },
    {
     "name": "stderr",
     "output_type": "stream",
     "text": [
      "/home/stevenm/.conda/envs/python3/lib/python3.7/site-packages/ipykernel_launcher.py:44: DeprecationWarning: get_data() is deprecated in favor of get_fdata(), which has a more predictable return type. To obtain get_data() behavior going forward, use numpy.asanyarray(img.dataobj).\n",
      "\n",
      "* deprecated from version: 3.0\n",
      "* Will raise <class 'nibabel.deprecator.ExpiredDeprecationError'> as of version: 5.0\n"
     ]
    },
    {
     "name": "stdout",
     "output_type": "stream",
     "text": [
      "."
     ]
    },
    {
     "name": "stderr",
     "output_type": "stream",
     "text": [
      "/home/stevenm/.conda/envs/python3/lib/python3.7/site-packages/ipykernel_launcher.py:50: DeprecationWarning: get_data() is deprecated in favor of get_fdata(), which has a more predictable return type. To obtain get_data() behavior going forward, use numpy.asanyarray(img.dataobj).\n",
      "\n",
      "* deprecated from version: 3.0\n",
      "* Will raise <class 'nibabel.deprecator.ExpiredDeprecationError'> as of version: 5.0\n"
     ]
    },
    {
     "name": "stdout",
     "output_type": "stream",
     "text": [
      ".......Extracting from ds-02/sub-13/run-01."
     ]
    },
    {
     "name": "stderr",
     "output_type": "stream",
     "text": [
      "/home/stevenm/.conda/envs/python3/lib/python3.7/site-packages/ipykernel_launcher.py:50: DeprecationWarning: get_data() is deprecated in favor of get_fdata(), which has a more predictable return type. To obtain get_data() behavior going forward, use numpy.asanyarray(img.dataobj).\n",
      "\n",
      "* deprecated from version: 3.0\n",
      "* Will raise <class 'nibabel.deprecator.ExpiredDeprecationError'> as of version: 5.0\n"
     ]
    },
    {
     "name": "stdout",
     "output_type": "stream",
     "text": [
      ".......Extracting from ds-02/sub-13/run-02"
     ]
    },
    {
     "name": "stderr",
     "output_type": "stream",
     "text": [
      "/home/stevenm/.conda/envs/python3/lib/python3.7/site-packages/ipykernel_launcher.py:44: DeprecationWarning: get_data() is deprecated in favor of get_fdata(), which has a more predictable return type. To obtain get_data() behavior going forward, use numpy.asanyarray(img.dataobj).\n",
      "\n",
      "* deprecated from version: 3.0\n",
      "* Will raise <class 'nibabel.deprecator.ExpiredDeprecationError'> as of version: 5.0\n",
      "/home/stevenm/.conda/envs/python3/lib/python3.7/site-packages/ipykernel_launcher.py:44: DeprecationWarning: get_data() is deprecated in favor of get_fdata(), which has a more predictable return type. To obtain get_data() behavior going forward, use numpy.asanyarray(img.dataobj).\n",
      "\n",
      "* deprecated from version: 3.0\n",
      "* Will raise <class 'nibabel.deprecator.ExpiredDeprecationError'> as of version: 5.0\n"
     ]
    },
    {
     "name": "stdout",
     "output_type": "stream",
     "text": [
      "."
     ]
    },
    {
     "name": "stderr",
     "output_type": "stream",
     "text": [
      "/home/stevenm/.conda/envs/python3/lib/python3.7/site-packages/ipykernel_launcher.py:50: DeprecationWarning: get_data() is deprecated in favor of get_fdata(), which has a more predictable return type. To obtain get_data() behavior going forward, use numpy.asanyarray(img.dataobj).\n",
      "\n",
      "* deprecated from version: 3.0\n",
      "* Will raise <class 'nibabel.deprecator.ExpiredDeprecationError'> as of version: 5.0\n"
     ]
    },
    {
     "name": "stdout",
     "output_type": "stream",
     "text": [
      ".......Extracting from ds-02/sub-13/run-03"
     ]
    },
    {
     "name": "stderr",
     "output_type": "stream",
     "text": [
      "/home/stevenm/.conda/envs/python3/lib/python3.7/site-packages/ipykernel_launcher.py:44: DeprecationWarning: get_data() is deprecated in favor of get_fdata(), which has a more predictable return type. To obtain get_data() behavior going forward, use numpy.asanyarray(img.dataobj).\n",
      "\n",
      "* deprecated from version: 3.0\n",
      "* Will raise <class 'nibabel.deprecator.ExpiredDeprecationError'> as of version: 5.0\n"
     ]
    },
    {
     "name": "stdout",
     "output_type": "stream",
     "text": [
      "."
     ]
    },
    {
     "name": "stderr",
     "output_type": "stream",
     "text": [
      "/home/stevenm/.conda/envs/python3/lib/python3.7/site-packages/ipykernel_launcher.py:50: DeprecationWarning: get_data() is deprecated in favor of get_fdata(), which has a more predictable return type. To obtain get_data() behavior going forward, use numpy.asanyarray(img.dataobj).\n",
      "\n",
      "* deprecated from version: 3.0\n",
      "* Will raise <class 'nibabel.deprecator.ExpiredDeprecationError'> as of version: 5.0\n"
     ]
    },
    {
     "name": "stdout",
     "output_type": "stream",
     "text": [
      ".......Extracting from ds-02/sub-14/run-01."
     ]
    },
    {
     "name": "stderr",
     "output_type": "stream",
     "text": [
      "/home/stevenm/.conda/envs/python3/lib/python3.7/site-packages/ipykernel_launcher.py:50: DeprecationWarning: get_data() is deprecated in favor of get_fdata(), which has a more predictable return type. To obtain get_data() behavior going forward, use numpy.asanyarray(img.dataobj).\n",
      "\n",
      "* deprecated from version: 3.0\n",
      "* Will raise <class 'nibabel.deprecator.ExpiredDeprecationError'> as of version: 5.0\n"
     ]
    },
    {
     "name": "stdout",
     "output_type": "stream",
     "text": [
      ".......Extracting from ds-02/sub-14/run-02."
     ]
    },
    {
     "name": "stderr",
     "output_type": "stream",
     "text": [
      "/home/stevenm/.conda/envs/python3/lib/python3.7/site-packages/ipykernel_launcher.py:50: DeprecationWarning: get_data() is deprecated in favor of get_fdata(), which has a more predictable return type. To obtain get_data() behavior going forward, use numpy.asanyarray(img.dataobj).\n",
      "\n",
      "* deprecated from version: 3.0\n",
      "* Will raise <class 'nibabel.deprecator.ExpiredDeprecationError'> as of version: 5.0\n"
     ]
    },
    {
     "name": "stdout",
     "output_type": "stream",
     "text": [
      ".......Extracting from ds-02/sub-14/run-03"
     ]
    },
    {
     "name": "stderr",
     "output_type": "stream",
     "text": [
      "/home/stevenm/.conda/envs/python3/lib/python3.7/site-packages/ipykernel_launcher.py:44: DeprecationWarning: get_data() is deprecated in favor of get_fdata(), which has a more predictable return type. To obtain get_data() behavior going forward, use numpy.asanyarray(img.dataobj).\n",
      "\n",
      "* deprecated from version: 3.0\n",
      "* Will raise <class 'nibabel.deprecator.ExpiredDeprecationError'> as of version: 5.0\n",
      "/home/stevenm/.conda/envs/python3/lib/python3.7/site-packages/ipykernel_launcher.py:44: DeprecationWarning: get_data() is deprecated in favor of get_fdata(), which has a more predictable return type. To obtain get_data() behavior going forward, use numpy.asanyarray(img.dataobj).\n",
      "\n",
      "* deprecated from version: 3.0\n",
      "* Will raise <class 'nibabel.deprecator.ExpiredDeprecationError'> as of version: 5.0\n",
      "/home/stevenm/.conda/envs/python3/lib/python3.7/site-packages/ipykernel_launcher.py:44: DeprecationWarning: get_data() is deprecated in favor of get_fdata(), which has a more predictable return type. To obtain get_data() behavior going forward, use numpy.asanyarray(img.dataobj).\n",
      "\n",
      "* deprecated from version: 3.0\n",
      "* Will raise <class 'nibabel.deprecator.ExpiredDeprecationError'> as of version: 5.0\n"
     ]
    },
    {
     "name": "stdout",
     "output_type": "stream",
     "text": [
      "........Extracting from ds-02/sub-15/run-01........Extracting from ds-02/sub-15/run-02........Extracting from ds-02/sub-15/run-03........Extracting from ds-02/sub-16/run-01...doesnt exist, skipping\n",
      "Extracting from ds-02/sub-16/run-02...doesnt exist, skipping\n",
      "Extracting from ds-02/sub-16/run-03...doesnt exist, skipping\n",
      "Extracting from ds-02/sub-17/run-01...doesnt exist, skipping\n",
      "Extracting from ds-02/sub-17/run-02...doesnt exist, skipping\n",
      "Extracting from ds-02/sub-17/run-03...doesnt exist, skipping\n",
      "Extracting from ds-02/sub-18/run-01...doesnt exist, skipping\n",
      "Extracting from ds-02/sub-18/run-02...doesnt exist, skipping\n",
      "Extracting from ds-02/sub-18/run-03...doesnt exist, skipping\n",
      "Extracting from ds-02/sub-19/run-01...doesnt exist, skipping\n",
      "Extracting from ds-02/sub-19/run-02...doesnt exist, skipping\n",
      "Extracting from ds-02/sub-19/run-03...doesnt exist, skipping\n",
      "........................................................................................................................................................................................................................................"
     ]
    }
   ],
   "source": [
    "all_combinations = list(itertools.product([1,2], np.arange(1,20), [1,2,3]))\n",
    "\n",
    "with mp.Pool(30) as p:\n",
    "    p.map(do_extract, all_combinations)"
   ]
  },
  {
   "cell_type": "code",
   "execution_count": 75,
   "metadata": {},
   "outputs": [
    {
     "data": {
      "text/html": [
       "<div>\n",
       "<style scoped>\n",
       "    .dataframe tbody tr th:only-of-type {\n",
       "        vertical-align: middle;\n",
       "    }\n",
       "\n",
       "    .dataframe tbody tr th {\n",
       "        vertical-align: top;\n",
       "    }\n",
       "\n",
       "    .dataframe thead th {\n",
       "        text-align: right;\n",
       "    }\n",
       "</style>\n",
       "<table border=\"1\" class=\"dataframe\">\n",
       "  <thead>\n",
       "    <tr style=\"text-align: right;\">\n",
       "      <th></th>\n",
       "      <th></th>\n",
       "      <th></th>\n",
       "      <th>signal_l_A</th>\n",
       "      <th>signal_l_B</th>\n",
       "      <th>signal_l_C</th>\n",
       "      <th>signal_r_A</th>\n",
       "      <th>signal_r_B</th>\n",
       "      <th>signal_r_C</th>\n",
       "    </tr>\n",
       "    <tr>\n",
       "      <th>subject</th>\n",
       "      <th>run</th>\n",
       "      <th>t</th>\n",
       "      <th></th>\n",
       "      <th></th>\n",
       "      <th></th>\n",
       "      <th></th>\n",
       "      <th></th>\n",
       "      <th></th>\n",
       "    </tr>\n",
       "  </thead>\n",
       "  <tbody>\n",
       "    <tr>\n",
       "      <th rowspan=\"5\" valign=\"top\">1</th>\n",
       "      <th rowspan=\"5\" valign=\"top\">1</th>\n",
       "      <th>0</th>\n",
       "      <td>1406.334345</td>\n",
       "      <td>1466.586644</td>\n",
       "      <td>1329.272934</td>\n",
       "      <td>1530.516673</td>\n",
       "      <td>1546.514125</td>\n",
       "      <td>1521.955931</td>\n",
       "    </tr>\n",
       "    <tr>\n",
       "      <th>3</th>\n",
       "      <td>1400.853113</td>\n",
       "      <td>1501.684212</td>\n",
       "      <td>1344.501035</td>\n",
       "      <td>1533.905607</td>\n",
       "      <td>1560.962350</td>\n",
       "      <td>1541.748042</td>\n",
       "    </tr>\n",
       "    <tr>\n",
       "      <th>6</th>\n",
       "      <td>1408.809741</td>\n",
       "      <td>1494.806150</td>\n",
       "      <td>1339.771262</td>\n",
       "      <td>1544.396568</td>\n",
       "      <td>1564.006076</td>\n",
       "      <td>1528.674861</td>\n",
       "    </tr>\n",
       "    <tr>\n",
       "      <th>9</th>\n",
       "      <td>1414.084690</td>\n",
       "      <td>1501.861026</td>\n",
       "      <td>1392.506021</td>\n",
       "      <td>1551.420010</td>\n",
       "      <td>1570.826043</td>\n",
       "      <td>1515.060187</td>\n",
       "    </tr>\n",
       "    <tr>\n",
       "      <th>12</th>\n",
       "      <td>1413.863673</td>\n",
       "      <td>1490.686385</td>\n",
       "      <td>1364.834639</td>\n",
       "      <td>1549.337535</td>\n",
       "      <td>1584.529123</td>\n",
       "      <td>1543.239910</td>\n",
       "    </tr>\n",
       "  </tbody>\n",
       "</table>\n",
       "</div>"
      ],
      "text/plain": [
       "                 signal_l_A   signal_l_B   signal_l_C   signal_r_A  \\\n",
       "subject run t                                                        \n",
       "1       1   0   1406.334345  1466.586644  1329.272934  1530.516673   \n",
       "            3   1400.853113  1501.684212  1344.501035  1533.905607   \n",
       "            6   1408.809741  1494.806150  1339.771262  1544.396568   \n",
       "            9   1414.084690  1501.861026  1392.506021  1551.420010   \n",
       "            12  1413.863673  1490.686385  1364.834639  1549.337535   \n",
       "\n",
       "                 signal_r_B   signal_r_C  \n",
       "subject run t                             \n",
       "1       1   0   1546.514125  1521.955931  \n",
       "            3   1560.962350  1541.748042  \n",
       "            6   1564.006076  1528.674861  \n",
       "            9   1570.826043  1515.060187  \n",
       "            12  1584.529123  1543.239910  "
      ]
     },
     "metadata": {},
     "output_type": "display_data"
    }
   ],
   "source": [
    "all_csvs = sorted(glob.glob('./derivatives/ds-*/extracted_signal_hp/sub-*/func/*T1w*subroi*.csv'))\n",
    "reg = re.compile('.*ds-(?P<ds>\\d+)/extracted_signal_hp/sub-(?P<sub>\\d+)/func/sub-.*_task-randomdotmotion_run-(?P<run>\\d+)_space-T1w_desc-preproc_desc-stn(?P<hemisphere>\\S+)_subroi-(?P<roi>\\S).*')\n",
    "\n",
    "df = []\n",
    "\n",
    "# loop over .csv-files, adding signal row-by-row\n",
    "for fn in all_csvs:\n",
    "    d = reg.match(fn).groupdict()\n",
    "    d['signal'] = pd.read_csv(fn, index_col=0).mean(1)\n",
    "    d = pd.DataFrame(d)\n",
    "    d['t'] = np.arange(0, d.shape[0]*3, 3)\n",
    "    \n",
    "    df.append(d)\n",
    "\n",
    "df = pd.concat(df, axis=0)\n",
    "df['ds'] = df['ds'].astype(int)\n",
    "df['run'] = df['run'].astype(int)\n",
    "df['sub'] = df['sub'].astype(int)\n",
    "\n",
    "# adjust ds2 subject idx to ensure non-overlapping subject idx\n",
    "max_sub_ds1 = df.loc[df.ds==1,'sub'].max()\n",
    "df.loc[df.ds==2,'sub'] = df.loc[df.ds==2,'sub']+max_sub_ds1\n",
    "\n",
    "df_wide = df.rename(columns={'sub':'subject'}).pivot_table(values=['signal'], index=['ds', 'subject', 'run', 't'], columns=['hemisphere', 'roi'])\n",
    "df_wide = df_wide.reset_index(level=0, drop=True)\n",
    "df_wide.columns = ['_'.join(col) for col in df_wide.columns]\n",
    "stn_df = df_wide\n",
    "\n",
    "display(stn_df.head())"
   ]
  },
  {
   "cell_type": "markdown",
   "metadata": {},
   "source": [
    "# 3. Get events, confounds"
   ]
  },
  {
   "cell_type": "code",
   "execution_count": 86,
   "metadata": {},
   "outputs": [],
   "source": [
    "events = pd.read_pickle('./derivatives/all_subjects_events.pkl')\n",
    "confounds = pd.read_pickle('./derivatives/all_subjects_confounds.pkl')[['dvars', 'framewise_displacement', 'rot_x', 'rot_y',\n",
    "       'rot_z', 'trans_x', 'trans_y', 'trans_z']]\n",
    "events['onset'] -= 1.5  # slice time correction"
   ]
  },
  {
   "cell_type": "code",
   "execution_count": 87,
   "metadata": {},
   "outputs": [],
   "source": [
    "def get_sub_n(sub, max_sub_ds1=19):\n",
    "    if sub > max_sub_ds1:\n",
    "        sub -= max_sub_ds1\n",
    "        ds = 2\n",
    "    else:\n",
    "        ds = 1\n",
    "    return ds, sub"
   ]
  },
  {
   "cell_type": "markdown",
   "metadata": {},
   "source": [
    "#### Events of interest\n",
    "Unlike the first GLM, we only model 'cue payoff' (not left / right)"
   ]
  },
  {
   "cell_type": "code",
   "execution_count": 89,
   "metadata": {},
   "outputs": [
    {
     "name": "stderr",
     "output_type": "stream",
     "text": [
      "/home/stevenm/.conda/envs/python3/lib/python3.7/site-packages/ipykernel_launcher.py:10: SettingWithCopyWarning: \n",
      "A value is trying to be set on a copy of a slice from a DataFrame.\n",
      "Try using .loc[row_indexer,col_indexer] = value instead\n",
      "\n",
      "See the caveats in the documentation: https://pandas.pydata.org/pandas-docs/stable/user_guide/indexing.html#returning-a-view-versus-a-copy\n",
      "  # Remove the CWD from sys.path while we load stuff.\n"
     ]
    }
   ],
   "source": [
    "include_events = ['easy', 'hard', 'error', 'response_left', 'response_right', 'cue_payoff', 'cue_neutral']\n",
    "events.loc[events.event_type.isin(['cue_left', 'cue_right']), 'event_type'] = 'cue_payoff'\n",
    "\n",
    "for (subject, run), events_ in events.groupby(level=[0,1]):\n",
    "    ds, sub = get_sub_n(subject)\n",
    "    output_dir = './derivatives/ds-{ds}/feat_files_ppi/sub-{sub}/run-{run}/evs/'.format(**{'ds':str(ds).zfill(2), 'sub':str(sub).zfill(2), 'run':run})\n",
    "    if not os.path.exists(output_dir):\n",
    "        os.makedirs(output_dir, exist_ok=True)\n",
    "\n",
    "    events_['weight'] = 1\n",
    "    for i, ev in enumerate(include_events):\n",
    "        events_.loc[events_['event_type']==ev, ['onset', 'duration', 'weight']].to_csv(output_dir+'{}.txt'.format(ev), sep='\\t', index=False, header=False)\n",
    "        \n",
    "for (subject, run), data in stn_df.groupby(level=[0,1]):\n",
    "    ds, sub = get_sub_n(subject)\n",
    "    output_dir = './derivatives/ds-{ds}/feat_files_ppi/sub-{sub}/run-{run}/evs/'.format(**{'ds':str(ds).zfill(2), 'sub':str(sub).zfill(2), 'run':run})\n",
    "    \n",
    "    for segment in stn_df.columns:\n",
    "        data[segment].to_csv(output_dir+'{}.txt'.format(segment), sep='\\t', index=False, header=False)\n",
    "        #data['signal_r'].to_csv(output_dir+'{}.txt'.format('stn_r'), sep='\\t', index=False, header=False)"
   ]
  },
  {
   "cell_type": "markdown",
   "metadata": {},
   "source": [
    "#### Confounds"
   ]
  },
  {
   "cell_type": "code",
   "execution_count": 90,
   "metadata": {},
   "outputs": [],
   "source": [
    "for (subject, run), confounds_ in confounds.groupby(level=[0,1]):\n",
    "    ds, sub = get_sub_n(subject)\n",
    "    output_dir = './derivatives/ds-{ds}/feat_files_ppi/sub-{sub}/run-{run}/evs/'.format(**{'ds':str(ds).zfill(2), 'sub':str(sub).zfill(2), 'run':run})\n",
    "    if not os.path.exists(output_dir):\n",
    "        os.makedirs(output_dir, exist_ok=True)\n",
    "    confounds_.to_csv(output_dir+'confounds.txt', sep='\\t', index=False, header=False)"
   ]
  },
  {
   "cell_type": "markdown",
   "metadata": {},
   "source": [
    "## mask & fix header\n",
    "Unfortunately the header says the TR is 3000, which FSL interprets as seconds. We need to fix"
   ]
  },
  {
   "cell_type": "code",
   "execution_count": 99,
   "metadata": {},
   "outputs": [
    {
     "name": "stdout",
     "output_type": "stream",
     "text": [
      "./derivatives/ds-01/high_passed_func/sub-05/func/sub-05_task-randomdotmotion_run-01_space-MNI152NLin2009cAsym_desc-preproc_bold.nii.gz./derivatives/ds-01/high_passed_func/sub-07/func/sub-07_task-randomdotmotion_run-02_space-MNI152NLin2009cAsym_desc-preproc_bold.nii.gz./derivatives/ds-01/high_passed_func/sub-03/func/sub-03_task-randomdotmotion_run-01_space-MNI152NLin2009cAsym_desc-preproc_bold.nii.gz./derivatives/ds-01/high_passed_func/sub-06/func/sub-06_task-randomdotmotion_run-01_space-MNI152NLin2009cAsym_desc-preproc_bold.nii.gz./derivatives/ds-01/high_passed_func/sub-08/func/sub-08_task-randomdotmotion_run-02_space-MNI152NLin2009cAsym_desc-preproc_bold.nii.gz./derivatives/ds-01/high_passed_func/sub-04/func/sub-04_task-randomdotmotion_run-01_space-MNI152NLin2009cAsym_desc-preproc_bold.nii.gz./derivatives/ds-01/high_passed_func/sub-09/func/sub-09_task-randomdotmotion_run-02_space-MNI152NLin2009cAsym_desc-preproc_bold.nii.gz\n",
      "./derivatives/ds-01/high_passed_func/sub-01/func/sub-01_task-randomdotmotion_run-01_space-MNI152NLin2009cAsym_desc-preproc_bold.nii.gz./derivatives/ds-01/high_passed_func/sub-10/func/sub-10_task-randomdotmotion_run-02_space-MNI152NLin2009cAsym_desc-preproc_bold.nii.gz\n",
      "\n",
      "\n",
      "\n",
      "\n",
      "\n",
      "\n",
      "\n",
      "./derivatives/ds-01/high_passed_func/sub-02/func/sub-02_task-randomdotmotion_run-01_space-MNI152NLin2009cAsym_desc-preproc_bold.nii.gz\n",
      "./derivatives/ds-01/high_passed_func/sub-03/func/sub-03_task-randomdotmotion_run-02_space-MNI152NLin2009cAsym_desc-preproc_bold.nii.gz\n",
      "./derivatives/ds-01/high_passed_func/sub-10/func/sub-10_task-randomdotmotion_run-03_space-MNI152NLin2009cAsym_desc-preproc_bold.nii.gz\n",
      "./derivatives/ds-01/high_passed_func/sub-09/func/sub-09_task-randomdotmotion_run-03_space-MNI152NLin2009cAsym_desc-preproc_bold.nii.gz\n",
      "./derivatives/ds-01/high_passed_func/sub-07/func/sub-07_task-randomdotmotion_run-03_space-MNI152NLin2009cAsym_desc-preproc_bold.nii.gz\n",
      "./derivatives/ds-01/high_passed_func/sub-05/func/sub-05_task-randomdotmotion_run-02_space-MNI152NLin2009cAsym_desc-preproc_bold.nii.gz\n",
      "./derivatives/ds-01/high_passed_func/sub-04/func/sub-04_task-randomdotmotion_run-02_space-MNI152NLin2009cAsym_desc-preproc_bold.nii.gz\n",
      "./derivatives/ds-01/high_passed_func/sub-08/func/sub-08_task-randomdotmotion_run-03_space-MNI152NLin2009cAsym_desc-preproc_bold.nii.gz\n",
      "./derivatives/ds-01/high_passed_func/sub-02/func/sub-02_task-randomdotmotion_run-02_space-MNI152NLin2009cAsym_desc-preproc_bold.nii.gz\n",
      "./derivatives/ds-01/high_passed_func/sub-06/func/sub-06_task-randomdotmotion_run-02_space-MNI152NLin2009cAsym_desc-preproc_bold.nii.gz\n",
      "./derivatives/ds-01/high_passed_func/sub-01/func/sub-01_task-randomdotmotion_run-02_space-MNI152NLin2009cAsym_desc-preproc_bold.nii.gz\n",
      "./derivatives/ds-01/high_passed_func/sub-03/func/sub-03_task-randomdotmotion_run-03_space-MNI152NLin2009cAsym_desc-preproc_bold.nii.gz\n",
      "./derivatives/ds-01/high_passed_func/sub-11/func/sub-11_task-randomdotmotion_run-01_space-MNI152NLin2009cAsym_desc-preproc_bold.nii.gz\n",
      "./derivatives/ds-01/high_passed_func/sub-11/func/sub-11_task-randomdotmotion_run-02_space-MNI152NLin2009cAsym_desc-preproc_bold.nii.gz\n",
      "./derivatives/ds-01/high_passed_func/sub-10/func/sub-10_task-randomdotmotion_run-01_space-MNI152NLin2009cAsym_desc-preproc_bold.nii.gz\n",
      "./derivatives/ds-01/high_passed_func/sub-08/func/sub-08_task-randomdotmotion_run-01_space-MNI152NLin2009cAsym_desc-preproc_bold.nii.gz\n",
      "./derivatives/ds-01/high_passed_func/sub-05/func/sub-05_task-randomdotmotion_run-03_space-MNI152NLin2009cAsym_desc-preproc_bold.nii.gz\n",
      "./derivatives/ds-01/high_passed_func/sub-04/func/sub-04_task-randomdotmotion_run-03_space-MNI152NLin2009cAsym_desc-preproc_bold.nii.gz\n",
      "./derivatives/ds-01/high_passed_func/sub-01/func/sub-01_task-randomdotmotion_run-03_space-MNI152NLin2009cAsym_desc-preproc_bold.nii.gz\n",
      "./derivatives/ds-01/high_passed_func/sub-09/func/sub-09_task-randomdotmotion_run-01_space-MNI152NLin2009cAsym_desc-preproc_bold.nii.gz\n",
      "./derivatives/ds-01/high_passed_func/sub-02/func/sub-02_task-randomdotmotion_run-03_space-MNI152NLin2009cAsym_desc-preproc_bold.nii.gz\n",
      "./derivatives/ds-01/high_passed_func/sub-07/func/sub-07_task-randomdotmotion_run-01_space-MNI152NLin2009cAsym_desc-preproc_bold.nii.gz\n",
      "./derivatives/ds-01/high_passed_func/sub-12/func/sub-12_task-randomdotmotion_run-02_space-MNI152NLin2009cAsym_desc-preproc_bold.nii.gz\n",
      "./derivatives/ds-01/high_passed_func/sub-11/func/sub-11_task-randomdotmotion_run-03_space-MNI152NLin2009cAsym_desc-preproc_bold.nii.gz\n",
      "./derivatives/ds-01/high_passed_func/sub-13/func/sub-13_task-randomdotmotion_run-02_space-MNI152NLin2009cAsym_desc-preproc_bold.nii.gz\n",
      "./derivatives/ds-01/high_passed_func/sub-14/func/sub-14_task-randomdotmotion_run-02_space-MNI152NLin2009cAsym_desc-preproc_bold.nii.gz\n",
      "./derivatives/ds-01/high_passed_func/sub-15/func/sub-15_task-randomdotmotion_run-02_space-MNI152NLin2009cAsym_desc-preproc_bold.nii.gz\n",
      "./derivatives/ds-01/high_passed_func/sub-16/func/sub-16_task-randomdotmotion_run-02_space-MNI152NLin2009cAsym_desc-preproc_bold.nii.gz\n",
      "./derivatives/ds-01/high_passed_func/sub-17/func/sub-17_task-randomdotmotion_run-02_space-MNI152NLin2009cAsym_desc-preproc_bold.nii.gz\n",
      "./derivatives/ds-01/high_passed_func/sub-18/func/sub-18_task-randomdotmotion_run-02_space-MNI152NLin2009cAsym_desc-preproc_bold.nii.gz\n",
      "./derivatives/ds-01/high_passed_func/sub-19/func/sub-19_task-randomdotmotion_run-02_space-MNI152NLin2009cAsym_desc-preproc_bold.nii.gz\n",
      "./derivatives/ds-02/high_passed_func/sub-01/func/sub-01_task-randomdotmotion_run-02_space-MNI152NLin2009cAsym_desc-preproc_bold.nii.gz\n",
      "./derivatives/ds-01/high_passed_func/sub-12/func/sub-12_task-randomdotmotion_run-03_space-MNI152NLin2009cAsym_desc-preproc_bold.nii.gz\n",
      "./derivatives/ds-01/high_passed_func/sub-12/func/sub-12_task-randomdotmotion_run-01_space-MNI152NLin2009cAsym_desc-preproc_bold.nii.gz\n",
      "./derivatives/ds-02/high_passed_func/sub-01/func/sub-01_task-randomdotmotion_run-03_space-MNI152NLin2009cAsym_desc-preproc_bold.nii.gz\n",
      "./derivatives/ds-01/high_passed_func/sub-13/func/sub-13_task-randomdotmotion_run-03_space-MNI152NLin2009cAsym_desc-preproc_bold.nii.gz\n",
      "./derivatives/ds-01/high_passed_func/sub-14/func/sub-14_task-randomdotmotion_run-03_space-MNI152NLin2009cAsym_desc-preproc_bold.nii.gz\n",
      "./derivatives/ds-01/high_passed_func/sub-15/func/sub-15_task-randomdotmotion_run-03_space-MNI152NLin2009cAsym_desc-preproc_bold.nii.gz\n",
      "./derivatives/ds-01/high_passed_func/sub-16/func/sub-16_task-randomdotmotion_run-03_space-MNI152NLin2009cAsym_desc-preproc_bold.nii.gz\n",
      "./derivatives/ds-01/high_passed_func/sub-17/func/sub-17_task-randomdotmotion_run-03_space-MNI152NLin2009cAsym_desc-preproc_bold.nii.gz\n",
      "./derivatives/ds-01/high_passed_func/sub-18/func/sub-18_task-randomdotmotion_run-03_space-MNI152NLin2009cAsym_desc-preproc_bold.nii.gz\n",
      "./derivatives/ds-01/high_passed_func/sub-19/func/sub-19_task-randomdotmotion_run-03_space-MNI152NLin2009cAsym_desc-preproc_bold.nii.gz\n",
      "./derivatives/ds-01/high_passed_func/sub-13/func/sub-13_task-randomdotmotion_run-01_space-MNI152NLin2009cAsym_desc-preproc_bold.nii.gz\n",
      "./derivatives/ds-02/high_passed_func/sub-02/func/sub-02_task-randomdotmotion_run-01_space-MNI152NLin2009cAsym_desc-preproc_bold.nii.gz\n",
      "./derivatives/ds-02/high_passed_func/sub-02/func/sub-02_task-randomdotmotion_run-02_space-MNI152NLin2009cAsym_desc-preproc_bold.nii.gz\n",
      "./derivatives/ds-01/high_passed_func/sub-14/func/sub-14_task-randomdotmotion_run-01_space-MNI152NLin2009cAsym_desc-preproc_bold.nii.gz\n",
      "./derivatives/ds-02/high_passed_func/sub-03/func/sub-03_task-randomdotmotion_run-02_space-MNI152NLin2009cAsym_desc-preproc_bold.nii.gz\n",
      "./derivatives/ds-01/high_passed_func/sub-16/func/sub-16_task-randomdotmotion_run-01_space-MNI152NLin2009cAsym_desc-preproc_bold.nii.gz\n",
      "./derivatives/ds-01/high_passed_func/sub-15/func/sub-15_task-randomdotmotion_run-01_space-MNI152NLin2009cAsym_desc-preproc_bold.nii.gz\n",
      "./derivatives/ds-01/high_passed_func/sub-17/func/sub-17_task-randomdotmotion_run-01_space-MNI152NLin2009cAsym_desc-preproc_bold.nii.gz\n",
      "./derivatives/ds-01/high_passed_func/sub-19/func/sub-19_task-randomdotmotion_run-01_space-MNI152NLin2009cAsym_desc-preproc_bold.nii.gz\n",
      "./derivatives/ds-02/high_passed_func/sub-02/func/sub-02_task-randomdotmotion_run-03_space-MNI152NLin2009cAsym_desc-preproc_bold.nii.gz\n",
      "./derivatives/ds-01/high_passed_func/sub-18/func/sub-18_task-randomdotmotion_run-01_space-MNI152NLin2009cAsym_desc-preproc_bold.nii.gz\n",
      "./derivatives/ds-02/high_passed_func/sub-01/func/sub-01_task-randomdotmotion_run-01_space-MNI152NLin2009cAsym_desc-preproc_bold.nii.gz\n",
      "./derivatives/ds-02/high_passed_func/sub-05/func/sub-05_task-randomdotmotion_run-02_space-MNI152NLin2009cAsym_desc-preproc_bold.nii.gz\n",
      "./derivatives/ds-02/high_passed_func/sub-03/func/sub-03_task-randomdotmotion_run-03_space-MNI152NLin2009cAsym_desc-preproc_bold.nii.gz\n",
      "./derivatives/ds-02/high_passed_func/sub-03/func/sub-03_task-randomdotmotion_run-01_space-MNI152NLin2009cAsym_desc-preproc_bold.nii.gz\n",
      "./derivatives/ds-02/high_passed_func/sub-06/func/sub-06_task-randomdotmotion_run-02_space-MNI152NLin2009cAsym_desc-preproc_bold.nii.gz\n",
      "./derivatives/ds-02/high_passed_func/sub-05/func/sub-05_task-randomdotmotion_run-03_space-MNI152NLin2009cAsym_desc-preproc_bold.nii.gz\n",
      "./derivatives/ds-02/high_passed_func/sub-07/func/sub-07_task-randomdotmotion_run-02_space-MNI152NLin2009cAsym_desc-preproc_bold.nii.gz\n",
      "./derivatives/ds-02/high_passed_func/sub-08/func/sub-08_task-randomdotmotion_run-03_space-MNI152NLin2009cAsym_desc-preproc_bold.nii.gz\n",
      "./derivatives/ds-02/high_passed_func/sub-09/func/sub-09_task-randomdotmotion_run-03_space-MNI152NLin2009cAsym_desc-preproc_bold.nii.gz\n",
      "./derivatives/ds-02/high_passed_func/sub-10/func/sub-10_task-randomdotmotion_run-03_space-MNI152NLin2009cAsym_desc-preproc_bold.nii.gz\n",
      "./derivatives/ds-02/high_passed_func/sub-05/func/sub-05_task-randomdotmotion_run-01_space-MNI152NLin2009cAsym_desc-preproc_bold.nii.gz\n",
      "./derivatives/ds-02/high_passed_func/sub-11/func/sub-11_task-randomdotmotion_run-03_space-MNI152NLin2009cAsym_desc-preproc_bold.nii.gz\n",
      "./derivatives/ds-02/high_passed_func/sub-12/func/sub-12_task-randomdotmotion_run-03_space-MNI152NLin2009cAsym_desc-preproc_bold.nii.gz\n",
      "./derivatives/ds-02/high_passed_func/sub-13/func/sub-13_task-randomdotmotion_run-03_space-MNI152NLin2009cAsym_desc-preproc_bold.nii.gz\n",
      "./derivatives/ds-02/high_passed_func/sub-06/func/sub-06_task-randomdotmotion_run-03_space-MNI152NLin2009cAsym_desc-preproc_bold.nii.gz\n",
      "./derivatives/ds-02/high_passed_func/sub-06/func/sub-06_task-randomdotmotion_run-01_space-MNI152NLin2009cAsym_desc-preproc_bold.nii.gz\n",
      "./derivatives/ds-02/high_passed_func/sub-08/func/sub-08_task-randomdotmotion_run-01_space-MNI152NLin2009cAsym_desc-preproc_bold.nii.gz\n",
      "./derivatives/ds-02/high_passed_func/sub-09/func/sub-09_task-randomdotmotion_run-01_space-MNI152NLin2009cAsym_desc-preproc_bold.nii.gz\n",
      "./derivatives/ds-02/high_passed_func/sub-10/func/sub-10_task-randomdotmotion_run-01_space-MNI152NLin2009cAsym_desc-preproc_bold.nii.gz\n",
      "./derivatives/ds-02/high_passed_func/sub-11/func/sub-11_task-randomdotmotion_run-01_space-MNI152NLin2009cAsym_desc-preproc_bold.nii.gz\n",
      "./derivatives/ds-02/high_passed_func/sub-12/func/sub-12_task-randomdotmotion_run-01_space-MNI152NLin2009cAsym_desc-preproc_bold.nii.gz\n",
      "./derivatives/ds-02/high_passed_func/sub-14/func/sub-14_task-randomdotmotion_run-03_space-MNI152NLin2009cAsym_desc-preproc_bold.nii.gz\n",
      "./derivatives/ds-02/high_passed_func/sub-13/func/sub-13_task-randomdotmotion_run-01_space-MNI152NLin2009cAsym_desc-preproc_bold.nii.gz\n",
      "./derivatives/ds-02/high_passed_func/sub-15/func/sub-15_task-randomdotmotion_run-03_space-MNI152NLin2009cAsym_desc-preproc_bold.nii.gz\n",
      "./derivatives/ds-02/high_passed_func/sub-07/func/sub-07_task-randomdotmotion_run-01_space-MNI152NLin2009cAsym_desc-preproc_bold.nii.gz\n",
      "./derivatives/ds-02/high_passed_func/sub-14/func/sub-14_task-randomdotmotion_run-01_space-MNI152NLin2009cAsym_desc-preproc_bold.nii.gz\n",
      "./derivatives/ds-02/high_passed_func/sub-08/func/sub-08_task-randomdotmotion_run-02_space-MNI152NLin2009cAsym_desc-preproc_bold.nii.gz\n",
      "./derivatives/ds-02/high_passed_func/sub-10/func/sub-10_task-randomdotmotion_run-02_space-MNI152NLin2009cAsym_desc-preproc_bold.nii.gz\n",
      "./derivatives/ds-02/high_passed_func/sub-09/func/sub-09_task-randomdotmotion_run-02_space-MNI152NLin2009cAsym_desc-preproc_bold.nii.gz\n",
      "./derivatives/ds-02/high_passed_func/sub-11/func/sub-11_task-randomdotmotion_run-02_space-MNI152NLin2009cAsym_desc-preproc_bold.nii.gz\n",
      "./derivatives/ds-02/high_passed_func/sub-15/func/sub-15_task-randomdotmotion_run-01_space-MNI152NLin2009cAsym_desc-preproc_bold.nii.gz\n",
      "./derivatives/ds-02/high_passed_func/sub-12/func/sub-12_task-randomdotmotion_run-02_space-MNI152NLin2009cAsym_desc-preproc_bold.nii.gz\n",
      "./derivatives/ds-02/high_passed_func/sub-13/func/sub-13_task-randomdotmotion_run-02_space-MNI152NLin2009cAsym_desc-preproc_bold.nii.gz\n",
      "./derivatives/ds-02/high_passed_func/sub-14/func/sub-14_task-randomdotmotion_run-02_space-MNI152NLin2009cAsym_desc-preproc_bold.nii.gz\n",
      "./derivatives/ds-02/high_passed_func/sub-15/func/sub-15_task-randomdotmotion_run-02_space-MNI152NLin2009cAsym_desc-preproc_bold.nii.gz\n"
     ]
    }
   ],
   "source": [
    "def mask_img(img, mask):\n",
    "    masker = NiftiMasker(mask)\n",
    "    data_masked = masker.fit_transform(img)\n",
    "    data_masked_epispace = masker.inverse_transform(data_masked)\n",
    "    return data_masked_epispace\n",
    "\n",
    "def mask_data_and_fix_header(arg):\n",
    "    sub, run = arg\n",
    "    if sub == 23:  # does not exist\n",
    "        return 0\n",
    "    if sub == 6 and run == 3: # does not exist\n",
    "        return 0\n",
    "    if sub == 26 and run == 3: # does not exist\n",
    "        return 0\n",
    "    \n",
    "    ds, sub = get_sub_n(sub)\n",
    "    input_dir = './derivatives/ds-{}/high_passed_func/sub-{}/func'.format(str(ds).zfill(2), str(sub).zfill(2))\n",
    "    output_dir = './derivatives/ds-{}/high_passed_func/sub-{}/func'.format(str(ds).zfill(2), str(sub).zfill(2))\n",
    "    if not os.path.exists(output_dir):\n",
    "        os.makedirs(output_dir, exist_ok=True)\n",
    "    \n",
    "    img_fn = 'sub-{}_task-randomdotmotion_run-{}_space-MNI152NLin2009cAsym_desc-preproc_bold.nii.gz'.format(str(sub).zfill(2), str(run).zfill(2))\n",
    "    input_fn = os.path.join(input_dir, img_fn)\n",
    "    mask_fn = input_fn.replace('desc-preproc_bold', 'desc-brain_mask').replace('high_passed_func', 'fmriprep')\n",
    "    output_fn = os.path.join(output_dir, img_fn)\n",
    "    \n",
    "#     if os.path.exists(output_fn):\n",
    "#         return 0\n",
    "    \n",
    "    print(input_fn)\n",
    "    masked_data = mask_img(input_fn, mask_fn)\n",
    "    nib.save(masked_data, output_fn)\n",
    "    \n",
    "    # make sure header is OK\n",
    "    import subprocess\n",
    "    return_code = subprocess.run([\"fslmerge\", \"-tr\", output_fn, output_fn, \"3\"])\n",
    "\n",
    "    return 0\n",
    "\n",
    "subjects = np.arange(1, 35)\n",
    "runs = [1,2,3]\n",
    "\n",
    "to_run = itertools.product(subjects, runs)\n",
    "to_run_list = list(to_run)\n",
    "# the following runs don't exist\n",
    "to_run_list.pop(to_run_list.index((6,3)))\n",
    "to_run_list.pop(to_run_list.index((26,3)))\n",
    "to_run_list.pop(to_run_list.index((23,1)))\n",
    "to_run_list.pop(to_run_list.index((23,2)))\n",
    "to_run_list.pop(to_run_list.index((23,3)))\n",
    "\n",
    "# # sequential:\n",
    "# for i in to_run_list:\n",
    "#     print(i)\n",
    "#     mask_data_and_fix_header(i)\n",
    "\n",
    "# MP\n",
    "with mp.Pool(10) as p:\n",
    "    p.map(mask_data_and_fix_header, to_run_list)"
   ]
  },
  {
   "cell_type": "markdown",
   "metadata": {},
   "source": [
    "# 4. Generate fsf-files for each subject\n",
    "Note that we first manually create a fsf-file using the FSL FEAT GUI, and then simply change all the paths within the generated fsf-file. We set a smoothing kernel of FWHM=5mm, disable all other preprocessing. 21 contrasts were defined:\n",
    "\n",
    "- 10 EVs:\n",
    "    1. stim_easy\n",
    "    2. stim_hard\n",
    "    3. cue_payoff\n",
    "    4. cue_neutral\n",
    "    5. response_left\n",
    "    6. response_right\n",
    "    7. error\n",
    "    8. STN segment (e.g., left A)\n",
    "    9. STN \\*payoff\n",
    "    10. STN \\*neutral\n",
    "- The actual constrast of interest:\n",
    "    11. (STN \\* Payoff) - (STN \\* Neutral)\n",
    "    \n",
    "(I should really learn how to use nipype for this).\n",
    "\n",
    "We repeat this GLM for:\n",
    "3 segments * 2 hemispheres * 2 manipulations (hard/easy) = 12 GLMs in total"
   ]
  },
  {
   "cell_type": "code",
   "execution_count": 115,
   "metadata": {},
   "outputs": [
    {
     "name": "stdout",
     "output_type": "stream",
     "text": [
      "set fmri(outputdir) \"/home/stevenm/Projects/bias/derivatives/ds-01/feat_files_ppi/sub-01/run-1/limbic/left/A/firstlevel\"\n",
      "set fmri(outputdir) \"/home/stevenm/Projects/bias/derivatives/ds-01/feat_files_ppi/sub-01/run-1/limbic/left/B/firstlevel\"\n",
      "set fmri(outputdir) \"/home/stevenm/Projects/bias/derivatives/ds-01/feat_files_ppi/sub-01/run-1/limbic/left/C/firstlevel\"\n",
      "set fmri(outputdir) \"/home/stevenm/Projects/bias/derivatives/ds-01/feat_files_ppi/sub-01/run-1/limbic/right/A/firstlevel\"\n",
      "set fmri(outputdir) \"/home/stevenm/Projects/bias/derivatives/ds-01/feat_files_ppi/sub-01/run-1/limbic/right/B/firstlevel\"\n",
      "set fmri(outputdir) \"/home/stevenm/Projects/bias/derivatives/ds-01/feat_files_ppi/sub-01/run-1/limbic/right/C/firstlevel\"\n",
      "set fmri(outputdir) \"/home/stevenm/Projects/bias/derivatives/ds-01/feat_files_ppi/sub-01/run-1/cognitive/left/A/firstlevel\"\n",
      "set fmri(outputdir) \"/home/stevenm/Projects/bias/derivatives/ds-01/feat_files_ppi/sub-01/run-1/cognitive/left/B/firstlevel\"\n",
      "set fmri(outputdir) \"/home/stevenm/Projects/bias/derivatives/ds-01/feat_files_ppi/sub-01/run-1/cognitive/left/C/firstlevel\"\n",
      "set fmri(outputdir) \"/home/stevenm/Projects/bias/derivatives/ds-01/feat_files_ppi/sub-01/run-1/cognitive/right/A/firstlevel\"\n",
      "set fmri(outputdir) \"/home/stevenm/Projects/bias/derivatives/ds-01/feat_files_ppi/sub-01/run-1/cognitive/right/B/firstlevel\"\n",
      "set fmri(outputdir) \"/home/stevenm/Projects/bias/derivatives/ds-01/feat_files_ppi/sub-01/run-1/cognitive/right/C/firstlevel\"\n",
      "set fmri(outputdir) \"/home/stevenm/Projects/bias/derivatives/ds-01/feat_files_ppi/sub-01/run-2/limbic/left/A/firstlevel\"\n",
      "set fmri(outputdir) \"/home/stevenm/Projects/bias/derivatives/ds-01/feat_files_ppi/sub-01/run-2/limbic/left/B/firstlevel\"\n",
      "set fmri(outputdir) \"/home/stevenm/Projects/bias/derivatives/ds-01/feat_files_ppi/sub-01/run-2/limbic/left/C/firstlevel\"\n",
      "set fmri(outputdir) \"/home/stevenm/Projects/bias/derivatives/ds-01/feat_files_ppi/sub-01/run-2/limbic/right/A/firstlevel\"\n",
      "set fmri(outputdir) \"/home/stevenm/Projects/bias/derivatives/ds-01/feat_files_ppi/sub-01/run-2/limbic/right/B/firstlevel\"\n",
      "set fmri(outputdir) \"/home/stevenm/Projects/bias/derivatives/ds-01/feat_files_ppi/sub-01/run-2/limbic/right/C/firstlevel\"\n",
      "set fmri(outputdir) \"/home/stevenm/Projects/bias/derivatives/ds-01/feat_files_ppi/sub-01/run-2/cognitive/left/A/firstlevel\"\n",
      "set fmri(outputdir) \"/home/stevenm/Projects/bias/derivatives/ds-01/feat_files_ppi/sub-01/run-2/cognitive/left/B/firstlevel\"\n",
      "set fmri(outputdir) \"/home/stevenm/Projects/bias/derivatives/ds-01/feat_files_ppi/sub-01/run-2/cognitive/left/C/firstlevel\"\n",
      "set fmri(outputdir) \"/home/stevenm/Projects/bias/derivatives/ds-01/feat_files_ppi/sub-01/run-2/cognitive/right/A/firstlevel\"\n",
      "set fmri(outputdir) \"/home/stevenm/Projects/bias/derivatives/ds-01/feat_files_ppi/sub-01/run-2/cognitive/right/B/firstlevel\"\n",
      "set fmri(outputdir) \"/home/stevenm/Projects/bias/derivatives/ds-01/feat_files_ppi/sub-01/run-2/cognitive/right/C/firstlevel\"\n",
      "set fmri(outputdir) \"/home/stevenm/Projects/bias/derivatives/ds-01/feat_files_ppi/sub-01/run-3/limbic/left/A/firstlevel\"\n",
      "set fmri(outputdir) \"/home/stevenm/Projects/bias/derivatives/ds-01/feat_files_ppi/sub-01/run-3/limbic/left/B/firstlevel\"\n",
      "set fmri(outputdir) \"/home/stevenm/Projects/bias/derivatives/ds-01/feat_files_ppi/sub-01/run-3/limbic/left/C/firstlevel\"\n",
      "set fmri(outputdir) \"/home/stevenm/Projects/bias/derivatives/ds-01/feat_files_ppi/sub-01/run-3/limbic/right/A/firstlevel\"\n",
      "set fmri(outputdir) \"/home/stevenm/Projects/bias/derivatives/ds-01/feat_files_ppi/sub-01/run-3/limbic/right/B/firstlevel\"\n",
      "set fmri(outputdir) \"/home/stevenm/Projects/bias/derivatives/ds-01/feat_files_ppi/sub-01/run-3/limbic/right/C/firstlevel\"\n",
      "set fmri(outputdir) \"/home/stevenm/Projects/bias/derivatives/ds-01/feat_files_ppi/sub-01/run-3/cognitive/left/A/firstlevel\"\n",
      "set fmri(outputdir) \"/home/stevenm/Projects/bias/derivatives/ds-01/feat_files_ppi/sub-01/run-3/cognitive/left/B/firstlevel\"\n",
      "set fmri(outputdir) \"/home/stevenm/Projects/bias/derivatives/ds-01/feat_files_ppi/sub-01/run-3/cognitive/left/C/firstlevel\"\n",
      "set fmri(outputdir) \"/home/stevenm/Projects/bias/derivatives/ds-01/feat_files_ppi/sub-01/run-3/cognitive/right/A/firstlevel\"\n",
      "set fmri(outputdir) \"/home/stevenm/Projects/bias/derivatives/ds-01/feat_files_ppi/sub-01/run-3/cognitive/right/B/firstlevel\"\n",
      "set fmri(outputdir) \"/home/stevenm/Projects/bias/derivatives/ds-01/feat_files_ppi/sub-01/run-3/cognitive/right/C/firstlevel\"\n",
      "set fmri(outputdir) \"/home/stevenm/Projects/bias/derivatives/ds-01/feat_files_ppi/sub-02/run-1/limbic/left/A/firstlevel\"\n",
      "set fmri(outputdir) \"/home/stevenm/Projects/bias/derivatives/ds-01/feat_files_ppi/sub-02/run-1/limbic/left/B/firstlevel\"\n",
      "set fmri(outputdir) \"/home/stevenm/Projects/bias/derivatives/ds-01/feat_files_ppi/sub-02/run-1/limbic/left/C/firstlevel\"\n",
      "set fmri(outputdir) \"/home/stevenm/Projects/bias/derivatives/ds-01/feat_files_ppi/sub-02/run-1/limbic/right/A/firstlevel\"\n",
      "set fmri(outputdir) \"/home/stevenm/Projects/bias/derivatives/ds-01/feat_files_ppi/sub-02/run-1/limbic/right/B/firstlevel\"\n",
      "set fmri(outputdir) \"/home/stevenm/Projects/bias/derivatives/ds-01/feat_files_ppi/sub-02/run-1/limbic/right/C/firstlevel\"\n",
      "set fmri(outputdir) \"/home/stevenm/Projects/bias/derivatives/ds-01/feat_files_ppi/sub-02/run-1/cognitive/left/A/firstlevel\"\n",
      "set fmri(outputdir) \"/home/stevenm/Projects/bias/derivatives/ds-01/feat_files_ppi/sub-02/run-1/cognitive/left/B/firstlevel\"\n",
      "set fmri(outputdir) \"/home/stevenm/Projects/bias/derivatives/ds-01/feat_files_ppi/sub-02/run-1/cognitive/left/C/firstlevel\"\n",
      "set fmri(outputdir) \"/home/stevenm/Projects/bias/derivatives/ds-01/feat_files_ppi/sub-02/run-1/cognitive/right/A/firstlevel\"\n",
      "set fmri(outputdir) \"/home/stevenm/Projects/bias/derivatives/ds-01/feat_files_ppi/sub-02/run-1/cognitive/right/B/firstlevel\"\n",
      "set fmri(outputdir) \"/home/stevenm/Projects/bias/derivatives/ds-01/feat_files_ppi/sub-02/run-1/cognitive/right/C/firstlevel\"\n",
      "set fmri(outputdir) \"/home/stevenm/Projects/bias/derivatives/ds-01/feat_files_ppi/sub-02/run-2/limbic/left/A/firstlevel\"\n",
      "set fmri(outputdir) \"/home/stevenm/Projects/bias/derivatives/ds-01/feat_files_ppi/sub-02/run-2/limbic/left/B/firstlevel\"\n",
      "set fmri(outputdir) \"/home/stevenm/Projects/bias/derivatives/ds-01/feat_files_ppi/sub-02/run-2/limbic/left/C/firstlevel\"\n",
      "set fmri(outputdir) \"/home/stevenm/Projects/bias/derivatives/ds-01/feat_files_ppi/sub-02/run-2/limbic/right/A/firstlevel\"\n",
      "set fmri(outputdir) \"/home/stevenm/Projects/bias/derivatives/ds-01/feat_files_ppi/sub-02/run-2/limbic/right/B/firstlevel\"\n",
      "set fmri(outputdir) \"/home/stevenm/Projects/bias/derivatives/ds-01/feat_files_ppi/sub-02/run-2/limbic/right/C/firstlevel\"\n",
      "set fmri(outputdir) \"/home/stevenm/Projects/bias/derivatives/ds-01/feat_files_ppi/sub-02/run-2/cognitive/left/A/firstlevel\"\n",
      "set fmri(outputdir) \"/home/stevenm/Projects/bias/derivatives/ds-01/feat_files_ppi/sub-02/run-2/cognitive/left/B/firstlevel\"\n",
      "set fmri(outputdir) \"/home/stevenm/Projects/bias/derivatives/ds-01/feat_files_ppi/sub-02/run-2/cognitive/left/C/firstlevel\"\n",
      "set fmri(outputdir) \"/home/stevenm/Projects/bias/derivatives/ds-01/feat_files_ppi/sub-02/run-2/cognitive/right/A/firstlevel\"\n",
      "set fmri(outputdir) \"/home/stevenm/Projects/bias/derivatives/ds-01/feat_files_ppi/sub-02/run-2/cognitive/right/B/firstlevel\"\n",
      "set fmri(outputdir) \"/home/stevenm/Projects/bias/derivatives/ds-01/feat_files_ppi/sub-02/run-2/cognitive/right/C/firstlevel\"\n",
      "set fmri(outputdir) \"/home/stevenm/Projects/bias/derivatives/ds-01/feat_files_ppi/sub-02/run-3/limbic/left/A/firstlevel\"\n",
      "set fmri(outputdir) \"/home/stevenm/Projects/bias/derivatives/ds-01/feat_files_ppi/sub-02/run-3/limbic/left/B/firstlevel\"\n",
      "set fmri(outputdir) \"/home/stevenm/Projects/bias/derivatives/ds-01/feat_files_ppi/sub-02/run-3/limbic/left/C/firstlevel\"\n",
      "set fmri(outputdir) \"/home/stevenm/Projects/bias/derivatives/ds-01/feat_files_ppi/sub-02/run-3/limbic/right/A/firstlevel\"\n",
      "set fmri(outputdir) \"/home/stevenm/Projects/bias/derivatives/ds-01/feat_files_ppi/sub-02/run-3/limbic/right/B/firstlevel\"\n",
      "set fmri(outputdir) \"/home/stevenm/Projects/bias/derivatives/ds-01/feat_files_ppi/sub-02/run-3/limbic/right/C/firstlevel\"\n",
      "set fmri(outputdir) \"/home/stevenm/Projects/bias/derivatives/ds-01/feat_files_ppi/sub-02/run-3/cognitive/left/A/firstlevel\"\n",
      "set fmri(outputdir) \"/home/stevenm/Projects/bias/derivatives/ds-01/feat_files_ppi/sub-02/run-3/cognitive/left/B/firstlevel\"\n",
      "set fmri(outputdir) \"/home/stevenm/Projects/bias/derivatives/ds-01/feat_files_ppi/sub-02/run-3/cognitive/left/C/firstlevel\"\n",
      "set fmri(outputdir) \"/home/stevenm/Projects/bias/derivatives/ds-01/feat_files_ppi/sub-02/run-3/cognitive/right/A/firstlevel\"\n",
      "set fmri(outputdir) \"/home/stevenm/Projects/bias/derivatives/ds-01/feat_files_ppi/sub-02/run-3/cognitive/right/B/firstlevel\"\n",
      "set fmri(outputdir) \"/home/stevenm/Projects/bias/derivatives/ds-01/feat_files_ppi/sub-02/run-3/cognitive/right/C/firstlevel\"\n",
      "set fmri(outputdir) \"/home/stevenm/Projects/bias/derivatives/ds-01/feat_files_ppi/sub-03/run-1/limbic/left/A/firstlevel\"\n",
      "set fmri(outputdir) \"/home/stevenm/Projects/bias/derivatives/ds-01/feat_files_ppi/sub-03/run-1/limbic/left/B/firstlevel\"\n",
      "set fmri(outputdir) \"/home/stevenm/Projects/bias/derivatives/ds-01/feat_files_ppi/sub-03/run-1/limbic/left/C/firstlevel\"\n",
      "set fmri(outputdir) \"/home/stevenm/Projects/bias/derivatives/ds-01/feat_files_ppi/sub-03/run-1/limbic/right/A/firstlevel\"\n",
      "set fmri(outputdir) \"/home/stevenm/Projects/bias/derivatives/ds-01/feat_files_ppi/sub-03/run-1/limbic/right/B/firstlevel\"\n",
      "set fmri(outputdir) \"/home/stevenm/Projects/bias/derivatives/ds-01/feat_files_ppi/sub-03/run-1/limbic/right/C/firstlevel\"\n",
      "set fmri(outputdir) \"/home/stevenm/Projects/bias/derivatives/ds-01/feat_files_ppi/sub-03/run-1/cognitive/left/A/firstlevel\"\n",
      "set fmri(outputdir) \"/home/stevenm/Projects/bias/derivatives/ds-01/feat_files_ppi/sub-03/run-1/cognitive/left/B/firstlevel\"\n",
      "set fmri(outputdir) \"/home/stevenm/Projects/bias/derivatives/ds-01/feat_files_ppi/sub-03/run-1/cognitive/left/C/firstlevel\"\n",
      "set fmri(outputdir) \"/home/stevenm/Projects/bias/derivatives/ds-01/feat_files_ppi/sub-03/run-1/cognitive/right/A/firstlevel\"\n",
      "set fmri(outputdir) \"/home/stevenm/Projects/bias/derivatives/ds-01/feat_files_ppi/sub-03/run-1/cognitive/right/B/firstlevel\"\n",
      "set fmri(outputdir) \"/home/stevenm/Projects/bias/derivatives/ds-01/feat_files_ppi/sub-03/run-1/cognitive/right/C/firstlevel\"\n",
      "set fmri(outputdir) \"/home/stevenm/Projects/bias/derivatives/ds-01/feat_files_ppi/sub-03/run-2/limbic/left/A/firstlevel\"\n",
      "set fmri(outputdir) \"/home/stevenm/Projects/bias/derivatives/ds-01/feat_files_ppi/sub-03/run-2/limbic/left/B/firstlevel\"\n",
      "set fmri(outputdir) \"/home/stevenm/Projects/bias/derivatives/ds-01/feat_files_ppi/sub-03/run-2/limbic/left/C/firstlevel\"\n",
      "set fmri(outputdir) \"/home/stevenm/Projects/bias/derivatives/ds-01/feat_files_ppi/sub-03/run-2/limbic/right/A/firstlevel\"\n",
      "set fmri(outputdir) \"/home/stevenm/Projects/bias/derivatives/ds-01/feat_files_ppi/sub-03/run-2/limbic/right/B/firstlevel\"\n",
      "set fmri(outputdir) \"/home/stevenm/Projects/bias/derivatives/ds-01/feat_files_ppi/sub-03/run-2/limbic/right/C/firstlevel\"\n",
      "set fmri(outputdir) \"/home/stevenm/Projects/bias/derivatives/ds-01/feat_files_ppi/sub-03/run-2/cognitive/left/A/firstlevel\"\n",
      "set fmri(outputdir) \"/home/stevenm/Projects/bias/derivatives/ds-01/feat_files_ppi/sub-03/run-2/cognitive/left/B/firstlevel\"\n",
      "set fmri(outputdir) \"/home/stevenm/Projects/bias/derivatives/ds-01/feat_files_ppi/sub-03/run-2/cognitive/left/C/firstlevel\"\n",
      "set fmri(outputdir) \"/home/stevenm/Projects/bias/derivatives/ds-01/feat_files_ppi/sub-03/run-2/cognitive/right/A/firstlevel\"\n",
      "set fmri(outputdir) \"/home/stevenm/Projects/bias/derivatives/ds-01/feat_files_ppi/sub-03/run-2/cognitive/right/B/firstlevel\"\n",
      "set fmri(outputdir) \"/home/stevenm/Projects/bias/derivatives/ds-01/feat_files_ppi/sub-03/run-2/cognitive/right/C/firstlevel\"\n",
      "set fmri(outputdir) \"/home/stevenm/Projects/bias/derivatives/ds-01/feat_files_ppi/sub-03/run-3/limbic/left/A/firstlevel\"\n",
      "set fmri(outputdir) \"/home/stevenm/Projects/bias/derivatives/ds-01/feat_files_ppi/sub-03/run-3/limbic/left/B/firstlevel\"\n",
      "set fmri(outputdir) \"/home/stevenm/Projects/bias/derivatives/ds-01/feat_files_ppi/sub-03/run-3/limbic/left/C/firstlevel\"\n",
      "set fmri(outputdir) \"/home/stevenm/Projects/bias/derivatives/ds-01/feat_files_ppi/sub-03/run-3/limbic/right/A/firstlevel\"\n",
      "set fmri(outputdir) \"/home/stevenm/Projects/bias/derivatives/ds-01/feat_files_ppi/sub-03/run-3/limbic/right/B/firstlevel\"\n",
      "set fmri(outputdir) \"/home/stevenm/Projects/bias/derivatives/ds-01/feat_files_ppi/sub-03/run-3/limbic/right/C/firstlevel\"\n",
      "set fmri(outputdir) \"/home/stevenm/Projects/bias/derivatives/ds-01/feat_files_ppi/sub-03/run-3/cognitive/left/A/firstlevel\"\n",
      "set fmri(outputdir) \"/home/stevenm/Projects/bias/derivatives/ds-01/feat_files_ppi/sub-03/run-3/cognitive/left/B/firstlevel\"\n",
      "set fmri(outputdir) \"/home/stevenm/Projects/bias/derivatives/ds-01/feat_files_ppi/sub-03/run-3/cognitive/left/C/firstlevel\"\n",
      "set fmri(outputdir) \"/home/stevenm/Projects/bias/derivatives/ds-01/feat_files_ppi/sub-03/run-3/cognitive/right/A/firstlevel\"\n",
      "set fmri(outputdir) \"/home/stevenm/Projects/bias/derivatives/ds-01/feat_files_ppi/sub-03/run-3/cognitive/right/B/firstlevel\"\n",
      "set fmri(outputdir) \"/home/stevenm/Projects/bias/derivatives/ds-01/feat_files_ppi/sub-03/run-3/cognitive/right/C/firstlevel\"\n",
      "set fmri(outputdir) \"/home/stevenm/Projects/bias/derivatives/ds-01/feat_files_ppi/sub-04/run-1/limbic/left/A/firstlevel\"\n",
      "set fmri(outputdir) \"/home/stevenm/Projects/bias/derivatives/ds-01/feat_files_ppi/sub-04/run-1/limbic/left/B/firstlevel\"\n",
      "set fmri(outputdir) \"/home/stevenm/Projects/bias/derivatives/ds-01/feat_files_ppi/sub-04/run-1/limbic/left/C/firstlevel\"\n",
      "set fmri(outputdir) \"/home/stevenm/Projects/bias/derivatives/ds-01/feat_files_ppi/sub-04/run-1/limbic/right/A/firstlevel\"\n",
      "set fmri(outputdir) \"/home/stevenm/Projects/bias/derivatives/ds-01/feat_files_ppi/sub-04/run-1/limbic/right/B/firstlevel\"\n",
      "set fmri(outputdir) \"/home/stevenm/Projects/bias/derivatives/ds-01/feat_files_ppi/sub-04/run-1/limbic/right/C/firstlevel\"\n",
      "set fmri(outputdir) \"/home/stevenm/Projects/bias/derivatives/ds-01/feat_files_ppi/sub-04/run-1/cognitive/left/A/firstlevel\"\n",
      "set fmri(outputdir) \"/home/stevenm/Projects/bias/derivatives/ds-01/feat_files_ppi/sub-04/run-1/cognitive/left/B/firstlevel\"\n",
      "set fmri(outputdir) \"/home/stevenm/Projects/bias/derivatives/ds-01/feat_files_ppi/sub-04/run-1/cognitive/left/C/firstlevel\"\n",
      "set fmri(outputdir) \"/home/stevenm/Projects/bias/derivatives/ds-01/feat_files_ppi/sub-04/run-1/cognitive/right/A/firstlevel\"\n",
      "set fmri(outputdir) \"/home/stevenm/Projects/bias/derivatives/ds-01/feat_files_ppi/sub-04/run-1/cognitive/right/B/firstlevel\"\n",
      "set fmri(outputdir) \"/home/stevenm/Projects/bias/derivatives/ds-01/feat_files_ppi/sub-04/run-1/cognitive/right/C/firstlevel\"\n",
      "set fmri(outputdir) \"/home/stevenm/Projects/bias/derivatives/ds-01/feat_files_ppi/sub-04/run-2/limbic/left/A/firstlevel\"\n",
      "set fmri(outputdir) \"/home/stevenm/Projects/bias/derivatives/ds-01/feat_files_ppi/sub-04/run-2/limbic/left/B/firstlevel\"\n",
      "set fmri(outputdir) \"/home/stevenm/Projects/bias/derivatives/ds-01/feat_files_ppi/sub-04/run-2/limbic/left/C/firstlevel\"\n",
      "set fmri(outputdir) \"/home/stevenm/Projects/bias/derivatives/ds-01/feat_files_ppi/sub-04/run-2/limbic/right/A/firstlevel\"\n",
      "set fmri(outputdir) \"/home/stevenm/Projects/bias/derivatives/ds-01/feat_files_ppi/sub-04/run-2/limbic/right/B/firstlevel\"\n",
      "set fmri(outputdir) \"/home/stevenm/Projects/bias/derivatives/ds-01/feat_files_ppi/sub-04/run-2/limbic/right/C/firstlevel\"\n",
      "set fmri(outputdir) \"/home/stevenm/Projects/bias/derivatives/ds-01/feat_files_ppi/sub-04/run-2/cognitive/left/A/firstlevel\"\n",
      "set fmri(outputdir) \"/home/stevenm/Projects/bias/derivatives/ds-01/feat_files_ppi/sub-04/run-2/cognitive/left/B/firstlevel\"\n",
      "set fmri(outputdir) \"/home/stevenm/Projects/bias/derivatives/ds-01/feat_files_ppi/sub-04/run-2/cognitive/left/C/firstlevel\"\n",
      "set fmri(outputdir) \"/home/stevenm/Projects/bias/derivatives/ds-01/feat_files_ppi/sub-04/run-2/cognitive/right/A/firstlevel\"\n",
      "set fmri(outputdir) \"/home/stevenm/Projects/bias/derivatives/ds-01/feat_files_ppi/sub-04/run-2/cognitive/right/B/firstlevel\"\n",
      "set fmri(outputdir) \"/home/stevenm/Projects/bias/derivatives/ds-01/feat_files_ppi/sub-04/run-2/cognitive/right/C/firstlevel\"\n",
      "set fmri(outputdir) \"/home/stevenm/Projects/bias/derivatives/ds-01/feat_files_ppi/sub-04/run-3/limbic/left/A/firstlevel\"\n",
      "set fmri(outputdir) \"/home/stevenm/Projects/bias/derivatives/ds-01/feat_files_ppi/sub-04/run-3/limbic/left/B/firstlevel\"\n",
      "set fmri(outputdir) \"/home/stevenm/Projects/bias/derivatives/ds-01/feat_files_ppi/sub-04/run-3/limbic/left/C/firstlevel\"\n",
      "set fmri(outputdir) \"/home/stevenm/Projects/bias/derivatives/ds-01/feat_files_ppi/sub-04/run-3/limbic/right/A/firstlevel\"\n",
      "set fmri(outputdir) \"/home/stevenm/Projects/bias/derivatives/ds-01/feat_files_ppi/sub-04/run-3/limbic/right/B/firstlevel\"\n",
      "set fmri(outputdir) \"/home/stevenm/Projects/bias/derivatives/ds-01/feat_files_ppi/sub-04/run-3/limbic/right/C/firstlevel\"\n",
      "set fmri(outputdir) \"/home/stevenm/Projects/bias/derivatives/ds-01/feat_files_ppi/sub-04/run-3/cognitive/left/A/firstlevel\"\n",
      "set fmri(outputdir) \"/home/stevenm/Projects/bias/derivatives/ds-01/feat_files_ppi/sub-04/run-3/cognitive/left/B/firstlevel\"\n",
      "set fmri(outputdir) \"/home/stevenm/Projects/bias/derivatives/ds-01/feat_files_ppi/sub-04/run-3/cognitive/left/C/firstlevel\"\n",
      "set fmri(outputdir) \"/home/stevenm/Projects/bias/derivatives/ds-01/feat_files_ppi/sub-04/run-3/cognitive/right/A/firstlevel\"\n",
      "set fmri(outputdir) \"/home/stevenm/Projects/bias/derivatives/ds-01/feat_files_ppi/sub-04/run-3/cognitive/right/B/firstlevel\"\n",
      "set fmri(outputdir) \"/home/stevenm/Projects/bias/derivatives/ds-01/feat_files_ppi/sub-04/run-3/cognitive/right/C/firstlevel\"\n",
      "set fmri(outputdir) \"/home/stevenm/Projects/bias/derivatives/ds-01/feat_files_ppi/sub-05/run-1/limbic/left/A/firstlevel\"\n",
      "set fmri(outputdir) \"/home/stevenm/Projects/bias/derivatives/ds-01/feat_files_ppi/sub-05/run-1/limbic/left/B/firstlevel\"\n",
      "set fmri(outputdir) \"/home/stevenm/Projects/bias/derivatives/ds-01/feat_files_ppi/sub-05/run-1/limbic/left/C/firstlevel\"\n",
      "set fmri(outputdir) \"/home/stevenm/Projects/bias/derivatives/ds-01/feat_files_ppi/sub-05/run-1/limbic/right/A/firstlevel\"\n",
      "set fmri(outputdir) \"/home/stevenm/Projects/bias/derivatives/ds-01/feat_files_ppi/sub-05/run-1/limbic/right/B/firstlevel\"\n",
      "set fmri(outputdir) \"/home/stevenm/Projects/bias/derivatives/ds-01/feat_files_ppi/sub-05/run-1/limbic/right/C/firstlevel\"\n",
      "set fmri(outputdir) \"/home/stevenm/Projects/bias/derivatives/ds-01/feat_files_ppi/sub-05/run-1/cognitive/left/A/firstlevel\"\n",
      "set fmri(outputdir) \"/home/stevenm/Projects/bias/derivatives/ds-01/feat_files_ppi/sub-05/run-1/cognitive/left/B/firstlevel\"\n",
      "set fmri(outputdir) \"/home/stevenm/Projects/bias/derivatives/ds-01/feat_files_ppi/sub-05/run-1/cognitive/left/C/firstlevel\"\n",
      "set fmri(outputdir) \"/home/stevenm/Projects/bias/derivatives/ds-01/feat_files_ppi/sub-05/run-1/cognitive/right/A/firstlevel\"\n",
      "set fmri(outputdir) \"/home/stevenm/Projects/bias/derivatives/ds-01/feat_files_ppi/sub-05/run-1/cognitive/right/B/firstlevel\"\n",
      "set fmri(outputdir) \"/home/stevenm/Projects/bias/derivatives/ds-01/feat_files_ppi/sub-05/run-1/cognitive/right/C/firstlevel\"\n",
      "set fmri(outputdir) \"/home/stevenm/Projects/bias/derivatives/ds-01/feat_files_ppi/sub-05/run-2/limbic/left/A/firstlevel\"\n",
      "set fmri(outputdir) \"/home/stevenm/Projects/bias/derivatives/ds-01/feat_files_ppi/sub-05/run-2/limbic/left/B/firstlevel\"\n",
      "set fmri(outputdir) \"/home/stevenm/Projects/bias/derivatives/ds-01/feat_files_ppi/sub-05/run-2/limbic/left/C/firstlevel\"\n",
      "set fmri(outputdir) \"/home/stevenm/Projects/bias/derivatives/ds-01/feat_files_ppi/sub-05/run-2/limbic/right/A/firstlevel\"\n",
      "set fmri(outputdir) \"/home/stevenm/Projects/bias/derivatives/ds-01/feat_files_ppi/sub-05/run-2/limbic/right/B/firstlevel\"\n",
      "set fmri(outputdir) \"/home/stevenm/Projects/bias/derivatives/ds-01/feat_files_ppi/sub-05/run-2/limbic/right/C/firstlevel\"\n",
      "set fmri(outputdir) \"/home/stevenm/Projects/bias/derivatives/ds-01/feat_files_ppi/sub-05/run-2/cognitive/left/A/firstlevel\"\n",
      "set fmri(outputdir) \"/home/stevenm/Projects/bias/derivatives/ds-01/feat_files_ppi/sub-05/run-2/cognitive/left/B/firstlevel\"\n",
      "set fmri(outputdir) \"/home/stevenm/Projects/bias/derivatives/ds-01/feat_files_ppi/sub-05/run-2/cognitive/left/C/firstlevel\"\n",
      "set fmri(outputdir) \"/home/stevenm/Projects/bias/derivatives/ds-01/feat_files_ppi/sub-05/run-2/cognitive/right/A/firstlevel\"\n",
      "set fmri(outputdir) \"/home/stevenm/Projects/bias/derivatives/ds-01/feat_files_ppi/sub-05/run-2/cognitive/right/B/firstlevel\"\n",
      "set fmri(outputdir) \"/home/stevenm/Projects/bias/derivatives/ds-01/feat_files_ppi/sub-05/run-2/cognitive/right/C/firstlevel\"\n",
      "set fmri(outputdir) \"/home/stevenm/Projects/bias/derivatives/ds-01/feat_files_ppi/sub-05/run-3/limbic/left/A/firstlevel\"\n",
      "set fmri(outputdir) \"/home/stevenm/Projects/bias/derivatives/ds-01/feat_files_ppi/sub-05/run-3/limbic/left/B/firstlevel\"\n",
      "set fmri(outputdir) \"/home/stevenm/Projects/bias/derivatives/ds-01/feat_files_ppi/sub-05/run-3/limbic/left/C/firstlevel\"\n",
      "set fmri(outputdir) \"/home/stevenm/Projects/bias/derivatives/ds-01/feat_files_ppi/sub-05/run-3/limbic/right/A/firstlevel\"\n",
      "set fmri(outputdir) \"/home/stevenm/Projects/bias/derivatives/ds-01/feat_files_ppi/sub-05/run-3/limbic/right/B/firstlevel\"\n",
      "set fmri(outputdir) \"/home/stevenm/Projects/bias/derivatives/ds-01/feat_files_ppi/sub-05/run-3/limbic/right/C/firstlevel\"\n",
      "set fmri(outputdir) \"/home/stevenm/Projects/bias/derivatives/ds-01/feat_files_ppi/sub-05/run-3/cognitive/left/A/firstlevel\"\n",
      "set fmri(outputdir) \"/home/stevenm/Projects/bias/derivatives/ds-01/feat_files_ppi/sub-05/run-3/cognitive/left/B/firstlevel\"\n",
      "set fmri(outputdir) \"/home/stevenm/Projects/bias/derivatives/ds-01/feat_files_ppi/sub-05/run-3/cognitive/left/C/firstlevel\"\n",
      "set fmri(outputdir) \"/home/stevenm/Projects/bias/derivatives/ds-01/feat_files_ppi/sub-05/run-3/cognitive/right/A/firstlevel\"\n",
      "set fmri(outputdir) \"/home/stevenm/Projects/bias/derivatives/ds-01/feat_files_ppi/sub-05/run-3/cognitive/right/B/firstlevel\"\n",
      "set fmri(outputdir) \"/home/stevenm/Projects/bias/derivatives/ds-01/feat_files_ppi/sub-05/run-3/cognitive/right/C/firstlevel\"\n",
      "set fmri(outputdir) \"/home/stevenm/Projects/bias/derivatives/ds-01/feat_files_ppi/sub-06/run-1/limbic/left/A/firstlevel\"\n",
      "set fmri(outputdir) \"/home/stevenm/Projects/bias/derivatives/ds-01/feat_files_ppi/sub-06/run-1/limbic/left/B/firstlevel\"\n",
      "set fmri(outputdir) \"/home/stevenm/Projects/bias/derivatives/ds-01/feat_files_ppi/sub-06/run-1/limbic/left/C/firstlevel\"\n",
      "set fmri(outputdir) \"/home/stevenm/Projects/bias/derivatives/ds-01/feat_files_ppi/sub-06/run-1/limbic/right/A/firstlevel\"\n",
      "set fmri(outputdir) \"/home/stevenm/Projects/bias/derivatives/ds-01/feat_files_ppi/sub-06/run-1/limbic/right/B/firstlevel\"\n",
      "set fmri(outputdir) \"/home/stevenm/Projects/bias/derivatives/ds-01/feat_files_ppi/sub-06/run-1/limbic/right/C/firstlevel\"\n",
      "set fmri(outputdir) \"/home/stevenm/Projects/bias/derivatives/ds-01/feat_files_ppi/sub-06/run-1/cognitive/left/A/firstlevel\"\n",
      "set fmri(outputdir) \"/home/stevenm/Projects/bias/derivatives/ds-01/feat_files_ppi/sub-06/run-1/cognitive/left/B/firstlevel\"\n",
      "set fmri(outputdir) \"/home/stevenm/Projects/bias/derivatives/ds-01/feat_files_ppi/sub-06/run-1/cognitive/left/C/firstlevel\"\n",
      "set fmri(outputdir) \"/home/stevenm/Projects/bias/derivatives/ds-01/feat_files_ppi/sub-06/run-1/cognitive/right/A/firstlevel\"\n",
      "set fmri(outputdir) \"/home/stevenm/Projects/bias/derivatives/ds-01/feat_files_ppi/sub-06/run-1/cognitive/right/B/firstlevel\"\n",
      "set fmri(outputdir) \"/home/stevenm/Projects/bias/derivatives/ds-01/feat_files_ppi/sub-06/run-1/cognitive/right/C/firstlevel\"\n",
      "set fmri(outputdir) \"/home/stevenm/Projects/bias/derivatives/ds-01/feat_files_ppi/sub-06/run-2/limbic/left/A/firstlevel\"\n",
      "set fmri(outputdir) \"/home/stevenm/Projects/bias/derivatives/ds-01/feat_files_ppi/sub-06/run-2/limbic/left/B/firstlevel\"\n",
      "set fmri(outputdir) \"/home/stevenm/Projects/bias/derivatives/ds-01/feat_files_ppi/sub-06/run-2/limbic/left/C/firstlevel\"\n",
      "set fmri(outputdir) \"/home/stevenm/Projects/bias/derivatives/ds-01/feat_files_ppi/sub-06/run-2/limbic/right/A/firstlevel\"\n",
      "set fmri(outputdir) \"/home/stevenm/Projects/bias/derivatives/ds-01/feat_files_ppi/sub-06/run-2/limbic/right/B/firstlevel\"\n",
      "set fmri(outputdir) \"/home/stevenm/Projects/bias/derivatives/ds-01/feat_files_ppi/sub-06/run-2/limbic/right/C/firstlevel\"\n",
      "set fmri(outputdir) \"/home/stevenm/Projects/bias/derivatives/ds-01/feat_files_ppi/sub-06/run-2/cognitive/left/A/firstlevel\"\n",
      "set fmri(outputdir) \"/home/stevenm/Projects/bias/derivatives/ds-01/feat_files_ppi/sub-06/run-2/cognitive/left/B/firstlevel\"\n",
      "set fmri(outputdir) \"/home/stevenm/Projects/bias/derivatives/ds-01/feat_files_ppi/sub-06/run-2/cognitive/left/C/firstlevel\"\n",
      "set fmri(outputdir) \"/home/stevenm/Projects/bias/derivatives/ds-01/feat_files_ppi/sub-06/run-2/cognitive/right/A/firstlevel\"\n",
      "set fmri(outputdir) \"/home/stevenm/Projects/bias/derivatives/ds-01/feat_files_ppi/sub-06/run-2/cognitive/right/B/firstlevel\"\n",
      "set fmri(outputdir) \"/home/stevenm/Projects/bias/derivatives/ds-01/feat_files_ppi/sub-06/run-2/cognitive/right/C/firstlevel\"\n",
      "set fmri(outputdir) \"/home/stevenm/Projects/bias/derivatives/ds-01/feat_files_ppi/sub-07/run-1/limbic/left/A/firstlevel\"\n",
      "set fmri(outputdir) \"/home/stevenm/Projects/bias/derivatives/ds-01/feat_files_ppi/sub-07/run-1/limbic/left/B/firstlevel\"\n",
      "set fmri(outputdir) \"/home/stevenm/Projects/bias/derivatives/ds-01/feat_files_ppi/sub-07/run-1/limbic/left/C/firstlevel\"\n",
      "set fmri(outputdir) \"/home/stevenm/Projects/bias/derivatives/ds-01/feat_files_ppi/sub-07/run-1/limbic/right/A/firstlevel\"\n",
      "set fmri(outputdir) \"/home/stevenm/Projects/bias/derivatives/ds-01/feat_files_ppi/sub-07/run-1/limbic/right/B/firstlevel\"\n",
      "set fmri(outputdir) \"/home/stevenm/Projects/bias/derivatives/ds-01/feat_files_ppi/sub-07/run-1/limbic/right/C/firstlevel\"\n",
      "set fmri(outputdir) \"/home/stevenm/Projects/bias/derivatives/ds-01/feat_files_ppi/sub-07/run-1/cognitive/left/A/firstlevel\"\n",
      "set fmri(outputdir) \"/home/stevenm/Projects/bias/derivatives/ds-01/feat_files_ppi/sub-07/run-1/cognitive/left/B/firstlevel\"\n",
      "set fmri(outputdir) \"/home/stevenm/Projects/bias/derivatives/ds-01/feat_files_ppi/sub-07/run-1/cognitive/left/C/firstlevel\"\n",
      "set fmri(outputdir) \"/home/stevenm/Projects/bias/derivatives/ds-01/feat_files_ppi/sub-07/run-1/cognitive/right/A/firstlevel\"\n",
      "set fmri(outputdir) \"/home/stevenm/Projects/bias/derivatives/ds-01/feat_files_ppi/sub-07/run-1/cognitive/right/B/firstlevel\"\n",
      "set fmri(outputdir) \"/home/stevenm/Projects/bias/derivatives/ds-01/feat_files_ppi/sub-07/run-1/cognitive/right/C/firstlevel\"\n",
      "set fmri(outputdir) \"/home/stevenm/Projects/bias/derivatives/ds-01/feat_files_ppi/sub-07/run-2/limbic/left/A/firstlevel\"\n",
      "set fmri(outputdir) \"/home/stevenm/Projects/bias/derivatives/ds-01/feat_files_ppi/sub-07/run-2/limbic/left/B/firstlevel\"\n",
      "set fmri(outputdir) \"/home/stevenm/Projects/bias/derivatives/ds-01/feat_files_ppi/sub-07/run-2/limbic/left/C/firstlevel\"\n",
      "set fmri(outputdir) \"/home/stevenm/Projects/bias/derivatives/ds-01/feat_files_ppi/sub-07/run-2/limbic/right/A/firstlevel\"\n",
      "set fmri(outputdir) \"/home/stevenm/Projects/bias/derivatives/ds-01/feat_files_ppi/sub-07/run-2/limbic/right/B/firstlevel\"\n",
      "set fmri(outputdir) \"/home/stevenm/Projects/bias/derivatives/ds-01/feat_files_ppi/sub-07/run-2/limbic/right/C/firstlevel\"\n",
      "set fmri(outputdir) \"/home/stevenm/Projects/bias/derivatives/ds-01/feat_files_ppi/sub-07/run-2/cognitive/left/A/firstlevel\"\n",
      "set fmri(outputdir) \"/home/stevenm/Projects/bias/derivatives/ds-01/feat_files_ppi/sub-07/run-2/cognitive/left/B/firstlevel\"\n",
      "set fmri(outputdir) \"/home/stevenm/Projects/bias/derivatives/ds-01/feat_files_ppi/sub-07/run-2/cognitive/left/C/firstlevel\"\n",
      "set fmri(outputdir) \"/home/stevenm/Projects/bias/derivatives/ds-01/feat_files_ppi/sub-07/run-2/cognitive/right/A/firstlevel\"\n",
      "set fmri(outputdir) \"/home/stevenm/Projects/bias/derivatives/ds-01/feat_files_ppi/sub-07/run-2/cognitive/right/B/firstlevel\"\n",
      "set fmri(outputdir) \"/home/stevenm/Projects/bias/derivatives/ds-01/feat_files_ppi/sub-07/run-2/cognitive/right/C/firstlevel\"\n",
      "set fmri(outputdir) \"/home/stevenm/Projects/bias/derivatives/ds-01/feat_files_ppi/sub-07/run-3/limbic/left/A/firstlevel\"\n",
      "set fmri(outputdir) \"/home/stevenm/Projects/bias/derivatives/ds-01/feat_files_ppi/sub-07/run-3/limbic/left/B/firstlevel\"\n",
      "set fmri(outputdir) \"/home/stevenm/Projects/bias/derivatives/ds-01/feat_files_ppi/sub-07/run-3/limbic/left/C/firstlevel\"\n",
      "set fmri(outputdir) \"/home/stevenm/Projects/bias/derivatives/ds-01/feat_files_ppi/sub-07/run-3/limbic/right/A/firstlevel\"\n",
      "set fmri(outputdir) \"/home/stevenm/Projects/bias/derivatives/ds-01/feat_files_ppi/sub-07/run-3/limbic/right/B/firstlevel\"\n",
      "set fmri(outputdir) \"/home/stevenm/Projects/bias/derivatives/ds-01/feat_files_ppi/sub-07/run-3/limbic/right/C/firstlevel\"\n",
      "set fmri(outputdir) \"/home/stevenm/Projects/bias/derivatives/ds-01/feat_files_ppi/sub-07/run-3/cognitive/left/A/firstlevel\"\n",
      "set fmri(outputdir) \"/home/stevenm/Projects/bias/derivatives/ds-01/feat_files_ppi/sub-07/run-3/cognitive/left/B/firstlevel\"\n",
      "set fmri(outputdir) \"/home/stevenm/Projects/bias/derivatives/ds-01/feat_files_ppi/sub-07/run-3/cognitive/left/C/firstlevel\"\n",
      "set fmri(outputdir) \"/home/stevenm/Projects/bias/derivatives/ds-01/feat_files_ppi/sub-07/run-3/cognitive/right/A/firstlevel\"\n",
      "set fmri(outputdir) \"/home/stevenm/Projects/bias/derivatives/ds-01/feat_files_ppi/sub-07/run-3/cognitive/right/B/firstlevel\"\n",
      "set fmri(outputdir) \"/home/stevenm/Projects/bias/derivatives/ds-01/feat_files_ppi/sub-07/run-3/cognitive/right/C/firstlevel\"\n",
      "set fmri(outputdir) \"/home/stevenm/Projects/bias/derivatives/ds-01/feat_files_ppi/sub-08/run-1/limbic/left/A/firstlevel\"\n",
      "set fmri(outputdir) \"/home/stevenm/Projects/bias/derivatives/ds-01/feat_files_ppi/sub-08/run-1/limbic/left/B/firstlevel\"\n",
      "set fmri(outputdir) \"/home/stevenm/Projects/bias/derivatives/ds-01/feat_files_ppi/sub-08/run-1/limbic/left/C/firstlevel\"\n",
      "set fmri(outputdir) \"/home/stevenm/Projects/bias/derivatives/ds-01/feat_files_ppi/sub-08/run-1/limbic/right/A/firstlevel\"\n",
      "set fmri(outputdir) \"/home/stevenm/Projects/bias/derivatives/ds-01/feat_files_ppi/sub-08/run-1/limbic/right/B/firstlevel\"\n",
      "set fmri(outputdir) \"/home/stevenm/Projects/bias/derivatives/ds-01/feat_files_ppi/sub-08/run-1/limbic/right/C/firstlevel\"\n",
      "set fmri(outputdir) \"/home/stevenm/Projects/bias/derivatives/ds-01/feat_files_ppi/sub-08/run-1/cognitive/left/A/firstlevel\"\n",
      "set fmri(outputdir) \"/home/stevenm/Projects/bias/derivatives/ds-01/feat_files_ppi/sub-08/run-1/cognitive/left/B/firstlevel\"\n",
      "set fmri(outputdir) \"/home/stevenm/Projects/bias/derivatives/ds-01/feat_files_ppi/sub-08/run-1/cognitive/left/C/firstlevel\"\n",
      "set fmri(outputdir) \"/home/stevenm/Projects/bias/derivatives/ds-01/feat_files_ppi/sub-08/run-1/cognitive/right/A/firstlevel\"\n",
      "set fmri(outputdir) \"/home/stevenm/Projects/bias/derivatives/ds-01/feat_files_ppi/sub-08/run-1/cognitive/right/B/firstlevel\"\n",
      "set fmri(outputdir) \"/home/stevenm/Projects/bias/derivatives/ds-01/feat_files_ppi/sub-08/run-1/cognitive/right/C/firstlevel\"\n",
      "set fmri(outputdir) \"/home/stevenm/Projects/bias/derivatives/ds-01/feat_files_ppi/sub-08/run-2/limbic/left/A/firstlevel\"\n",
      "set fmri(outputdir) \"/home/stevenm/Projects/bias/derivatives/ds-01/feat_files_ppi/sub-08/run-2/limbic/left/B/firstlevel\"\n",
      "set fmri(outputdir) \"/home/stevenm/Projects/bias/derivatives/ds-01/feat_files_ppi/sub-08/run-2/limbic/left/C/firstlevel\"\n",
      "set fmri(outputdir) \"/home/stevenm/Projects/bias/derivatives/ds-01/feat_files_ppi/sub-08/run-2/limbic/right/A/firstlevel\"\n",
      "set fmri(outputdir) \"/home/stevenm/Projects/bias/derivatives/ds-01/feat_files_ppi/sub-08/run-2/limbic/right/B/firstlevel\"\n",
      "set fmri(outputdir) \"/home/stevenm/Projects/bias/derivatives/ds-01/feat_files_ppi/sub-08/run-2/limbic/right/C/firstlevel\"\n",
      "set fmri(outputdir) \"/home/stevenm/Projects/bias/derivatives/ds-01/feat_files_ppi/sub-08/run-2/cognitive/left/A/firstlevel\"\n",
      "set fmri(outputdir) \"/home/stevenm/Projects/bias/derivatives/ds-01/feat_files_ppi/sub-08/run-2/cognitive/left/B/firstlevel\"\n",
      "set fmri(outputdir) \"/home/stevenm/Projects/bias/derivatives/ds-01/feat_files_ppi/sub-08/run-2/cognitive/left/C/firstlevel\"\n",
      "set fmri(outputdir) \"/home/stevenm/Projects/bias/derivatives/ds-01/feat_files_ppi/sub-08/run-2/cognitive/right/A/firstlevel\"\n",
      "set fmri(outputdir) \"/home/stevenm/Projects/bias/derivatives/ds-01/feat_files_ppi/sub-08/run-2/cognitive/right/B/firstlevel\"\n",
      "set fmri(outputdir) \"/home/stevenm/Projects/bias/derivatives/ds-01/feat_files_ppi/sub-08/run-2/cognitive/right/C/firstlevel\"\n",
      "set fmri(outputdir) \"/home/stevenm/Projects/bias/derivatives/ds-01/feat_files_ppi/sub-08/run-3/limbic/left/A/firstlevel\"\n",
      "set fmri(outputdir) \"/home/stevenm/Projects/bias/derivatives/ds-01/feat_files_ppi/sub-08/run-3/limbic/left/B/firstlevel\"\n",
      "set fmri(outputdir) \"/home/stevenm/Projects/bias/derivatives/ds-01/feat_files_ppi/sub-08/run-3/limbic/left/C/firstlevel\"\n",
      "set fmri(outputdir) \"/home/stevenm/Projects/bias/derivatives/ds-01/feat_files_ppi/sub-08/run-3/limbic/right/A/firstlevel\"\n",
      "set fmri(outputdir) \"/home/stevenm/Projects/bias/derivatives/ds-01/feat_files_ppi/sub-08/run-3/limbic/right/B/firstlevel\"\n",
      "set fmri(outputdir) \"/home/stevenm/Projects/bias/derivatives/ds-01/feat_files_ppi/sub-08/run-3/limbic/right/C/firstlevel\"\n",
      "set fmri(outputdir) \"/home/stevenm/Projects/bias/derivatives/ds-01/feat_files_ppi/sub-08/run-3/cognitive/left/A/firstlevel\"\n",
      "set fmri(outputdir) \"/home/stevenm/Projects/bias/derivatives/ds-01/feat_files_ppi/sub-08/run-3/cognitive/left/B/firstlevel\"\n",
      "set fmri(outputdir) \"/home/stevenm/Projects/bias/derivatives/ds-01/feat_files_ppi/sub-08/run-3/cognitive/left/C/firstlevel\"\n",
      "set fmri(outputdir) \"/home/stevenm/Projects/bias/derivatives/ds-01/feat_files_ppi/sub-08/run-3/cognitive/right/A/firstlevel\"\n",
      "set fmri(outputdir) \"/home/stevenm/Projects/bias/derivatives/ds-01/feat_files_ppi/sub-08/run-3/cognitive/right/B/firstlevel\"\n",
      "set fmri(outputdir) \"/home/stevenm/Projects/bias/derivatives/ds-01/feat_files_ppi/sub-08/run-3/cognitive/right/C/firstlevel\"\n",
      "set fmri(outputdir) \"/home/stevenm/Projects/bias/derivatives/ds-01/feat_files_ppi/sub-09/run-1/limbic/left/A/firstlevel\"\n",
      "set fmri(outputdir) \"/home/stevenm/Projects/bias/derivatives/ds-01/feat_files_ppi/sub-09/run-1/limbic/left/B/firstlevel\"\n",
      "set fmri(outputdir) \"/home/stevenm/Projects/bias/derivatives/ds-01/feat_files_ppi/sub-09/run-1/limbic/left/C/firstlevel\"\n",
      "set fmri(outputdir) \"/home/stevenm/Projects/bias/derivatives/ds-01/feat_files_ppi/sub-09/run-1/limbic/right/A/firstlevel\"\n",
      "set fmri(outputdir) \"/home/stevenm/Projects/bias/derivatives/ds-01/feat_files_ppi/sub-09/run-1/limbic/right/B/firstlevel\"\n",
      "set fmri(outputdir) \"/home/stevenm/Projects/bias/derivatives/ds-01/feat_files_ppi/sub-09/run-1/limbic/right/C/firstlevel\"\n",
      "set fmri(outputdir) \"/home/stevenm/Projects/bias/derivatives/ds-01/feat_files_ppi/sub-09/run-1/cognitive/left/A/firstlevel\"\n",
      "set fmri(outputdir) \"/home/stevenm/Projects/bias/derivatives/ds-01/feat_files_ppi/sub-09/run-1/cognitive/left/B/firstlevel\"\n",
      "set fmri(outputdir) \"/home/stevenm/Projects/bias/derivatives/ds-01/feat_files_ppi/sub-09/run-1/cognitive/left/C/firstlevel\"\n",
      "set fmri(outputdir) \"/home/stevenm/Projects/bias/derivatives/ds-01/feat_files_ppi/sub-09/run-1/cognitive/right/A/firstlevel\"\n",
      "set fmri(outputdir) \"/home/stevenm/Projects/bias/derivatives/ds-01/feat_files_ppi/sub-09/run-1/cognitive/right/B/firstlevel\"\n",
      "set fmri(outputdir) \"/home/stevenm/Projects/bias/derivatives/ds-01/feat_files_ppi/sub-09/run-1/cognitive/right/C/firstlevel\"\n",
      "set fmri(outputdir) \"/home/stevenm/Projects/bias/derivatives/ds-01/feat_files_ppi/sub-09/run-2/limbic/left/A/firstlevel\"\n",
      "set fmri(outputdir) \"/home/stevenm/Projects/bias/derivatives/ds-01/feat_files_ppi/sub-09/run-2/limbic/left/B/firstlevel\"\n",
      "set fmri(outputdir) \"/home/stevenm/Projects/bias/derivatives/ds-01/feat_files_ppi/sub-09/run-2/limbic/left/C/firstlevel\"\n",
      "set fmri(outputdir) \"/home/stevenm/Projects/bias/derivatives/ds-01/feat_files_ppi/sub-09/run-2/limbic/right/A/firstlevel\"\n",
      "set fmri(outputdir) \"/home/stevenm/Projects/bias/derivatives/ds-01/feat_files_ppi/sub-09/run-2/limbic/right/B/firstlevel\"\n",
      "set fmri(outputdir) \"/home/stevenm/Projects/bias/derivatives/ds-01/feat_files_ppi/sub-09/run-2/limbic/right/C/firstlevel\"\n",
      "set fmri(outputdir) \"/home/stevenm/Projects/bias/derivatives/ds-01/feat_files_ppi/sub-09/run-2/cognitive/left/A/firstlevel\"\n",
      "set fmri(outputdir) \"/home/stevenm/Projects/bias/derivatives/ds-01/feat_files_ppi/sub-09/run-2/cognitive/left/B/firstlevel\"\n",
      "set fmri(outputdir) \"/home/stevenm/Projects/bias/derivatives/ds-01/feat_files_ppi/sub-09/run-2/cognitive/left/C/firstlevel\"\n",
      "set fmri(outputdir) \"/home/stevenm/Projects/bias/derivatives/ds-01/feat_files_ppi/sub-09/run-2/cognitive/right/A/firstlevel\"\n",
      "set fmri(outputdir) \"/home/stevenm/Projects/bias/derivatives/ds-01/feat_files_ppi/sub-09/run-2/cognitive/right/B/firstlevel\"\n",
      "set fmri(outputdir) \"/home/stevenm/Projects/bias/derivatives/ds-01/feat_files_ppi/sub-09/run-2/cognitive/right/C/firstlevel\"\n",
      "set fmri(outputdir) \"/home/stevenm/Projects/bias/derivatives/ds-01/feat_files_ppi/sub-09/run-3/limbic/left/A/firstlevel\"\n",
      "set fmri(outputdir) \"/home/stevenm/Projects/bias/derivatives/ds-01/feat_files_ppi/sub-09/run-3/limbic/left/B/firstlevel\"\n",
      "set fmri(outputdir) \"/home/stevenm/Projects/bias/derivatives/ds-01/feat_files_ppi/sub-09/run-3/limbic/left/C/firstlevel\"\n",
      "set fmri(outputdir) \"/home/stevenm/Projects/bias/derivatives/ds-01/feat_files_ppi/sub-09/run-3/limbic/right/A/firstlevel\"\n",
      "set fmri(outputdir) \"/home/stevenm/Projects/bias/derivatives/ds-01/feat_files_ppi/sub-09/run-3/limbic/right/B/firstlevel\"\n",
      "set fmri(outputdir) \"/home/stevenm/Projects/bias/derivatives/ds-01/feat_files_ppi/sub-09/run-3/limbic/right/C/firstlevel\"\n",
      "set fmri(outputdir) \"/home/stevenm/Projects/bias/derivatives/ds-01/feat_files_ppi/sub-09/run-3/cognitive/left/A/firstlevel\"\n",
      "set fmri(outputdir) \"/home/stevenm/Projects/bias/derivatives/ds-01/feat_files_ppi/sub-09/run-3/cognitive/left/B/firstlevel\"\n",
      "set fmri(outputdir) \"/home/stevenm/Projects/bias/derivatives/ds-01/feat_files_ppi/sub-09/run-3/cognitive/left/C/firstlevel\"\n",
      "set fmri(outputdir) \"/home/stevenm/Projects/bias/derivatives/ds-01/feat_files_ppi/sub-09/run-3/cognitive/right/A/firstlevel\"\n",
      "set fmri(outputdir) \"/home/stevenm/Projects/bias/derivatives/ds-01/feat_files_ppi/sub-09/run-3/cognitive/right/B/firstlevel\"\n",
      "set fmri(outputdir) \"/home/stevenm/Projects/bias/derivatives/ds-01/feat_files_ppi/sub-09/run-3/cognitive/right/C/firstlevel\"\n",
      "set fmri(outputdir) \"/home/stevenm/Projects/bias/derivatives/ds-01/feat_files_ppi/sub-10/run-1/limbic/left/A/firstlevel\"\n",
      "set fmri(outputdir) \"/home/stevenm/Projects/bias/derivatives/ds-01/feat_files_ppi/sub-10/run-1/limbic/left/B/firstlevel\"\n",
      "set fmri(outputdir) \"/home/stevenm/Projects/bias/derivatives/ds-01/feat_files_ppi/sub-10/run-1/limbic/left/C/firstlevel\"\n",
      "set fmri(outputdir) \"/home/stevenm/Projects/bias/derivatives/ds-01/feat_files_ppi/sub-10/run-1/limbic/right/A/firstlevel\"\n",
      "set fmri(outputdir) \"/home/stevenm/Projects/bias/derivatives/ds-01/feat_files_ppi/sub-10/run-1/limbic/right/B/firstlevel\"\n",
      "set fmri(outputdir) \"/home/stevenm/Projects/bias/derivatives/ds-01/feat_files_ppi/sub-10/run-1/limbic/right/C/firstlevel\"\n",
      "set fmri(outputdir) \"/home/stevenm/Projects/bias/derivatives/ds-01/feat_files_ppi/sub-10/run-1/cognitive/left/A/firstlevel\"\n",
      "set fmri(outputdir) \"/home/stevenm/Projects/bias/derivatives/ds-01/feat_files_ppi/sub-10/run-1/cognitive/left/B/firstlevel\"\n",
      "set fmri(outputdir) \"/home/stevenm/Projects/bias/derivatives/ds-01/feat_files_ppi/sub-10/run-1/cognitive/left/C/firstlevel\"\n",
      "set fmri(outputdir) \"/home/stevenm/Projects/bias/derivatives/ds-01/feat_files_ppi/sub-10/run-1/cognitive/right/A/firstlevel\"\n",
      "set fmri(outputdir) \"/home/stevenm/Projects/bias/derivatives/ds-01/feat_files_ppi/sub-10/run-1/cognitive/right/B/firstlevel\"\n",
      "set fmri(outputdir) \"/home/stevenm/Projects/bias/derivatives/ds-01/feat_files_ppi/sub-10/run-1/cognitive/right/C/firstlevel\"\n",
      "set fmri(outputdir) \"/home/stevenm/Projects/bias/derivatives/ds-01/feat_files_ppi/sub-10/run-2/limbic/left/A/firstlevel\"\n",
      "set fmri(outputdir) \"/home/stevenm/Projects/bias/derivatives/ds-01/feat_files_ppi/sub-10/run-2/limbic/left/B/firstlevel\"\n",
      "set fmri(outputdir) \"/home/stevenm/Projects/bias/derivatives/ds-01/feat_files_ppi/sub-10/run-2/limbic/left/C/firstlevel\"\n",
      "set fmri(outputdir) \"/home/stevenm/Projects/bias/derivatives/ds-01/feat_files_ppi/sub-10/run-2/limbic/right/A/firstlevel\"\n",
      "set fmri(outputdir) \"/home/stevenm/Projects/bias/derivatives/ds-01/feat_files_ppi/sub-10/run-2/limbic/right/B/firstlevel\"\n",
      "set fmri(outputdir) \"/home/stevenm/Projects/bias/derivatives/ds-01/feat_files_ppi/sub-10/run-2/limbic/right/C/firstlevel\"\n",
      "set fmri(outputdir) \"/home/stevenm/Projects/bias/derivatives/ds-01/feat_files_ppi/sub-10/run-2/cognitive/left/A/firstlevel\"\n",
      "set fmri(outputdir) \"/home/stevenm/Projects/bias/derivatives/ds-01/feat_files_ppi/sub-10/run-2/cognitive/left/B/firstlevel\"\n",
      "set fmri(outputdir) \"/home/stevenm/Projects/bias/derivatives/ds-01/feat_files_ppi/sub-10/run-2/cognitive/left/C/firstlevel\"\n",
      "set fmri(outputdir) \"/home/stevenm/Projects/bias/derivatives/ds-01/feat_files_ppi/sub-10/run-2/cognitive/right/A/firstlevel\"\n",
      "set fmri(outputdir) \"/home/stevenm/Projects/bias/derivatives/ds-01/feat_files_ppi/sub-10/run-2/cognitive/right/B/firstlevel\"\n",
      "set fmri(outputdir) \"/home/stevenm/Projects/bias/derivatives/ds-01/feat_files_ppi/sub-10/run-2/cognitive/right/C/firstlevel\"\n",
      "set fmri(outputdir) \"/home/stevenm/Projects/bias/derivatives/ds-01/feat_files_ppi/sub-10/run-3/limbic/left/A/firstlevel\"\n",
      "set fmri(outputdir) \"/home/stevenm/Projects/bias/derivatives/ds-01/feat_files_ppi/sub-10/run-3/limbic/left/B/firstlevel\"\n",
      "set fmri(outputdir) \"/home/stevenm/Projects/bias/derivatives/ds-01/feat_files_ppi/sub-10/run-3/limbic/left/C/firstlevel\"\n",
      "set fmri(outputdir) \"/home/stevenm/Projects/bias/derivatives/ds-01/feat_files_ppi/sub-10/run-3/limbic/right/A/firstlevel\"\n",
      "set fmri(outputdir) \"/home/stevenm/Projects/bias/derivatives/ds-01/feat_files_ppi/sub-10/run-3/limbic/right/B/firstlevel\"\n",
      "set fmri(outputdir) \"/home/stevenm/Projects/bias/derivatives/ds-01/feat_files_ppi/sub-10/run-3/limbic/right/C/firstlevel\"\n",
      "set fmri(outputdir) \"/home/stevenm/Projects/bias/derivatives/ds-01/feat_files_ppi/sub-10/run-3/cognitive/left/A/firstlevel\"\n",
      "set fmri(outputdir) \"/home/stevenm/Projects/bias/derivatives/ds-01/feat_files_ppi/sub-10/run-3/cognitive/left/B/firstlevel\"\n",
      "set fmri(outputdir) \"/home/stevenm/Projects/bias/derivatives/ds-01/feat_files_ppi/sub-10/run-3/cognitive/left/C/firstlevel\"\n",
      "set fmri(outputdir) \"/home/stevenm/Projects/bias/derivatives/ds-01/feat_files_ppi/sub-10/run-3/cognitive/right/A/firstlevel\"\n",
      "set fmri(outputdir) \"/home/stevenm/Projects/bias/derivatives/ds-01/feat_files_ppi/sub-10/run-3/cognitive/right/B/firstlevel\"\n",
      "set fmri(outputdir) \"/home/stevenm/Projects/bias/derivatives/ds-01/feat_files_ppi/sub-10/run-3/cognitive/right/C/firstlevel\"\n",
      "set fmri(outputdir) \"/home/stevenm/Projects/bias/derivatives/ds-01/feat_files_ppi/sub-11/run-1/limbic/left/A/firstlevel\"\n",
      "set fmri(outputdir) \"/home/stevenm/Projects/bias/derivatives/ds-01/feat_files_ppi/sub-11/run-1/limbic/left/B/firstlevel\"\n",
      "set fmri(outputdir) \"/home/stevenm/Projects/bias/derivatives/ds-01/feat_files_ppi/sub-11/run-1/limbic/left/C/firstlevel\"\n",
      "set fmri(outputdir) \"/home/stevenm/Projects/bias/derivatives/ds-01/feat_files_ppi/sub-11/run-1/limbic/right/A/firstlevel\"\n",
      "set fmri(outputdir) \"/home/stevenm/Projects/bias/derivatives/ds-01/feat_files_ppi/sub-11/run-1/limbic/right/B/firstlevel\"\n",
      "set fmri(outputdir) \"/home/stevenm/Projects/bias/derivatives/ds-01/feat_files_ppi/sub-11/run-1/limbic/right/C/firstlevel\"\n",
      "set fmri(outputdir) \"/home/stevenm/Projects/bias/derivatives/ds-01/feat_files_ppi/sub-11/run-1/cognitive/left/A/firstlevel\"\n",
      "set fmri(outputdir) \"/home/stevenm/Projects/bias/derivatives/ds-01/feat_files_ppi/sub-11/run-1/cognitive/left/B/firstlevel\"\n",
      "set fmri(outputdir) \"/home/stevenm/Projects/bias/derivatives/ds-01/feat_files_ppi/sub-11/run-1/cognitive/left/C/firstlevel\"\n",
      "set fmri(outputdir) \"/home/stevenm/Projects/bias/derivatives/ds-01/feat_files_ppi/sub-11/run-1/cognitive/right/A/firstlevel\"\n",
      "set fmri(outputdir) \"/home/stevenm/Projects/bias/derivatives/ds-01/feat_files_ppi/sub-11/run-1/cognitive/right/B/firstlevel\"\n",
      "set fmri(outputdir) \"/home/stevenm/Projects/bias/derivatives/ds-01/feat_files_ppi/sub-11/run-1/cognitive/right/C/firstlevel\"\n",
      "set fmri(outputdir) \"/home/stevenm/Projects/bias/derivatives/ds-01/feat_files_ppi/sub-11/run-2/limbic/left/A/firstlevel\"\n",
      "set fmri(outputdir) \"/home/stevenm/Projects/bias/derivatives/ds-01/feat_files_ppi/sub-11/run-2/limbic/left/B/firstlevel\"\n",
      "set fmri(outputdir) \"/home/stevenm/Projects/bias/derivatives/ds-01/feat_files_ppi/sub-11/run-2/limbic/left/C/firstlevel\"\n",
      "set fmri(outputdir) \"/home/stevenm/Projects/bias/derivatives/ds-01/feat_files_ppi/sub-11/run-2/limbic/right/A/firstlevel\"\n",
      "set fmri(outputdir) \"/home/stevenm/Projects/bias/derivatives/ds-01/feat_files_ppi/sub-11/run-2/limbic/right/B/firstlevel\"\n",
      "set fmri(outputdir) \"/home/stevenm/Projects/bias/derivatives/ds-01/feat_files_ppi/sub-11/run-2/limbic/right/C/firstlevel\"\n",
      "set fmri(outputdir) \"/home/stevenm/Projects/bias/derivatives/ds-01/feat_files_ppi/sub-11/run-2/cognitive/left/A/firstlevel\"\n",
      "set fmri(outputdir) \"/home/stevenm/Projects/bias/derivatives/ds-01/feat_files_ppi/sub-11/run-2/cognitive/left/B/firstlevel\"\n",
      "set fmri(outputdir) \"/home/stevenm/Projects/bias/derivatives/ds-01/feat_files_ppi/sub-11/run-2/cognitive/left/C/firstlevel\"\n",
      "set fmri(outputdir) \"/home/stevenm/Projects/bias/derivatives/ds-01/feat_files_ppi/sub-11/run-2/cognitive/right/A/firstlevel\"\n",
      "set fmri(outputdir) \"/home/stevenm/Projects/bias/derivatives/ds-01/feat_files_ppi/sub-11/run-2/cognitive/right/B/firstlevel\"\n",
      "set fmri(outputdir) \"/home/stevenm/Projects/bias/derivatives/ds-01/feat_files_ppi/sub-11/run-2/cognitive/right/C/firstlevel\"\n",
      "set fmri(outputdir) \"/home/stevenm/Projects/bias/derivatives/ds-01/feat_files_ppi/sub-11/run-3/limbic/left/A/firstlevel\"\n",
      "set fmri(outputdir) \"/home/stevenm/Projects/bias/derivatives/ds-01/feat_files_ppi/sub-11/run-3/limbic/left/B/firstlevel\"\n",
      "set fmri(outputdir) \"/home/stevenm/Projects/bias/derivatives/ds-01/feat_files_ppi/sub-11/run-3/limbic/left/C/firstlevel\"\n",
      "set fmri(outputdir) \"/home/stevenm/Projects/bias/derivatives/ds-01/feat_files_ppi/sub-11/run-3/limbic/right/A/firstlevel\"\n",
      "set fmri(outputdir) \"/home/stevenm/Projects/bias/derivatives/ds-01/feat_files_ppi/sub-11/run-3/limbic/right/B/firstlevel\"\n",
      "set fmri(outputdir) \"/home/stevenm/Projects/bias/derivatives/ds-01/feat_files_ppi/sub-11/run-3/limbic/right/C/firstlevel\"\n",
      "set fmri(outputdir) \"/home/stevenm/Projects/bias/derivatives/ds-01/feat_files_ppi/sub-11/run-3/cognitive/left/A/firstlevel\"\n",
      "set fmri(outputdir) \"/home/stevenm/Projects/bias/derivatives/ds-01/feat_files_ppi/sub-11/run-3/cognitive/left/B/firstlevel\"\n",
      "set fmri(outputdir) \"/home/stevenm/Projects/bias/derivatives/ds-01/feat_files_ppi/sub-11/run-3/cognitive/left/C/firstlevel\"\n",
      "set fmri(outputdir) \"/home/stevenm/Projects/bias/derivatives/ds-01/feat_files_ppi/sub-11/run-3/cognitive/right/A/firstlevel\"\n",
      "set fmri(outputdir) \"/home/stevenm/Projects/bias/derivatives/ds-01/feat_files_ppi/sub-11/run-3/cognitive/right/B/firstlevel\"\n",
      "set fmri(outputdir) \"/home/stevenm/Projects/bias/derivatives/ds-01/feat_files_ppi/sub-11/run-3/cognitive/right/C/firstlevel\"\n",
      "set fmri(outputdir) \"/home/stevenm/Projects/bias/derivatives/ds-01/feat_files_ppi/sub-12/run-1/limbic/left/A/firstlevel\"\n",
      "set fmri(outputdir) \"/home/stevenm/Projects/bias/derivatives/ds-01/feat_files_ppi/sub-12/run-1/limbic/left/B/firstlevel\"\n",
      "set fmri(outputdir) \"/home/stevenm/Projects/bias/derivatives/ds-01/feat_files_ppi/sub-12/run-1/limbic/left/C/firstlevel\"\n",
      "set fmri(outputdir) \"/home/stevenm/Projects/bias/derivatives/ds-01/feat_files_ppi/sub-12/run-1/limbic/right/A/firstlevel\"\n",
      "set fmri(outputdir) \"/home/stevenm/Projects/bias/derivatives/ds-01/feat_files_ppi/sub-12/run-1/limbic/right/B/firstlevel\"\n",
      "set fmri(outputdir) \"/home/stevenm/Projects/bias/derivatives/ds-01/feat_files_ppi/sub-12/run-1/limbic/right/C/firstlevel\"\n",
      "set fmri(outputdir) \"/home/stevenm/Projects/bias/derivatives/ds-01/feat_files_ppi/sub-12/run-1/cognitive/left/A/firstlevel\"\n",
      "set fmri(outputdir) \"/home/stevenm/Projects/bias/derivatives/ds-01/feat_files_ppi/sub-12/run-1/cognitive/left/B/firstlevel\"\n",
      "set fmri(outputdir) \"/home/stevenm/Projects/bias/derivatives/ds-01/feat_files_ppi/sub-12/run-1/cognitive/left/C/firstlevel\"\n",
      "set fmri(outputdir) \"/home/stevenm/Projects/bias/derivatives/ds-01/feat_files_ppi/sub-12/run-1/cognitive/right/A/firstlevel\"\n",
      "set fmri(outputdir) \"/home/stevenm/Projects/bias/derivatives/ds-01/feat_files_ppi/sub-12/run-1/cognitive/right/B/firstlevel\"\n",
      "set fmri(outputdir) \"/home/stevenm/Projects/bias/derivatives/ds-01/feat_files_ppi/sub-12/run-1/cognitive/right/C/firstlevel\"\n",
      "set fmri(outputdir) \"/home/stevenm/Projects/bias/derivatives/ds-01/feat_files_ppi/sub-12/run-2/limbic/left/A/firstlevel\"\n",
      "set fmri(outputdir) \"/home/stevenm/Projects/bias/derivatives/ds-01/feat_files_ppi/sub-12/run-2/limbic/left/B/firstlevel\"\n",
      "set fmri(outputdir) \"/home/stevenm/Projects/bias/derivatives/ds-01/feat_files_ppi/sub-12/run-2/limbic/left/C/firstlevel\"\n",
      "set fmri(outputdir) \"/home/stevenm/Projects/bias/derivatives/ds-01/feat_files_ppi/sub-12/run-2/limbic/right/A/firstlevel\"\n",
      "set fmri(outputdir) \"/home/stevenm/Projects/bias/derivatives/ds-01/feat_files_ppi/sub-12/run-2/limbic/right/B/firstlevel\"\n",
      "set fmri(outputdir) \"/home/stevenm/Projects/bias/derivatives/ds-01/feat_files_ppi/sub-12/run-2/limbic/right/C/firstlevel\"\n",
      "set fmri(outputdir) \"/home/stevenm/Projects/bias/derivatives/ds-01/feat_files_ppi/sub-12/run-2/cognitive/left/A/firstlevel\"\n",
      "set fmri(outputdir) \"/home/stevenm/Projects/bias/derivatives/ds-01/feat_files_ppi/sub-12/run-2/cognitive/left/B/firstlevel\"\n",
      "set fmri(outputdir) \"/home/stevenm/Projects/bias/derivatives/ds-01/feat_files_ppi/sub-12/run-2/cognitive/left/C/firstlevel\"\n",
      "set fmri(outputdir) \"/home/stevenm/Projects/bias/derivatives/ds-01/feat_files_ppi/sub-12/run-2/cognitive/right/A/firstlevel\"\n",
      "set fmri(outputdir) \"/home/stevenm/Projects/bias/derivatives/ds-01/feat_files_ppi/sub-12/run-2/cognitive/right/B/firstlevel\"\n",
      "set fmri(outputdir) \"/home/stevenm/Projects/bias/derivatives/ds-01/feat_files_ppi/sub-12/run-2/cognitive/right/C/firstlevel\"\n",
      "set fmri(outputdir) \"/home/stevenm/Projects/bias/derivatives/ds-01/feat_files_ppi/sub-12/run-3/limbic/left/A/firstlevel\"\n",
      "set fmri(outputdir) \"/home/stevenm/Projects/bias/derivatives/ds-01/feat_files_ppi/sub-12/run-3/limbic/left/B/firstlevel\"\n",
      "set fmri(outputdir) \"/home/stevenm/Projects/bias/derivatives/ds-01/feat_files_ppi/sub-12/run-3/limbic/left/C/firstlevel\"\n",
      "set fmri(outputdir) \"/home/stevenm/Projects/bias/derivatives/ds-01/feat_files_ppi/sub-12/run-3/limbic/right/A/firstlevel\"\n",
      "set fmri(outputdir) \"/home/stevenm/Projects/bias/derivatives/ds-01/feat_files_ppi/sub-12/run-3/limbic/right/B/firstlevel\"\n",
      "set fmri(outputdir) \"/home/stevenm/Projects/bias/derivatives/ds-01/feat_files_ppi/sub-12/run-3/limbic/right/C/firstlevel\"\n",
      "set fmri(outputdir) \"/home/stevenm/Projects/bias/derivatives/ds-01/feat_files_ppi/sub-12/run-3/cognitive/left/A/firstlevel\"\n",
      "set fmri(outputdir) \"/home/stevenm/Projects/bias/derivatives/ds-01/feat_files_ppi/sub-12/run-3/cognitive/left/B/firstlevel\"\n",
      "set fmri(outputdir) \"/home/stevenm/Projects/bias/derivatives/ds-01/feat_files_ppi/sub-12/run-3/cognitive/left/C/firstlevel\"\n",
      "set fmri(outputdir) \"/home/stevenm/Projects/bias/derivatives/ds-01/feat_files_ppi/sub-12/run-3/cognitive/right/A/firstlevel\"\n",
      "set fmri(outputdir) \"/home/stevenm/Projects/bias/derivatives/ds-01/feat_files_ppi/sub-12/run-3/cognitive/right/B/firstlevel\"\n",
      "set fmri(outputdir) \"/home/stevenm/Projects/bias/derivatives/ds-01/feat_files_ppi/sub-12/run-3/cognitive/right/C/firstlevel\"\n",
      "set fmri(outputdir) \"/home/stevenm/Projects/bias/derivatives/ds-01/feat_files_ppi/sub-13/run-1/limbic/left/A/firstlevel\"\n",
      "set fmri(outputdir) \"/home/stevenm/Projects/bias/derivatives/ds-01/feat_files_ppi/sub-13/run-1/limbic/left/B/firstlevel\"\n",
      "set fmri(outputdir) \"/home/stevenm/Projects/bias/derivatives/ds-01/feat_files_ppi/sub-13/run-1/limbic/left/C/firstlevel\"\n",
      "set fmri(outputdir) \"/home/stevenm/Projects/bias/derivatives/ds-01/feat_files_ppi/sub-13/run-1/limbic/right/A/firstlevel\"\n",
      "set fmri(outputdir) \"/home/stevenm/Projects/bias/derivatives/ds-01/feat_files_ppi/sub-13/run-1/limbic/right/B/firstlevel\"\n",
      "set fmri(outputdir) \"/home/stevenm/Projects/bias/derivatives/ds-01/feat_files_ppi/sub-13/run-1/limbic/right/C/firstlevel\"\n",
      "set fmri(outputdir) \"/home/stevenm/Projects/bias/derivatives/ds-01/feat_files_ppi/sub-13/run-1/cognitive/left/A/firstlevel\"\n",
      "set fmri(outputdir) \"/home/stevenm/Projects/bias/derivatives/ds-01/feat_files_ppi/sub-13/run-1/cognitive/left/B/firstlevel\"\n",
      "set fmri(outputdir) \"/home/stevenm/Projects/bias/derivatives/ds-01/feat_files_ppi/sub-13/run-1/cognitive/left/C/firstlevel\"\n",
      "set fmri(outputdir) \"/home/stevenm/Projects/bias/derivatives/ds-01/feat_files_ppi/sub-13/run-1/cognitive/right/A/firstlevel\"\n",
      "set fmri(outputdir) \"/home/stevenm/Projects/bias/derivatives/ds-01/feat_files_ppi/sub-13/run-1/cognitive/right/B/firstlevel\"\n",
      "set fmri(outputdir) \"/home/stevenm/Projects/bias/derivatives/ds-01/feat_files_ppi/sub-13/run-1/cognitive/right/C/firstlevel\"\n",
      "set fmri(outputdir) \"/home/stevenm/Projects/bias/derivatives/ds-01/feat_files_ppi/sub-13/run-2/limbic/left/A/firstlevel\"\n",
      "set fmri(outputdir) \"/home/stevenm/Projects/bias/derivatives/ds-01/feat_files_ppi/sub-13/run-2/limbic/left/B/firstlevel\"\n",
      "set fmri(outputdir) \"/home/stevenm/Projects/bias/derivatives/ds-01/feat_files_ppi/sub-13/run-2/limbic/left/C/firstlevel\"\n",
      "set fmri(outputdir) \"/home/stevenm/Projects/bias/derivatives/ds-01/feat_files_ppi/sub-13/run-2/limbic/right/A/firstlevel\"\n",
      "set fmri(outputdir) \"/home/stevenm/Projects/bias/derivatives/ds-01/feat_files_ppi/sub-13/run-2/limbic/right/B/firstlevel\"\n",
      "set fmri(outputdir) \"/home/stevenm/Projects/bias/derivatives/ds-01/feat_files_ppi/sub-13/run-2/limbic/right/C/firstlevel\"\n",
      "set fmri(outputdir) \"/home/stevenm/Projects/bias/derivatives/ds-01/feat_files_ppi/sub-13/run-2/cognitive/left/A/firstlevel\"\n",
      "set fmri(outputdir) \"/home/stevenm/Projects/bias/derivatives/ds-01/feat_files_ppi/sub-13/run-2/cognitive/left/B/firstlevel\"\n",
      "set fmri(outputdir) \"/home/stevenm/Projects/bias/derivatives/ds-01/feat_files_ppi/sub-13/run-2/cognitive/left/C/firstlevel\"\n",
      "set fmri(outputdir) \"/home/stevenm/Projects/bias/derivatives/ds-01/feat_files_ppi/sub-13/run-2/cognitive/right/A/firstlevel\"\n",
      "set fmri(outputdir) \"/home/stevenm/Projects/bias/derivatives/ds-01/feat_files_ppi/sub-13/run-2/cognitive/right/B/firstlevel\"\n",
      "set fmri(outputdir) \"/home/stevenm/Projects/bias/derivatives/ds-01/feat_files_ppi/sub-13/run-2/cognitive/right/C/firstlevel\"\n",
      "set fmri(outputdir) \"/home/stevenm/Projects/bias/derivatives/ds-01/feat_files_ppi/sub-13/run-3/limbic/left/A/firstlevel\"\n",
      "set fmri(outputdir) \"/home/stevenm/Projects/bias/derivatives/ds-01/feat_files_ppi/sub-13/run-3/limbic/left/B/firstlevel\"\n",
      "set fmri(outputdir) \"/home/stevenm/Projects/bias/derivatives/ds-01/feat_files_ppi/sub-13/run-3/limbic/left/C/firstlevel\"\n",
      "set fmri(outputdir) \"/home/stevenm/Projects/bias/derivatives/ds-01/feat_files_ppi/sub-13/run-3/limbic/right/A/firstlevel\"\n",
      "set fmri(outputdir) \"/home/stevenm/Projects/bias/derivatives/ds-01/feat_files_ppi/sub-13/run-3/limbic/right/B/firstlevel\"\n",
      "set fmri(outputdir) \"/home/stevenm/Projects/bias/derivatives/ds-01/feat_files_ppi/sub-13/run-3/limbic/right/C/firstlevel\"\n",
      "set fmri(outputdir) \"/home/stevenm/Projects/bias/derivatives/ds-01/feat_files_ppi/sub-13/run-3/cognitive/left/A/firstlevel\"\n",
      "set fmri(outputdir) \"/home/stevenm/Projects/bias/derivatives/ds-01/feat_files_ppi/sub-13/run-3/cognitive/left/B/firstlevel\"\n",
      "set fmri(outputdir) \"/home/stevenm/Projects/bias/derivatives/ds-01/feat_files_ppi/sub-13/run-3/cognitive/left/C/firstlevel\"\n",
      "set fmri(outputdir) \"/home/stevenm/Projects/bias/derivatives/ds-01/feat_files_ppi/sub-13/run-3/cognitive/right/A/firstlevel\"\n",
      "set fmri(outputdir) \"/home/stevenm/Projects/bias/derivatives/ds-01/feat_files_ppi/sub-13/run-3/cognitive/right/B/firstlevel\"\n",
      "set fmri(outputdir) \"/home/stevenm/Projects/bias/derivatives/ds-01/feat_files_ppi/sub-13/run-3/cognitive/right/C/firstlevel\"\n",
      "set fmri(outputdir) \"/home/stevenm/Projects/bias/derivatives/ds-01/feat_files_ppi/sub-14/run-1/limbic/left/A/firstlevel\"\n",
      "set fmri(outputdir) \"/home/stevenm/Projects/bias/derivatives/ds-01/feat_files_ppi/sub-14/run-1/limbic/left/B/firstlevel\"\n",
      "set fmri(outputdir) \"/home/stevenm/Projects/bias/derivatives/ds-01/feat_files_ppi/sub-14/run-1/limbic/left/C/firstlevel\"\n",
      "set fmri(outputdir) \"/home/stevenm/Projects/bias/derivatives/ds-01/feat_files_ppi/sub-14/run-1/limbic/right/A/firstlevel\"\n",
      "set fmri(outputdir) \"/home/stevenm/Projects/bias/derivatives/ds-01/feat_files_ppi/sub-14/run-1/limbic/right/B/firstlevel\"\n",
      "set fmri(outputdir) \"/home/stevenm/Projects/bias/derivatives/ds-01/feat_files_ppi/sub-14/run-1/limbic/right/C/firstlevel\"\n",
      "set fmri(outputdir) \"/home/stevenm/Projects/bias/derivatives/ds-01/feat_files_ppi/sub-14/run-1/cognitive/left/A/firstlevel\"\n",
      "set fmri(outputdir) \"/home/stevenm/Projects/bias/derivatives/ds-01/feat_files_ppi/sub-14/run-1/cognitive/left/B/firstlevel\"\n",
      "set fmri(outputdir) \"/home/stevenm/Projects/bias/derivatives/ds-01/feat_files_ppi/sub-14/run-1/cognitive/left/C/firstlevel\"\n",
      "set fmri(outputdir) \"/home/stevenm/Projects/bias/derivatives/ds-01/feat_files_ppi/sub-14/run-1/cognitive/right/A/firstlevel\"\n",
      "set fmri(outputdir) \"/home/stevenm/Projects/bias/derivatives/ds-01/feat_files_ppi/sub-14/run-1/cognitive/right/B/firstlevel\"\n",
      "set fmri(outputdir) \"/home/stevenm/Projects/bias/derivatives/ds-01/feat_files_ppi/sub-14/run-1/cognitive/right/C/firstlevel\"\n",
      "set fmri(outputdir) \"/home/stevenm/Projects/bias/derivatives/ds-01/feat_files_ppi/sub-14/run-2/limbic/left/A/firstlevel\"\n",
      "set fmri(outputdir) \"/home/stevenm/Projects/bias/derivatives/ds-01/feat_files_ppi/sub-14/run-2/limbic/left/B/firstlevel\"\n",
      "set fmri(outputdir) \"/home/stevenm/Projects/bias/derivatives/ds-01/feat_files_ppi/sub-14/run-2/limbic/left/C/firstlevel\"\n",
      "set fmri(outputdir) \"/home/stevenm/Projects/bias/derivatives/ds-01/feat_files_ppi/sub-14/run-2/limbic/right/A/firstlevel\"\n",
      "set fmri(outputdir) \"/home/stevenm/Projects/bias/derivatives/ds-01/feat_files_ppi/sub-14/run-2/limbic/right/B/firstlevel\"\n",
      "set fmri(outputdir) \"/home/stevenm/Projects/bias/derivatives/ds-01/feat_files_ppi/sub-14/run-2/limbic/right/C/firstlevel\"\n",
      "set fmri(outputdir) \"/home/stevenm/Projects/bias/derivatives/ds-01/feat_files_ppi/sub-14/run-2/cognitive/left/A/firstlevel\"\n",
      "set fmri(outputdir) \"/home/stevenm/Projects/bias/derivatives/ds-01/feat_files_ppi/sub-14/run-2/cognitive/left/B/firstlevel\"\n",
      "set fmri(outputdir) \"/home/stevenm/Projects/bias/derivatives/ds-01/feat_files_ppi/sub-14/run-2/cognitive/left/C/firstlevel\"\n",
      "set fmri(outputdir) \"/home/stevenm/Projects/bias/derivatives/ds-01/feat_files_ppi/sub-14/run-2/cognitive/right/A/firstlevel\"\n",
      "set fmri(outputdir) \"/home/stevenm/Projects/bias/derivatives/ds-01/feat_files_ppi/sub-14/run-2/cognitive/right/B/firstlevel\"\n",
      "set fmri(outputdir) \"/home/stevenm/Projects/bias/derivatives/ds-01/feat_files_ppi/sub-14/run-2/cognitive/right/C/firstlevel\"\n",
      "set fmri(outputdir) \"/home/stevenm/Projects/bias/derivatives/ds-01/feat_files_ppi/sub-14/run-3/limbic/left/A/firstlevel\"\n",
      "set fmri(outputdir) \"/home/stevenm/Projects/bias/derivatives/ds-01/feat_files_ppi/sub-14/run-3/limbic/left/B/firstlevel\"\n",
      "set fmri(outputdir) \"/home/stevenm/Projects/bias/derivatives/ds-01/feat_files_ppi/sub-14/run-3/limbic/left/C/firstlevel\"\n",
      "set fmri(outputdir) \"/home/stevenm/Projects/bias/derivatives/ds-01/feat_files_ppi/sub-14/run-3/limbic/right/A/firstlevel\"\n"
     ]
    },
    {
     "name": "stdout",
     "output_type": "stream",
     "text": [
      "set fmri(outputdir) \"/home/stevenm/Projects/bias/derivatives/ds-01/feat_files_ppi/sub-14/run-3/limbic/right/B/firstlevel\"\n",
      "set fmri(outputdir) \"/home/stevenm/Projects/bias/derivatives/ds-01/feat_files_ppi/sub-14/run-3/limbic/right/C/firstlevel\"\n",
      "set fmri(outputdir) \"/home/stevenm/Projects/bias/derivatives/ds-01/feat_files_ppi/sub-14/run-3/cognitive/left/A/firstlevel\"\n",
      "set fmri(outputdir) \"/home/stevenm/Projects/bias/derivatives/ds-01/feat_files_ppi/sub-14/run-3/cognitive/left/B/firstlevel\"\n",
      "set fmri(outputdir) \"/home/stevenm/Projects/bias/derivatives/ds-01/feat_files_ppi/sub-14/run-3/cognitive/left/C/firstlevel\"\n",
      "set fmri(outputdir) \"/home/stevenm/Projects/bias/derivatives/ds-01/feat_files_ppi/sub-14/run-3/cognitive/right/A/firstlevel\"\n",
      "set fmri(outputdir) \"/home/stevenm/Projects/bias/derivatives/ds-01/feat_files_ppi/sub-14/run-3/cognitive/right/B/firstlevel\"\n",
      "set fmri(outputdir) \"/home/stevenm/Projects/bias/derivatives/ds-01/feat_files_ppi/sub-14/run-3/cognitive/right/C/firstlevel\"\n",
      "set fmri(outputdir) \"/home/stevenm/Projects/bias/derivatives/ds-01/feat_files_ppi/sub-15/run-1/limbic/left/A/firstlevel\"\n",
      "set fmri(outputdir) \"/home/stevenm/Projects/bias/derivatives/ds-01/feat_files_ppi/sub-15/run-1/limbic/left/B/firstlevel\"\n",
      "set fmri(outputdir) \"/home/stevenm/Projects/bias/derivatives/ds-01/feat_files_ppi/sub-15/run-1/limbic/left/C/firstlevel\"\n",
      "set fmri(outputdir) \"/home/stevenm/Projects/bias/derivatives/ds-01/feat_files_ppi/sub-15/run-1/limbic/right/A/firstlevel\"\n",
      "set fmri(outputdir) \"/home/stevenm/Projects/bias/derivatives/ds-01/feat_files_ppi/sub-15/run-1/limbic/right/B/firstlevel\"\n",
      "set fmri(outputdir) \"/home/stevenm/Projects/bias/derivatives/ds-01/feat_files_ppi/sub-15/run-1/limbic/right/C/firstlevel\"\n",
      "set fmri(outputdir) \"/home/stevenm/Projects/bias/derivatives/ds-01/feat_files_ppi/sub-15/run-1/cognitive/left/A/firstlevel\"\n",
      "set fmri(outputdir) \"/home/stevenm/Projects/bias/derivatives/ds-01/feat_files_ppi/sub-15/run-1/cognitive/left/B/firstlevel\"\n",
      "set fmri(outputdir) \"/home/stevenm/Projects/bias/derivatives/ds-01/feat_files_ppi/sub-15/run-1/cognitive/left/C/firstlevel\"\n",
      "set fmri(outputdir) \"/home/stevenm/Projects/bias/derivatives/ds-01/feat_files_ppi/sub-15/run-1/cognitive/right/A/firstlevel\"\n",
      "set fmri(outputdir) \"/home/stevenm/Projects/bias/derivatives/ds-01/feat_files_ppi/sub-15/run-1/cognitive/right/B/firstlevel\"\n",
      "set fmri(outputdir) \"/home/stevenm/Projects/bias/derivatives/ds-01/feat_files_ppi/sub-15/run-1/cognitive/right/C/firstlevel\"\n",
      "set fmri(outputdir) \"/home/stevenm/Projects/bias/derivatives/ds-01/feat_files_ppi/sub-15/run-2/limbic/left/A/firstlevel\"\n",
      "set fmri(outputdir) \"/home/stevenm/Projects/bias/derivatives/ds-01/feat_files_ppi/sub-15/run-2/limbic/left/B/firstlevel\"\n",
      "set fmri(outputdir) \"/home/stevenm/Projects/bias/derivatives/ds-01/feat_files_ppi/sub-15/run-2/limbic/left/C/firstlevel\"\n",
      "set fmri(outputdir) \"/home/stevenm/Projects/bias/derivatives/ds-01/feat_files_ppi/sub-15/run-2/limbic/right/A/firstlevel\"\n",
      "set fmri(outputdir) \"/home/stevenm/Projects/bias/derivatives/ds-01/feat_files_ppi/sub-15/run-2/limbic/right/B/firstlevel\"\n",
      "set fmri(outputdir) \"/home/stevenm/Projects/bias/derivatives/ds-01/feat_files_ppi/sub-15/run-2/limbic/right/C/firstlevel\"\n",
      "set fmri(outputdir) \"/home/stevenm/Projects/bias/derivatives/ds-01/feat_files_ppi/sub-15/run-2/cognitive/left/A/firstlevel\"\n",
      "set fmri(outputdir) \"/home/stevenm/Projects/bias/derivatives/ds-01/feat_files_ppi/sub-15/run-2/cognitive/left/B/firstlevel\"\n",
      "set fmri(outputdir) \"/home/stevenm/Projects/bias/derivatives/ds-01/feat_files_ppi/sub-15/run-2/cognitive/left/C/firstlevel\"\n",
      "set fmri(outputdir) \"/home/stevenm/Projects/bias/derivatives/ds-01/feat_files_ppi/sub-15/run-2/cognitive/right/A/firstlevel\"\n",
      "set fmri(outputdir) \"/home/stevenm/Projects/bias/derivatives/ds-01/feat_files_ppi/sub-15/run-2/cognitive/right/B/firstlevel\"\n",
      "set fmri(outputdir) \"/home/stevenm/Projects/bias/derivatives/ds-01/feat_files_ppi/sub-15/run-2/cognitive/right/C/firstlevel\"\n",
      "set fmri(outputdir) \"/home/stevenm/Projects/bias/derivatives/ds-01/feat_files_ppi/sub-15/run-3/limbic/left/A/firstlevel\"\n",
      "set fmri(outputdir) \"/home/stevenm/Projects/bias/derivatives/ds-01/feat_files_ppi/sub-15/run-3/limbic/left/B/firstlevel\"\n",
      "set fmri(outputdir) \"/home/stevenm/Projects/bias/derivatives/ds-01/feat_files_ppi/sub-15/run-3/limbic/left/C/firstlevel\"\n",
      "set fmri(outputdir) \"/home/stevenm/Projects/bias/derivatives/ds-01/feat_files_ppi/sub-15/run-3/limbic/right/A/firstlevel\"\n",
      "set fmri(outputdir) \"/home/stevenm/Projects/bias/derivatives/ds-01/feat_files_ppi/sub-15/run-3/limbic/right/B/firstlevel\"\n",
      "set fmri(outputdir) \"/home/stevenm/Projects/bias/derivatives/ds-01/feat_files_ppi/sub-15/run-3/limbic/right/C/firstlevel\"\n",
      "set fmri(outputdir) \"/home/stevenm/Projects/bias/derivatives/ds-01/feat_files_ppi/sub-15/run-3/cognitive/left/A/firstlevel\"\n",
      "set fmri(outputdir) \"/home/stevenm/Projects/bias/derivatives/ds-01/feat_files_ppi/sub-15/run-3/cognitive/left/B/firstlevel\"\n",
      "set fmri(outputdir) \"/home/stevenm/Projects/bias/derivatives/ds-01/feat_files_ppi/sub-15/run-3/cognitive/left/C/firstlevel\"\n",
      "set fmri(outputdir) \"/home/stevenm/Projects/bias/derivatives/ds-01/feat_files_ppi/sub-15/run-3/cognitive/right/A/firstlevel\"\n",
      "set fmri(outputdir) \"/home/stevenm/Projects/bias/derivatives/ds-01/feat_files_ppi/sub-15/run-3/cognitive/right/B/firstlevel\"\n",
      "set fmri(outputdir) \"/home/stevenm/Projects/bias/derivatives/ds-01/feat_files_ppi/sub-15/run-3/cognitive/right/C/firstlevel\"\n",
      "set fmri(outputdir) \"/home/stevenm/Projects/bias/derivatives/ds-01/feat_files_ppi/sub-16/run-1/limbic/left/A/firstlevel\"\n",
      "set fmri(outputdir) \"/home/stevenm/Projects/bias/derivatives/ds-01/feat_files_ppi/sub-16/run-1/limbic/left/B/firstlevel\"\n",
      "set fmri(outputdir) \"/home/stevenm/Projects/bias/derivatives/ds-01/feat_files_ppi/sub-16/run-1/limbic/left/C/firstlevel\"\n",
      "set fmri(outputdir) \"/home/stevenm/Projects/bias/derivatives/ds-01/feat_files_ppi/sub-16/run-1/limbic/right/A/firstlevel\"\n",
      "set fmri(outputdir) \"/home/stevenm/Projects/bias/derivatives/ds-01/feat_files_ppi/sub-16/run-1/limbic/right/B/firstlevel\"\n",
      "set fmri(outputdir) \"/home/stevenm/Projects/bias/derivatives/ds-01/feat_files_ppi/sub-16/run-1/limbic/right/C/firstlevel\"\n",
      "set fmri(outputdir) \"/home/stevenm/Projects/bias/derivatives/ds-01/feat_files_ppi/sub-16/run-1/cognitive/left/A/firstlevel\"\n",
      "set fmri(outputdir) \"/home/stevenm/Projects/bias/derivatives/ds-01/feat_files_ppi/sub-16/run-1/cognitive/left/B/firstlevel\"\n",
      "set fmri(outputdir) \"/home/stevenm/Projects/bias/derivatives/ds-01/feat_files_ppi/sub-16/run-1/cognitive/left/C/firstlevel\"\n",
      "set fmri(outputdir) \"/home/stevenm/Projects/bias/derivatives/ds-01/feat_files_ppi/sub-16/run-1/cognitive/right/A/firstlevel\"\n",
      "set fmri(outputdir) \"/home/stevenm/Projects/bias/derivatives/ds-01/feat_files_ppi/sub-16/run-1/cognitive/right/B/firstlevel\"\n",
      "set fmri(outputdir) \"/home/stevenm/Projects/bias/derivatives/ds-01/feat_files_ppi/sub-16/run-1/cognitive/right/C/firstlevel\"\n",
      "set fmri(outputdir) \"/home/stevenm/Projects/bias/derivatives/ds-01/feat_files_ppi/sub-16/run-2/limbic/left/A/firstlevel\"\n",
      "set fmri(outputdir) \"/home/stevenm/Projects/bias/derivatives/ds-01/feat_files_ppi/sub-16/run-2/limbic/left/B/firstlevel\"\n",
      "set fmri(outputdir) \"/home/stevenm/Projects/bias/derivatives/ds-01/feat_files_ppi/sub-16/run-2/limbic/left/C/firstlevel\"\n",
      "set fmri(outputdir) \"/home/stevenm/Projects/bias/derivatives/ds-01/feat_files_ppi/sub-16/run-2/limbic/right/A/firstlevel\"\n",
      "set fmri(outputdir) \"/home/stevenm/Projects/bias/derivatives/ds-01/feat_files_ppi/sub-16/run-2/limbic/right/B/firstlevel\"\n",
      "set fmri(outputdir) \"/home/stevenm/Projects/bias/derivatives/ds-01/feat_files_ppi/sub-16/run-2/limbic/right/C/firstlevel\"\n",
      "set fmri(outputdir) \"/home/stevenm/Projects/bias/derivatives/ds-01/feat_files_ppi/sub-16/run-2/cognitive/left/A/firstlevel\"\n",
      "set fmri(outputdir) \"/home/stevenm/Projects/bias/derivatives/ds-01/feat_files_ppi/sub-16/run-2/cognitive/left/B/firstlevel\"\n",
      "set fmri(outputdir) \"/home/stevenm/Projects/bias/derivatives/ds-01/feat_files_ppi/sub-16/run-2/cognitive/left/C/firstlevel\"\n",
      "set fmri(outputdir) \"/home/stevenm/Projects/bias/derivatives/ds-01/feat_files_ppi/sub-16/run-2/cognitive/right/A/firstlevel\"\n",
      "set fmri(outputdir) \"/home/stevenm/Projects/bias/derivatives/ds-01/feat_files_ppi/sub-16/run-2/cognitive/right/B/firstlevel\"\n",
      "set fmri(outputdir) \"/home/stevenm/Projects/bias/derivatives/ds-01/feat_files_ppi/sub-16/run-2/cognitive/right/C/firstlevel\"\n",
      "set fmri(outputdir) \"/home/stevenm/Projects/bias/derivatives/ds-01/feat_files_ppi/sub-16/run-3/limbic/left/A/firstlevel\"\n",
      "set fmri(outputdir) \"/home/stevenm/Projects/bias/derivatives/ds-01/feat_files_ppi/sub-16/run-3/limbic/left/B/firstlevel\"\n",
      "set fmri(outputdir) \"/home/stevenm/Projects/bias/derivatives/ds-01/feat_files_ppi/sub-16/run-3/limbic/left/C/firstlevel\"\n",
      "set fmri(outputdir) \"/home/stevenm/Projects/bias/derivatives/ds-01/feat_files_ppi/sub-16/run-3/limbic/right/A/firstlevel\"\n",
      "set fmri(outputdir) \"/home/stevenm/Projects/bias/derivatives/ds-01/feat_files_ppi/sub-16/run-3/limbic/right/B/firstlevel\"\n",
      "set fmri(outputdir) \"/home/stevenm/Projects/bias/derivatives/ds-01/feat_files_ppi/sub-16/run-3/limbic/right/C/firstlevel\"\n",
      "set fmri(outputdir) \"/home/stevenm/Projects/bias/derivatives/ds-01/feat_files_ppi/sub-16/run-3/cognitive/left/A/firstlevel\"\n",
      "set fmri(outputdir) \"/home/stevenm/Projects/bias/derivatives/ds-01/feat_files_ppi/sub-16/run-3/cognitive/left/B/firstlevel\"\n",
      "set fmri(outputdir) \"/home/stevenm/Projects/bias/derivatives/ds-01/feat_files_ppi/sub-16/run-3/cognitive/left/C/firstlevel\"\n",
      "set fmri(outputdir) \"/home/stevenm/Projects/bias/derivatives/ds-01/feat_files_ppi/sub-16/run-3/cognitive/right/A/firstlevel\"\n",
      "set fmri(outputdir) \"/home/stevenm/Projects/bias/derivatives/ds-01/feat_files_ppi/sub-16/run-3/cognitive/right/B/firstlevel\"\n",
      "set fmri(outputdir) \"/home/stevenm/Projects/bias/derivatives/ds-01/feat_files_ppi/sub-16/run-3/cognitive/right/C/firstlevel\"\n",
      "set fmri(outputdir) \"/home/stevenm/Projects/bias/derivatives/ds-01/feat_files_ppi/sub-17/run-1/limbic/left/A/firstlevel\"\n",
      "set fmri(outputdir) \"/home/stevenm/Projects/bias/derivatives/ds-01/feat_files_ppi/sub-17/run-1/limbic/left/B/firstlevel\"\n",
      "set fmri(outputdir) \"/home/stevenm/Projects/bias/derivatives/ds-01/feat_files_ppi/sub-17/run-1/limbic/left/C/firstlevel\"\n",
      "set fmri(outputdir) \"/home/stevenm/Projects/bias/derivatives/ds-01/feat_files_ppi/sub-17/run-1/limbic/right/A/firstlevel\"\n",
      "set fmri(outputdir) \"/home/stevenm/Projects/bias/derivatives/ds-01/feat_files_ppi/sub-17/run-1/limbic/right/B/firstlevel\"\n",
      "set fmri(outputdir) \"/home/stevenm/Projects/bias/derivatives/ds-01/feat_files_ppi/sub-17/run-1/limbic/right/C/firstlevel\"\n",
      "set fmri(outputdir) \"/home/stevenm/Projects/bias/derivatives/ds-01/feat_files_ppi/sub-17/run-1/cognitive/left/A/firstlevel\"\n",
      "set fmri(outputdir) \"/home/stevenm/Projects/bias/derivatives/ds-01/feat_files_ppi/sub-17/run-1/cognitive/left/B/firstlevel\"\n",
      "set fmri(outputdir) \"/home/stevenm/Projects/bias/derivatives/ds-01/feat_files_ppi/sub-17/run-1/cognitive/left/C/firstlevel\"\n",
      "set fmri(outputdir) \"/home/stevenm/Projects/bias/derivatives/ds-01/feat_files_ppi/sub-17/run-1/cognitive/right/A/firstlevel\"\n",
      "set fmri(outputdir) \"/home/stevenm/Projects/bias/derivatives/ds-01/feat_files_ppi/sub-17/run-1/cognitive/right/B/firstlevel\"\n",
      "set fmri(outputdir) \"/home/stevenm/Projects/bias/derivatives/ds-01/feat_files_ppi/sub-17/run-1/cognitive/right/C/firstlevel\"\n",
      "set fmri(outputdir) \"/home/stevenm/Projects/bias/derivatives/ds-01/feat_files_ppi/sub-17/run-2/limbic/left/A/firstlevel\"\n",
      "set fmri(outputdir) \"/home/stevenm/Projects/bias/derivatives/ds-01/feat_files_ppi/sub-17/run-2/limbic/left/B/firstlevel\"\n",
      "set fmri(outputdir) \"/home/stevenm/Projects/bias/derivatives/ds-01/feat_files_ppi/sub-17/run-2/limbic/left/C/firstlevel\"\n",
      "set fmri(outputdir) \"/home/stevenm/Projects/bias/derivatives/ds-01/feat_files_ppi/sub-17/run-2/limbic/right/A/firstlevel\"\n",
      "set fmri(outputdir) \"/home/stevenm/Projects/bias/derivatives/ds-01/feat_files_ppi/sub-17/run-2/limbic/right/B/firstlevel\"\n",
      "set fmri(outputdir) \"/home/stevenm/Projects/bias/derivatives/ds-01/feat_files_ppi/sub-17/run-2/limbic/right/C/firstlevel\"\n",
      "set fmri(outputdir) \"/home/stevenm/Projects/bias/derivatives/ds-01/feat_files_ppi/sub-17/run-2/cognitive/left/A/firstlevel\"\n",
      "set fmri(outputdir) \"/home/stevenm/Projects/bias/derivatives/ds-01/feat_files_ppi/sub-17/run-2/cognitive/left/B/firstlevel\"\n",
      "set fmri(outputdir) \"/home/stevenm/Projects/bias/derivatives/ds-01/feat_files_ppi/sub-17/run-2/cognitive/left/C/firstlevel\"\n",
      "set fmri(outputdir) \"/home/stevenm/Projects/bias/derivatives/ds-01/feat_files_ppi/sub-17/run-2/cognitive/right/A/firstlevel\"\n",
      "set fmri(outputdir) \"/home/stevenm/Projects/bias/derivatives/ds-01/feat_files_ppi/sub-17/run-2/cognitive/right/B/firstlevel\"\n",
      "set fmri(outputdir) \"/home/stevenm/Projects/bias/derivatives/ds-01/feat_files_ppi/sub-17/run-2/cognitive/right/C/firstlevel\"\n",
      "set fmri(outputdir) \"/home/stevenm/Projects/bias/derivatives/ds-01/feat_files_ppi/sub-17/run-3/limbic/left/A/firstlevel\"\n",
      "set fmri(outputdir) \"/home/stevenm/Projects/bias/derivatives/ds-01/feat_files_ppi/sub-17/run-3/limbic/left/B/firstlevel\"\n",
      "set fmri(outputdir) \"/home/stevenm/Projects/bias/derivatives/ds-01/feat_files_ppi/sub-17/run-3/limbic/left/C/firstlevel\"\n",
      "set fmri(outputdir) \"/home/stevenm/Projects/bias/derivatives/ds-01/feat_files_ppi/sub-17/run-3/limbic/right/A/firstlevel\"\n",
      "set fmri(outputdir) \"/home/stevenm/Projects/bias/derivatives/ds-01/feat_files_ppi/sub-17/run-3/limbic/right/B/firstlevel\"\n",
      "set fmri(outputdir) \"/home/stevenm/Projects/bias/derivatives/ds-01/feat_files_ppi/sub-17/run-3/limbic/right/C/firstlevel\"\n",
      "set fmri(outputdir) \"/home/stevenm/Projects/bias/derivatives/ds-01/feat_files_ppi/sub-17/run-3/cognitive/left/A/firstlevel\"\n",
      "set fmri(outputdir) \"/home/stevenm/Projects/bias/derivatives/ds-01/feat_files_ppi/sub-17/run-3/cognitive/left/B/firstlevel\"\n",
      "set fmri(outputdir) \"/home/stevenm/Projects/bias/derivatives/ds-01/feat_files_ppi/sub-17/run-3/cognitive/left/C/firstlevel\"\n",
      "set fmri(outputdir) \"/home/stevenm/Projects/bias/derivatives/ds-01/feat_files_ppi/sub-17/run-3/cognitive/right/A/firstlevel\"\n",
      "set fmri(outputdir) \"/home/stevenm/Projects/bias/derivatives/ds-01/feat_files_ppi/sub-17/run-3/cognitive/right/B/firstlevel\"\n",
      "set fmri(outputdir) \"/home/stevenm/Projects/bias/derivatives/ds-01/feat_files_ppi/sub-17/run-3/cognitive/right/C/firstlevel\"\n",
      "set fmri(outputdir) \"/home/stevenm/Projects/bias/derivatives/ds-01/feat_files_ppi/sub-18/run-1/limbic/left/A/firstlevel\"\n",
      "set fmri(outputdir) \"/home/stevenm/Projects/bias/derivatives/ds-01/feat_files_ppi/sub-18/run-1/limbic/left/B/firstlevel\"\n",
      "set fmri(outputdir) \"/home/stevenm/Projects/bias/derivatives/ds-01/feat_files_ppi/sub-18/run-1/limbic/left/C/firstlevel\"\n",
      "set fmri(outputdir) \"/home/stevenm/Projects/bias/derivatives/ds-01/feat_files_ppi/sub-18/run-1/limbic/right/A/firstlevel\"\n",
      "set fmri(outputdir) \"/home/stevenm/Projects/bias/derivatives/ds-01/feat_files_ppi/sub-18/run-1/limbic/right/B/firstlevel\"\n",
      "set fmri(outputdir) \"/home/stevenm/Projects/bias/derivatives/ds-01/feat_files_ppi/sub-18/run-1/limbic/right/C/firstlevel\"\n",
      "set fmri(outputdir) \"/home/stevenm/Projects/bias/derivatives/ds-01/feat_files_ppi/sub-18/run-1/cognitive/left/A/firstlevel\"\n",
      "set fmri(outputdir) \"/home/stevenm/Projects/bias/derivatives/ds-01/feat_files_ppi/sub-18/run-1/cognitive/left/B/firstlevel\"\n",
      "set fmri(outputdir) \"/home/stevenm/Projects/bias/derivatives/ds-01/feat_files_ppi/sub-18/run-1/cognitive/left/C/firstlevel\"\n",
      "set fmri(outputdir) \"/home/stevenm/Projects/bias/derivatives/ds-01/feat_files_ppi/sub-18/run-1/cognitive/right/A/firstlevel\"\n",
      "set fmri(outputdir) \"/home/stevenm/Projects/bias/derivatives/ds-01/feat_files_ppi/sub-18/run-1/cognitive/right/B/firstlevel\"\n",
      "set fmri(outputdir) \"/home/stevenm/Projects/bias/derivatives/ds-01/feat_files_ppi/sub-18/run-1/cognitive/right/C/firstlevel\"\n",
      "set fmri(outputdir) \"/home/stevenm/Projects/bias/derivatives/ds-01/feat_files_ppi/sub-18/run-2/limbic/left/A/firstlevel\"\n",
      "set fmri(outputdir) \"/home/stevenm/Projects/bias/derivatives/ds-01/feat_files_ppi/sub-18/run-2/limbic/left/B/firstlevel\"\n",
      "set fmri(outputdir) \"/home/stevenm/Projects/bias/derivatives/ds-01/feat_files_ppi/sub-18/run-2/limbic/left/C/firstlevel\"\n",
      "set fmri(outputdir) \"/home/stevenm/Projects/bias/derivatives/ds-01/feat_files_ppi/sub-18/run-2/limbic/right/A/firstlevel\"\n",
      "set fmri(outputdir) \"/home/stevenm/Projects/bias/derivatives/ds-01/feat_files_ppi/sub-18/run-2/limbic/right/B/firstlevel\"\n",
      "set fmri(outputdir) \"/home/stevenm/Projects/bias/derivatives/ds-01/feat_files_ppi/sub-18/run-2/limbic/right/C/firstlevel\"\n",
      "set fmri(outputdir) \"/home/stevenm/Projects/bias/derivatives/ds-01/feat_files_ppi/sub-18/run-2/cognitive/left/A/firstlevel\"\n",
      "set fmri(outputdir) \"/home/stevenm/Projects/bias/derivatives/ds-01/feat_files_ppi/sub-18/run-2/cognitive/left/B/firstlevel\"\n",
      "set fmri(outputdir) \"/home/stevenm/Projects/bias/derivatives/ds-01/feat_files_ppi/sub-18/run-2/cognitive/left/C/firstlevel\"\n",
      "set fmri(outputdir) \"/home/stevenm/Projects/bias/derivatives/ds-01/feat_files_ppi/sub-18/run-2/cognitive/right/A/firstlevel\"\n",
      "set fmri(outputdir) \"/home/stevenm/Projects/bias/derivatives/ds-01/feat_files_ppi/sub-18/run-2/cognitive/right/B/firstlevel\"\n",
      "set fmri(outputdir) \"/home/stevenm/Projects/bias/derivatives/ds-01/feat_files_ppi/sub-18/run-2/cognitive/right/C/firstlevel\"\n",
      "set fmri(outputdir) \"/home/stevenm/Projects/bias/derivatives/ds-01/feat_files_ppi/sub-18/run-3/limbic/left/A/firstlevel\"\n",
      "set fmri(outputdir) \"/home/stevenm/Projects/bias/derivatives/ds-01/feat_files_ppi/sub-18/run-3/limbic/left/B/firstlevel\"\n",
      "set fmri(outputdir) \"/home/stevenm/Projects/bias/derivatives/ds-01/feat_files_ppi/sub-18/run-3/limbic/left/C/firstlevel\"\n",
      "set fmri(outputdir) \"/home/stevenm/Projects/bias/derivatives/ds-01/feat_files_ppi/sub-18/run-3/limbic/right/A/firstlevel\"\n",
      "set fmri(outputdir) \"/home/stevenm/Projects/bias/derivatives/ds-01/feat_files_ppi/sub-18/run-3/limbic/right/B/firstlevel\"\n",
      "set fmri(outputdir) \"/home/stevenm/Projects/bias/derivatives/ds-01/feat_files_ppi/sub-18/run-3/limbic/right/C/firstlevel\"\n",
      "set fmri(outputdir) \"/home/stevenm/Projects/bias/derivatives/ds-01/feat_files_ppi/sub-18/run-3/cognitive/left/A/firstlevel\"\n",
      "set fmri(outputdir) \"/home/stevenm/Projects/bias/derivatives/ds-01/feat_files_ppi/sub-18/run-3/cognitive/left/B/firstlevel\"\n",
      "set fmri(outputdir) \"/home/stevenm/Projects/bias/derivatives/ds-01/feat_files_ppi/sub-18/run-3/cognitive/left/C/firstlevel\"\n",
      "set fmri(outputdir) \"/home/stevenm/Projects/bias/derivatives/ds-01/feat_files_ppi/sub-18/run-3/cognitive/right/A/firstlevel\"\n",
      "set fmri(outputdir) \"/home/stevenm/Projects/bias/derivatives/ds-01/feat_files_ppi/sub-18/run-3/cognitive/right/B/firstlevel\"\n",
      "set fmri(outputdir) \"/home/stevenm/Projects/bias/derivatives/ds-01/feat_files_ppi/sub-18/run-3/cognitive/right/C/firstlevel\"\n",
      "set fmri(outputdir) \"/home/stevenm/Projects/bias/derivatives/ds-01/feat_files_ppi/sub-19/run-1/limbic/left/A/firstlevel\"\n",
      "set fmri(outputdir) \"/home/stevenm/Projects/bias/derivatives/ds-01/feat_files_ppi/sub-19/run-1/limbic/left/B/firstlevel\"\n",
      "set fmri(outputdir) \"/home/stevenm/Projects/bias/derivatives/ds-01/feat_files_ppi/sub-19/run-1/limbic/left/C/firstlevel\"\n",
      "set fmri(outputdir) \"/home/stevenm/Projects/bias/derivatives/ds-01/feat_files_ppi/sub-19/run-1/limbic/right/A/firstlevel\"\n",
      "set fmri(outputdir) \"/home/stevenm/Projects/bias/derivatives/ds-01/feat_files_ppi/sub-19/run-1/limbic/right/B/firstlevel\"\n",
      "set fmri(outputdir) \"/home/stevenm/Projects/bias/derivatives/ds-01/feat_files_ppi/sub-19/run-1/limbic/right/C/firstlevel\"\n",
      "set fmri(outputdir) \"/home/stevenm/Projects/bias/derivatives/ds-01/feat_files_ppi/sub-19/run-1/cognitive/left/A/firstlevel\"\n",
      "set fmri(outputdir) \"/home/stevenm/Projects/bias/derivatives/ds-01/feat_files_ppi/sub-19/run-1/cognitive/left/B/firstlevel\"\n",
      "set fmri(outputdir) \"/home/stevenm/Projects/bias/derivatives/ds-01/feat_files_ppi/sub-19/run-1/cognitive/left/C/firstlevel\"\n",
      "set fmri(outputdir) \"/home/stevenm/Projects/bias/derivatives/ds-01/feat_files_ppi/sub-19/run-1/cognitive/right/A/firstlevel\"\n",
      "set fmri(outputdir) \"/home/stevenm/Projects/bias/derivatives/ds-01/feat_files_ppi/sub-19/run-1/cognitive/right/B/firstlevel\"\n",
      "set fmri(outputdir) \"/home/stevenm/Projects/bias/derivatives/ds-01/feat_files_ppi/sub-19/run-1/cognitive/right/C/firstlevel\"\n",
      "set fmri(outputdir) \"/home/stevenm/Projects/bias/derivatives/ds-01/feat_files_ppi/sub-19/run-2/limbic/left/A/firstlevel\"\n",
      "set fmri(outputdir) \"/home/stevenm/Projects/bias/derivatives/ds-01/feat_files_ppi/sub-19/run-2/limbic/left/B/firstlevel\"\n",
      "set fmri(outputdir) \"/home/stevenm/Projects/bias/derivatives/ds-01/feat_files_ppi/sub-19/run-2/limbic/left/C/firstlevel\"\n",
      "set fmri(outputdir) \"/home/stevenm/Projects/bias/derivatives/ds-01/feat_files_ppi/sub-19/run-2/limbic/right/A/firstlevel\"\n",
      "set fmri(outputdir) \"/home/stevenm/Projects/bias/derivatives/ds-01/feat_files_ppi/sub-19/run-2/limbic/right/B/firstlevel\"\n",
      "set fmri(outputdir) \"/home/stevenm/Projects/bias/derivatives/ds-01/feat_files_ppi/sub-19/run-2/limbic/right/C/firstlevel\"\n",
      "set fmri(outputdir) \"/home/stevenm/Projects/bias/derivatives/ds-01/feat_files_ppi/sub-19/run-2/cognitive/left/A/firstlevel\"\n",
      "set fmri(outputdir) \"/home/stevenm/Projects/bias/derivatives/ds-01/feat_files_ppi/sub-19/run-2/cognitive/left/B/firstlevel\"\n",
      "set fmri(outputdir) \"/home/stevenm/Projects/bias/derivatives/ds-01/feat_files_ppi/sub-19/run-2/cognitive/left/C/firstlevel\"\n",
      "set fmri(outputdir) \"/home/stevenm/Projects/bias/derivatives/ds-01/feat_files_ppi/sub-19/run-2/cognitive/right/A/firstlevel\"\n",
      "set fmri(outputdir) \"/home/stevenm/Projects/bias/derivatives/ds-01/feat_files_ppi/sub-19/run-2/cognitive/right/B/firstlevel\"\n",
      "set fmri(outputdir) \"/home/stevenm/Projects/bias/derivatives/ds-01/feat_files_ppi/sub-19/run-2/cognitive/right/C/firstlevel\"\n",
      "set fmri(outputdir) \"/home/stevenm/Projects/bias/derivatives/ds-01/feat_files_ppi/sub-19/run-3/limbic/left/A/firstlevel\"\n",
      "set fmri(outputdir) \"/home/stevenm/Projects/bias/derivatives/ds-01/feat_files_ppi/sub-19/run-3/limbic/left/B/firstlevel\"\n",
      "set fmri(outputdir) \"/home/stevenm/Projects/bias/derivatives/ds-01/feat_files_ppi/sub-19/run-3/limbic/left/C/firstlevel\"\n",
      "set fmri(outputdir) \"/home/stevenm/Projects/bias/derivatives/ds-01/feat_files_ppi/sub-19/run-3/limbic/right/A/firstlevel\"\n",
      "set fmri(outputdir) \"/home/stevenm/Projects/bias/derivatives/ds-01/feat_files_ppi/sub-19/run-3/limbic/right/B/firstlevel\"\n",
      "set fmri(outputdir) \"/home/stevenm/Projects/bias/derivatives/ds-01/feat_files_ppi/sub-19/run-3/limbic/right/C/firstlevel\"\n",
      "set fmri(outputdir) \"/home/stevenm/Projects/bias/derivatives/ds-01/feat_files_ppi/sub-19/run-3/cognitive/left/A/firstlevel\"\n",
      "set fmri(outputdir) \"/home/stevenm/Projects/bias/derivatives/ds-01/feat_files_ppi/sub-19/run-3/cognitive/left/B/firstlevel\"\n",
      "set fmri(outputdir) \"/home/stevenm/Projects/bias/derivatives/ds-01/feat_files_ppi/sub-19/run-3/cognitive/left/C/firstlevel\"\n",
      "set fmri(outputdir) \"/home/stevenm/Projects/bias/derivatives/ds-01/feat_files_ppi/sub-19/run-3/cognitive/right/A/firstlevel\"\n",
      "set fmri(outputdir) \"/home/stevenm/Projects/bias/derivatives/ds-01/feat_files_ppi/sub-19/run-3/cognitive/right/B/firstlevel\"\n",
      "set fmri(outputdir) \"/home/stevenm/Projects/bias/derivatives/ds-01/feat_files_ppi/sub-19/run-3/cognitive/right/C/firstlevel\"\n",
      "set fmri(outputdir) \"/home/stevenm/Projects/bias/derivatives/ds-02/feat_files_ppi/sub-01/run-1/limbic/left/A/firstlevel\"\n",
      "set fmri(outputdir) \"/home/stevenm/Projects/bias/derivatives/ds-02/feat_files_ppi/sub-01/run-1/limbic/left/B/firstlevel\"\n",
      "set fmri(outputdir) \"/home/stevenm/Projects/bias/derivatives/ds-02/feat_files_ppi/sub-01/run-1/limbic/left/C/firstlevel\"\n",
      "set fmri(outputdir) \"/home/stevenm/Projects/bias/derivatives/ds-02/feat_files_ppi/sub-01/run-1/limbic/right/A/firstlevel\"\n",
      "set fmri(outputdir) \"/home/stevenm/Projects/bias/derivatives/ds-02/feat_files_ppi/sub-01/run-1/limbic/right/B/firstlevel\"\n",
      "set fmri(outputdir) \"/home/stevenm/Projects/bias/derivatives/ds-02/feat_files_ppi/sub-01/run-1/limbic/right/C/firstlevel\"\n",
      "set fmri(outputdir) \"/home/stevenm/Projects/bias/derivatives/ds-02/feat_files_ppi/sub-01/run-1/cognitive/left/A/firstlevel\"\n",
      "set fmri(outputdir) \"/home/stevenm/Projects/bias/derivatives/ds-02/feat_files_ppi/sub-01/run-1/cognitive/left/B/firstlevel\"\n",
      "set fmri(outputdir) \"/home/stevenm/Projects/bias/derivatives/ds-02/feat_files_ppi/sub-01/run-1/cognitive/left/C/firstlevel\"\n",
      "set fmri(outputdir) \"/home/stevenm/Projects/bias/derivatives/ds-02/feat_files_ppi/sub-01/run-1/cognitive/right/A/firstlevel\"\n",
      "set fmri(outputdir) \"/home/stevenm/Projects/bias/derivatives/ds-02/feat_files_ppi/sub-01/run-1/cognitive/right/B/firstlevel\"\n",
      "set fmri(outputdir) \"/home/stevenm/Projects/bias/derivatives/ds-02/feat_files_ppi/sub-01/run-1/cognitive/right/C/firstlevel\"\n",
      "set fmri(outputdir) \"/home/stevenm/Projects/bias/derivatives/ds-02/feat_files_ppi/sub-01/run-2/limbic/left/A/firstlevel\"\n",
      "set fmri(outputdir) \"/home/stevenm/Projects/bias/derivatives/ds-02/feat_files_ppi/sub-01/run-2/limbic/left/B/firstlevel\"\n",
      "set fmri(outputdir) \"/home/stevenm/Projects/bias/derivatives/ds-02/feat_files_ppi/sub-01/run-2/limbic/left/C/firstlevel\"\n",
      "set fmri(outputdir) \"/home/stevenm/Projects/bias/derivatives/ds-02/feat_files_ppi/sub-01/run-2/limbic/right/A/firstlevel\"\n",
      "set fmri(outputdir) \"/home/stevenm/Projects/bias/derivatives/ds-02/feat_files_ppi/sub-01/run-2/limbic/right/B/firstlevel\"\n",
      "set fmri(outputdir) \"/home/stevenm/Projects/bias/derivatives/ds-02/feat_files_ppi/sub-01/run-2/limbic/right/C/firstlevel\"\n",
      "set fmri(outputdir) \"/home/stevenm/Projects/bias/derivatives/ds-02/feat_files_ppi/sub-01/run-2/cognitive/left/A/firstlevel\"\n",
      "set fmri(outputdir) \"/home/stevenm/Projects/bias/derivatives/ds-02/feat_files_ppi/sub-01/run-2/cognitive/left/B/firstlevel\"\n",
      "set fmri(outputdir) \"/home/stevenm/Projects/bias/derivatives/ds-02/feat_files_ppi/sub-01/run-2/cognitive/left/C/firstlevel\"\n",
      "set fmri(outputdir) \"/home/stevenm/Projects/bias/derivatives/ds-02/feat_files_ppi/sub-01/run-2/cognitive/right/A/firstlevel\"\n",
      "set fmri(outputdir) \"/home/stevenm/Projects/bias/derivatives/ds-02/feat_files_ppi/sub-01/run-2/cognitive/right/B/firstlevel\"\n",
      "set fmri(outputdir) \"/home/stevenm/Projects/bias/derivatives/ds-02/feat_files_ppi/sub-01/run-2/cognitive/right/C/firstlevel\"\n",
      "set fmri(outputdir) \"/home/stevenm/Projects/bias/derivatives/ds-02/feat_files_ppi/sub-01/run-3/limbic/left/A/firstlevel\"\n",
      "set fmri(outputdir) \"/home/stevenm/Projects/bias/derivatives/ds-02/feat_files_ppi/sub-01/run-3/limbic/left/B/firstlevel\"\n",
      "set fmri(outputdir) \"/home/stevenm/Projects/bias/derivatives/ds-02/feat_files_ppi/sub-01/run-3/limbic/left/C/firstlevel\"\n",
      "set fmri(outputdir) \"/home/stevenm/Projects/bias/derivatives/ds-02/feat_files_ppi/sub-01/run-3/limbic/right/A/firstlevel\"\n",
      "set fmri(outputdir) \"/home/stevenm/Projects/bias/derivatives/ds-02/feat_files_ppi/sub-01/run-3/limbic/right/B/firstlevel\"\n",
      "set fmri(outputdir) \"/home/stevenm/Projects/bias/derivatives/ds-02/feat_files_ppi/sub-01/run-3/limbic/right/C/firstlevel\"\n",
      "set fmri(outputdir) \"/home/stevenm/Projects/bias/derivatives/ds-02/feat_files_ppi/sub-01/run-3/cognitive/left/A/firstlevel\"\n",
      "set fmri(outputdir) \"/home/stevenm/Projects/bias/derivatives/ds-02/feat_files_ppi/sub-01/run-3/cognitive/left/B/firstlevel\"\n",
      "set fmri(outputdir) \"/home/stevenm/Projects/bias/derivatives/ds-02/feat_files_ppi/sub-01/run-3/cognitive/left/C/firstlevel\"\n",
      "set fmri(outputdir) \"/home/stevenm/Projects/bias/derivatives/ds-02/feat_files_ppi/sub-01/run-3/cognitive/right/A/firstlevel\"\n",
      "set fmri(outputdir) \"/home/stevenm/Projects/bias/derivatives/ds-02/feat_files_ppi/sub-01/run-3/cognitive/right/B/firstlevel\"\n",
      "set fmri(outputdir) \"/home/stevenm/Projects/bias/derivatives/ds-02/feat_files_ppi/sub-01/run-3/cognitive/right/C/firstlevel\"\n",
      "set fmri(outputdir) \"/home/stevenm/Projects/bias/derivatives/ds-02/feat_files_ppi/sub-02/run-1/limbic/left/A/firstlevel\"\n",
      "set fmri(outputdir) \"/home/stevenm/Projects/bias/derivatives/ds-02/feat_files_ppi/sub-02/run-1/limbic/left/B/firstlevel\"\n",
      "set fmri(outputdir) \"/home/stevenm/Projects/bias/derivatives/ds-02/feat_files_ppi/sub-02/run-1/limbic/left/C/firstlevel\"\n",
      "set fmri(outputdir) \"/home/stevenm/Projects/bias/derivatives/ds-02/feat_files_ppi/sub-02/run-1/limbic/right/A/firstlevel\"\n",
      "set fmri(outputdir) \"/home/stevenm/Projects/bias/derivatives/ds-02/feat_files_ppi/sub-02/run-1/limbic/right/B/firstlevel\"\n",
      "set fmri(outputdir) \"/home/stevenm/Projects/bias/derivatives/ds-02/feat_files_ppi/sub-02/run-1/limbic/right/C/firstlevel\"\n",
      "set fmri(outputdir) \"/home/stevenm/Projects/bias/derivatives/ds-02/feat_files_ppi/sub-02/run-1/cognitive/left/A/firstlevel\"\n",
      "set fmri(outputdir) \"/home/stevenm/Projects/bias/derivatives/ds-02/feat_files_ppi/sub-02/run-1/cognitive/left/B/firstlevel\"\n",
      "set fmri(outputdir) \"/home/stevenm/Projects/bias/derivatives/ds-02/feat_files_ppi/sub-02/run-1/cognitive/left/C/firstlevel\"\n",
      "set fmri(outputdir) \"/home/stevenm/Projects/bias/derivatives/ds-02/feat_files_ppi/sub-02/run-1/cognitive/right/A/firstlevel\"\n",
      "set fmri(outputdir) \"/home/stevenm/Projects/bias/derivatives/ds-02/feat_files_ppi/sub-02/run-1/cognitive/right/B/firstlevel\"\n",
      "set fmri(outputdir) \"/home/stevenm/Projects/bias/derivatives/ds-02/feat_files_ppi/sub-02/run-1/cognitive/right/C/firstlevel\"\n",
      "set fmri(outputdir) \"/home/stevenm/Projects/bias/derivatives/ds-02/feat_files_ppi/sub-02/run-2/limbic/left/A/firstlevel\"\n",
      "set fmri(outputdir) \"/home/stevenm/Projects/bias/derivatives/ds-02/feat_files_ppi/sub-02/run-2/limbic/left/B/firstlevel\"\n",
      "set fmri(outputdir) \"/home/stevenm/Projects/bias/derivatives/ds-02/feat_files_ppi/sub-02/run-2/limbic/left/C/firstlevel\"\n",
      "set fmri(outputdir) \"/home/stevenm/Projects/bias/derivatives/ds-02/feat_files_ppi/sub-02/run-2/limbic/right/A/firstlevel\"\n",
      "set fmri(outputdir) \"/home/stevenm/Projects/bias/derivatives/ds-02/feat_files_ppi/sub-02/run-2/limbic/right/B/firstlevel\"\n",
      "set fmri(outputdir) \"/home/stevenm/Projects/bias/derivatives/ds-02/feat_files_ppi/sub-02/run-2/limbic/right/C/firstlevel\"\n",
      "set fmri(outputdir) \"/home/stevenm/Projects/bias/derivatives/ds-02/feat_files_ppi/sub-02/run-2/cognitive/left/A/firstlevel\"\n",
      "set fmri(outputdir) \"/home/stevenm/Projects/bias/derivatives/ds-02/feat_files_ppi/sub-02/run-2/cognitive/left/B/firstlevel\"\n",
      "set fmri(outputdir) \"/home/stevenm/Projects/bias/derivatives/ds-02/feat_files_ppi/sub-02/run-2/cognitive/left/C/firstlevel\"\n",
      "set fmri(outputdir) \"/home/stevenm/Projects/bias/derivatives/ds-02/feat_files_ppi/sub-02/run-2/cognitive/right/A/firstlevel\"\n",
      "set fmri(outputdir) \"/home/stevenm/Projects/bias/derivatives/ds-02/feat_files_ppi/sub-02/run-2/cognitive/right/B/firstlevel\"\n",
      "set fmri(outputdir) \"/home/stevenm/Projects/bias/derivatives/ds-02/feat_files_ppi/sub-02/run-2/cognitive/right/C/firstlevel\"\n",
      "set fmri(outputdir) \"/home/stevenm/Projects/bias/derivatives/ds-02/feat_files_ppi/sub-02/run-3/limbic/left/A/firstlevel\"\n",
      "set fmri(outputdir) \"/home/stevenm/Projects/bias/derivatives/ds-02/feat_files_ppi/sub-02/run-3/limbic/left/B/firstlevel\"\n",
      "set fmri(outputdir) \"/home/stevenm/Projects/bias/derivatives/ds-02/feat_files_ppi/sub-02/run-3/limbic/left/C/firstlevel\"\n",
      "set fmri(outputdir) \"/home/stevenm/Projects/bias/derivatives/ds-02/feat_files_ppi/sub-02/run-3/limbic/right/A/firstlevel\"\n",
      "set fmri(outputdir) \"/home/stevenm/Projects/bias/derivatives/ds-02/feat_files_ppi/sub-02/run-3/limbic/right/B/firstlevel\"\n",
      "set fmri(outputdir) \"/home/stevenm/Projects/bias/derivatives/ds-02/feat_files_ppi/sub-02/run-3/limbic/right/C/firstlevel\"\n",
      "set fmri(outputdir) \"/home/stevenm/Projects/bias/derivatives/ds-02/feat_files_ppi/sub-02/run-3/cognitive/left/A/firstlevel\"\n",
      "set fmri(outputdir) \"/home/stevenm/Projects/bias/derivatives/ds-02/feat_files_ppi/sub-02/run-3/cognitive/left/B/firstlevel\"\n",
      "set fmri(outputdir) \"/home/stevenm/Projects/bias/derivatives/ds-02/feat_files_ppi/sub-02/run-3/cognitive/left/C/firstlevel\"\n",
      "set fmri(outputdir) \"/home/stevenm/Projects/bias/derivatives/ds-02/feat_files_ppi/sub-02/run-3/cognitive/right/A/firstlevel\"\n",
      "set fmri(outputdir) \"/home/stevenm/Projects/bias/derivatives/ds-02/feat_files_ppi/sub-02/run-3/cognitive/right/B/firstlevel\"\n",
      "set fmri(outputdir) \"/home/stevenm/Projects/bias/derivatives/ds-02/feat_files_ppi/sub-02/run-3/cognitive/right/C/firstlevel\"\n",
      "set fmri(outputdir) \"/home/stevenm/Projects/bias/derivatives/ds-02/feat_files_ppi/sub-03/run-1/limbic/left/A/firstlevel\"\n",
      "set fmri(outputdir) \"/home/stevenm/Projects/bias/derivatives/ds-02/feat_files_ppi/sub-03/run-1/limbic/left/B/firstlevel\"\n",
      "set fmri(outputdir) \"/home/stevenm/Projects/bias/derivatives/ds-02/feat_files_ppi/sub-03/run-1/limbic/left/C/firstlevel\"\n",
      "set fmri(outputdir) \"/home/stevenm/Projects/bias/derivatives/ds-02/feat_files_ppi/sub-03/run-1/limbic/right/A/firstlevel\"\n",
      "set fmri(outputdir) \"/home/stevenm/Projects/bias/derivatives/ds-02/feat_files_ppi/sub-03/run-1/limbic/right/B/firstlevel\"\n",
      "set fmri(outputdir) \"/home/stevenm/Projects/bias/derivatives/ds-02/feat_files_ppi/sub-03/run-1/limbic/right/C/firstlevel\"\n",
      "set fmri(outputdir) \"/home/stevenm/Projects/bias/derivatives/ds-02/feat_files_ppi/sub-03/run-1/cognitive/left/A/firstlevel\"\n",
      "set fmri(outputdir) \"/home/stevenm/Projects/bias/derivatives/ds-02/feat_files_ppi/sub-03/run-1/cognitive/left/B/firstlevel\"\n",
      "set fmri(outputdir) \"/home/stevenm/Projects/bias/derivatives/ds-02/feat_files_ppi/sub-03/run-1/cognitive/left/C/firstlevel\"\n",
      "set fmri(outputdir) \"/home/stevenm/Projects/bias/derivatives/ds-02/feat_files_ppi/sub-03/run-1/cognitive/right/A/firstlevel\"\n",
      "set fmri(outputdir) \"/home/stevenm/Projects/bias/derivatives/ds-02/feat_files_ppi/sub-03/run-1/cognitive/right/B/firstlevel\"\n",
      "set fmri(outputdir) \"/home/stevenm/Projects/bias/derivatives/ds-02/feat_files_ppi/sub-03/run-1/cognitive/right/C/firstlevel\"\n",
      "set fmri(outputdir) \"/home/stevenm/Projects/bias/derivatives/ds-02/feat_files_ppi/sub-03/run-2/limbic/left/A/firstlevel\"\n",
      "set fmri(outputdir) \"/home/stevenm/Projects/bias/derivatives/ds-02/feat_files_ppi/sub-03/run-2/limbic/left/B/firstlevel\"\n",
      "set fmri(outputdir) \"/home/stevenm/Projects/bias/derivatives/ds-02/feat_files_ppi/sub-03/run-2/limbic/left/C/firstlevel\"\n",
      "set fmri(outputdir) \"/home/stevenm/Projects/bias/derivatives/ds-02/feat_files_ppi/sub-03/run-2/limbic/right/A/firstlevel\"\n",
      "set fmri(outputdir) \"/home/stevenm/Projects/bias/derivatives/ds-02/feat_files_ppi/sub-03/run-2/limbic/right/B/firstlevel\"\n",
      "set fmri(outputdir) \"/home/stevenm/Projects/bias/derivatives/ds-02/feat_files_ppi/sub-03/run-2/limbic/right/C/firstlevel\"\n",
      "set fmri(outputdir) \"/home/stevenm/Projects/bias/derivatives/ds-02/feat_files_ppi/sub-03/run-2/cognitive/left/A/firstlevel\"\n",
      "set fmri(outputdir) \"/home/stevenm/Projects/bias/derivatives/ds-02/feat_files_ppi/sub-03/run-2/cognitive/left/B/firstlevel\"\n",
      "set fmri(outputdir) \"/home/stevenm/Projects/bias/derivatives/ds-02/feat_files_ppi/sub-03/run-2/cognitive/left/C/firstlevel\"\n",
      "set fmri(outputdir) \"/home/stevenm/Projects/bias/derivatives/ds-02/feat_files_ppi/sub-03/run-2/cognitive/right/A/firstlevel\"\n",
      "set fmri(outputdir) \"/home/stevenm/Projects/bias/derivatives/ds-02/feat_files_ppi/sub-03/run-2/cognitive/right/B/firstlevel\"\n",
      "set fmri(outputdir) \"/home/stevenm/Projects/bias/derivatives/ds-02/feat_files_ppi/sub-03/run-2/cognitive/right/C/firstlevel\"\n",
      "set fmri(outputdir) \"/home/stevenm/Projects/bias/derivatives/ds-02/feat_files_ppi/sub-03/run-3/limbic/left/A/firstlevel\"\n",
      "set fmri(outputdir) \"/home/stevenm/Projects/bias/derivatives/ds-02/feat_files_ppi/sub-03/run-3/limbic/left/B/firstlevel\"\n",
      "set fmri(outputdir) \"/home/stevenm/Projects/bias/derivatives/ds-02/feat_files_ppi/sub-03/run-3/limbic/left/C/firstlevel\"\n",
      "set fmri(outputdir) \"/home/stevenm/Projects/bias/derivatives/ds-02/feat_files_ppi/sub-03/run-3/limbic/right/A/firstlevel\"\n",
      "set fmri(outputdir) \"/home/stevenm/Projects/bias/derivatives/ds-02/feat_files_ppi/sub-03/run-3/limbic/right/B/firstlevel\"\n",
      "set fmri(outputdir) \"/home/stevenm/Projects/bias/derivatives/ds-02/feat_files_ppi/sub-03/run-3/limbic/right/C/firstlevel\"\n",
      "set fmri(outputdir) \"/home/stevenm/Projects/bias/derivatives/ds-02/feat_files_ppi/sub-03/run-3/cognitive/left/A/firstlevel\"\n",
      "set fmri(outputdir) \"/home/stevenm/Projects/bias/derivatives/ds-02/feat_files_ppi/sub-03/run-3/cognitive/left/B/firstlevel\"\n",
      "set fmri(outputdir) \"/home/stevenm/Projects/bias/derivatives/ds-02/feat_files_ppi/sub-03/run-3/cognitive/left/C/firstlevel\"\n",
      "set fmri(outputdir) \"/home/stevenm/Projects/bias/derivatives/ds-02/feat_files_ppi/sub-03/run-3/cognitive/right/A/firstlevel\"\n",
      "set fmri(outputdir) \"/home/stevenm/Projects/bias/derivatives/ds-02/feat_files_ppi/sub-03/run-3/cognitive/right/B/firstlevel\"\n",
      "set fmri(outputdir) \"/home/stevenm/Projects/bias/derivatives/ds-02/feat_files_ppi/sub-03/run-3/cognitive/right/C/firstlevel\"\n",
      "set fmri(outputdir) \"/home/stevenm/Projects/bias/derivatives/ds-02/feat_files_ppi/sub-05/run-1/limbic/left/A/firstlevel\"\n",
      "set fmri(outputdir) \"/home/stevenm/Projects/bias/derivatives/ds-02/feat_files_ppi/sub-05/run-1/limbic/left/B/firstlevel\"\n",
      "set fmri(outputdir) \"/home/stevenm/Projects/bias/derivatives/ds-02/feat_files_ppi/sub-05/run-1/limbic/left/C/firstlevel\"\n",
      "set fmri(outputdir) \"/home/stevenm/Projects/bias/derivatives/ds-02/feat_files_ppi/sub-05/run-1/limbic/right/A/firstlevel\"\n",
      "set fmri(outputdir) \"/home/stevenm/Projects/bias/derivatives/ds-02/feat_files_ppi/sub-05/run-1/limbic/right/B/firstlevel\"\n",
      "set fmri(outputdir) \"/home/stevenm/Projects/bias/derivatives/ds-02/feat_files_ppi/sub-05/run-1/limbic/right/C/firstlevel\"\n",
      "set fmri(outputdir) \"/home/stevenm/Projects/bias/derivatives/ds-02/feat_files_ppi/sub-05/run-1/cognitive/left/A/firstlevel\"\n",
      "set fmri(outputdir) \"/home/stevenm/Projects/bias/derivatives/ds-02/feat_files_ppi/sub-05/run-1/cognitive/left/B/firstlevel\"\n",
      "set fmri(outputdir) \"/home/stevenm/Projects/bias/derivatives/ds-02/feat_files_ppi/sub-05/run-1/cognitive/left/C/firstlevel\"\n",
      "set fmri(outputdir) \"/home/stevenm/Projects/bias/derivatives/ds-02/feat_files_ppi/sub-05/run-1/cognitive/right/A/firstlevel\"\n",
      "set fmri(outputdir) \"/home/stevenm/Projects/bias/derivatives/ds-02/feat_files_ppi/sub-05/run-1/cognitive/right/B/firstlevel\"\n",
      "set fmri(outputdir) \"/home/stevenm/Projects/bias/derivatives/ds-02/feat_files_ppi/sub-05/run-1/cognitive/right/C/firstlevel\"\n",
      "set fmri(outputdir) \"/home/stevenm/Projects/bias/derivatives/ds-02/feat_files_ppi/sub-05/run-2/limbic/left/A/firstlevel\"\n",
      "set fmri(outputdir) \"/home/stevenm/Projects/bias/derivatives/ds-02/feat_files_ppi/sub-05/run-2/limbic/left/B/firstlevel\"\n",
      "set fmri(outputdir) \"/home/stevenm/Projects/bias/derivatives/ds-02/feat_files_ppi/sub-05/run-2/limbic/left/C/firstlevel\"\n",
      "set fmri(outputdir) \"/home/stevenm/Projects/bias/derivatives/ds-02/feat_files_ppi/sub-05/run-2/limbic/right/A/firstlevel\"\n",
      "set fmri(outputdir) \"/home/stevenm/Projects/bias/derivatives/ds-02/feat_files_ppi/sub-05/run-2/limbic/right/B/firstlevel\"\n",
      "set fmri(outputdir) \"/home/stevenm/Projects/bias/derivatives/ds-02/feat_files_ppi/sub-05/run-2/limbic/right/C/firstlevel\"\n",
      "set fmri(outputdir) \"/home/stevenm/Projects/bias/derivatives/ds-02/feat_files_ppi/sub-05/run-2/cognitive/left/A/firstlevel\"\n",
      "set fmri(outputdir) \"/home/stevenm/Projects/bias/derivatives/ds-02/feat_files_ppi/sub-05/run-2/cognitive/left/B/firstlevel\"\n",
      "set fmri(outputdir) \"/home/stevenm/Projects/bias/derivatives/ds-02/feat_files_ppi/sub-05/run-2/cognitive/left/C/firstlevel\"\n",
      "set fmri(outputdir) \"/home/stevenm/Projects/bias/derivatives/ds-02/feat_files_ppi/sub-05/run-2/cognitive/right/A/firstlevel\"\n",
      "set fmri(outputdir) \"/home/stevenm/Projects/bias/derivatives/ds-02/feat_files_ppi/sub-05/run-2/cognitive/right/B/firstlevel\"\n",
      "set fmri(outputdir) \"/home/stevenm/Projects/bias/derivatives/ds-02/feat_files_ppi/sub-05/run-2/cognitive/right/C/firstlevel\"\n",
      "set fmri(outputdir) \"/home/stevenm/Projects/bias/derivatives/ds-02/feat_files_ppi/sub-05/run-3/limbic/left/A/firstlevel\"\n",
      "set fmri(outputdir) \"/home/stevenm/Projects/bias/derivatives/ds-02/feat_files_ppi/sub-05/run-3/limbic/left/B/firstlevel\"\n",
      "set fmri(outputdir) \"/home/stevenm/Projects/bias/derivatives/ds-02/feat_files_ppi/sub-05/run-3/limbic/left/C/firstlevel\"\n",
      "set fmri(outputdir) \"/home/stevenm/Projects/bias/derivatives/ds-02/feat_files_ppi/sub-05/run-3/limbic/right/A/firstlevel\"\n",
      "set fmri(outputdir) \"/home/stevenm/Projects/bias/derivatives/ds-02/feat_files_ppi/sub-05/run-3/limbic/right/B/firstlevel\"\n",
      "set fmri(outputdir) \"/home/stevenm/Projects/bias/derivatives/ds-02/feat_files_ppi/sub-05/run-3/limbic/right/C/firstlevel\"\n",
      "set fmri(outputdir) \"/home/stevenm/Projects/bias/derivatives/ds-02/feat_files_ppi/sub-05/run-3/cognitive/left/A/firstlevel\"\n",
      "set fmri(outputdir) \"/home/stevenm/Projects/bias/derivatives/ds-02/feat_files_ppi/sub-05/run-3/cognitive/left/B/firstlevel\"\n",
      "set fmri(outputdir) \"/home/stevenm/Projects/bias/derivatives/ds-02/feat_files_ppi/sub-05/run-3/cognitive/left/C/firstlevel\"\n",
      "set fmri(outputdir) \"/home/stevenm/Projects/bias/derivatives/ds-02/feat_files_ppi/sub-05/run-3/cognitive/right/A/firstlevel\"\n",
      "set fmri(outputdir) \"/home/stevenm/Projects/bias/derivatives/ds-02/feat_files_ppi/sub-05/run-3/cognitive/right/B/firstlevel\"\n",
      "set fmri(outputdir) \"/home/stevenm/Projects/bias/derivatives/ds-02/feat_files_ppi/sub-05/run-3/cognitive/right/C/firstlevel\"\n",
      "set fmri(outputdir) \"/home/stevenm/Projects/bias/derivatives/ds-02/feat_files_ppi/sub-06/run-1/limbic/left/A/firstlevel\"\n",
      "set fmri(outputdir) \"/home/stevenm/Projects/bias/derivatives/ds-02/feat_files_ppi/sub-06/run-1/limbic/left/B/firstlevel\"\n",
      "set fmri(outputdir) \"/home/stevenm/Projects/bias/derivatives/ds-02/feat_files_ppi/sub-06/run-1/limbic/left/C/firstlevel\"\n",
      "set fmri(outputdir) \"/home/stevenm/Projects/bias/derivatives/ds-02/feat_files_ppi/sub-06/run-1/limbic/right/A/firstlevel\"\n",
      "set fmri(outputdir) \"/home/stevenm/Projects/bias/derivatives/ds-02/feat_files_ppi/sub-06/run-1/limbic/right/B/firstlevel\"\n",
      "set fmri(outputdir) \"/home/stevenm/Projects/bias/derivatives/ds-02/feat_files_ppi/sub-06/run-1/limbic/right/C/firstlevel\"\n",
      "set fmri(outputdir) \"/home/stevenm/Projects/bias/derivatives/ds-02/feat_files_ppi/sub-06/run-1/cognitive/left/A/firstlevel\"\n",
      "set fmri(outputdir) \"/home/stevenm/Projects/bias/derivatives/ds-02/feat_files_ppi/sub-06/run-1/cognitive/left/B/firstlevel\"\n",
      "set fmri(outputdir) \"/home/stevenm/Projects/bias/derivatives/ds-02/feat_files_ppi/sub-06/run-1/cognitive/left/C/firstlevel\"\n",
      "set fmri(outputdir) \"/home/stevenm/Projects/bias/derivatives/ds-02/feat_files_ppi/sub-06/run-1/cognitive/right/A/firstlevel\"\n",
      "set fmri(outputdir) \"/home/stevenm/Projects/bias/derivatives/ds-02/feat_files_ppi/sub-06/run-1/cognitive/right/B/firstlevel\"\n",
      "set fmri(outputdir) \"/home/stevenm/Projects/bias/derivatives/ds-02/feat_files_ppi/sub-06/run-1/cognitive/right/C/firstlevel\"\n",
      "set fmri(outputdir) \"/home/stevenm/Projects/bias/derivatives/ds-02/feat_files_ppi/sub-06/run-2/limbic/left/A/firstlevel\"\n",
      "set fmri(outputdir) \"/home/stevenm/Projects/bias/derivatives/ds-02/feat_files_ppi/sub-06/run-2/limbic/left/B/firstlevel\"\n",
      "set fmri(outputdir) \"/home/stevenm/Projects/bias/derivatives/ds-02/feat_files_ppi/sub-06/run-2/limbic/left/C/firstlevel\"\n",
      "set fmri(outputdir) \"/home/stevenm/Projects/bias/derivatives/ds-02/feat_files_ppi/sub-06/run-2/limbic/right/A/firstlevel\"\n",
      "set fmri(outputdir) \"/home/stevenm/Projects/bias/derivatives/ds-02/feat_files_ppi/sub-06/run-2/limbic/right/B/firstlevel\"\n",
      "set fmri(outputdir) \"/home/stevenm/Projects/bias/derivatives/ds-02/feat_files_ppi/sub-06/run-2/limbic/right/C/firstlevel\"\n",
      "set fmri(outputdir) \"/home/stevenm/Projects/bias/derivatives/ds-02/feat_files_ppi/sub-06/run-2/cognitive/left/A/firstlevel\"\n",
      "set fmri(outputdir) \"/home/stevenm/Projects/bias/derivatives/ds-02/feat_files_ppi/sub-06/run-2/cognitive/left/B/firstlevel\"\n",
      "set fmri(outputdir) \"/home/stevenm/Projects/bias/derivatives/ds-02/feat_files_ppi/sub-06/run-2/cognitive/left/C/firstlevel\"\n",
      "set fmri(outputdir) \"/home/stevenm/Projects/bias/derivatives/ds-02/feat_files_ppi/sub-06/run-2/cognitive/right/A/firstlevel\"\n",
      "set fmri(outputdir) \"/home/stevenm/Projects/bias/derivatives/ds-02/feat_files_ppi/sub-06/run-2/cognitive/right/B/firstlevel\"\n",
      "set fmri(outputdir) \"/home/stevenm/Projects/bias/derivatives/ds-02/feat_files_ppi/sub-06/run-2/cognitive/right/C/firstlevel\"\n",
      "set fmri(outputdir) \"/home/stevenm/Projects/bias/derivatives/ds-02/feat_files_ppi/sub-06/run-3/limbic/left/A/firstlevel\"\n",
      "set fmri(outputdir) \"/home/stevenm/Projects/bias/derivatives/ds-02/feat_files_ppi/sub-06/run-3/limbic/left/B/firstlevel\"\n",
      "set fmri(outputdir) \"/home/stevenm/Projects/bias/derivatives/ds-02/feat_files_ppi/sub-06/run-3/limbic/left/C/firstlevel\"\n",
      "set fmri(outputdir) \"/home/stevenm/Projects/bias/derivatives/ds-02/feat_files_ppi/sub-06/run-3/limbic/right/A/firstlevel\"\n",
      "set fmri(outputdir) \"/home/stevenm/Projects/bias/derivatives/ds-02/feat_files_ppi/sub-06/run-3/limbic/right/B/firstlevel\"\n",
      "set fmri(outputdir) \"/home/stevenm/Projects/bias/derivatives/ds-02/feat_files_ppi/sub-06/run-3/limbic/right/C/firstlevel\"\n",
      "set fmri(outputdir) \"/home/stevenm/Projects/bias/derivatives/ds-02/feat_files_ppi/sub-06/run-3/cognitive/left/A/firstlevel\"\n",
      "set fmri(outputdir) \"/home/stevenm/Projects/bias/derivatives/ds-02/feat_files_ppi/sub-06/run-3/cognitive/left/B/firstlevel\"\n",
      "set fmri(outputdir) \"/home/stevenm/Projects/bias/derivatives/ds-02/feat_files_ppi/sub-06/run-3/cognitive/left/C/firstlevel\"\n",
      "set fmri(outputdir) \"/home/stevenm/Projects/bias/derivatives/ds-02/feat_files_ppi/sub-06/run-3/cognitive/right/A/firstlevel\"\n",
      "set fmri(outputdir) \"/home/stevenm/Projects/bias/derivatives/ds-02/feat_files_ppi/sub-06/run-3/cognitive/right/B/firstlevel\"\n",
      "set fmri(outputdir) \"/home/stevenm/Projects/bias/derivatives/ds-02/feat_files_ppi/sub-06/run-3/cognitive/right/C/firstlevel\"\n",
      "set fmri(outputdir) \"/home/stevenm/Projects/bias/derivatives/ds-02/feat_files_ppi/sub-07/run-1/limbic/left/A/firstlevel\"\n",
      "set fmri(outputdir) \"/home/stevenm/Projects/bias/derivatives/ds-02/feat_files_ppi/sub-07/run-1/limbic/left/B/firstlevel\"\n",
      "set fmri(outputdir) \"/home/stevenm/Projects/bias/derivatives/ds-02/feat_files_ppi/sub-07/run-1/limbic/left/C/firstlevel\"\n",
      "set fmri(outputdir) \"/home/stevenm/Projects/bias/derivatives/ds-02/feat_files_ppi/sub-07/run-1/limbic/right/A/firstlevel\"\n",
      "set fmri(outputdir) \"/home/stevenm/Projects/bias/derivatives/ds-02/feat_files_ppi/sub-07/run-1/limbic/right/B/firstlevel\"\n",
      "set fmri(outputdir) \"/home/stevenm/Projects/bias/derivatives/ds-02/feat_files_ppi/sub-07/run-1/limbic/right/C/firstlevel\"\n",
      "set fmri(outputdir) \"/home/stevenm/Projects/bias/derivatives/ds-02/feat_files_ppi/sub-07/run-1/cognitive/left/A/firstlevel\"\n",
      "set fmri(outputdir) \"/home/stevenm/Projects/bias/derivatives/ds-02/feat_files_ppi/sub-07/run-1/cognitive/left/B/firstlevel\"\n",
      "set fmri(outputdir) \"/home/stevenm/Projects/bias/derivatives/ds-02/feat_files_ppi/sub-07/run-1/cognitive/left/C/firstlevel\"\n",
      "set fmri(outputdir) \"/home/stevenm/Projects/bias/derivatives/ds-02/feat_files_ppi/sub-07/run-1/cognitive/right/A/firstlevel\"\n",
      "set fmri(outputdir) \"/home/stevenm/Projects/bias/derivatives/ds-02/feat_files_ppi/sub-07/run-1/cognitive/right/B/firstlevel\"\n",
      "set fmri(outputdir) \"/home/stevenm/Projects/bias/derivatives/ds-02/feat_files_ppi/sub-07/run-1/cognitive/right/C/firstlevel\"\n",
      "set fmri(outputdir) \"/home/stevenm/Projects/bias/derivatives/ds-02/feat_files_ppi/sub-07/run-2/limbic/left/A/firstlevel\"\n",
      "set fmri(outputdir) \"/home/stevenm/Projects/bias/derivatives/ds-02/feat_files_ppi/sub-07/run-2/limbic/left/B/firstlevel\"\n",
      "set fmri(outputdir) \"/home/stevenm/Projects/bias/derivatives/ds-02/feat_files_ppi/sub-07/run-2/limbic/left/C/firstlevel\"\n",
      "set fmri(outputdir) \"/home/stevenm/Projects/bias/derivatives/ds-02/feat_files_ppi/sub-07/run-2/limbic/right/A/firstlevel\"\n",
      "set fmri(outputdir) \"/home/stevenm/Projects/bias/derivatives/ds-02/feat_files_ppi/sub-07/run-2/limbic/right/B/firstlevel\"\n",
      "set fmri(outputdir) \"/home/stevenm/Projects/bias/derivatives/ds-02/feat_files_ppi/sub-07/run-2/limbic/right/C/firstlevel\"\n",
      "set fmri(outputdir) \"/home/stevenm/Projects/bias/derivatives/ds-02/feat_files_ppi/sub-07/run-2/cognitive/left/A/firstlevel\"\n",
      "set fmri(outputdir) \"/home/stevenm/Projects/bias/derivatives/ds-02/feat_files_ppi/sub-07/run-2/cognitive/left/B/firstlevel\"\n",
      "set fmri(outputdir) \"/home/stevenm/Projects/bias/derivatives/ds-02/feat_files_ppi/sub-07/run-2/cognitive/left/C/firstlevel\"\n",
      "set fmri(outputdir) \"/home/stevenm/Projects/bias/derivatives/ds-02/feat_files_ppi/sub-07/run-2/cognitive/right/A/firstlevel\"\n",
      "set fmri(outputdir) \"/home/stevenm/Projects/bias/derivatives/ds-02/feat_files_ppi/sub-07/run-2/cognitive/right/B/firstlevel\"\n",
      "set fmri(outputdir) \"/home/stevenm/Projects/bias/derivatives/ds-02/feat_files_ppi/sub-07/run-2/cognitive/right/C/firstlevel\"\n",
      "set fmri(outputdir) \"/home/stevenm/Projects/bias/derivatives/ds-02/feat_files_ppi/sub-08/run-1/limbic/left/A/firstlevel\"\n",
      "set fmri(outputdir) \"/home/stevenm/Projects/bias/derivatives/ds-02/feat_files_ppi/sub-08/run-1/limbic/left/B/firstlevel\"\n",
      "set fmri(outputdir) \"/home/stevenm/Projects/bias/derivatives/ds-02/feat_files_ppi/sub-08/run-1/limbic/left/C/firstlevel\"\n",
      "set fmri(outputdir) \"/home/stevenm/Projects/bias/derivatives/ds-02/feat_files_ppi/sub-08/run-1/limbic/right/A/firstlevel\"\n",
      "set fmri(outputdir) \"/home/stevenm/Projects/bias/derivatives/ds-02/feat_files_ppi/sub-08/run-1/limbic/right/B/firstlevel\"\n",
      "set fmri(outputdir) \"/home/stevenm/Projects/bias/derivatives/ds-02/feat_files_ppi/sub-08/run-1/limbic/right/C/firstlevel\"\n",
      "set fmri(outputdir) \"/home/stevenm/Projects/bias/derivatives/ds-02/feat_files_ppi/sub-08/run-1/cognitive/left/A/firstlevel\"\n",
      "set fmri(outputdir) \"/home/stevenm/Projects/bias/derivatives/ds-02/feat_files_ppi/sub-08/run-1/cognitive/left/B/firstlevel\"\n",
      "set fmri(outputdir) \"/home/stevenm/Projects/bias/derivatives/ds-02/feat_files_ppi/sub-08/run-1/cognitive/left/C/firstlevel\"\n",
      "set fmri(outputdir) \"/home/stevenm/Projects/bias/derivatives/ds-02/feat_files_ppi/sub-08/run-1/cognitive/right/A/firstlevel\"\n",
      "set fmri(outputdir) \"/home/stevenm/Projects/bias/derivatives/ds-02/feat_files_ppi/sub-08/run-1/cognitive/right/B/firstlevel\"\n",
      "set fmri(outputdir) \"/home/stevenm/Projects/bias/derivatives/ds-02/feat_files_ppi/sub-08/run-1/cognitive/right/C/firstlevel\"\n",
      "set fmri(outputdir) \"/home/stevenm/Projects/bias/derivatives/ds-02/feat_files_ppi/sub-08/run-2/limbic/left/A/firstlevel\"\n",
      "set fmri(outputdir) \"/home/stevenm/Projects/bias/derivatives/ds-02/feat_files_ppi/sub-08/run-2/limbic/left/B/firstlevel\"\n",
      "set fmri(outputdir) \"/home/stevenm/Projects/bias/derivatives/ds-02/feat_files_ppi/sub-08/run-2/limbic/left/C/firstlevel\"\n",
      "set fmri(outputdir) \"/home/stevenm/Projects/bias/derivatives/ds-02/feat_files_ppi/sub-08/run-2/limbic/right/A/firstlevel\"\n",
      "set fmri(outputdir) \"/home/stevenm/Projects/bias/derivatives/ds-02/feat_files_ppi/sub-08/run-2/limbic/right/B/firstlevel\"\n",
      "set fmri(outputdir) \"/home/stevenm/Projects/bias/derivatives/ds-02/feat_files_ppi/sub-08/run-2/limbic/right/C/firstlevel\"\n",
      "set fmri(outputdir) \"/home/stevenm/Projects/bias/derivatives/ds-02/feat_files_ppi/sub-08/run-2/cognitive/left/A/firstlevel\"\n",
      "set fmri(outputdir) \"/home/stevenm/Projects/bias/derivatives/ds-02/feat_files_ppi/sub-08/run-2/cognitive/left/B/firstlevel\"\n",
      "set fmri(outputdir) \"/home/stevenm/Projects/bias/derivatives/ds-02/feat_files_ppi/sub-08/run-2/cognitive/left/C/firstlevel\"\n",
      "set fmri(outputdir) \"/home/stevenm/Projects/bias/derivatives/ds-02/feat_files_ppi/sub-08/run-2/cognitive/right/A/firstlevel\"\n",
      "set fmri(outputdir) \"/home/stevenm/Projects/bias/derivatives/ds-02/feat_files_ppi/sub-08/run-2/cognitive/right/B/firstlevel\"\n",
      "set fmri(outputdir) \"/home/stevenm/Projects/bias/derivatives/ds-02/feat_files_ppi/sub-08/run-2/cognitive/right/C/firstlevel\"\n",
      "set fmri(outputdir) \"/home/stevenm/Projects/bias/derivatives/ds-02/feat_files_ppi/sub-08/run-3/limbic/left/A/firstlevel\"\n",
      "set fmri(outputdir) \"/home/stevenm/Projects/bias/derivatives/ds-02/feat_files_ppi/sub-08/run-3/limbic/left/B/firstlevel\"\n",
      "set fmri(outputdir) \"/home/stevenm/Projects/bias/derivatives/ds-02/feat_files_ppi/sub-08/run-3/limbic/left/C/firstlevel\"\n",
      "set fmri(outputdir) \"/home/stevenm/Projects/bias/derivatives/ds-02/feat_files_ppi/sub-08/run-3/limbic/right/A/firstlevel\"\n",
      "set fmri(outputdir) \"/home/stevenm/Projects/bias/derivatives/ds-02/feat_files_ppi/sub-08/run-3/limbic/right/B/firstlevel\"\n",
      "set fmri(outputdir) \"/home/stevenm/Projects/bias/derivatives/ds-02/feat_files_ppi/sub-08/run-3/limbic/right/C/firstlevel\"\n",
      "set fmri(outputdir) \"/home/stevenm/Projects/bias/derivatives/ds-02/feat_files_ppi/sub-08/run-3/cognitive/left/A/firstlevel\"\n",
      "set fmri(outputdir) \"/home/stevenm/Projects/bias/derivatives/ds-02/feat_files_ppi/sub-08/run-3/cognitive/left/B/firstlevel\"\n",
      "set fmri(outputdir) \"/home/stevenm/Projects/bias/derivatives/ds-02/feat_files_ppi/sub-08/run-3/cognitive/left/C/firstlevel\"\n",
      "set fmri(outputdir) \"/home/stevenm/Projects/bias/derivatives/ds-02/feat_files_ppi/sub-08/run-3/cognitive/right/A/firstlevel\"\n",
      "set fmri(outputdir) \"/home/stevenm/Projects/bias/derivatives/ds-02/feat_files_ppi/sub-08/run-3/cognitive/right/B/firstlevel\"\n",
      "set fmri(outputdir) \"/home/stevenm/Projects/bias/derivatives/ds-02/feat_files_ppi/sub-08/run-3/cognitive/right/C/firstlevel\"\n",
      "set fmri(outputdir) \"/home/stevenm/Projects/bias/derivatives/ds-02/feat_files_ppi/sub-09/run-1/limbic/left/A/firstlevel\"\n",
      "set fmri(outputdir) \"/home/stevenm/Projects/bias/derivatives/ds-02/feat_files_ppi/sub-09/run-1/limbic/left/B/firstlevel\"\n",
      "set fmri(outputdir) \"/home/stevenm/Projects/bias/derivatives/ds-02/feat_files_ppi/sub-09/run-1/limbic/left/C/firstlevel\"\n",
      "set fmri(outputdir) \"/home/stevenm/Projects/bias/derivatives/ds-02/feat_files_ppi/sub-09/run-1/limbic/right/A/firstlevel\"\n",
      "set fmri(outputdir) \"/home/stevenm/Projects/bias/derivatives/ds-02/feat_files_ppi/sub-09/run-1/limbic/right/B/firstlevel\"\n",
      "set fmri(outputdir) \"/home/stevenm/Projects/bias/derivatives/ds-02/feat_files_ppi/sub-09/run-1/limbic/right/C/firstlevel\"\n",
      "set fmri(outputdir) \"/home/stevenm/Projects/bias/derivatives/ds-02/feat_files_ppi/sub-09/run-1/cognitive/left/A/firstlevel\"\n",
      "set fmri(outputdir) \"/home/stevenm/Projects/bias/derivatives/ds-02/feat_files_ppi/sub-09/run-1/cognitive/left/B/firstlevel\"\n",
      "set fmri(outputdir) \"/home/stevenm/Projects/bias/derivatives/ds-02/feat_files_ppi/sub-09/run-1/cognitive/left/C/firstlevel\"\n",
      "set fmri(outputdir) \"/home/stevenm/Projects/bias/derivatives/ds-02/feat_files_ppi/sub-09/run-1/cognitive/right/A/firstlevel\"\n",
      "set fmri(outputdir) \"/home/stevenm/Projects/bias/derivatives/ds-02/feat_files_ppi/sub-09/run-1/cognitive/right/B/firstlevel\"\n",
      "set fmri(outputdir) \"/home/stevenm/Projects/bias/derivatives/ds-02/feat_files_ppi/sub-09/run-1/cognitive/right/C/firstlevel\"\n",
      "set fmri(outputdir) \"/home/stevenm/Projects/bias/derivatives/ds-02/feat_files_ppi/sub-09/run-2/limbic/left/A/firstlevel\"\n",
      "set fmri(outputdir) \"/home/stevenm/Projects/bias/derivatives/ds-02/feat_files_ppi/sub-09/run-2/limbic/left/B/firstlevel\"\n",
      "set fmri(outputdir) \"/home/stevenm/Projects/bias/derivatives/ds-02/feat_files_ppi/sub-09/run-2/limbic/left/C/firstlevel\"\n",
      "set fmri(outputdir) \"/home/stevenm/Projects/bias/derivatives/ds-02/feat_files_ppi/sub-09/run-2/limbic/right/A/firstlevel\"\n",
      "set fmri(outputdir) \"/home/stevenm/Projects/bias/derivatives/ds-02/feat_files_ppi/sub-09/run-2/limbic/right/B/firstlevel\"\n",
      "set fmri(outputdir) \"/home/stevenm/Projects/bias/derivatives/ds-02/feat_files_ppi/sub-09/run-2/limbic/right/C/firstlevel\"\n",
      "set fmri(outputdir) \"/home/stevenm/Projects/bias/derivatives/ds-02/feat_files_ppi/sub-09/run-2/cognitive/left/A/firstlevel\"\n",
      "set fmri(outputdir) \"/home/stevenm/Projects/bias/derivatives/ds-02/feat_files_ppi/sub-09/run-2/cognitive/left/B/firstlevel\"\n",
      "set fmri(outputdir) \"/home/stevenm/Projects/bias/derivatives/ds-02/feat_files_ppi/sub-09/run-2/cognitive/left/C/firstlevel\"\n",
      "set fmri(outputdir) \"/home/stevenm/Projects/bias/derivatives/ds-02/feat_files_ppi/sub-09/run-2/cognitive/right/A/firstlevel\"\n",
      "set fmri(outputdir) \"/home/stevenm/Projects/bias/derivatives/ds-02/feat_files_ppi/sub-09/run-2/cognitive/right/B/firstlevel\"\n",
      "set fmri(outputdir) \"/home/stevenm/Projects/bias/derivatives/ds-02/feat_files_ppi/sub-09/run-2/cognitive/right/C/firstlevel\"\n",
      "set fmri(outputdir) \"/home/stevenm/Projects/bias/derivatives/ds-02/feat_files_ppi/sub-09/run-3/limbic/left/A/firstlevel\"\n",
      "set fmri(outputdir) \"/home/stevenm/Projects/bias/derivatives/ds-02/feat_files_ppi/sub-09/run-3/limbic/left/B/firstlevel\"\n",
      "set fmri(outputdir) \"/home/stevenm/Projects/bias/derivatives/ds-02/feat_files_ppi/sub-09/run-3/limbic/left/C/firstlevel\"\n",
      "set fmri(outputdir) \"/home/stevenm/Projects/bias/derivatives/ds-02/feat_files_ppi/sub-09/run-3/limbic/right/A/firstlevel\"\n",
      "set fmri(outputdir) \"/home/stevenm/Projects/bias/derivatives/ds-02/feat_files_ppi/sub-09/run-3/limbic/right/B/firstlevel\"\n",
      "set fmri(outputdir) \"/home/stevenm/Projects/bias/derivatives/ds-02/feat_files_ppi/sub-09/run-3/limbic/right/C/firstlevel\"\n",
      "set fmri(outputdir) \"/home/stevenm/Projects/bias/derivatives/ds-02/feat_files_ppi/sub-09/run-3/cognitive/left/A/firstlevel\"\n",
      "set fmri(outputdir) \"/home/stevenm/Projects/bias/derivatives/ds-02/feat_files_ppi/sub-09/run-3/cognitive/left/B/firstlevel\"\n",
      "set fmri(outputdir) \"/home/stevenm/Projects/bias/derivatives/ds-02/feat_files_ppi/sub-09/run-3/cognitive/left/C/firstlevel\"\n",
      "set fmri(outputdir) \"/home/stevenm/Projects/bias/derivatives/ds-02/feat_files_ppi/sub-09/run-3/cognitive/right/A/firstlevel\"\n",
      "set fmri(outputdir) \"/home/stevenm/Projects/bias/derivatives/ds-02/feat_files_ppi/sub-09/run-3/cognitive/right/B/firstlevel\"\n",
      "set fmri(outputdir) \"/home/stevenm/Projects/bias/derivatives/ds-02/feat_files_ppi/sub-09/run-3/cognitive/right/C/firstlevel\"\n",
      "set fmri(outputdir) \"/home/stevenm/Projects/bias/derivatives/ds-02/feat_files_ppi/sub-10/run-1/limbic/left/A/firstlevel\"\n",
      "set fmri(outputdir) \"/home/stevenm/Projects/bias/derivatives/ds-02/feat_files_ppi/sub-10/run-1/limbic/left/B/firstlevel\"\n",
      "set fmri(outputdir) \"/home/stevenm/Projects/bias/derivatives/ds-02/feat_files_ppi/sub-10/run-1/limbic/left/C/firstlevel\"\n",
      "set fmri(outputdir) \"/home/stevenm/Projects/bias/derivatives/ds-02/feat_files_ppi/sub-10/run-1/limbic/right/A/firstlevel\"\n",
      "set fmri(outputdir) \"/home/stevenm/Projects/bias/derivatives/ds-02/feat_files_ppi/sub-10/run-1/limbic/right/B/firstlevel\"\n",
      "set fmri(outputdir) \"/home/stevenm/Projects/bias/derivatives/ds-02/feat_files_ppi/sub-10/run-1/limbic/right/C/firstlevel\"\n",
      "set fmri(outputdir) \"/home/stevenm/Projects/bias/derivatives/ds-02/feat_files_ppi/sub-10/run-1/cognitive/left/A/firstlevel\"\n",
      "set fmri(outputdir) \"/home/stevenm/Projects/bias/derivatives/ds-02/feat_files_ppi/sub-10/run-1/cognitive/left/B/firstlevel\"\n",
      "set fmri(outputdir) \"/home/stevenm/Projects/bias/derivatives/ds-02/feat_files_ppi/sub-10/run-1/cognitive/left/C/firstlevel\"\n",
      "set fmri(outputdir) \"/home/stevenm/Projects/bias/derivatives/ds-02/feat_files_ppi/sub-10/run-1/cognitive/right/A/firstlevel\"\n",
      "set fmri(outputdir) \"/home/stevenm/Projects/bias/derivatives/ds-02/feat_files_ppi/sub-10/run-1/cognitive/right/B/firstlevel\"\n",
      "set fmri(outputdir) \"/home/stevenm/Projects/bias/derivatives/ds-02/feat_files_ppi/sub-10/run-1/cognitive/right/C/firstlevel\"\n",
      "set fmri(outputdir) \"/home/stevenm/Projects/bias/derivatives/ds-02/feat_files_ppi/sub-10/run-2/limbic/left/A/firstlevel\"\n",
      "set fmri(outputdir) \"/home/stevenm/Projects/bias/derivatives/ds-02/feat_files_ppi/sub-10/run-2/limbic/left/B/firstlevel\"\n",
      "set fmri(outputdir) \"/home/stevenm/Projects/bias/derivatives/ds-02/feat_files_ppi/sub-10/run-2/limbic/left/C/firstlevel\"\n",
      "set fmri(outputdir) \"/home/stevenm/Projects/bias/derivatives/ds-02/feat_files_ppi/sub-10/run-2/limbic/right/A/firstlevel\"\n",
      "set fmri(outputdir) \"/home/stevenm/Projects/bias/derivatives/ds-02/feat_files_ppi/sub-10/run-2/limbic/right/B/firstlevel\"\n",
      "set fmri(outputdir) \"/home/stevenm/Projects/bias/derivatives/ds-02/feat_files_ppi/sub-10/run-2/limbic/right/C/firstlevel\"\n",
      "set fmri(outputdir) \"/home/stevenm/Projects/bias/derivatives/ds-02/feat_files_ppi/sub-10/run-2/cognitive/left/A/firstlevel\"\n",
      "set fmri(outputdir) \"/home/stevenm/Projects/bias/derivatives/ds-02/feat_files_ppi/sub-10/run-2/cognitive/left/B/firstlevel\"\n",
      "set fmri(outputdir) \"/home/stevenm/Projects/bias/derivatives/ds-02/feat_files_ppi/sub-10/run-2/cognitive/left/C/firstlevel\"\n",
      "set fmri(outputdir) \"/home/stevenm/Projects/bias/derivatives/ds-02/feat_files_ppi/sub-10/run-2/cognitive/right/A/firstlevel\"\n",
      "set fmri(outputdir) \"/home/stevenm/Projects/bias/derivatives/ds-02/feat_files_ppi/sub-10/run-2/cognitive/right/B/firstlevel\"\n"
     ]
    },
    {
     "name": "stdout",
     "output_type": "stream",
     "text": [
      "set fmri(outputdir) \"/home/stevenm/Projects/bias/derivatives/ds-02/feat_files_ppi/sub-10/run-2/cognitive/right/C/firstlevel\"\n",
      "set fmri(outputdir) \"/home/stevenm/Projects/bias/derivatives/ds-02/feat_files_ppi/sub-10/run-3/limbic/left/A/firstlevel\"\n",
      "set fmri(outputdir) \"/home/stevenm/Projects/bias/derivatives/ds-02/feat_files_ppi/sub-10/run-3/limbic/left/B/firstlevel\"\n",
      "set fmri(outputdir) \"/home/stevenm/Projects/bias/derivatives/ds-02/feat_files_ppi/sub-10/run-3/limbic/left/C/firstlevel\"\n",
      "set fmri(outputdir) \"/home/stevenm/Projects/bias/derivatives/ds-02/feat_files_ppi/sub-10/run-3/limbic/right/A/firstlevel\"\n",
      "set fmri(outputdir) \"/home/stevenm/Projects/bias/derivatives/ds-02/feat_files_ppi/sub-10/run-3/limbic/right/B/firstlevel\"\n",
      "set fmri(outputdir) \"/home/stevenm/Projects/bias/derivatives/ds-02/feat_files_ppi/sub-10/run-3/limbic/right/C/firstlevel\"\n",
      "set fmri(outputdir) \"/home/stevenm/Projects/bias/derivatives/ds-02/feat_files_ppi/sub-10/run-3/cognitive/left/A/firstlevel\"\n",
      "set fmri(outputdir) \"/home/stevenm/Projects/bias/derivatives/ds-02/feat_files_ppi/sub-10/run-3/cognitive/left/B/firstlevel\"\n",
      "set fmri(outputdir) \"/home/stevenm/Projects/bias/derivatives/ds-02/feat_files_ppi/sub-10/run-3/cognitive/left/C/firstlevel\"\n",
      "set fmri(outputdir) \"/home/stevenm/Projects/bias/derivatives/ds-02/feat_files_ppi/sub-10/run-3/cognitive/right/A/firstlevel\"\n",
      "set fmri(outputdir) \"/home/stevenm/Projects/bias/derivatives/ds-02/feat_files_ppi/sub-10/run-3/cognitive/right/B/firstlevel\"\n",
      "set fmri(outputdir) \"/home/stevenm/Projects/bias/derivatives/ds-02/feat_files_ppi/sub-10/run-3/cognitive/right/C/firstlevel\"\n",
      "set fmri(outputdir) \"/home/stevenm/Projects/bias/derivatives/ds-02/feat_files_ppi/sub-11/run-1/limbic/left/A/firstlevel\"\n",
      "set fmri(outputdir) \"/home/stevenm/Projects/bias/derivatives/ds-02/feat_files_ppi/sub-11/run-1/limbic/left/B/firstlevel\"\n",
      "set fmri(outputdir) \"/home/stevenm/Projects/bias/derivatives/ds-02/feat_files_ppi/sub-11/run-1/limbic/left/C/firstlevel\"\n",
      "set fmri(outputdir) \"/home/stevenm/Projects/bias/derivatives/ds-02/feat_files_ppi/sub-11/run-1/limbic/right/A/firstlevel\"\n",
      "set fmri(outputdir) \"/home/stevenm/Projects/bias/derivatives/ds-02/feat_files_ppi/sub-11/run-1/limbic/right/B/firstlevel\"\n",
      "set fmri(outputdir) \"/home/stevenm/Projects/bias/derivatives/ds-02/feat_files_ppi/sub-11/run-1/limbic/right/C/firstlevel\"\n",
      "set fmri(outputdir) \"/home/stevenm/Projects/bias/derivatives/ds-02/feat_files_ppi/sub-11/run-1/cognitive/left/A/firstlevel\"\n",
      "set fmri(outputdir) \"/home/stevenm/Projects/bias/derivatives/ds-02/feat_files_ppi/sub-11/run-1/cognitive/left/B/firstlevel\"\n",
      "set fmri(outputdir) \"/home/stevenm/Projects/bias/derivatives/ds-02/feat_files_ppi/sub-11/run-1/cognitive/left/C/firstlevel\"\n",
      "set fmri(outputdir) \"/home/stevenm/Projects/bias/derivatives/ds-02/feat_files_ppi/sub-11/run-1/cognitive/right/A/firstlevel\"\n",
      "set fmri(outputdir) \"/home/stevenm/Projects/bias/derivatives/ds-02/feat_files_ppi/sub-11/run-1/cognitive/right/B/firstlevel\"\n",
      "set fmri(outputdir) \"/home/stevenm/Projects/bias/derivatives/ds-02/feat_files_ppi/sub-11/run-1/cognitive/right/C/firstlevel\"\n",
      "set fmri(outputdir) \"/home/stevenm/Projects/bias/derivatives/ds-02/feat_files_ppi/sub-11/run-2/limbic/left/A/firstlevel\"\n",
      "set fmri(outputdir) \"/home/stevenm/Projects/bias/derivatives/ds-02/feat_files_ppi/sub-11/run-2/limbic/left/B/firstlevel\"\n",
      "set fmri(outputdir) \"/home/stevenm/Projects/bias/derivatives/ds-02/feat_files_ppi/sub-11/run-2/limbic/left/C/firstlevel\"\n",
      "set fmri(outputdir) \"/home/stevenm/Projects/bias/derivatives/ds-02/feat_files_ppi/sub-11/run-2/limbic/right/A/firstlevel\"\n",
      "set fmri(outputdir) \"/home/stevenm/Projects/bias/derivatives/ds-02/feat_files_ppi/sub-11/run-2/limbic/right/B/firstlevel\"\n",
      "set fmri(outputdir) \"/home/stevenm/Projects/bias/derivatives/ds-02/feat_files_ppi/sub-11/run-2/limbic/right/C/firstlevel\"\n",
      "set fmri(outputdir) \"/home/stevenm/Projects/bias/derivatives/ds-02/feat_files_ppi/sub-11/run-2/cognitive/left/A/firstlevel\"\n",
      "set fmri(outputdir) \"/home/stevenm/Projects/bias/derivatives/ds-02/feat_files_ppi/sub-11/run-2/cognitive/left/B/firstlevel\"\n",
      "set fmri(outputdir) \"/home/stevenm/Projects/bias/derivatives/ds-02/feat_files_ppi/sub-11/run-2/cognitive/left/C/firstlevel\"\n",
      "set fmri(outputdir) \"/home/stevenm/Projects/bias/derivatives/ds-02/feat_files_ppi/sub-11/run-2/cognitive/right/A/firstlevel\"\n",
      "set fmri(outputdir) \"/home/stevenm/Projects/bias/derivatives/ds-02/feat_files_ppi/sub-11/run-2/cognitive/right/B/firstlevel\"\n",
      "set fmri(outputdir) \"/home/stevenm/Projects/bias/derivatives/ds-02/feat_files_ppi/sub-11/run-2/cognitive/right/C/firstlevel\"\n",
      "set fmri(outputdir) \"/home/stevenm/Projects/bias/derivatives/ds-02/feat_files_ppi/sub-11/run-3/limbic/left/A/firstlevel\"\n",
      "set fmri(outputdir) \"/home/stevenm/Projects/bias/derivatives/ds-02/feat_files_ppi/sub-11/run-3/limbic/left/B/firstlevel\"\n",
      "set fmri(outputdir) \"/home/stevenm/Projects/bias/derivatives/ds-02/feat_files_ppi/sub-11/run-3/limbic/left/C/firstlevel\"\n",
      "set fmri(outputdir) \"/home/stevenm/Projects/bias/derivatives/ds-02/feat_files_ppi/sub-11/run-3/limbic/right/A/firstlevel\"\n",
      "set fmri(outputdir) \"/home/stevenm/Projects/bias/derivatives/ds-02/feat_files_ppi/sub-11/run-3/limbic/right/B/firstlevel\"\n",
      "set fmri(outputdir) \"/home/stevenm/Projects/bias/derivatives/ds-02/feat_files_ppi/sub-11/run-3/limbic/right/C/firstlevel\"\n",
      "set fmri(outputdir) \"/home/stevenm/Projects/bias/derivatives/ds-02/feat_files_ppi/sub-11/run-3/cognitive/left/A/firstlevel\"\n",
      "set fmri(outputdir) \"/home/stevenm/Projects/bias/derivatives/ds-02/feat_files_ppi/sub-11/run-3/cognitive/left/B/firstlevel\"\n",
      "set fmri(outputdir) \"/home/stevenm/Projects/bias/derivatives/ds-02/feat_files_ppi/sub-11/run-3/cognitive/left/C/firstlevel\"\n",
      "set fmri(outputdir) \"/home/stevenm/Projects/bias/derivatives/ds-02/feat_files_ppi/sub-11/run-3/cognitive/right/A/firstlevel\"\n",
      "set fmri(outputdir) \"/home/stevenm/Projects/bias/derivatives/ds-02/feat_files_ppi/sub-11/run-3/cognitive/right/B/firstlevel\"\n",
      "set fmri(outputdir) \"/home/stevenm/Projects/bias/derivatives/ds-02/feat_files_ppi/sub-11/run-3/cognitive/right/C/firstlevel\"\n",
      "set fmri(outputdir) \"/home/stevenm/Projects/bias/derivatives/ds-02/feat_files_ppi/sub-12/run-1/limbic/left/A/firstlevel\"\n",
      "set fmri(outputdir) \"/home/stevenm/Projects/bias/derivatives/ds-02/feat_files_ppi/sub-12/run-1/limbic/left/B/firstlevel\"\n",
      "set fmri(outputdir) \"/home/stevenm/Projects/bias/derivatives/ds-02/feat_files_ppi/sub-12/run-1/limbic/left/C/firstlevel\"\n",
      "set fmri(outputdir) \"/home/stevenm/Projects/bias/derivatives/ds-02/feat_files_ppi/sub-12/run-1/limbic/right/A/firstlevel\"\n",
      "set fmri(outputdir) \"/home/stevenm/Projects/bias/derivatives/ds-02/feat_files_ppi/sub-12/run-1/limbic/right/B/firstlevel\"\n",
      "set fmri(outputdir) \"/home/stevenm/Projects/bias/derivatives/ds-02/feat_files_ppi/sub-12/run-1/limbic/right/C/firstlevel\"\n",
      "set fmri(outputdir) \"/home/stevenm/Projects/bias/derivatives/ds-02/feat_files_ppi/sub-12/run-1/cognitive/left/A/firstlevel\"\n",
      "set fmri(outputdir) \"/home/stevenm/Projects/bias/derivatives/ds-02/feat_files_ppi/sub-12/run-1/cognitive/left/B/firstlevel\"\n",
      "set fmri(outputdir) \"/home/stevenm/Projects/bias/derivatives/ds-02/feat_files_ppi/sub-12/run-1/cognitive/left/C/firstlevel\"\n",
      "set fmri(outputdir) \"/home/stevenm/Projects/bias/derivatives/ds-02/feat_files_ppi/sub-12/run-1/cognitive/right/A/firstlevel\"\n",
      "set fmri(outputdir) \"/home/stevenm/Projects/bias/derivatives/ds-02/feat_files_ppi/sub-12/run-1/cognitive/right/B/firstlevel\"\n",
      "set fmri(outputdir) \"/home/stevenm/Projects/bias/derivatives/ds-02/feat_files_ppi/sub-12/run-1/cognitive/right/C/firstlevel\"\n",
      "set fmri(outputdir) \"/home/stevenm/Projects/bias/derivatives/ds-02/feat_files_ppi/sub-12/run-2/limbic/left/A/firstlevel\"\n",
      "set fmri(outputdir) \"/home/stevenm/Projects/bias/derivatives/ds-02/feat_files_ppi/sub-12/run-2/limbic/left/B/firstlevel\"\n",
      "set fmri(outputdir) \"/home/stevenm/Projects/bias/derivatives/ds-02/feat_files_ppi/sub-12/run-2/limbic/left/C/firstlevel\"\n",
      "set fmri(outputdir) \"/home/stevenm/Projects/bias/derivatives/ds-02/feat_files_ppi/sub-12/run-2/limbic/right/A/firstlevel\"\n",
      "set fmri(outputdir) \"/home/stevenm/Projects/bias/derivatives/ds-02/feat_files_ppi/sub-12/run-2/limbic/right/B/firstlevel\"\n",
      "set fmri(outputdir) \"/home/stevenm/Projects/bias/derivatives/ds-02/feat_files_ppi/sub-12/run-2/limbic/right/C/firstlevel\"\n",
      "set fmri(outputdir) \"/home/stevenm/Projects/bias/derivatives/ds-02/feat_files_ppi/sub-12/run-2/cognitive/left/A/firstlevel\"\n",
      "set fmri(outputdir) \"/home/stevenm/Projects/bias/derivatives/ds-02/feat_files_ppi/sub-12/run-2/cognitive/left/B/firstlevel\"\n",
      "set fmri(outputdir) \"/home/stevenm/Projects/bias/derivatives/ds-02/feat_files_ppi/sub-12/run-2/cognitive/left/C/firstlevel\"\n",
      "set fmri(outputdir) \"/home/stevenm/Projects/bias/derivatives/ds-02/feat_files_ppi/sub-12/run-2/cognitive/right/A/firstlevel\"\n",
      "set fmri(outputdir) \"/home/stevenm/Projects/bias/derivatives/ds-02/feat_files_ppi/sub-12/run-2/cognitive/right/B/firstlevel\"\n",
      "set fmri(outputdir) \"/home/stevenm/Projects/bias/derivatives/ds-02/feat_files_ppi/sub-12/run-2/cognitive/right/C/firstlevel\"\n",
      "set fmri(outputdir) \"/home/stevenm/Projects/bias/derivatives/ds-02/feat_files_ppi/sub-12/run-3/limbic/left/A/firstlevel\"\n",
      "set fmri(outputdir) \"/home/stevenm/Projects/bias/derivatives/ds-02/feat_files_ppi/sub-12/run-3/limbic/left/B/firstlevel\"\n",
      "set fmri(outputdir) \"/home/stevenm/Projects/bias/derivatives/ds-02/feat_files_ppi/sub-12/run-3/limbic/left/C/firstlevel\"\n",
      "set fmri(outputdir) \"/home/stevenm/Projects/bias/derivatives/ds-02/feat_files_ppi/sub-12/run-3/limbic/right/A/firstlevel\"\n",
      "set fmri(outputdir) \"/home/stevenm/Projects/bias/derivatives/ds-02/feat_files_ppi/sub-12/run-3/limbic/right/B/firstlevel\"\n",
      "set fmri(outputdir) \"/home/stevenm/Projects/bias/derivatives/ds-02/feat_files_ppi/sub-12/run-3/limbic/right/C/firstlevel\"\n",
      "set fmri(outputdir) \"/home/stevenm/Projects/bias/derivatives/ds-02/feat_files_ppi/sub-12/run-3/cognitive/left/A/firstlevel\"\n",
      "set fmri(outputdir) \"/home/stevenm/Projects/bias/derivatives/ds-02/feat_files_ppi/sub-12/run-3/cognitive/left/B/firstlevel\"\n",
      "set fmri(outputdir) \"/home/stevenm/Projects/bias/derivatives/ds-02/feat_files_ppi/sub-12/run-3/cognitive/left/C/firstlevel\"\n",
      "set fmri(outputdir) \"/home/stevenm/Projects/bias/derivatives/ds-02/feat_files_ppi/sub-12/run-3/cognitive/right/A/firstlevel\"\n",
      "set fmri(outputdir) \"/home/stevenm/Projects/bias/derivatives/ds-02/feat_files_ppi/sub-12/run-3/cognitive/right/B/firstlevel\"\n",
      "set fmri(outputdir) \"/home/stevenm/Projects/bias/derivatives/ds-02/feat_files_ppi/sub-12/run-3/cognitive/right/C/firstlevel\"\n",
      "set fmri(outputdir) \"/home/stevenm/Projects/bias/derivatives/ds-02/feat_files_ppi/sub-13/run-1/limbic/left/A/firstlevel\"\n",
      "set fmri(outputdir) \"/home/stevenm/Projects/bias/derivatives/ds-02/feat_files_ppi/sub-13/run-1/limbic/left/B/firstlevel\"\n",
      "set fmri(outputdir) \"/home/stevenm/Projects/bias/derivatives/ds-02/feat_files_ppi/sub-13/run-1/limbic/left/C/firstlevel\"\n",
      "set fmri(outputdir) \"/home/stevenm/Projects/bias/derivatives/ds-02/feat_files_ppi/sub-13/run-1/limbic/right/A/firstlevel\"\n",
      "set fmri(outputdir) \"/home/stevenm/Projects/bias/derivatives/ds-02/feat_files_ppi/sub-13/run-1/limbic/right/B/firstlevel\"\n",
      "set fmri(outputdir) \"/home/stevenm/Projects/bias/derivatives/ds-02/feat_files_ppi/sub-13/run-1/limbic/right/C/firstlevel\"\n",
      "set fmri(outputdir) \"/home/stevenm/Projects/bias/derivatives/ds-02/feat_files_ppi/sub-13/run-1/cognitive/left/A/firstlevel\"\n",
      "set fmri(outputdir) \"/home/stevenm/Projects/bias/derivatives/ds-02/feat_files_ppi/sub-13/run-1/cognitive/left/B/firstlevel\"\n",
      "set fmri(outputdir) \"/home/stevenm/Projects/bias/derivatives/ds-02/feat_files_ppi/sub-13/run-1/cognitive/left/C/firstlevel\"\n",
      "set fmri(outputdir) \"/home/stevenm/Projects/bias/derivatives/ds-02/feat_files_ppi/sub-13/run-1/cognitive/right/A/firstlevel\"\n",
      "set fmri(outputdir) \"/home/stevenm/Projects/bias/derivatives/ds-02/feat_files_ppi/sub-13/run-1/cognitive/right/B/firstlevel\"\n",
      "set fmri(outputdir) \"/home/stevenm/Projects/bias/derivatives/ds-02/feat_files_ppi/sub-13/run-1/cognitive/right/C/firstlevel\"\n",
      "set fmri(outputdir) \"/home/stevenm/Projects/bias/derivatives/ds-02/feat_files_ppi/sub-13/run-2/limbic/left/A/firstlevel\"\n",
      "set fmri(outputdir) \"/home/stevenm/Projects/bias/derivatives/ds-02/feat_files_ppi/sub-13/run-2/limbic/left/B/firstlevel\"\n",
      "set fmri(outputdir) \"/home/stevenm/Projects/bias/derivatives/ds-02/feat_files_ppi/sub-13/run-2/limbic/left/C/firstlevel\"\n",
      "set fmri(outputdir) \"/home/stevenm/Projects/bias/derivatives/ds-02/feat_files_ppi/sub-13/run-2/limbic/right/A/firstlevel\"\n",
      "set fmri(outputdir) \"/home/stevenm/Projects/bias/derivatives/ds-02/feat_files_ppi/sub-13/run-2/limbic/right/B/firstlevel\"\n",
      "set fmri(outputdir) \"/home/stevenm/Projects/bias/derivatives/ds-02/feat_files_ppi/sub-13/run-2/limbic/right/C/firstlevel\"\n",
      "set fmri(outputdir) \"/home/stevenm/Projects/bias/derivatives/ds-02/feat_files_ppi/sub-13/run-2/cognitive/left/A/firstlevel\"\n",
      "set fmri(outputdir) \"/home/stevenm/Projects/bias/derivatives/ds-02/feat_files_ppi/sub-13/run-2/cognitive/left/B/firstlevel\"\n",
      "set fmri(outputdir) \"/home/stevenm/Projects/bias/derivatives/ds-02/feat_files_ppi/sub-13/run-2/cognitive/left/C/firstlevel\"\n",
      "set fmri(outputdir) \"/home/stevenm/Projects/bias/derivatives/ds-02/feat_files_ppi/sub-13/run-2/cognitive/right/A/firstlevel\"\n",
      "set fmri(outputdir) \"/home/stevenm/Projects/bias/derivatives/ds-02/feat_files_ppi/sub-13/run-2/cognitive/right/B/firstlevel\"\n",
      "set fmri(outputdir) \"/home/stevenm/Projects/bias/derivatives/ds-02/feat_files_ppi/sub-13/run-2/cognitive/right/C/firstlevel\"\n",
      "set fmri(outputdir) \"/home/stevenm/Projects/bias/derivatives/ds-02/feat_files_ppi/sub-13/run-3/limbic/left/A/firstlevel\"\n",
      "set fmri(outputdir) \"/home/stevenm/Projects/bias/derivatives/ds-02/feat_files_ppi/sub-13/run-3/limbic/left/B/firstlevel\"\n",
      "set fmri(outputdir) \"/home/stevenm/Projects/bias/derivatives/ds-02/feat_files_ppi/sub-13/run-3/limbic/left/C/firstlevel\"\n",
      "set fmri(outputdir) \"/home/stevenm/Projects/bias/derivatives/ds-02/feat_files_ppi/sub-13/run-3/limbic/right/A/firstlevel\"\n",
      "set fmri(outputdir) \"/home/stevenm/Projects/bias/derivatives/ds-02/feat_files_ppi/sub-13/run-3/limbic/right/B/firstlevel\"\n",
      "set fmri(outputdir) \"/home/stevenm/Projects/bias/derivatives/ds-02/feat_files_ppi/sub-13/run-3/limbic/right/C/firstlevel\"\n",
      "set fmri(outputdir) \"/home/stevenm/Projects/bias/derivatives/ds-02/feat_files_ppi/sub-13/run-3/cognitive/left/A/firstlevel\"\n",
      "set fmri(outputdir) \"/home/stevenm/Projects/bias/derivatives/ds-02/feat_files_ppi/sub-13/run-3/cognitive/left/B/firstlevel\"\n",
      "set fmri(outputdir) \"/home/stevenm/Projects/bias/derivatives/ds-02/feat_files_ppi/sub-13/run-3/cognitive/left/C/firstlevel\"\n",
      "set fmri(outputdir) \"/home/stevenm/Projects/bias/derivatives/ds-02/feat_files_ppi/sub-13/run-3/cognitive/right/A/firstlevel\"\n",
      "set fmri(outputdir) \"/home/stevenm/Projects/bias/derivatives/ds-02/feat_files_ppi/sub-13/run-3/cognitive/right/B/firstlevel\"\n",
      "set fmri(outputdir) \"/home/stevenm/Projects/bias/derivatives/ds-02/feat_files_ppi/sub-13/run-3/cognitive/right/C/firstlevel\"\n",
      "set fmri(outputdir) \"/home/stevenm/Projects/bias/derivatives/ds-02/feat_files_ppi/sub-14/run-1/limbic/left/A/firstlevel\"\n",
      "set fmri(outputdir) \"/home/stevenm/Projects/bias/derivatives/ds-02/feat_files_ppi/sub-14/run-1/limbic/left/B/firstlevel\"\n",
      "set fmri(outputdir) \"/home/stevenm/Projects/bias/derivatives/ds-02/feat_files_ppi/sub-14/run-1/limbic/left/C/firstlevel\"\n",
      "set fmri(outputdir) \"/home/stevenm/Projects/bias/derivatives/ds-02/feat_files_ppi/sub-14/run-1/limbic/right/A/firstlevel\"\n",
      "set fmri(outputdir) \"/home/stevenm/Projects/bias/derivatives/ds-02/feat_files_ppi/sub-14/run-1/limbic/right/B/firstlevel\"\n",
      "set fmri(outputdir) \"/home/stevenm/Projects/bias/derivatives/ds-02/feat_files_ppi/sub-14/run-1/limbic/right/C/firstlevel\"\n",
      "set fmri(outputdir) \"/home/stevenm/Projects/bias/derivatives/ds-02/feat_files_ppi/sub-14/run-1/cognitive/left/A/firstlevel\"\n",
      "set fmri(outputdir) \"/home/stevenm/Projects/bias/derivatives/ds-02/feat_files_ppi/sub-14/run-1/cognitive/left/B/firstlevel\"\n",
      "set fmri(outputdir) \"/home/stevenm/Projects/bias/derivatives/ds-02/feat_files_ppi/sub-14/run-1/cognitive/left/C/firstlevel\"\n",
      "set fmri(outputdir) \"/home/stevenm/Projects/bias/derivatives/ds-02/feat_files_ppi/sub-14/run-1/cognitive/right/A/firstlevel\"\n",
      "set fmri(outputdir) \"/home/stevenm/Projects/bias/derivatives/ds-02/feat_files_ppi/sub-14/run-1/cognitive/right/B/firstlevel\"\n",
      "set fmri(outputdir) \"/home/stevenm/Projects/bias/derivatives/ds-02/feat_files_ppi/sub-14/run-1/cognitive/right/C/firstlevel\"\n",
      "set fmri(outputdir) \"/home/stevenm/Projects/bias/derivatives/ds-02/feat_files_ppi/sub-14/run-2/limbic/left/A/firstlevel\"\n",
      "set fmri(outputdir) \"/home/stevenm/Projects/bias/derivatives/ds-02/feat_files_ppi/sub-14/run-2/limbic/left/B/firstlevel\"\n",
      "set fmri(outputdir) \"/home/stevenm/Projects/bias/derivatives/ds-02/feat_files_ppi/sub-14/run-2/limbic/left/C/firstlevel\"\n",
      "set fmri(outputdir) \"/home/stevenm/Projects/bias/derivatives/ds-02/feat_files_ppi/sub-14/run-2/limbic/right/A/firstlevel\"\n",
      "set fmri(outputdir) \"/home/stevenm/Projects/bias/derivatives/ds-02/feat_files_ppi/sub-14/run-2/limbic/right/B/firstlevel\"\n",
      "set fmri(outputdir) \"/home/stevenm/Projects/bias/derivatives/ds-02/feat_files_ppi/sub-14/run-2/limbic/right/C/firstlevel\"\n",
      "set fmri(outputdir) \"/home/stevenm/Projects/bias/derivatives/ds-02/feat_files_ppi/sub-14/run-2/cognitive/left/A/firstlevel\"\n",
      "set fmri(outputdir) \"/home/stevenm/Projects/bias/derivatives/ds-02/feat_files_ppi/sub-14/run-2/cognitive/left/B/firstlevel\"\n",
      "set fmri(outputdir) \"/home/stevenm/Projects/bias/derivatives/ds-02/feat_files_ppi/sub-14/run-2/cognitive/left/C/firstlevel\"\n",
      "set fmri(outputdir) \"/home/stevenm/Projects/bias/derivatives/ds-02/feat_files_ppi/sub-14/run-2/cognitive/right/A/firstlevel\"\n",
      "set fmri(outputdir) \"/home/stevenm/Projects/bias/derivatives/ds-02/feat_files_ppi/sub-14/run-2/cognitive/right/B/firstlevel\"\n",
      "set fmri(outputdir) \"/home/stevenm/Projects/bias/derivatives/ds-02/feat_files_ppi/sub-14/run-2/cognitive/right/C/firstlevel\"\n",
      "set fmri(outputdir) \"/home/stevenm/Projects/bias/derivatives/ds-02/feat_files_ppi/sub-14/run-3/limbic/left/A/firstlevel\"\n",
      "set fmri(outputdir) \"/home/stevenm/Projects/bias/derivatives/ds-02/feat_files_ppi/sub-14/run-3/limbic/left/B/firstlevel\"\n",
      "set fmri(outputdir) \"/home/stevenm/Projects/bias/derivatives/ds-02/feat_files_ppi/sub-14/run-3/limbic/left/C/firstlevel\"\n",
      "set fmri(outputdir) \"/home/stevenm/Projects/bias/derivatives/ds-02/feat_files_ppi/sub-14/run-3/limbic/right/A/firstlevel\"\n",
      "set fmri(outputdir) \"/home/stevenm/Projects/bias/derivatives/ds-02/feat_files_ppi/sub-14/run-3/limbic/right/B/firstlevel\"\n",
      "set fmri(outputdir) \"/home/stevenm/Projects/bias/derivatives/ds-02/feat_files_ppi/sub-14/run-3/limbic/right/C/firstlevel\"\n",
      "set fmri(outputdir) \"/home/stevenm/Projects/bias/derivatives/ds-02/feat_files_ppi/sub-14/run-3/cognitive/left/A/firstlevel\"\n",
      "set fmri(outputdir) \"/home/stevenm/Projects/bias/derivatives/ds-02/feat_files_ppi/sub-14/run-3/cognitive/left/B/firstlevel\"\n",
      "set fmri(outputdir) \"/home/stevenm/Projects/bias/derivatives/ds-02/feat_files_ppi/sub-14/run-3/cognitive/left/C/firstlevel\"\n",
      "set fmri(outputdir) \"/home/stevenm/Projects/bias/derivatives/ds-02/feat_files_ppi/sub-14/run-3/cognitive/right/A/firstlevel\"\n",
      "set fmri(outputdir) \"/home/stevenm/Projects/bias/derivatives/ds-02/feat_files_ppi/sub-14/run-3/cognitive/right/B/firstlevel\"\n",
      "set fmri(outputdir) \"/home/stevenm/Projects/bias/derivatives/ds-02/feat_files_ppi/sub-14/run-3/cognitive/right/C/firstlevel\"\n",
      "set fmri(outputdir) \"/home/stevenm/Projects/bias/derivatives/ds-02/feat_files_ppi/sub-15/run-1/limbic/left/A/firstlevel\"\n",
      "set fmri(outputdir) \"/home/stevenm/Projects/bias/derivatives/ds-02/feat_files_ppi/sub-15/run-1/limbic/left/B/firstlevel\"\n",
      "set fmri(outputdir) \"/home/stevenm/Projects/bias/derivatives/ds-02/feat_files_ppi/sub-15/run-1/limbic/left/C/firstlevel\"\n",
      "set fmri(outputdir) \"/home/stevenm/Projects/bias/derivatives/ds-02/feat_files_ppi/sub-15/run-1/limbic/right/A/firstlevel\"\n",
      "set fmri(outputdir) \"/home/stevenm/Projects/bias/derivatives/ds-02/feat_files_ppi/sub-15/run-1/limbic/right/B/firstlevel\"\n",
      "set fmri(outputdir) \"/home/stevenm/Projects/bias/derivatives/ds-02/feat_files_ppi/sub-15/run-1/limbic/right/C/firstlevel\"\n",
      "set fmri(outputdir) \"/home/stevenm/Projects/bias/derivatives/ds-02/feat_files_ppi/sub-15/run-1/cognitive/left/A/firstlevel\"\n",
      "set fmri(outputdir) \"/home/stevenm/Projects/bias/derivatives/ds-02/feat_files_ppi/sub-15/run-1/cognitive/left/B/firstlevel\"\n",
      "set fmri(outputdir) \"/home/stevenm/Projects/bias/derivatives/ds-02/feat_files_ppi/sub-15/run-1/cognitive/left/C/firstlevel\"\n",
      "set fmri(outputdir) \"/home/stevenm/Projects/bias/derivatives/ds-02/feat_files_ppi/sub-15/run-1/cognitive/right/A/firstlevel\"\n",
      "set fmri(outputdir) \"/home/stevenm/Projects/bias/derivatives/ds-02/feat_files_ppi/sub-15/run-1/cognitive/right/B/firstlevel\"\n",
      "set fmri(outputdir) \"/home/stevenm/Projects/bias/derivatives/ds-02/feat_files_ppi/sub-15/run-1/cognitive/right/C/firstlevel\"\n",
      "set fmri(outputdir) \"/home/stevenm/Projects/bias/derivatives/ds-02/feat_files_ppi/sub-15/run-2/limbic/left/A/firstlevel\"\n",
      "set fmri(outputdir) \"/home/stevenm/Projects/bias/derivatives/ds-02/feat_files_ppi/sub-15/run-2/limbic/left/B/firstlevel\"\n",
      "set fmri(outputdir) \"/home/stevenm/Projects/bias/derivatives/ds-02/feat_files_ppi/sub-15/run-2/limbic/left/C/firstlevel\"\n",
      "set fmri(outputdir) \"/home/stevenm/Projects/bias/derivatives/ds-02/feat_files_ppi/sub-15/run-2/limbic/right/A/firstlevel\"\n",
      "set fmri(outputdir) \"/home/stevenm/Projects/bias/derivatives/ds-02/feat_files_ppi/sub-15/run-2/limbic/right/B/firstlevel\"\n",
      "set fmri(outputdir) \"/home/stevenm/Projects/bias/derivatives/ds-02/feat_files_ppi/sub-15/run-2/limbic/right/C/firstlevel\"\n",
      "set fmri(outputdir) \"/home/stevenm/Projects/bias/derivatives/ds-02/feat_files_ppi/sub-15/run-2/cognitive/left/A/firstlevel\"\n",
      "set fmri(outputdir) \"/home/stevenm/Projects/bias/derivatives/ds-02/feat_files_ppi/sub-15/run-2/cognitive/left/B/firstlevel\"\n",
      "set fmri(outputdir) \"/home/stevenm/Projects/bias/derivatives/ds-02/feat_files_ppi/sub-15/run-2/cognitive/left/C/firstlevel\"\n",
      "set fmri(outputdir) \"/home/stevenm/Projects/bias/derivatives/ds-02/feat_files_ppi/sub-15/run-2/cognitive/right/A/firstlevel\"\n",
      "set fmri(outputdir) \"/home/stevenm/Projects/bias/derivatives/ds-02/feat_files_ppi/sub-15/run-2/cognitive/right/B/firstlevel\"\n",
      "set fmri(outputdir) \"/home/stevenm/Projects/bias/derivatives/ds-02/feat_files_ppi/sub-15/run-2/cognitive/right/C/firstlevel\"\n",
      "set fmri(outputdir) \"/home/stevenm/Projects/bias/derivatives/ds-02/feat_files_ppi/sub-15/run-3/limbic/left/A/firstlevel\"\n",
      "set fmri(outputdir) \"/home/stevenm/Projects/bias/derivatives/ds-02/feat_files_ppi/sub-15/run-3/limbic/left/B/firstlevel\"\n",
      "set fmri(outputdir) \"/home/stevenm/Projects/bias/derivatives/ds-02/feat_files_ppi/sub-15/run-3/limbic/left/C/firstlevel\"\n",
      "set fmri(outputdir) \"/home/stevenm/Projects/bias/derivatives/ds-02/feat_files_ppi/sub-15/run-3/limbic/right/A/firstlevel\"\n",
      "set fmri(outputdir) \"/home/stevenm/Projects/bias/derivatives/ds-02/feat_files_ppi/sub-15/run-3/limbic/right/B/firstlevel\"\n",
      "set fmri(outputdir) \"/home/stevenm/Projects/bias/derivatives/ds-02/feat_files_ppi/sub-15/run-3/limbic/right/C/firstlevel\"\n",
      "set fmri(outputdir) \"/home/stevenm/Projects/bias/derivatives/ds-02/feat_files_ppi/sub-15/run-3/cognitive/left/A/firstlevel\"\n",
      "set fmri(outputdir) \"/home/stevenm/Projects/bias/derivatives/ds-02/feat_files_ppi/sub-15/run-3/cognitive/left/B/firstlevel\"\n",
      "set fmri(outputdir) \"/home/stevenm/Projects/bias/derivatives/ds-02/feat_files_ppi/sub-15/run-3/cognitive/left/C/firstlevel\"\n",
      "set fmri(outputdir) \"/home/stevenm/Projects/bias/derivatives/ds-02/feat_files_ppi/sub-15/run-3/cognitive/right/A/firstlevel\"\n",
      "set fmri(outputdir) \"/home/stevenm/Projects/bias/derivatives/ds-02/feat_files_ppi/sub-15/run-3/cognitive/right/B/firstlevel\"\n",
      "set fmri(outputdir) \"/home/stevenm/Projects/bias/derivatives/ds-02/feat_files_ppi/sub-15/run-3/cognitive/right/C/firstlevel\"\n"
     ]
    }
   ],
   "source": [
    "import copy\n",
    "# function to adapt a design file\n",
    "def fix_fsf_file(sub, run,\n",
    "                 write_out=True):\n",
    "    \n",
    "    ds, sub = get_sub_n(sub)\n",
    "    \n",
    "    for domain in ['limbic', 'cognitive']:\n",
    "        # read fsf as txt\n",
    "        orig_fsf_fn = './derivatives/ds-01/feat_files_ppi/sub-01/{}_design.fsf'.format(domain)\n",
    "        with open(orig_fsf_fn, 'r') as f:\n",
    "            orig_fsf = f.read()\n",
    "\n",
    "        for hemisphere in ['left', 'right']:\n",
    "            for segment in ['A', 'B', 'C']:\n",
    "                fsf = copy.copy(orig_fsf)\n",
    "                # replace output directory\n",
    "#                 \"/home/stevenm/Projects/bias/derivatives/ds-01/feat_files_ppi/sub-01/run-1/cognitive/left/A/firstlevel\"\n",
    "#                 \"/home/stevenm/Projects/bias/derivatives/ds-01/feat_files_ppi/sub-01/run-1/cognitive/left/A/firstlevel\"'\n",
    "                fsf = fsf.replace('set fmri(outputdir) \"/home/stevenm/Projects/bias/derivatives/ds-01/feat_files_ppi/sub-01/run-1/{}/left/A/firstlevel\"'.format(domain),\n",
    "                                  'set fmri(outputdir) \"/home/stevenm/Projects/bias/derivatives/ds-{}/feat_files_ppi/sub-{}/run-{}/{}/{}/{}/firstlevel\"'.format(\n",
    "                                      str(ds).zfill(2), \n",
    "                                      str(sub).zfill(2), \n",
    "                                      run, domain,\n",
    "                                      hemisphere,\n",
    "                                      segment))\n",
    "                print('set fmri(outputdir) \"/home/stevenm/Projects/bias/derivatives/ds-{}/feat_files_ppi/sub-{}/run-{}/{}/{}/{}/firstlevel\"'.format(\n",
    "                                      str(ds).zfill(2), \n",
    "                                      str(sub).zfill(2), \n",
    "                                      run, domain,\n",
    "                                      hemisphere,\n",
    "                                      segment))\n",
    "                # input file\n",
    "                fsf = fsf.replace('/home/stevenm/Projects/bias/derivatives/ds-01/high_passed_func/sub-01/func/sub-01_task-randomdotmotion_run-01_space-MNI152NLin2009cAsym_desc-preproc_bold',\n",
    "                                  '/home/stevenm/Projects/bias/derivatives/ds-{}/high_passed_func/sub-{}/func/sub-{}_task-randomdotmotion_run-{}_space-MNI152NLin2009cAsym_desc-preproc_bold'.format(str(ds).zfill(2), str(sub).zfill(2), str(sub).zfill(2), str(run).zfill(2)))\n",
    "\n",
    "                # replace directories for func files & ev files\n",
    "                fsf = fsf.replace(\"/home/stevenm/Projects/bias/derivatives/ds-01/feat_files_ppi/sub-01/run-1\",\n",
    "                                  \"/home/stevenm/Projects/bias/derivatives/ds-{}/feat_files_ppi/sub-{}/run-{}\".format(str(ds).zfill(2), str(sub).zfill(2), run))\n",
    "                \n",
    "                # replace ev name of signal_l_A\n",
    "                fsf = fsf.replace('signal_l_A.txt', 'signal_{}_{}.txt'.format(hemisphere[0], segment))\n",
    "\n",
    "                # save fsf as txt\n",
    "                if write_out:\n",
    "                    output_dir = \"/home/stevenm/Projects/bias/derivatives/ds-{}/feat_files_ppi/sub-{}/run-{}/{}/{}/{}/\".format(str(ds).zfill(2), str(sub).zfill(2), run, domain, hemisphere, segment)\n",
    "                    if not os.path.exists(output_dir):\n",
    "                        os.makedirs(output_dir)\n",
    "                    with open(os.path.join(output_dir, 'design.fsf'), 'w') as f:\n",
    "                        f.write(fsf)\n",
    "                else:\n",
    "                    return fsf\n",
    "\n",
    "    \n",
    "subjects = np.arange(1, 35)\n",
    "runs = [1,2,3]\n",
    "\n",
    "for sub in subjects:\n",
    "    if sub == 23:\n",
    "        continue\n",
    "    if sub == 6 or sub == 26:\n",
    "        runs = [1,2]\n",
    "    else:\n",
    "        runs = [1,2,3]\n",
    "    for run in runs:\n",
    "        fix_fsf_file(sub, run)"
   ]
  },
  {
   "cell_type": "markdown",
   "metadata": {},
   "source": [
    "# 4. Run first-level FEAT"
   ]
  },
  {
   "cell_type": "code",
   "execution_count": 9,
   "metadata": {},
   "outputs": [
    {
     "data": {
      "text/plain": [
       "1164"
      ]
     },
     "execution_count": 9,
     "metadata": {},
     "output_type": "execute_result"
    }
   ],
   "source": [
    "all_fsfs = sorted(glob.glob('./derivatives/ds-*/feat_files_ppi/sub-*/run*/*/*/*/design.fsf'))\n",
    "len(all_fsfs)"
   ]
  },
  {
   "cell_type": "markdown",
   "metadata": {},
   "source": [
    "This will take a while...\n",
    "- In total, there's 97 runs (33 subs x 3 - 2), with 12 GLMs each\n",
    "- 15 cpus in parallel?\n",
    "- Takes about 1.5h per GLM -> 1746 hours / 15cpus = 4.85 days\n",
    "- Or with 20 cpus 3.6 days (we're nearing the maximum RAM usage with 20 cpus)\n"
   ]
  },
  {
   "cell_type": "code",
   "execution_count": null,
   "metadata": {},
   "outputs": [
    {
     "name": "stdout",
     "output_type": "stream",
     "text": [
      "./derivatives/ds-01/feat_files_ppi/sub-01/run-2/limbic/left/C/design.fsf./derivatives/ds-01/feat_files_ppi/sub-02/run-3/cognitive/left/A/design.fsf./derivatives/ds-01/feat_files_ppi/sub-01/run-1/cognitive/left/A/design.fsf./derivatives/ds-01/feat_files_ppi/sub-03/run-1/limbic/left/C/design.fsf./derivatives/ds-01/feat_files_ppi/sub-05/run-2/cognitive/right/B/design.fsf\n",
      "\n",
      "./derivatives/ds-01/feat_files_ppi/sub-08/run-1/cognitive/left/A/design.fsf./derivatives/ds-01/feat_files_ppi/sub-04/run-2/cognitive/left/A/design.fsf./derivatives/ds-01/feat_files_ppi/sub-07/run-2/cognitive/right/B/design.fsf./derivatives/ds-01/feat_files_ppi/sub-06/run-2/limbic/left/C/design.fsf./derivatives/ds-01/feat_files_ppi/sub-08/run-2/limbic/left/C/design.fsf./derivatives/ds-01/feat_files_ppi/sub-06/run-1/cognitive/left/A/design.fsf./derivatives/ds-01/feat_files_ppi/sub-02/run-1/cognitive/right/B/design.fsf./derivatives/ds-01/feat_files_ppi/sub-03/run-3/cognitive/right/B/design.fsf./derivatives/ds-01/feat_files_ppi/sub-09/run-1/cognitive/right/B/design.fsf./derivatives/ds-01/feat_files_ppi/sub-04/run-3/limbic/left/C/design.fsf\n",
      "\n",
      "\n",
      "\n",
      "\n",
      "\n",
      "\n",
      "\n",
      "\n",
      "\n",
      "\n",
      "\n",
      "\n"
     ]
    }
   ],
   "source": [
    "def run_feat(fsf_file):\n",
    "    print(fsf_file)\n",
    "    import subprocess\n",
    "    return_code = subprocess.run([\"feat\", fsf_file])\n",
    "    print('{}: {}'.format(fsf_file, return_code))\n",
    "    return return_code\n",
    "\n",
    "# find all newly created design files\n",
    "all_fsfs = sorted(glob.glob('./derivatives/ds-*/feat_files_ppi/sub-*/run*/*/*/*/design.fsf'))\n",
    "all_fsfs\n",
    "\n",
    "with mp.Pool(15) as p:\n",
    "    outputs = p.map(run_feat, all_fsfs)"
   ]
  },
  {
   "cell_type": "markdown",
   "metadata": {},
   "source": [
    "## 5. Second-level GLM\n",
    "\n",
    "In the second level, we combine runs per subject using FEAT OLS."
   ]
  },
  {
   "cell_type": "markdown",
   "metadata": {},
   "source": [
    "#### Interim: Fix \"registration not run\"-issue for fixed effects\n",
    "\n",
    "Feat higher-order analyses require \"registration to have been performed\", which is true, but not by FSL so FSL doesn't know. To do this, \"trick\" FSL into thinking they have been run by linking identity matrices to the feat dirs.\n",
    "\n",
    "See also https://neurostars.org/t/performing-full-glm-analysis-with-fsl-on-the-bold-images-preprocessed-by-fmriprep-without-re-registering-the-data-to-the-mni-space/784\n"
   ]
  },
  {
   "cell_type": "code",
   "execution_count": 36,
   "metadata": {},
   "outputs": [],
   "source": [
    "def link_files(feat_dir, fsl_dir='/usr/share/fsl/5.0'):\n",
    "    reg_dir = os.path.join(feat_dir, 'reg')\n",
    "    if not os.path.exists(reg_dir):\n",
    "        os.makedirs(reg_dir)\n",
    "    os.system('ln -s {}/etc/flirtsch/ident.mat {}/reg/example_func2standard.mat'.format(fsl_dir, feat_dir))\n",
    "    os.system('ln -s {}/etc/flirtsch/ident.mat {}/reg/standard2example_func.mat'.format(fsl_dir, feat_dir))\n",
    "    os.system('ln -s {}/mean_func.nii.gz {}/reg/standard.nii.gz'.format(feat_dir, feat_dir))\n",
    "    return 0\n",
    "\n",
    "subjects = np.arange(1, 35)\n",
    "runs = [1,2,3]\n",
    "\n",
    "for sub in subjects:\n",
    "    if sub == 23:\n",
    "        continue\n",
    "    if sub == 6 and run == 26:\n",
    "        runs = [1,2]\n",
    "    else:\n",
    "        runs = [1,2,3]\n",
    "    \n",
    "    ds, sub = get_sub_n(sub)\n",
    "    for run in runs:\n",
    "        feat_dir = '/home/stevenm/bias/derivatives/ds-{}/feat_files_ppi/sub-{}/run-{}/firstlevel.feat'.format(str(ds).zfill(2), str(sub).zfill(2), run)\n",
    "        if os.path.exists(feat_dir):\n",
    "            link_files(feat_dir)"
   ]
  },
  {
   "cell_type": "markdown",
   "metadata": {},
   "source": [
    "\n",
    "# 6. Generate .fsf-files for second-level fixed-effects\n"
   ]
  },
  {
   "cell_type": "code",
   "execution_count": 37,
   "metadata": {},
   "outputs": [],
   "source": [
    "def fix_fsf_file_fe(sub, orig_fsf='./derivatives/ds-01/feat_files_ppi/sub-01/secondlevel/design.fsf', \n",
    "                    write_out=True):\n",
    "    # read fsf as txt\n",
    "    with open(orig_fsf, 'r') as f:\n",
    "        fsf = f.read()\n",
    "    \n",
    "    orig_sub = sub\n",
    "    ds, sub = get_sub_n(sub)\n",
    "    for run in [1,2,3]:\n",
    "        # replace directories..\n",
    "        fsf = fsf.replace(\"/home/stevenm/bias/derivatives/ds-01/feat_files_ppi/sub-01/run-{}/firstlevel.feat\".format(run),\n",
    "                          \"/home/stevenm/bias/derivatives/ds-{}/feat_files_ppi/sub-{}/run-{}/firstlevel.feat\".format(str(ds).zfill(2), str(sub).zfill(2), run))\n",
    "    \n",
    "    # output directory\n",
    "    fsf = fsf.replace('set fmri(outputdir) \"/home/stevenm/bias/derivatives/ds-01/feat_files_ppi/sub-01/secondlevel\"',\n",
    "                      'set fmri(outputdir) \"/home/stevenm/bias/derivatives/ds-{}/feat_files_ppi/sub-{}/secondlevel\"'.format(str(ds).zfill(2), str(sub).zfill(2)))\n",
    "    \n",
    "    # mask\n",
    "    fsf = fsf.replace('set fmri(threshmask) \"/home/stevenm/bias/derivatives/ds-01/fmriprep/sub-01/func/sub-01_task-randomdotmotion_run-01_space-MNI152NLin2009cAsym_desc-brain_mask.nii.gz\"',\n",
    "                      'set fmri(threshmask) \"/home/stevenm/bias/derivatives/ds-{}/fmriprep/sub-{}/func/sub-{}_task-randomdotmotion_run-01_space-MNI152NLin2009cAsym_desc-brain_mask.nii.gz\"'.format(str(ds).zfill(2), str(sub).zfill(2), str(sub).zfill(2)))\n",
    "    \n",
    "    # For subject 6 and 26, remove run 3\n",
    "    if orig_sub == 6 or orig_sub == 26:\n",
    "        # change n inputs\n",
    "        fsf = fsf.replace(\"set fmri(npts) 3\", \"set fmri(npts) 2\")\n",
    "        fsf = fsf.replace(\"set fmri(multiple) 3\", \"set fmri(multiple) 2\")\n",
    "        \n",
    "        # change feat directories\n",
    "        fsf = fsf.replace('\\n# 4D AVW data or FEAT directory (3)', '')\n",
    "        fsf = fsf.replace('\\nset feat_files(3) \"/home/stevenm/bias/derivatives/ds-{}/feat_files_ppi/sub-{}/run-3/firstlevel.feat\"'.format(str(ds).zfill(2), str(sub).zfill(2)), '')\n",
    "        \n",
    "        # change EV specification\n",
    "        fsf = fsf.replace('\\n# Higher-level EV value for EV 1 and input 3', '')\n",
    "        fsf = fsf.replace('\\nset fmri(evg3.1) 1.0', '')\n",
    "        fsf = fsf.replace('\\n# Group membership for input 3', '')\n",
    "        fsf = fsf.replace('\\nset fmri(groupmem.3) 1', '')\n",
    "        \n",
    "    # save fsf as txt\n",
    "    if write_out:\n",
    "        output_dir = './derivatives/ds-{}/feat_files_ppi/sub-{}/secondlevel'.format(str(ds).zfill(2), str(sub).zfill(2))\n",
    "        if not os.path.exists(output_dir):\n",
    "            os.makedirs(output_dir)\n",
    "        with open(os.path.join(output_dir, 'design.fsf'), 'w') as f:\n",
    "            f.write(fsf)\n",
    "    else:\n",
    "        return fsf\n",
    "    \n",
    "#fix_fsf_file_fe('01', 'me', write_out=False)\n",
    "\n",
    "subjects = np.arange(1, 35)\n",
    "                      \n",
    "for sub in subjects:\n",
    "    if sub == 23:\n",
    "        continue\n",
    "    else:\n",
    "        fix_fsf_file_fe(sub, write_out=True)"
   ]
  },
  {
   "cell_type": "code",
   "execution_count": 41,
   "metadata": {},
   "outputs": [
    {
     "name": "stdout",
     "output_type": "stream",
     "text": [
      "./derivatives/ds-01/feat_files_ppi/sub-06/secondlevel/design.fsf\n",
      "./derivatives/ds-01/feat_files_ppi/sub-13/secondlevel/design.fsf\n",
      "./derivatives/ds-01/feat_files_ppi/sub-08/secondlevel/design.fsf\n",
      "./derivatives/ds-01/feat_files_ppi/sub-09/secondlevel/design.fsf\n",
      "./derivatives/ds-01/feat_files_ppi/sub-02/secondlevel/design.fsf\n",
      "./derivatives/ds-02/feat_files_ppi/sub-01/secondlevel/design.fsf\n",
      "./derivatives/ds-02/feat_files_ppi/sub-06/secondlevel/design.fsf\n",
      "./derivatives/ds-01/feat_files_ppi/sub-18/secondlevel/design.fsf\n",
      "./derivatives/ds-02/feat_files_ppi/sub-09/secondlevel/design.fsf\n",
      "./derivatives/ds-02/feat_files_ppi/sub-03/secondlevel/design.fsf\n",
      "./derivatives/ds-01/feat_files_ppi/sub-16/secondlevel/design.fsf\n",
      "./derivatives/ds-01/feat_files_ppi/sub-14/secondlevel/design.fsf\n",
      "./derivatives/ds-01/feat_files_ppi/sub-11/secondlevel/design.fsf\n",
      "./derivatives/ds-01/feat_files_ppi/sub-17/secondlevel/design.fsf\n",
      "./derivatives/ds-01/feat_files_ppi/sub-03/secondlevel/design.fsf\n",
      "./derivatives/ds-01/feat_files_ppi/sub-07/secondlevel/design.fsf\n",
      "./derivatives/ds-01/feat_files_ppi/sub-01/secondlevel/design.fsf\n",
      "./derivatives/ds-01/feat_files_ppi/sub-05/secondlevel/design.fsf\n",
      "./derivatives/ds-02/feat_files_ppi/sub-10/secondlevel/design.fsf\n",
      "./derivatives/ds-01/feat_files_ppi/sub-15/secondlevel/design.fsf\n",
      "./derivatives/ds-02/feat_files_ppi/sub-05/secondlevel/design.fsf\n",
      "./derivatives/ds-01/feat_files_ppi/sub-12/secondlevel/design.fsf\n",
      "./derivatives/ds-01/feat_files_ppi/sub-04/secondlevel/design.fsf\n",
      "./derivatives/ds-02/feat_files_ppi/sub-07/secondlevel/design.fsf\n",
      "./derivatives/ds-02/feat_files_ppi/sub-11/secondlevel/design.fsf\n",
      "./derivatives/ds-02/feat_files_ppi/sub-12/secondlevel/design.fsf\n",
      "./derivatives/ds-02/feat_files_ppi/sub-08/secondlevel/design.fsf\n",
      "./derivatives/ds-01/feat_files_ppi/sub-10/secondlevel/design.fsf\n",
      "./derivatives/ds-02/feat_files_ppi/sub-02/secondlevel/design.fsf\n",
      "./derivatives/ds-01/feat_files_ppi/sub-19/secondlevel/design.fsf\n",
      "./derivatives/ds-02/feat_files_ppi/sub-07/secondlevel/design.fsf: CompletedProcess(args=['feat', './derivatives/ds-02/feat_files_ppi/sub-07/secondlevel/design.fsf'], returncode=0)\n",
      "./derivatives/ds-02/feat_files_ppi/sub-13/secondlevel/design.fsf\n",
      "./derivatives/ds-01/feat_files_ppi/sub-06/secondlevel/design.fsf: CompletedProcess(args=['feat', './derivatives/ds-01/feat_files_ppi/sub-06/secondlevel/design.fsf'], returncode=0)\n",
      "./derivatives/ds-02/feat_files_ppi/sub-14/secondlevel/design.fsf\n",
      "./derivatives/ds-02/feat_files_ppi/sub-10/secondlevel/design.fsf: CompletedProcess(args=['feat', './derivatives/ds-02/feat_files_ppi/sub-10/secondlevel/design.fsf'], returncode=0)\n",
      "./derivatives/ds-02/feat_files_ppi/sub-15/secondlevel/design.fsf\n",
      "./derivatives/ds-02/feat_files_ppi/sub-09/secondlevel/design.fsf: CompletedProcess(args=['feat', './derivatives/ds-02/feat_files_ppi/sub-09/secondlevel/design.fsf'], returncode=0)\n",
      "./derivatives/ds-02/feat_files_ppi/sub-06/secondlevel/design.fsf: CompletedProcess(args=['feat', './derivatives/ds-02/feat_files_ppi/sub-06/secondlevel/design.fsf'], returncode=0)\n",
      "./derivatives/ds-02/feat_files_ppi/sub-03/secondlevel/design.fsf: CompletedProcess(args=['feat', './derivatives/ds-02/feat_files_ppi/sub-03/secondlevel/design.fsf'], returncode=0)\n",
      "./derivatives/ds-02/feat_files_ppi/sub-12/secondlevel/design.fsf: CompletedProcess(args=['feat', './derivatives/ds-02/feat_files_ppi/sub-12/secondlevel/design.fsf'], returncode=0)\n",
      "./derivatives/ds-02/feat_files_ppi/sub-11/secondlevel/design.fsf: CompletedProcess(args=['feat', './derivatives/ds-02/feat_files_ppi/sub-11/secondlevel/design.fsf'], returncode=0)\n",
      "./derivatives/ds-02/feat_files_ppi/sub-01/secondlevel/design.fsf: CompletedProcess(args=['feat', './derivatives/ds-02/feat_files_ppi/sub-01/secondlevel/design.fsf'], returncode=0)\n",
      "./derivatives/ds-02/feat_files_ppi/sub-08/secondlevel/design.fsf: CompletedProcess(args=['feat', './derivatives/ds-02/feat_files_ppi/sub-08/secondlevel/design.fsf'], returncode=0)\n",
      "./derivatives/ds-02/feat_files_ppi/sub-05/secondlevel/design.fsf: CompletedProcess(args=['feat', './derivatives/ds-02/feat_files_ppi/sub-05/secondlevel/design.fsf'], returncode=0)\n",
      "./derivatives/ds-02/feat_files_ppi/sub-02/secondlevel/design.fsf: CompletedProcess(args=['feat', './derivatives/ds-02/feat_files_ppi/sub-02/secondlevel/design.fsf'], returncode=0)\n",
      "./derivatives/ds-01/feat_files_ppi/sub-07/secondlevel/design.fsf: CompletedProcess(args=['feat', './derivatives/ds-01/feat_files_ppi/sub-07/secondlevel/design.fsf'], returncode=0)\n",
      "./derivatives/ds-01/feat_files_ppi/sub-05/secondlevel/design.fsf: CompletedProcess(args=['feat', './derivatives/ds-01/feat_files_ppi/sub-05/secondlevel/design.fsf'], returncode=0)\n",
      "./derivatives/ds-01/feat_files_ppi/sub-01/secondlevel/design.fsf: CompletedProcess(args=['feat', './derivatives/ds-01/feat_files_ppi/sub-01/secondlevel/design.fsf'], returncode=0)\n",
      "./derivatives/ds-01/feat_files_ppi/sub-10/secondlevel/design.fsf: CompletedProcess(args=['feat', './derivatives/ds-01/feat_files_ppi/sub-10/secondlevel/design.fsf'], returncode=0)\n",
      "./derivatives/ds-01/feat_files_ppi/sub-18/secondlevel/design.fsf: CompletedProcess(args=['feat', './derivatives/ds-01/feat_files_ppi/sub-18/secondlevel/design.fsf'], returncode=0)\n",
      "./derivatives/ds-01/feat_files_ppi/sub-13/secondlevel/design.fsf: CompletedProcess(args=['feat', './derivatives/ds-01/feat_files_ppi/sub-13/secondlevel/design.fsf'], returncode=0)\n",
      "./derivatives/ds-01/feat_files_ppi/sub-04/secondlevel/design.fsf: CompletedProcess(args=['feat', './derivatives/ds-01/feat_files_ppi/sub-04/secondlevel/design.fsf'], returncode=0)\n",
      "./derivatives/ds-01/feat_files_ppi/sub-12/secondlevel/design.fsf: CompletedProcess(args=['feat', './derivatives/ds-01/feat_files_ppi/sub-12/secondlevel/design.fsf'], returncode=0)\n",
      "./derivatives/ds-01/feat_files_ppi/sub-17/secondlevel/design.fsf: CompletedProcess(args=['feat', './derivatives/ds-01/feat_files_ppi/sub-17/secondlevel/design.fsf'], returncode=0)\n",
      "./derivatives/ds-01/feat_files_ppi/sub-03/secondlevel/design.fsf: CompletedProcess(args=['feat', './derivatives/ds-01/feat_files_ppi/sub-03/secondlevel/design.fsf'], returncode=0)\n",
      "./derivatives/ds-01/feat_files_ppi/sub-02/secondlevel/design.fsf: CompletedProcess(args=['feat', './derivatives/ds-01/feat_files_ppi/sub-02/secondlevel/design.fsf'], returncode=0)\n",
      "./derivatives/ds-01/feat_files_ppi/sub-09/secondlevel/design.fsf: CompletedProcess(args=['feat', './derivatives/ds-01/feat_files_ppi/sub-09/secondlevel/design.fsf'], returncode=0)\n",
      "./derivatives/ds-01/feat_files_ppi/sub-14/secondlevel/design.fsf: CompletedProcess(args=['feat', './derivatives/ds-01/feat_files_ppi/sub-14/secondlevel/design.fsf'], returncode=0)\n",
      "./derivatives/ds-01/feat_files_ppi/sub-11/secondlevel/design.fsf: CompletedProcess(args=['feat', './derivatives/ds-01/feat_files_ppi/sub-11/secondlevel/design.fsf'], returncode=0)\n",
      "./derivatives/ds-01/feat_files_ppi/sub-19/secondlevel/design.fsf: CompletedProcess(args=['feat', './derivatives/ds-01/feat_files_ppi/sub-19/secondlevel/design.fsf'], returncode=0)\n",
      "./derivatives/ds-01/feat_files_ppi/sub-16/secondlevel/design.fsf: CompletedProcess(args=['feat', './derivatives/ds-01/feat_files_ppi/sub-16/secondlevel/design.fsf'], returncode=0)\n",
      "./derivatives/ds-01/feat_files_ppi/sub-08/secondlevel/design.fsf: CompletedProcess(args=['feat', './derivatives/ds-01/feat_files_ppi/sub-08/secondlevel/design.fsf'], returncode=0)\n",
      "./derivatives/ds-01/feat_files_ppi/sub-15/secondlevel/design.fsf: CompletedProcess(args=['feat', './derivatives/ds-01/feat_files_ppi/sub-15/secondlevel/design.fsf'], returncode=0)\n",
      "./derivatives/ds-02/feat_files_ppi/sub-13/secondlevel/design.fsf: CompletedProcess(args=['feat', './derivatives/ds-02/feat_files_ppi/sub-13/secondlevel/design.fsf'], returncode=0)\n",
      "./derivatives/ds-02/feat_files_ppi/sub-14/secondlevel/design.fsf: CompletedProcess(args=['feat', './derivatives/ds-02/feat_files_ppi/sub-14/secondlevel/design.fsf'], returncode=0)\n",
      "./derivatives/ds-02/feat_files_ppi/sub-15/secondlevel/design.fsf: CompletedProcess(args=['feat', './derivatives/ds-02/feat_files_ppi/sub-15/secondlevel/design.fsf'], returncode=0)\n"
     ]
    }
   ],
   "source": [
    "## run again\n",
    "\n",
    "def run_feat(fsf_file):\n",
    "    print(fsf_file)\n",
    "    import subprocess\n",
    "    return_code = subprocess.run([\"feat\", fsf_file])\n",
    "    print('{}: {}'.format(fsf_file, return_code))\n",
    "    return return_code\n",
    "\n",
    "# find all newly created design files\n",
    "all_fsfs = sorted(glob.glob('./derivatives/ds-*/feat_files_ppi/sub-*/secondlevel/design.fsf'))\n",
    "#all_fsfs.pop(1)\n",
    "all_fsfs\n",
    "with mp.Pool(30) as p:\n",
    "    outputs = p.map(run_feat, all_fsfs)"
   ]
  },
  {
   "cell_type": "markdown",
   "metadata": {},
   "source": [
    "## third level made manually"
   ]
  },
  {
   "cell_type": "code",
   "execution_count": 42,
   "metadata": {},
   "outputs": [
    {
     "name": "stdout",
     "output_type": "stream",
     "text": [
      "/home/stevenm/bias/derivatives/ds-01/feat_files_ppi/sub-01/secondlevel.gfeat/cope1.feat\n",
      "/home/stevenm/bias/derivatives/ds-01/feat_files_ppi/sub-02/secondlevel.gfeat/cope1.feat\n",
      "/home/stevenm/bias/derivatives/ds-01/feat_files_ppi/sub-03/secondlevel.gfeat/cope1.feat\n",
      "/home/stevenm/bias/derivatives/ds-01/feat_files_ppi/sub-04/secondlevel.gfeat/cope1.feat\n",
      "/home/stevenm/bias/derivatives/ds-01/feat_files_ppi/sub-05/secondlevel.gfeat/cope1.feat\n",
      "/home/stevenm/bias/derivatives/ds-01/feat_files_ppi/sub-06/secondlevel.gfeat/cope1.feat\n",
      "/home/stevenm/bias/derivatives/ds-01/feat_files_ppi/sub-07/secondlevel.gfeat/cope1.feat\n",
      "/home/stevenm/bias/derivatives/ds-01/feat_files_ppi/sub-08/secondlevel.gfeat/cope1.feat\n",
      "/home/stevenm/bias/derivatives/ds-01/feat_files_ppi/sub-09/secondlevel.gfeat/cope1.feat\n",
      "/home/stevenm/bias/derivatives/ds-01/feat_files_ppi/sub-10/secondlevel.gfeat/cope1.feat\n",
      "/home/stevenm/bias/derivatives/ds-01/feat_files_ppi/sub-11/secondlevel.gfeat/cope1.feat\n",
      "/home/stevenm/bias/derivatives/ds-01/feat_files_ppi/sub-12/secondlevel.gfeat/cope1.feat\n",
      "/home/stevenm/bias/derivatives/ds-01/feat_files_ppi/sub-13/secondlevel.gfeat/cope1.feat\n",
      "/home/stevenm/bias/derivatives/ds-01/feat_files_ppi/sub-14/secondlevel.gfeat/cope1.feat\n",
      "/home/stevenm/bias/derivatives/ds-01/feat_files_ppi/sub-15/secondlevel.gfeat/cope1.feat\n",
      "/home/stevenm/bias/derivatives/ds-01/feat_files_ppi/sub-16/secondlevel.gfeat/cope1.feat\n",
      "/home/stevenm/bias/derivatives/ds-01/feat_files_ppi/sub-17/secondlevel.gfeat/cope1.feat\n",
      "/home/stevenm/bias/derivatives/ds-01/feat_files_ppi/sub-18/secondlevel.gfeat/cope1.feat\n",
      "/home/stevenm/bias/derivatives/ds-01/feat_files_ppi/sub-19/secondlevel.gfeat/cope1.feat\n",
      "/home/stevenm/bias/derivatives/ds-02/feat_files_ppi/sub-01/secondlevel.gfeat/cope1.feat\n",
      "/home/stevenm/bias/derivatives/ds-02/feat_files_ppi/sub-02/secondlevel.gfeat/cope1.feat\n",
      "/home/stevenm/bias/derivatives/ds-02/feat_files_ppi/sub-03/secondlevel.gfeat/cope1.feat\n",
      "/home/stevenm/bias/derivatives/ds-02/feat_files_ppi/sub-05/secondlevel.gfeat/cope1.feat\n",
      "/home/stevenm/bias/derivatives/ds-02/feat_files_ppi/sub-06/secondlevel.gfeat/cope1.feat\n",
      "/home/stevenm/bias/derivatives/ds-02/feat_files_ppi/sub-07/secondlevel.gfeat/cope1.feat\n",
      "/home/stevenm/bias/derivatives/ds-02/feat_files_ppi/sub-08/secondlevel.gfeat/cope1.feat\n",
      "/home/stevenm/bias/derivatives/ds-02/feat_files_ppi/sub-09/secondlevel.gfeat/cope1.feat\n",
      "/home/stevenm/bias/derivatives/ds-02/feat_files_ppi/sub-10/secondlevel.gfeat/cope1.feat\n",
      "/home/stevenm/bias/derivatives/ds-02/feat_files_ppi/sub-11/secondlevel.gfeat/cope1.feat\n",
      "/home/stevenm/bias/derivatives/ds-02/feat_files_ppi/sub-12/secondlevel.gfeat/cope1.feat\n",
      "/home/stevenm/bias/derivatives/ds-02/feat_files_ppi/sub-13/secondlevel.gfeat/cope1.feat\n",
      "/home/stevenm/bias/derivatives/ds-02/feat_files_ppi/sub-14/secondlevel.gfeat/cope1.feat\n",
      "/home/stevenm/bias/derivatives/ds-02/feat_files_ppi/sub-15/secondlevel.gfeat/cope1.feat\n"
     ]
    }
   ],
   "source": [
    "import glob\n",
    "\n",
    "ls = sorted(glob.glob('/home/stevenm/bias/derivatives/ds-*/feat_files_ppi/sub*/secondlevel.gfeat/cope1.feat'))\n",
    "print('\\n'.join(ls))"
   ]
  },
  {
   "cell_type": "code",
   "execution_count": 43,
   "metadata": {},
   "outputs": [
    {
     "name": "stdout",
     "output_type": "stream",
     "text": [
      " intercept  dataset\n",
      "         1       -1\n",
      "         1       -1\n",
      "         1       -1\n",
      "         1       -1\n",
      "         1       -1\n",
      "         1       -1\n",
      "         1       -1\n",
      "         1       -1\n",
      "         1       -1\n",
      "         1       -1\n",
      "         1       -1\n",
      "         1       -1\n",
      "         1       -1\n",
      "         1       -1\n",
      "         1       -1\n",
      "         1       -1\n",
      "         1       -1\n",
      "         1       -1\n",
      "         1       -1\n",
      "         1        1\n",
      "         1        1\n",
      "         1        1\n",
      "         1        1\n",
      "         1        1\n",
      "         1        1\n",
      "         1        1\n",
      "         1        1\n",
      "         1        1\n",
      "         1        1\n",
      "         1        1\n",
      "         1        1\n",
      "         1        1\n",
      "         1        1\n"
     ]
    }
   ],
   "source": [
    "# The third-level GLM has four EVs (and an intercept):\n",
    "import pandas as pd \n",
    "all_parameters = pd.read_pickle('./derivatives/all_subjectwise_parameters.pkl')\n",
    "all_parameters = all_parameters[['ddm z_cue_regressor', 'ddm difficulty_effect']]\n",
    "# all_parameters\n",
    "\n",
    "design_matrix = pd.DataFrame([1] * all_parameters.shape[0], columns=['intercept'])\n",
    "design_matrix['dataset'] = [-1] * 19 + [1] * 14\n",
    "#design_matrix['dataset_leipzig'] = [1] * 19 + [0] * 14\n",
    "# design_matrix['z_shift'] = all_parameters['ddm z_cue_regressor'].values\n",
    "# design_matrix['v_shift'] = all_parameters['ddm difficulty_effect'].values\n",
    "# design_matrix['z_shift'] -= design_matrix['z_shift'].mean()  # demean\n",
    "# design_matrix['v_shift'] -= design_matrix['v_shift'].mean()  # demean\n",
    "# design_matrix['z_shift'] = design_matrix.groupby('dataset_amsterdam').z_shift.apply(lambda x: (x-x.mean())/x.std())\n",
    "# design_matrix['v_shift'] = design_matrix.groupby('dataset_amsterdam').v_shift.apply(lambda x: (x-x.mean())/x.std())\n",
    "print(design_matrix.to_string(index=False))"
   ]
  },
  {
   "cell_type": "code",
   "execution_count": 44,
   "metadata": {},
   "outputs": [],
   "source": [
    "# import matplotlib.pyplot as plt\n",
    "# %matplotlib inline\n",
    "\n",
    "# import pandas as pd \n",
    "# all_parameters = pd.read_pickle('./derivatives/all_subjectwise_parameters.pkl')\n",
    "# all_parameters = all_parameters[['ddm z_cue_regressor', 'ddm difficulty_effect']]\n",
    "\n",
    "# all_parameters_dmc = pd.read_csv('./derivatives/BMAParameters.csv')\n",
    "\n",
    "# f, ax = plt.subplots(1,3)\n",
    "# ax[0].plot(all_parameters_dmc['vshift'], all_parameters['ddm difficulty_effect'], '.')\n",
    "# ax[0].set_xlabel('DMC drift shift')\n",
    "# ax[0].set_ylabel('HDDM drift shift')\n",
    "\n",
    "# ax[1].plot(all_parameters_dmc['zshiftBias'], all_parameters['ddm z_cue_regressor'], '.')\n",
    "# ax[1].set_xlabel('DMC z-shift')\n",
    "# ax[1].set_ylabel('HDDM z-shift')\n",
    "\n",
    "# ax[2].plot(all_parameters_dmc['vshiftBias'], all_parameters['ddm z_cue_regressor'], '.')\n",
    "# ax[2].set_xlabel('DMC v-shift (bias)')\n",
    "# ax[2].set_ylabel('HDDM z-shift')\n",
    "# f.set_size_inches(15,4)\n",
    "\n",
    "# # so HDDM and DMC agree on the drift rate shift due to the difficulty effect, \n",
    "# # but not on the start point shift due to the cue"
   ]
  },
  {
   "cell_type": "code",
   "execution_count": 45,
   "metadata": {},
   "outputs": [],
   "source": [
    "# # Let's try the DMC parameters, which are hopefully a bit better\n",
    "# # The third-level GLM has four EVs (and an intercept)\n",
    "\n",
    "# design_matrix = pd.DataFrame([1] * all_parameters.shape[0], columns=['intercept'])\n",
    "# design_matrix['dataset'] = [-1] * 19 + [1] * 14\n",
    "# design_matrix['z_shift'] = all_parameters_dmc['zshiftBias'].values\n",
    "# design_matrix['v_shift'] = all_parameters_dmc['vshift'].values\n",
    "# design_matrix['v_shift_bias'] = all_parameters_dmc['vshiftBias'].values\n",
    "# design_matrix['z_shift'] -= design_matrix['z_shift'].mean()            # demean\n",
    "# design_matrix['v_shift'] -= design_matrix['v_shift'].mean()            # demean\n",
    "# design_matrix['v_shift_bias'] -= design_matrix['v_shift_bias'].mean()  # demean\n",
    "\n",
    "# print(design_matrix.to_string(index=False))"
   ]
  },
  {
   "cell_type": "code",
   "execution_count": 47,
   "metadata": {},
   "outputs": [],
   "source": [
    "def fix_fsf_file_flame1(cope,\n",
    "                        orig_fsf='./derivatives/both/glm_ppi_level3/third_level_design.fsf', \n",
    "                        write_out=True):\n",
    "    # read fsf as txt\n",
    "    with open(orig_fsf, 'r') as f:\n",
    "        fsf = f.read()\n",
    "    \n",
    "    # output directory\n",
    "    fsf = fsf.replace(\"/home/stevenm/bias/derivatives/both/glm_ppi_level3/cope1\",\n",
    "                      \"/home/stevenm/bias/derivatives/both/glm_ppi_level3/cope{}\".format(cope))\n",
    "    \n",
    "    for ds in [1,2]:\n",
    "        for sub in np.arange(1,20):\n",
    "            fsf = fsf.replace('/home/stevenm/bias/derivatives/ds-0{}/feat_files_ppi/sub-{}/secondlevel.gfeat/cope1.feat'.format(ds, str(sub).zfill(2)),\n",
    "                              '/home/stevenm/bias/derivatives/ds-0{}/feat_files_ppi/sub-{}/secondlevel.gfeat/cope{}.feat'.format(ds, str(sub).zfill(2), cope))\n",
    "        \n",
    "    # save fsf as txt\n",
    "    if write_out:\n",
    "        output_dir = '/home/stevenm/bias/derivatives/both/glm_ppi_level3/fsfs/cope{}'.format(cope)\n",
    "        if not os.path.exists(output_dir):\n",
    "            os.makedirs(output_dir)\n",
    "        with open(os.path.join(output_dir, 'design.fsf'), 'w') as f:\n",
    "            f.write(fsf)\n",
    "    else:\n",
    "        return fsf\n",
    "    \n",
    "copes = np.arange(1, 22)\n",
    "\n",
    "for cope in copes:\n",
    "    fix_fsf_file_flame1(cope=cope, write_out=True)"
   ]
  },
  {
   "cell_type": "code",
   "execution_count": null,
   "metadata": {},
   "outputs": [
    {
     "name": "stdout",
     "output_type": "stream",
     "text": [
      "./derivatives/both/glm_ppi_level3/fsfs/cope19/design.fsf\n",
      "./derivatives/both/glm_ppi_level3/fsfs/cope21/design.fsf\n",
      "./derivatives/both/glm_ppi_level3/fsfs/cope18/design.fsf\n",
      "./derivatives/both/glm_ppi_level3/fsfs/cope3/design.fsf\n",
      "./derivatives/both/glm_ppi_level3/fsfs/cope17/design.fsf\n",
      "./derivatives/both/glm_ppi_level3/fsfs/cope13/design.fsf\n",
      "./derivatives/both/glm_ppi_level3/fsfs/cope10/design.fsf\n",
      "./derivatives/both/glm_ppi_level3/fsfs/cope11/design.fsf\n",
      "./derivatives/both/glm_ppi_level3/fsfs/cope1/design.fsf\n",
      "./derivatives/both/glm_ppi_level3/fsfs/cope12/design.fsf\n",
      "./derivatives/both/glm_ppi_level3/fsfs/cope20/design.fsf\n",
      "./derivatives/both/glm_ppi_level3/fsfs/cope14/design.fsf\n",
      "./derivatives/both/glm_ppi_level3/fsfs/cope16/design.fsf\n",
      "./derivatives/both/glm_ppi_level3/fsfs/cope15/design.fsf\n",
      "./derivatives/both/glm_ppi_level3/fsfs/cope2/design.fsf\n",
      "./derivatives/both/glm_ppi_level3/fsfs/cope17/design.fsf: CompletedProcess(args=['feat', './derivatives/both/glm_ppi_level3/fsfs/cope17/design.fsf'], returncode=0)\n",
      "./derivatives/both/glm_ppi_level3/fsfs/cope4/design.fsf\n",
      "./derivatives/both/glm_ppi_level3/fsfs/cope21/design.fsf: CompletedProcess(args=['feat', './derivatives/both/glm_ppi_level3/fsfs/cope21/design.fsf'], returncode=0)\n",
      "./derivatives/both/glm_ppi_level3/fsfs/cope5/design.fsf\n",
      "./derivatives/both/glm_ppi_level3/fsfs/cope16/design.fsf: CompletedProcess(args=['feat', './derivatives/both/glm_ppi_level3/fsfs/cope16/design.fsf'], returncode=0)\n",
      "./derivatives/both/glm_ppi_level3/fsfs/cope6/design.fsf\n",
      "./derivatives/both/glm_ppi_level3/fsfs/cope18/design.fsf: CompletedProcess(args=['feat', './derivatives/both/glm_ppi_level3/fsfs/cope18/design.fsf'], returncode=0)\n",
      "./derivatives/both/glm_ppi_level3/fsfs/cope7/design.fsf\n",
      "./derivatives/both/glm_ppi_level3/fsfs/cope20/design.fsf: CompletedProcess(args=['feat', './derivatives/both/glm_ppi_level3/fsfs/cope20/design.fsf'], returncode=0)\n",
      "./derivatives/both/glm_ppi_level3/fsfs/cope8/design.fsf\n",
      "./derivatives/both/glm_ppi_level3/fsfs/cope19/design.fsf: CompletedProcess(args=['feat', './derivatives/both/glm_ppi_level3/fsfs/cope19/design.fsf'], returncode=0)\n",
      "./derivatives/both/glm_ppi_level3/fsfs/cope9/design.fsf\n",
      "./derivatives/both/glm_ppi_level3/fsfs/cope13/design.fsf: CompletedProcess(args=['feat', './derivatives/both/glm_ppi_level3/fsfs/cope13/design.fsf'], returncode=0)\n",
      "./derivatives/both/glm_ppi_level3/fsfs/cope12/design.fsf: CompletedProcess(args=['feat', './derivatives/both/glm_ppi_level3/fsfs/cope12/design.fsf'], returncode=0)\n",
      "./derivatives/both/glm_ppi_level3/fsfs/cope14/design.fsf: CompletedProcess(args=['feat', './derivatives/both/glm_ppi_level3/fsfs/cope14/design.fsf'], returncode=0)\n",
      "./derivatives/both/glm_ppi_level3/fsfs/cope15/design.fsf: CompletedProcess(args=['feat', './derivatives/both/glm_ppi_level3/fsfs/cope15/design.fsf'], returncode=0)\n",
      "./derivatives/both/glm_ppi_level3/fsfs/cope11/design.fsf: CompletedProcess(args=['feat', './derivatives/both/glm_ppi_level3/fsfs/cope11/design.fsf'], returncode=0)\n",
      "./derivatives/both/glm_ppi_level3/fsfs/cope10/design.fsf: CompletedProcess(args=['feat', './derivatives/both/glm_ppi_level3/fsfs/cope10/design.fsf'], returncode=0)\n",
      "./derivatives/both/glm_ppi_level3/fsfs/cope1/design.fsf: CompletedProcess(args=['feat', './derivatives/both/glm_ppi_level3/fsfs/cope1/design.fsf'], returncode=0)\n",
      "./derivatives/both/glm_ppi_level3/fsfs/cope2/design.fsf: CompletedProcess(args=['feat', './derivatives/both/glm_ppi_level3/fsfs/cope2/design.fsf'], returncode=0)\n",
      "./derivatives/both/glm_ppi_level3/fsfs/cope3/design.fsf: CompletedProcess(args=['feat', './derivatives/both/glm_ppi_level3/fsfs/cope3/design.fsf'], returncode=0)\n"
     ]
    }
   ],
   "source": [
    "def run_feat(fsf_file):\n",
    "    print(fsf_file)\n",
    "    import subprocess\n",
    "    return_code = subprocess.run([\"feat\", fsf_file])\n",
    "    print('{}: {}'.format(fsf_file, return_code))\n",
    "    return return_code\n",
    "\n",
    "# find all newly created design files\n",
    "all_fsfs = sorted(glob.glob('./derivatives/both/glm_ppi_level3/fsfs/cope*/design.fsf'))\n",
    "all_fsfs\n",
    "\n",
    "with mp.Pool(15) as p:\n",
    "    outputs = p.map(run_feat, all_fsfs)"
   ]
  },
  {
   "cell_type": "code",
   "execution_count": null,
   "metadata": {},
   "outputs": [],
   "source": []
  }
 ],
 "metadata": {
  "kernelspec": {
   "display_name": "Python [conda env:.conda-python3]",
   "language": "python",
   "name": "conda-env-.conda-python3-py"
  }
 },
 "nbformat": 4,
 "nbformat_minor": 2
}
