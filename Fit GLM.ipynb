{
 "cells": [
  {
   "cell_type": "code",
   "execution_count": 27,
   "metadata": {},
   "outputs": [],
   "source": [
    "import nistats\n",
    "import nibabel as nib\n",
    "import nilearn\n",
    "from nistats.first_level_model import FirstLevelModel\n",
    "from nistats.second_level_model import SecondLevelModel\n",
    "from nilearn.plotting import plot_stat_map\n",
    "import os\n",
    "import numpy as np\n",
    "import pandas as pd\n",
    "import matplotlib.pyplot as plt\n",
    "import glob\n",
    "import re\n",
    "import pickle as pkl\n",
    "\n",
    "%matplotlib inline"
   ]
  },
  {
   "cell_type": "code",
   "execution_count": 28,
   "metadata": {},
   "outputs": [
    {
     "name": "stderr",
     "output_type": "stream",
     "text": [
      "/home/stevenm/.conda/envs/python3/lib/python3.6/site-packages/ipykernel_launcher.py:10: SettingWithCopyWarning: \n",
      "A value is trying to be set on a copy of a slice from a DataFrame.\n",
      "Try using .loc[row_indexer,col_indexer] = value instead\n",
      "\n",
      "See the caveats in the documentation: http://pandas.pydata.org/pandas-docs/stable/indexing.html#indexing-view-versus-copy\n",
      "  # Remove the CWD from sys.path while we load stuff.\n",
      "/home/stevenm/.conda/envs/python3/lib/python3.6/site-packages/ipykernel_launcher.py:20: FutureWarning: Sorting because non-concatenation axis is not aligned. A future version\n",
      "of pandas will change to not sort by default.\n",
      "\n",
      "To accept the future behavior, pass 'sort=False'.\n",
      "\n",
      "To retain the current behavior and silence the warning, pass 'sort=True'.\n",
      "\n"
     ]
    },
    {
     "data": {
      "text/html": [
       "<div>\n",
       "<style scoped>\n",
       "    .dataframe tbody tr th:only-of-type {\n",
       "        vertical-align: middle;\n",
       "    }\n",
       "\n",
       "    .dataframe tbody tr th {\n",
       "        vertical-align: top;\n",
       "    }\n",
       "\n",
       "    .dataframe thead th {\n",
       "        text-align: right;\n",
       "    }\n",
       "</style>\n",
       "<table border=\"1\" class=\"dataframe\">\n",
       "  <thead>\n",
       "    <tr style=\"text-align: right;\">\n",
       "      <th></th>\n",
       "      <th></th>\n",
       "      <th>onset</th>\n",
       "      <th>trial_type</th>\n",
       "      <th>duration</th>\n",
       "    </tr>\n",
       "    <tr>\n",
       "      <th>subject</th>\n",
       "      <th>run</th>\n",
       "      <th></th>\n",
       "      <th></th>\n",
       "      <th></th>\n",
       "    </tr>\n",
       "  </thead>\n",
       "  <tbody>\n",
       "    <tr>\n",
       "      <th rowspan=\"5\" valign=\"top\">1</th>\n",
       "      <th>1</th>\n",
       "      <td>7.500</td>\n",
       "      <td>cue_left</td>\n",
       "      <td>0.001</td>\n",
       "    </tr>\n",
       "    <tr>\n",
       "      <th>1</th>\n",
       "      <td>10.250</td>\n",
       "      <td>easy</td>\n",
       "      <td>0.001</td>\n",
       "    </tr>\n",
       "    <tr>\n",
       "      <th>1</th>\n",
       "      <td>11.321</td>\n",
       "      <td>response_left</td>\n",
       "      <td>0.001</td>\n",
       "    </tr>\n",
       "    <tr>\n",
       "      <th>1</th>\n",
       "      <td>16.500</td>\n",
       "      <td>cue_left</td>\n",
       "      <td>0.001</td>\n",
       "    </tr>\n",
       "    <tr>\n",
       "      <th>1</th>\n",
       "      <td>19.250</td>\n",
       "      <td>hard</td>\n",
       "      <td>0.001</td>\n",
       "    </tr>\n",
       "  </tbody>\n",
       "</table>\n",
       "</div>"
      ],
      "text/plain": [
       "              onset     trial_type  duration\n",
       "subject run                                 \n",
       "1       1     7.500       cue_left     0.001\n",
       "        1    10.250           easy     0.001\n",
       "        1    11.321  response_left     0.001\n",
       "        1    16.500       cue_left     0.001\n",
       "        1    19.250           hard     0.001"
      ]
     },
     "execution_count": 28,
     "metadata": {},
     "output_type": "execute_result"
    }
   ],
   "source": [
    "## get events\n",
    "behavior = pd.read_pickle('./derivatives/behavior.pkl')\n",
    "behavior['sub'] = behavior['subject']\n",
    "behavior.loc[behavior['ds']=='ds-02', 'sub'] = behavior.loc[behavior['ds']=='ds-02', 'sub'].astype(int) + behavior.loc[behavior['ds']=='ds-01', 'sub'].astype(int).max()\n",
    "behavior['sub'] = behavior['sub'].astype(int)\n",
    "behavior['onset_response'] = behavior['onset_stim'] + behavior['rt']/1000\n",
    "behavior = behavior.loc[behavior.response.isin([1,2])]  # remove errors\n",
    "\n",
    "events_cue = behavior[['sub', 'block', 'cue', 'onset_cue']]\n",
    "events_cue['event_type'] = events_cue['cue'].apply(lambda x: 'cue_' + x)\n",
    "events_cue = events_cue.rename(columns={'block': 'run', 'onset_cue': 'onset'})\n",
    "\n",
    "events_stim = behavior[['sub', 'block', 'difficulty', 'onset_stim']]\n",
    "events_stim = events_stim.rename(columns={'block': 'run', 'onset_stim': 'onset', 'difficulty': 'event_type'})\n",
    "\n",
    "events_responses = behavior[['sub', 'block', 'response', 'onset_response']]\n",
    "events_responses['event_type'] = events_responses['response'].replace({1: 'response_left', 2: 'response_right', -1: 'error'})\n",
    "events_responses = events_responses.rename(columns={'block': 'run', 'onset_response': 'onset'})\n",
    "\n",
    "events = pd.concat((events_cue, events_stim, events_responses))\n",
    "events = events.sort_values(by=['sub', 'run', 'onset'])\n",
    "events = events.rename(columns={'sub': 'subject'})\n",
    "\n",
    "events = events.set_index(['subject', 'run'])[['onset', 'event_type']].rename(columns={'event_type': 'trial_type'})\n",
    "events['duration'] = 0.001\n",
    "events.head()\n",
    "\n",
    "# ## correct onsets due to STC\n",
    "# events_deconv['onset'] -= 1.5"
   ]
  },
  {
   "cell_type": "code",
   "execution_count": 29,
   "metadata": {},
   "outputs": [
    {
     "name": "stderr",
     "output_type": "stream",
     "text": [
      "<>:4: DeprecationWarning: invalid escape sequence \\d\n",
      "/home/stevenm/.conda/envs/python3/lib/python3.6/site-packages/ipykernel_launcher.py:18: FutureWarning: Sorting because non-concatenation axis is not aligned. A future version\n",
      "of pandas will change to not sort by default.\n",
      "\n",
      "To accept the future behavior, pass 'sort=False'.\n",
      "\n",
      "To retain the current behavior and silence the warning, pass 'sort=True'.\n",
      "\n"
     ]
    }
   ],
   "source": [
    "## get confounds\n",
    "all_csvs = glob.glob('./derivatives/ds-*/fmriprep/sub*/func/sub-*_task-randomdotmotion_run-*_desc-confounds_regressors.tsv')\n",
    "\n",
    "reg = re.compile('.*ds-(?P<ds>\\d+)/fmriprep/sub-.*/func/sub-(?P<sub>\\d+)_.*_run-(?P<run>\\d+)_.*')\n",
    "reg.match(all_csvs[1]).groupdict()\n",
    "\n",
    "confounds_df = []\n",
    "\n",
    "# loop over .csv-files, adding signal row-by-row\n",
    "for fn in all_csvs:\n",
    "    d = reg.match(fn).groupdict()\n",
    "    tmp = pd.read_csv(fn, sep='\\t')\n",
    "    tmp['sub'] = d['sub']\n",
    "    tmp['run'] = d['run']\n",
    "    tmp['ds'] = d['ds']\n",
    "    confounds_df.append(tmp)\n",
    "\n",
    "confounds_df = pd.concat(confounds_df, axis=0)\n",
    "confounds_df['ds'] = confounds_df['ds'].astype(int)\n",
    "confounds_df['run'] = confounds_df['run'].astype(int)\n",
    "confounds_df['subject'] = confounds_df['sub'].astype(int)\n",
    "\n",
    "# adjust ds2 subject idx to ensure non-overlapping subject idx\n",
    "max_sub_ds1 = confounds_df.loc[confounds_df.ds==1,'subject'].max()\n",
    "confounds_df.loc[confounds_df.ds==2,'subject'] = confounds_df.loc[confounds_df.ds==2,'subject']+max_sub_ds1\n",
    "confounds_df = confounds_df.sort_values(['ds', 'subject', 'run']).set_index(['ds', 'subject', 'run'])\n",
    "\n",
    "# Include confounds: 5 ACompCor regressors, cosines for drift, DVARS, rotation & translation params\n",
    "confounds_deconv = confounds_df.reset_index(level=0, drop=True)\n",
    "include_confounds = ['a_comp_cor_0' + str(x) for x in range(5)] #+ ['cosine' + str(x).zfill(2) for x in range(17)]\n",
    "#include_confounds = include_confounds + ['dvars', 'framewise_displacement']\n",
    "include_confounds = include_confounds + ['rot_' + a for a in ['x', 'y', 'z']]\n",
    "include_confounds = include_confounds + ['trans_' + a for a in ['x', 'y', 'z']]\n",
    "confounds_deconv = confounds_deconv[include_confounds]"
   ]
  },
  {
   "cell_type": "code",
   "execution_count": 30,
   "metadata": {},
   "outputs": [],
   "source": [
    "def get_confounds(sub, run, confounds):\n",
    "    return confounds.loc[sub, run]\n",
    "\n",
    "def get_events(sub, run, events, onset_shift=-1.5):\n",
    "    events_ = events.loc[sub, run]\n",
    "    events_['onset'] += onset_shift\n",
    "    return events_\n",
    "\n",
    "def get_sub_n(sub, max_sub_ds1=19):\n",
    "    if sub > max_sub_ds1:\n",
    "        sub -= max_sub_ds1\n",
    "        ds = 2\n",
    "    else:\n",
    "        ds = 1\n",
    "    return ds, sub\n",
    "\n",
    "def get_niis(sub, run, max_sub_ds1=19):\n",
    "    ds, sub = get_sub_n(sub)\n",
    "    sub_str = str(sub).zfill(2)\n",
    "    run_str = str(run).zfill(2)\n",
    "    ds_str = str(ds).zfill(2)\n",
    "    fn = './derivatives/ds-{ds_str}/fmriprep/sub-{sub_str}/func/sub-{sub_str}_task-randomdotmotion_run-{run_str}_space-MNI152NLin2009cAsym_desc-preproc_bold.nii.gz'.format(**locals())\n",
    "    return fn\n",
    "\n",
    "def get_brain_mask(sub, run):\n",
    "    ds, sub = get_sub_n(sub)\n",
    "    sub_str = str(sub).zfill(2)\n",
    "    run_str = str(run).zfill(2)\n",
    "    ds_str = str(ds).zfill(2)\n",
    "    fn = './derivatives/ds-{ds_str}/fmriprep/sub-{sub_str}/func/sub-{sub_str}_task-randomdotmotion_run-{run_str}_space-MNI152NLin2009cAsym_desc-brain_mask.nii.gz'.format(**locals())\n",
    "    return fn"
   ]
  },
  {
   "cell_type": "markdown",
   "metadata": {},
   "source": [
    "## test run for single subject\n",
    "with smoothing"
   ]
  },
  {
   "cell_type": "code",
   "execution_count": 11,
   "metadata": {},
   "outputs": [
    {
     "name": "stderr",
     "output_type": "stream",
     "text": [
      "/home/stevenm/.conda/envs/python3/lib/python3.6/site-packages/ipykernel_launcher.py:6: SettingWithCopyWarning: \n",
      "A value is trying to be set on a copy of a slice from a DataFrame.\n",
      "Try using .loc[row_indexer,col_indexer] = value instead\n",
      "\n",
      "See the caveats in the documentation: http://pandas.pydata.org/pandas-docs/stable/indexing.html#indexing-view-versus-copy\n",
      "  \n"
     ]
    }
   ],
   "source": [
    "sub = 1\n",
    "\n",
    "onset_shift = 0 # should be best\n",
    "\n",
    "events_ = [get_events(sub, run, events=events, onset_shift=onset_shift).reset_index(drop=True) for run in [1,2,3]]\n",
    "confounds_ = [confounds_deconv.loc[sub,run].reset_index(drop=True) for run in [1,2,3]]\n",
    "bold_niis = [nib.load(get_niis(sub, run)) for run in [1,2,3]]\n",
    "brain_mask = nib.load(get_brain_mask(sub, 1))\n",
    "\n",
    "fmri_glm = FirstLevelModel(t_r=3., \n",
    "                           smoothing_fwhm=5,\n",
    "                           slice_time_ref=0.5,\n",
    "                           mask=brain_mask,\n",
    "                           noise_model='ar1',\n",
    "                           standardize=False,\n",
    "                           hrf_model='glover + derivative',\n",
    "                           drift_model='Cosine',\n",
    "                           n_jobs=-5)"
   ]
  },
  {
   "cell_type": "code",
   "execution_count": 12,
   "metadata": {},
   "outputs": [
    {
     "name": "stderr",
     "output_type": "stream",
     "text": [
      "/home/stevenm/.conda/envs/python3/lib/python3.6/site-packages/nilearn/_utils/cache_mixin.py:232: DeprecationWarning: The 'cachedir' attribute has been deprecated in version 0.12 and will be removed in version 0.14.\n",
      "Use os.path.join(memory.location, 'joblib') attribute instead.\n",
      "  if (memory.cachedir is None and memory_level is not None\n",
      "/home/stevenm/.conda/envs/python3/lib/python3.6/site-packages/nistats/hemodynamic_models.py:268: DeprecationWarning: object of type <class 'numpy.float64'> cannot be safely interpreted as an integer.\n",
      "  frame_times.max() * (1 + 1. / (n - 1)), n_hr)\n",
      "/home/stevenm/.conda/envs/python3/lib/python3.6/site-packages/nistats/hemodynamic_models.py:55: DeprecationWarning: object of type <class 'float'> cannot be safely interpreted as an integer.\n",
      "  time_stamps = np.linspace(0, time_length, float(time_length) / dt)\n",
      "/home/stevenm/.conda/envs/python3/lib/python3.6/site-packages/nilearn/_utils/cache_mixin.py:232: DeprecationWarning: The 'cachedir' attribute has been deprecated in version 0.12 and will be removed in version 0.14.\n",
      "Use os.path.join(memory.location, 'joblib') attribute instead.\n",
      "  if (memory.cachedir is None and memory_level is not None\n",
      "/home/stevenm/.conda/envs/python3/lib/python3.6/site-packages/numpy/lib/type_check.py:546: DeprecationWarning: np.asscalar(a) is deprecated since NumPy v1.16, use a.item() instead\n",
      "  'a.item() instead', DeprecationWarning, stacklevel=1)\n",
      "/home/stevenm/.conda/envs/python3/lib/python3.6/site-packages/nistats/hemodynamic_models.py:268: DeprecationWarning: object of type <class 'numpy.float64'> cannot be safely interpreted as an integer.\n",
      "  frame_times.max() * (1 + 1. / (n - 1)), n_hr)\n",
      "/home/stevenm/.conda/envs/python3/lib/python3.6/site-packages/nistats/hemodynamic_models.py:55: DeprecationWarning: object of type <class 'float'> cannot be safely interpreted as an integer.\n",
      "  time_stamps = np.linspace(0, time_length, float(time_length) / dt)\n",
      "/home/stevenm/.conda/envs/python3/lib/python3.6/site-packages/nilearn/_utils/cache_mixin.py:232: DeprecationWarning: The 'cachedir' attribute has been deprecated in version 0.12 and will be removed in version 0.14.\n",
      "Use os.path.join(memory.location, 'joblib') attribute instead.\n",
      "  if (memory.cachedir is None and memory_level is not None\n",
      "/home/stevenm/.conda/envs/python3/lib/python3.6/site-packages/numpy/lib/type_check.py:546: DeprecationWarning: np.asscalar(a) is deprecated since NumPy v1.16, use a.item() instead\n",
      "  'a.item() instead', DeprecationWarning, stacklevel=1)\n",
      "/home/stevenm/.conda/envs/python3/lib/python3.6/site-packages/sklearn/externals/joblib/externals/loky/process_executor.py:706: UserWarning: A worker stopped while some jobs were given to the executor. This can be caused by a too short worker timeout or by a memory leak.\n",
      "  \"timeout or by a memory leak.\", UserWarning\n",
      "/home/stevenm/.conda/envs/python3/lib/python3.6/site-packages/nistats/hemodynamic_models.py:268: DeprecationWarning: object of type <class 'numpy.float64'> cannot be safely interpreted as an integer.\n",
      "  frame_times.max() * (1 + 1. / (n - 1)), n_hr)\n",
      "/home/stevenm/.conda/envs/python3/lib/python3.6/site-packages/nistats/hemodynamic_models.py:55: DeprecationWarning: object of type <class 'float'> cannot be safely interpreted as an integer.\n",
      "  time_stamps = np.linspace(0, time_length, float(time_length) / dt)\n",
      "/home/stevenm/.conda/envs/python3/lib/python3.6/site-packages/nilearn/_utils/cache_mixin.py:232: DeprecationWarning: The 'cachedir' attribute has been deprecated in version 0.12 and will be removed in version 0.14.\n",
      "Use os.path.join(memory.location, 'joblib') attribute instead.\n",
      "  if (memory.cachedir is None and memory_level is not None\n",
      "/home/stevenm/.conda/envs/python3/lib/python3.6/site-packages/numpy/lib/type_check.py:546: DeprecationWarning: np.asscalar(a) is deprecated since NumPy v1.16, use a.item() instead\n",
      "  'a.item() instead', DeprecationWarning, stacklevel=1)\n",
      "/home/stevenm/.conda/envs/python3/lib/python3.6/site-packages/sklearn/externals/joblib/externals/loky/process_executor.py:706: UserWarning: A worker stopped while some jobs were given to the executor. This can be caused by a too short worker timeout or by a memory leak.\n",
      "  \"timeout or by a memory leak.\", UserWarning\n"
     ]
    },
    {
     "data": {
      "text/plain": [
       "FirstLevelModel(drift_model='Cosine', drift_order=1, fir_delays=[0],\n",
       "        hrf_model='glover + derivative',\n",
       "        mask=<nibabel.nifti1.Nifti1Image object at 0x7fca9a926a58>,\n",
       "        memory=Memory(location=None), memory_level=1, min_onset=-24,\n",
       "        minimize_memory=True, n_jobs=-5, noise_model='ar1', period_cut=128,\n",
       "        signal_scaling=True, slice_time_ref=0.5, smoothing_fwhm=5,\n",
       "        standardize=False, subject_label=None, t_r=3.0, target_affine=None,\n",
       "        target_shape=None, verbose=0)"
      ]
     },
     "execution_count": 12,
     "metadata": {},
     "output_type": "execute_result"
    }
   ],
   "source": [
    "fmri_glm.fit(bold_niis, events_, confounds_)"
   ]
  },
  {
   "cell_type": "code",
   "execution_count": 13,
   "metadata": {
    "scrolled": false
   },
   "outputs": [
    {
     "name": "stderr",
     "output_type": "stream",
     "text": [
      "/home/stevenm/.conda/envs/python3/lib/python3.6/site-packages/nistats/first_level_model.py:542: UserWarning: One contrast given, assuming it for all 3 runs\n",
      "  warn('One contrast given, assuming it for all %d runs' % n_runs)\n"
     ]
    }
   ],
   "source": [
    "z = fmri_glm.compute_contrast('response_left - response_right')"
   ]
  },
  {
   "cell_type": "code",
   "execution_count": 14,
   "metadata": {},
   "outputs": [
    {
     "name": "stderr",
     "output_type": "stream",
     "text": [
      "/home/stevenm/.conda/envs/python3/lib/python3.6/site-packages/scipy/ndimage/measurements.py:272: DeprecationWarning: In future, it will be an error for 'np.bool_' scalars to be interpreted as an index\n",
      "  return _nd_image.find_objects(input, max_label)\n"
     ]
    },
    {
     "data": {
      "text/plain": [
       "<nilearn.plotting.displays.OrthoSlicer at 0x7fca9a6ba3c8>"
      ]
     },
     "execution_count": 14,
     "metadata": {},
     "output_type": "execute_result"
    },
    {
     "data": {
      "image/png": "[encoded data removed]",
      "text/plain": [
       "<Figure size 525.6x187.2 with 5 Axes>"
      ]
     },
     "metadata": {},
     "output_type": "display_data"
    }
   ],
   "source": [
    "plot_stat_map(z)"
   ]
  },
  {
   "cell_type": "markdown",
   "metadata": {},
   "source": [
    "That looks good.\n",
    "\n",
    "## loop first-levels\n",
    "\n",
    "Don't smooth here - smooth before 2nd-level"
   ]
  },
  {
   "cell_type": "code",
   "execution_count": null,
   "metadata": {
    "scrolled": true
   },
   "outputs": [
    {
     "name": "stdout",
     "output_type": "stream",
     "text": [
      "1\n",
      "2\n",
      "3\n",
      "4\n",
      "5\n",
      "6\n",
      "7\n",
      "8\n",
      "9\n",
      "10\n",
      "11\n",
      "12\n",
      "13\n",
      "14\n",
      "15\n",
      "16\n",
      "17\n",
      "18\n",
      "19\n",
      "20\n",
      "21\n",
      "22\n",
      "23\n",
      "24\n",
      "25\n"
     ]
    },
    {
     "name": "stderr",
     "output_type": "stream",
     "text": [
      "/home/stevenm/.conda/envs/python3/lib/python3.6/site-packages/ipykernel_launcher.py:6: SettingWithCopyWarning: \n",
      "A value is trying to be set on a copy of a slice from a DataFrame.\n",
      "Try using .loc[row_indexer,col_indexer] = value instead\n",
      "\n",
      "See the caveats in the documentation: http://pandas.pydata.org/pandas-docs/stable/indexing.html#indexing-view-versus-copy\n",
      "  \n",
      "/home/stevenm/.conda/envs/python3/lib/python3.6/site-packages/numpy/lib/type_check.py:546: DeprecationWarning: np.asscalar(a) is deprecated since NumPy v1.16, use a.item() instead\n",
      "  'a.item() instead', DeprecationWarning, stacklevel=1)\n",
      "/home/stevenm/.conda/envs/python3/lib/python3.6/site-packages/nilearn/_utils/cache_mixin.py:232: DeprecationWarning: The 'cachedir' attribute has been deprecated in version 0.12 and will be removed in version 0.14.\n",
      "Use os.path.join(memory.location, 'joblib') attribute instead.\n",
      "  if (memory.cachedir is None and memory_level is not None\n",
      "/home/stevenm/.conda/envs/python3/lib/python3.6/site-packages/nistats/hemodynamic_models.py:268: DeprecationWarning: object of type <class 'numpy.float64'> cannot be safely interpreted as an integer.\n",
      "  frame_times.max() * (1 + 1. / (n - 1)), n_hr)\n",
      "/home/stevenm/.conda/envs/python3/lib/python3.6/site-packages/nistats/hemodynamic_models.py:55: DeprecationWarning: object of type <class 'float'> cannot be safely interpreted as an integer.\n",
      "  time_stamps = np.linspace(0, time_length, float(time_length) / dt)\n",
      "/home/stevenm/.conda/envs/python3/lib/python3.6/site-packages/nistats/first_level_model.py:61: UserWarning: Mean values of 0 observed.The data have probably been centered.Scaling might not work as expected\n",
      "  warn('Mean values of 0 observed.'\n",
      "/home/stevenm/.conda/envs/python3/lib/python3.6/site-packages/sklearn/externals/joblib/externals/loky/process_executor.py:706: UserWarning: A worker stopped while some jobs were given to the executor. This can be caused by a too short worker timeout or by a memory leak.\n",
      "  \"timeout or by a memory leak.\", UserWarning\n"
     ]
    },
    {
     "name": "stdout",
     "output_type": "stream",
     "text": [
      "26\n",
      "27\n",
      "28\n",
      "29\n",
      "30\n",
      "31\n",
      "32\n",
      "33\n",
      "34\n",
      "1\n",
      "2\n",
      "3\n",
      "4\n",
      "5\n",
      "6\n",
      "7\n",
      "8\n",
      "9\n",
      "10\n",
      "11\n",
      "12\n",
      "13\n",
      "14\n",
      "15\n",
      "16\n",
      "17\n",
      "18\n",
      "19\n",
      "20\n",
      "21\n",
      "22\n",
      "23\n",
      "24\n",
      "25\n",
      "26\n",
      "27\n",
      "28\n",
      "29\n",
      "30\n",
      "31\n",
      "32\n",
      "33\n",
      "34\n",
      "1\n"
     ]
    },
    {
     "name": "stderr",
     "output_type": "stream",
     "text": [
      "/home/stevenm/.conda/envs/python3/lib/python3.6/site-packages/nistats/hemodynamic_models.py:268: DeprecationWarning: object of type <class 'numpy.float64'> cannot be safely interpreted as an integer.\n",
      "  frame_times.max() * (1 + 1. / (n - 1)), n_hr)\n",
      "/home/stevenm/.conda/envs/python3/lib/python3.6/site-packages/nistats/hemodynamic_models.py:55: DeprecationWarning: object of type <class 'float'> cannot be safely interpreted as an integer.\n",
      "  time_stamps = np.linspace(0, time_length, float(time_length) / dt)\n",
      "/home/stevenm/.conda/envs/python3/lib/python3.6/site-packages/nilearn/_utils/cache_mixin.py:232: DeprecationWarning: The 'cachedir' attribute has been deprecated in version 0.12 and will be removed in version 0.14.\n",
      "Use os.path.join(memory.location, 'joblib') attribute instead.\n",
      "  if (memory.cachedir is None and memory_level is not None\n",
      "/home/stevenm/.conda/envs/python3/lib/python3.6/site-packages/nistats/first_level_model.py:61: UserWarning: Mean values of 0 observed.The data have probably been centered.Scaling might not work as expected\n",
      "  warn('Mean values of 0 observed.'\n",
      "/home/stevenm/.conda/envs/python3/lib/python3.6/site-packages/sklearn/externals/joblib/externals/loky/process_executor.py:706: UserWarning: A worker stopped while some jobs were given to the executor. This can be caused by a too short worker timeout or by a memory leak.\n",
      "  \"timeout or by a memory leak.\", UserWarning\n",
      "/home/stevenm/.conda/envs/python3/lib/python3.6/site-packages/nistats/hemodynamic_models.py:268: DeprecationWarning: object of type <class 'numpy.float64'> cannot be safely interpreted as an integer.\n",
      "  frame_times.max() * (1 + 1. / (n - 1)), n_hr)\n",
      "/home/stevenm/.conda/envs/python3/lib/python3.6/site-packages/nistats/hemodynamic_models.py:55: DeprecationWarning: object of type <class 'float'> cannot be safely interpreted as an integer.\n",
      "  time_stamps = np.linspace(0, time_length, float(time_length) / dt)\n",
      "/home/stevenm/.conda/envs/python3/lib/python3.6/site-packages/nilearn/_utils/cache_mixin.py:232: DeprecationWarning: The 'cachedir' attribute has been deprecated in version 0.12 and will be removed in version 0.14.\n",
      "Use os.path.join(memory.location, 'joblib') attribute instead.\n",
      "  if (memory.cachedir is None and memory_level is not None\n",
      "/home/stevenm/.conda/envs/python3/lib/python3.6/site-packages/nistats/first_level_model.py:61: UserWarning: Mean values of 0 observed.The data have probably been centered.Scaling might not work as expected\n",
      "  warn('Mean values of 0 observed.'\n",
      "/home/stevenm/.conda/envs/python3/lib/python3.6/site-packages/sklearn/externals/joblib/externals/loky/process_executor.py:706: UserWarning: A worker stopped while some jobs were given to the executor. This can be caused by a too short worker timeout or by a memory leak.\n",
      "  \"timeout or by a memory leak.\", UserWarning\n",
      "/home/stevenm/.conda/envs/python3/lib/python3.6/site-packages/nistats/hemodynamic_models.py:268: DeprecationWarning: object of type <class 'numpy.float64'> cannot be safely interpreted as an integer.\n",
      "  frame_times.max() * (1 + 1. / (n - 1)), n_hr)\n",
      "/home/stevenm/.conda/envs/python3/lib/python3.6/site-packages/nistats/hemodynamic_models.py:55: DeprecationWarning: object of type <class 'float'> cannot be safely interpreted as an integer.\n",
      "  time_stamps = np.linspace(0, time_length, float(time_length) / dt)\n",
      "/home/stevenm/.conda/envs/python3/lib/python3.6/site-packages/nilearn/_utils/cache_mixin.py:232: DeprecationWarning: The 'cachedir' attribute has been deprecated in version 0.12 and will be removed in version 0.14.\n",
      "Use os.path.join(memory.location, 'joblib') attribute instead.\n",
      "  if (memory.cachedir is None and memory_level is not None\n",
      "/home/stevenm/.conda/envs/python3/lib/python3.6/site-packages/nistats/first_level_model.py:61: UserWarning: Mean values of 0 observed.The data have probably been centered.Scaling might not work as expected\n",
      "  warn('Mean values of 0 observed.'\n",
      "/home/stevenm/.conda/envs/python3/lib/python3.6/site-packages/sklearn/externals/joblib/externals/loky/process_executor.py:706: UserWarning: A worker stopped while some jobs were given to the executor. This can be caused by a too short worker timeout or by a memory leak.\n",
      "  \"timeout or by a memory leak.\", UserWarning\n"
     ]
    },
    {
     "name": "stdout",
     "output_type": "stream",
     "text": [
      "2\n"
     ]
    },
    {
     "name": "stderr",
     "output_type": "stream",
     "text": [
      "/home/stevenm/.conda/envs/python3/lib/python3.6/site-packages/ipykernel_launcher.py:6: SettingWithCopyWarning: \n",
      "A value is trying to be set on a copy of a slice from a DataFrame.\n",
      "Try using .loc[row_indexer,col_indexer] = value instead\n",
      "\n",
      "See the caveats in the documentation: http://pandas.pydata.org/pandas-docs/stable/indexing.html#indexing-view-versus-copy\n",
      "  \n",
      "/home/stevenm/.conda/envs/python3/lib/python3.6/site-packages/numpy/lib/type_check.py:546: DeprecationWarning: np.asscalar(a) is deprecated since NumPy v1.16, use a.item() instead\n",
      "  'a.item() instead', DeprecationWarning, stacklevel=1)\n",
      "/home/stevenm/.conda/envs/python3/lib/python3.6/site-packages/nistats/hemodynamic_models.py:268: DeprecationWarning: object of type <class 'numpy.float64'> cannot be safely interpreted as an integer.\n",
      "  frame_times.max() * (1 + 1. / (n - 1)), n_hr)\n",
      "/home/stevenm/.conda/envs/python3/lib/python3.6/site-packages/nistats/hemodynamic_models.py:55: DeprecationWarning: object of type <class 'float'> cannot be safely interpreted as an integer.\n",
      "  time_stamps = np.linspace(0, time_length, float(time_length) / dt)\n",
      "/home/stevenm/.conda/envs/python3/lib/python3.6/site-packages/nilearn/_utils/cache_mixin.py:232: DeprecationWarning: The 'cachedir' attribute has been deprecated in version 0.12 and will be removed in version 0.14.\n",
      "Use os.path.join(memory.location, 'joblib') attribute instead.\n",
      "  if (memory.cachedir is None and memory_level is not None\n",
      "/home/stevenm/.conda/envs/python3/lib/python3.6/site-packages/nistats/first_level_model.py:61: UserWarning: Mean values of 0 observed.The data have probably been centered.Scaling might not work as expected\n",
      "  warn('Mean values of 0 observed.'\n",
      "/home/stevenm/.conda/envs/python3/lib/python3.6/site-packages/sklearn/externals/joblib/externals/loky/process_executor.py:706: UserWarning: A worker stopped while some jobs were given to the executor. This can be caused by a too short worker timeout or by a memory leak.\n",
      "  \"timeout or by a memory leak.\", UserWarning\n",
      "/home/stevenm/.conda/envs/python3/lib/python3.6/site-packages/nistats/hemodynamic_models.py:268: DeprecationWarning: object of type <class 'numpy.float64'> cannot be safely interpreted as an integer.\n",
      "  frame_times.max() * (1 + 1. / (n - 1)), n_hr)\n",
      "/home/stevenm/.conda/envs/python3/lib/python3.6/site-packages/nistats/hemodynamic_models.py:55: DeprecationWarning: object of type <class 'float'> cannot be safely interpreted as an integer.\n",
      "  time_stamps = np.linspace(0, time_length, float(time_length) / dt)\n",
      "/home/stevenm/.conda/envs/python3/lib/python3.6/site-packages/nilearn/_utils/cache_mixin.py:232: DeprecationWarning: The 'cachedir' attribute has been deprecated in version 0.12 and will be removed in version 0.14.\n",
      "Use os.path.join(memory.location, 'joblib') attribute instead.\n",
      "  if (memory.cachedir is None and memory_level is not None\n",
      "/home/stevenm/.conda/envs/python3/lib/python3.6/site-packages/nistats/first_level_model.py:61: UserWarning: Mean values of 0 observed.The data have probably been centered.Scaling might not work as expected\n",
      "  warn('Mean values of 0 observed.'\n"
     ]
    }
   ],
   "source": [
    "for onset_shift in [0, -1.5, 1.5, -3]:\n",
    "    for sub in np.arange(1, 35):\n",
    "        print(sub)\n",
    "        pkl_name = 'sub-{}_shift-{}_glm.pkl'.format(sub, onset_shift)\n",
    "        if os.path.exists(os.path.join('models_sm_stc', pkl_name)):\n",
    "            continue\n",
    "        \n",
    "        if sub == 23:   # doesn't exist?\n",
    "            continue\n",
    "        \n",
    "        runs = list(events.loc[sub].index.unique())        \n",
    "        events_ = [get_events(sub, run, events=events, onset_shift=onset_shift).reset_index(drop=True) for run in runs]\n",
    "        confounds_ = [confounds_deconv.loc[sub,run].reset_index(drop=True) for run in runs]\n",
    "        bold_niis = [nib.load(get_niis(sub, run)) for run in runs]\n",
    "        brain_mask = nib.load(get_brain_mask(sub, 1))\n",
    "\n",
    "        fmri_glm = FirstLevelModel(t_r=3., \n",
    "                                   smoothing_fwhm=None,\n",
    "                                   slice_time_ref=0.5,\n",
    "                                   mask=brain_mask,\n",
    "                                   noise_model='ar1',\n",
    "                                   standardize=False,\n",
    "                                   hrf_model='glover + derivative',\n",
    "                                   drift_model='Cosine',\n",
    "                                   n_jobs=-5)\n",
    "        fmri_glm.fit(bold_niis, events_, confounds_)\n",
    "        \n",
    "        with open(os.path.join('models_sm_stc', pkl_name), 'wb') as f:\n",
    "            pkl.dump(fmri_glm, f, protocol=4)"
   ]
  },
  {
   "cell_type": "code",
   "execution_count": null,
   "metadata": {},
   "outputs": [],
   "source": []
  },
  {
   "cell_type": "code",
   "execution_count": null,
   "metadata": {},
   "outputs": [],
   "source": []
  },
  {
   "cell_type": "code",
   "execution_count": null,
   "metadata": {},
   "outputs": [],
   "source": []
  },
  {
   "cell_type": "code",
   "execution_count": null,
   "metadata": {},
   "outputs": [],
   "source": []
  },
  {
   "cell_type": "code",
   "execution_count": null,
   "metadata": {},
   "outputs": [],
   "source": []
  },
  {
   "cell_type": "markdown",
   "metadata": {},
   "source": [
    "### Post new STC"
   ]
  },
  {
   "cell_type": "code",
   "execution_count": 27,
   "metadata": {},
   "outputs": [
    {
     "name": "stderr",
     "output_type": "stream",
     "text": [
      "/home/stevenm/.conda/envs/python3/lib/python3.6/site-packages/ipykernel_launcher.py:10: SettingWithCopyWarning: \n",
      "A value is trying to be set on a copy of a slice from a DataFrame.\n",
      "Try using .loc[row_indexer,col_indexer] = value instead\n",
      "\n",
      "See the caveats in the documentation: http://pandas.pydata.org/pandas-docs/stable/indexing.html#indexing-view-versus-copy\n",
      "  # Remove the CWD from sys.path while we load stuff.\n",
      "/home/stevenm/.conda/envs/python3/lib/python3.6/site-packages/ipykernel_launcher.py:20: FutureWarning: Sorting because non-concatenation axis is not aligned. A future version\n",
      "of pandas will change to not sort by default.\n",
      "\n",
      "To accept the future behavior, pass 'sort=False'.\n",
      "\n",
      "To retain the current behavior and silence the warning, pass 'sort=True'.\n",
      "\n"
     ]
    },
    {
     "data": {
      "text/html": [
       "<div>\n",
       "<style scoped>\n",
       "    .dataframe tbody tr th:only-of-type {\n",
       "        vertical-align: middle;\n",
       "    }\n",
       "\n",
       "    .dataframe tbody tr th {\n",
       "        vertical-align: top;\n",
       "    }\n",
       "\n",
       "    .dataframe thead th {\n",
       "        text-align: right;\n",
       "    }\n",
       "</style>\n",
       "<table border=\"1\" class=\"dataframe\">\n",
       "  <thead>\n",
       "    <tr style=\"text-align: right;\">\n",
       "      <th></th>\n",
       "      <th></th>\n",
       "      <th>onset</th>\n",
       "      <th>trial_type</th>\n",
       "      <th>duration</th>\n",
       "    </tr>\n",
       "    <tr>\n",
       "      <th>subject</th>\n",
       "      <th>run</th>\n",
       "      <th></th>\n",
       "      <th></th>\n",
       "      <th></th>\n",
       "    </tr>\n",
       "  </thead>\n",
       "  <tbody>\n",
       "    <tr>\n",
       "      <th rowspan=\"5\" valign=\"top\">1</th>\n",
       "      <th>1</th>\n",
       "      <td>7.500</td>\n",
       "      <td>cue_left</td>\n",
       "      <td>0.001</td>\n",
       "    </tr>\n",
       "    <tr>\n",
       "      <th>1</th>\n",
       "      <td>10.250</td>\n",
       "      <td>easy</td>\n",
       "      <td>0.001</td>\n",
       "    </tr>\n",
       "    <tr>\n",
       "      <th>1</th>\n",
       "      <td>11.321</td>\n",
       "      <td>response_left</td>\n",
       "      <td>0.001</td>\n",
       "    </tr>\n",
       "    <tr>\n",
       "      <th>1</th>\n",
       "      <td>16.500</td>\n",
       "      <td>cue_left</td>\n",
       "      <td>0.001</td>\n",
       "    </tr>\n",
       "    <tr>\n",
       "      <th>1</th>\n",
       "      <td>19.250</td>\n",
       "      <td>hard</td>\n",
       "      <td>0.001</td>\n",
       "    </tr>\n",
       "  </tbody>\n",
       "</table>\n",
       "</div>"
      ],
      "text/plain": [
       "              onset     trial_type  duration\n",
       "subject run                                 \n",
       "1       1     7.500       cue_left     0.001\n",
       "        1    10.250           easy     0.001\n",
       "        1    11.321  response_left     0.001\n",
       "        1    16.500       cue_left     0.001\n",
       "        1    19.250           hard     0.001"
      ]
     },
     "execution_count": 27,
     "metadata": {},
     "output_type": "execute_result"
    }
   ],
   "source": [
    "## get events\n",
    "behavior = pd.read_pickle('./derivatives/behavior.pkl')\n",
    "behavior['sub'] = behavior['subject']\n",
    "behavior.loc[behavior['ds']=='ds-02', 'sub'] = behavior.loc[behavior['ds']=='ds-02', 'sub'].astype(int) + behavior.loc[behavior['ds']=='ds-01', 'sub'].astype(int).max()\n",
    "behavior['sub'] = behavior['sub'].astype(int)\n",
    "behavior['onset_response'] = behavior['onset_stim'] + behavior['rt']/1000\n",
    "behavior = behavior.loc[behavior.response.isin([1,2])]  # remove errors\n",
    "\n",
    "events_cue = behavior[['sub', 'block', 'cue', 'onset_cue']]\n",
    "events_cue['event_type'] = events_cue['cue'].apply(lambda x: 'cue_' + x)\n",
    "events_cue = events_cue.rename(columns={'block': 'run', 'onset_cue': 'onset'})\n",
    "\n",
    "events_stim = behavior[['sub', 'block', 'difficulty', 'onset_stim']]\n",
    "events_stim = events_stim.rename(columns={'block': 'run', 'onset_stim': 'onset', 'difficulty': 'event_type'})\n",
    "\n",
    "events_responses = behavior[['sub', 'block', 'response', 'onset_response']]\n",
    "events_responses['event_type'] = events_responses['response'].replace({1: 'response_left', 2: 'response_right', -1: 'error'})\n",
    "events_responses = events_responses.rename(columns={'block': 'run', 'onset_response': 'onset'})\n",
    "\n",
    "events = pd.concat((events_cue, events_stim, events_responses))\n",
    "events = events.sort_values(by=['sub', 'run', 'onset'])\n",
    "events = events.rename(columns={'sub': 'subject'})\n",
    "\n",
    "events = events.set_index(['subject', 'run'])[['onset', 'event_type']].rename(columns={'event_type': 'trial_type'})\n",
    "events['duration'] = 0.001\n",
    "events.head()\n",
    "\n",
    "# ## correct onsets due to STC\n",
    "# events_deconv['onset'] -= 1.5"
   ]
  },
  {
   "cell_type": "code",
   "execution_count": 25,
   "metadata": {},
   "outputs": [],
   "source": [
    "def get_confounds(sub, run, confounds):\n",
    "    return confounds.loc[sub, run]\n",
    "\n",
    "def get_events(sub, run, events, onset_shift=-1.5):\n",
    "    events_ = events.loc[sub, run]\n",
    "    events_['onset'] += onset_shift\n",
    "    return events_\n",
    "\n",
    "def get_sub_n(sub, max_sub_ds1=19):\n",
    "    if sub > max_sub_ds1:\n",
    "        sub -= max_sub_ds1\n",
    "        ds = 2\n",
    "    else:\n",
    "        ds = 1\n",
    "    return ds, sub\n",
    "\n",
    "def get_niis(sub, run, max_sub_ds1=19):\n",
    "    ds, sub = get_sub_n(sub)\n",
    "    sub_str = str(sub).zfill(2)\n",
    "    run_str = str(run).zfill(2)\n",
    "    ds_str = str(ds).zfill(2)\n",
    "    fn = './derivatives/ds-{ds_str}/fmriprep_correctstc/sub-{sub_str}/func/sub-{sub_str}_task-randomdotmotion_run-{run_str}_space-MNI152NLin2009cAsym_desc-preproc_bold.nii.gz'.format(**locals())\n",
    "    return fn\n",
    "\n",
    "def get_brain_mask(sub, run):\n",
    "    ds, sub = get_sub_n(sub)\n",
    "    sub_str = str(sub).zfill(2)\n",
    "    run_str = str(run).zfill(2)\n",
    "    ds_str = str(ds).zfill(2)\n",
    "    fn = './derivatives/ds-{ds_str}/fmriprep_correctstc/sub-{sub_str}/func/sub-{sub_str}_task-randomdotmotion_run-{run_str}_space-MNI152NLin2009cAsym_desc-brain_mask.nii.gz'.format(**locals())\n",
    "    return fn"
   ]
  },
  {
   "cell_type": "code",
   "execution_count": 26,
   "metadata": {},
   "outputs": [
    {
     "name": "stderr",
     "output_type": "stream",
     "text": [
      "/home/stevenm/.conda/envs/python3/lib/python3.6/site-packages/ipykernel_launcher.py:21: FutureWarning: Sorting because non-concatenation axis is not aligned. A future version\n",
      "of pandas will change to not sort by default.\n",
      "\n",
      "To accept the future behavior, pass 'sort=False'.\n",
      "\n",
      "To retain the current behavior and silence the warning, pass 'sort=True'.\n",
      "\n"
     ]
    }
   ],
   "source": [
    "### post STC\n",
    "## get confounds\n",
    "all_csvs = glob.glob('./derivatives/ds-02/fmriprep_correctstc/sub-*/func/sub-*_task-randomdotmotion_run-*_desc-confounds_regressors.tsv')\n",
    "\n",
    "reg = re.compile('.*ds-(?P<ds>\\d+)/fmriprep_correctstc/sub-(?P<x>\\d+)/func/sub-(?P<sub>\\d+)_.*_run-(?P<run>\\d+)_.*')\n",
    "reg.match(all_csvs[1]).groupdict()\n",
    "\n",
    "\n",
    "confounds_df = []\n",
    "\n",
    "# loop over .csv-files, adding signal row-by-row\n",
    "for fn in all_csvs:\n",
    "    if reg.match(fn) is not None:\n",
    "        d = reg.match(fn).groupdict()\n",
    "        tmp = pd.read_csv(fn, sep='\\t')\n",
    "        tmp['sub'] = d['sub']\n",
    "        tmp['run'] = d['run']\n",
    "        tmp['ds'] = d['ds']\n",
    "        confounds_df.append(tmp)\n",
    "\n",
    "confounds_df = pd.concat(confounds_df, axis=0)\n",
    "confounds_df['ds'] = confounds_df['ds'].astype(int)\n",
    "confounds_df['run'] = confounds_df['run'].astype(int)\n",
    "confounds_df['subject'] = confounds_df['sub'].astype(int)\n",
    "\n",
    "# adjust ds2 subject idx to ensure non-overlapping subject idx\n",
    "max_sub_ds1 = 19 #confounds_df.loc[confounds_df.ds==1,'subject'].max()\n",
    "confounds_df.loc[confounds_df.ds==2,'subject'] = confounds_df.loc[confounds_df.ds==2,'subject']+max_sub_ds1\n",
    "confounds_df = confounds_df.sort_values(['ds', 'subject', 'run']).set_index(['ds', 'subject', 'run'])\n",
    "\n",
    "# Include confounds: 5 ACompCor regressors, cosines for drift, DVARS, rotation & translation params\n",
    "confounds_deconv = confounds_df.reset_index(level=0, drop=True)\n",
    "include_confounds = ['a_comp_cor_0' + str(x) for x in range(5)] #+ ['cosine' + str(x).zfill(2) for x in range(17)]\n",
    "#include_confounds = include_confounds + ['dvars', 'framewise_displacement']\n",
    "include_confounds = include_confounds + ['rot_' + a for a in ['x', 'y', 'z']]\n",
    "include_confounds = include_confounds + ['trans_' + a for a in ['x', 'y', 'z']]\n",
    "confounds_deconv = confounds_deconv[include_confounds]"
   ]
  },
  {
   "cell_type": "code",
   "execution_count": 32,
   "metadata": {},
   "outputs": [
    {
     "name": "stdout",
     "output_type": "stream",
     "text": [
      "20\n",
      "21\n"
     ]
    },
    {
     "name": "stderr",
     "output_type": "stream",
     "text": [
      "/home/stevenm/.conda/envs/python3/lib/python3.6/site-packages/ipykernel_launcher.py:6: SettingWithCopyWarning: \n",
      "A value is trying to be set on a copy of a slice from a DataFrame.\n",
      "Try using .loc[row_indexer,col_indexer] = value instead\n",
      "\n",
      "See the caveats in the documentation: http://pandas.pydata.org/pandas-docs/stable/indexing.html#indexing-view-versus-copy\n",
      "  \n"
     ]
    },
    {
     "name": "stdout",
     "output_type": "stream",
     "text": [
      "22\n",
      "23\n",
      "24\n",
      "25\n",
      "26\n",
      "27\n",
      "28\n",
      "29\n",
      "30\n",
      "31\n",
      "32\n",
      "33\n",
      "34\n"
     ]
    }
   ],
   "source": [
    "for onset_shift in [0]:\n",
    "    for sub in np.arange(20, 35):\n",
    "        print(sub)\n",
    "        pkl_name = 'sub-{}_shift-{}_glm.pkl'.format(sub, onset_shift)\n",
    "        if os.path.exists(os.path.join('models_sm_stc', pkl_name)):\n",
    "            continue\n",
    "        \n",
    "        if sub == 23:   #doesn't exist?\n",
    "            continue\n",
    "        \n",
    "        runs = list(events.loc[sub].index.unique())        \n",
    "        events_ = [get_events(sub, run, events=events, onset_shift=onset_shift).reset_index(drop=True) for run in runs]\n",
    "        confounds_ = [confounds_deconv.loc[sub,run].reset_index(drop=True) for run in runs]\n",
    "        bold_niis = [nib.load(get_niis(sub, run)) for run in runs]\n",
    "        brain_mask = nib.load(get_brain_mask(sub, 1))\n",
    "\n",
    "        fmri_glm = FirstLevelModel(t_r=3., \n",
    "                                   smoothing_fwhm=None,\n",
    "                                   slice_time_ref=0.5,\n",
    "                                   mask=brain_mask,\n",
    "                                   noise_model='ar1',\n",
    "                                   standardize=False,\n",
    "                                   hrf_model='glover + derivative',\n",
    "                                   drift_model='Cosine',\n",
    "                                   n_jobs=-5)\n",
    "        fmri_glm.fit(bold_niis, events_, confounds_)\n",
    "        \n",
    "        with open(os.path.join('models_sm_stc', pkl_name), 'wb') as f:\n",
    "            pkl.dump(fmri_glm, f, protocol=4)"
   ]
  }
 ],
 "metadata": {
  "kernelspec": {
   "display_name": "Python 3",
   "language": "python",
   "name": "python3"
  },
  "language_info": {
   "codemirror_mode": {
    "name": "ipython",
    "version": 3
   },
   "file_extension": ".py",
   "mimetype": "text/x-python",
   "name": "python",
   "nbconvert_exporter": "python",
   "pygments_lexer": "ipython3",
   "version": "3.6.0"
  }
 },
 "nbformat": 4,
 "nbformat_minor": 2
}
